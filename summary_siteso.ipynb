{
 "cells": [
  {
   "cell_type": "markdown",
   "id": "reverse-fourth",
   "metadata": {},
   "source": [
    "# Lake sites surveyed monthly for one year\n",
    "Each site on six lakes were surveyed approximately every 30 days for 12 months. Lago Maggiore sites was surveyed approximately every 90 days for 12 months."
   ]
  },
  {
   "cell_type": "code",
   "execution_count": 1,
   "id": "maritime-program",
   "metadata": {},
   "outputs": [],
   "source": [
    "# images and display\n",
    "import base64, io, IPython\n",
    "from PIL import Image as PILImage\n",
    "from IPython.display import Markdown as md\n",
    "from IPython.display import display, Math, Latex"
   ]
  },
  {
   "cell_type": "code",
   "execution_count": 2,
   "id": "seven-nowhere",
   "metadata": {},
   "outputs": [],
   "source": [
    "# make map of these 20 official sites \n",
    "official_sites = [\n",
    "\n",
    "    'grand-clos',\n",
    "    'baby-plage-geneva',\n",
    "    'préverenges',\n",
    "    'quai-maria-belgia',\n",
    "    'evole-plage',\n",
    "    'plage-de-cheyres',\n",
    "    'la-petite-plage',\n",
    "    'bielersee_vinelz_fankhauserS',\n",
    "    'maladaire',\n",
    "    'bielersee_vinelz_fankhausers',\n",
    "    'thunersee_spiez_meierd_1',\n",
    "    'weissenau-neuhaus',\n",
    "    'gasi-strand',\n",
    "    'walensee_walenstadt_wysse',\n",
    "    'rastplatz-stampf',\n",
    "    'zuerichsee_richterswil_benkoem_2',\n",
    "    'zurichsee_wollishofen_langendorfm',\n",
    "    'zurichsee_kusnachterhorn_thirkell-whitej',\n",
    "    'sentiero-giro-del-golf-spiaggia',\n",
    "    'vira-gambarogno',\n",
    "    \n",
    " ]\n",
    " \n",
    "# eliminated sites do not map or analyze\n",
    "removed_sites = [\n",
    "    'baye-de-montreux-g',\n",
    "    'neuenburgersee_cudrefin_mattera',\n",
    "    'strandbeiz',\n",
    "    'bagno-pubblico-ascona',\n",
    "    'cudrefin-alternate'\n",
    "]"
   ]
  },
  {
   "cell_type": "markdown",
   "id": "convenient-foster",
   "metadata": {},
   "source": [
    "## Several survey sites were eliminated or discontinued\n",
    "\n",
    "1. baye-de-montreux-g\n",
    "2. neuenburgersee_cudrefin_mattera\n",
    "3. strandbeiz\n",
    "4. bagno-pubblico-ascona\n",
    "5. cudrefin alternate\n"
   ]
  },
  {
   "cell_type": "markdown",
   "id": "spiritual-advice",
   "metadata": {},
   "source": [
    "# Selected Sites 2020-2021\n",
    "\n",
    "    "
   ]
  },
  {
   "cell_type": "markdown",
   "id": "recreational-header",
   "metadata": {},
   "source": [
    "## Summary\n",
    "\n",
    "The urbanization and topography of the national landscape present unique challenges when selecting locations suitable to conduct shoreline litter surveys. Beaches that are accessible year-round are often in urban settings or close proximity to camping areas or sport complexes, and will have the most seasonal variations in anthropogenic impact.\n",
    "\n",
    "The slope of the shoreline combined with physical structures present on most waterways makes available shoreline sensitive to small changes in lake levels or river discharge rates. Conducting surveys regularly and measuring the survey area at each event is a critical component to this project. As the available shoreline increases or decreases with the lake-level, density values can be interpreted in relation to fluctuations."
   ]
  },
  {
   "cell_type": "code",
   "execution_count": null,
   "id": "animated-subsection",
   "metadata": {},
   "outputs": [],
   "source": [
    "# chart for increases or decreases of m2, with lake-level and density values? "
   ]
  },
  {
   "cell_type": "markdown",
   "id": "roman-morocco",
   "metadata": {},
   "source": [
    "Sites were selected from 7 different lakes from 3 major river basins:\n",
    "1. Thunersee \n",
    "2. Bielersee\n",
    "3. Neuenburgersee \n",
    "4. Zurichsee\n",
    "5. Lac Léman\n",
    "6. Walensee\n",
    "7. Lago Maggiore\n",
    "\n",
    "There were 20 sites sampled monthly for a year following site selection criteria. The sites can be classified in the following manner:\n",
    "\n",
    "• 9 urban locations\n",
    "• 9 rural locations \n",
    "• 3 suburban locations\n",
    "\n",
    "Of the twenty sites ten have data from the “Swiss Litter Report” or previous hammerdirt projects. With the exception of Lac Léman all lakes have sites with one or more locations with no previously recorded data.\n",
    "\n",
    "Covid 19 had an impact on outreach and on-site training. In the Lac Léman region there were several meetings prior to the current situation. As a result, three organizations agreed to participate in litter surveillance:\n",
    "\n",
    "1.\tAssociation pour la Sauvegarde du Léman\n",
    "2.\tPrecious Plastic Léman\n",
    "3.\tSummit foundation\n"
   ]
  },
  {
   "cell_type": "markdown",
   "id": "placed-instrument",
   "metadata": {},
   "source": [
    "# Site selection criteria\n",
    "\n",
    "Sites were selected in an endeavor to represent regional litter abundance and composition.\n",
    "The criteria below were used where possible:\n",
    "\n",
    "* Safe access\n",
    "* A minimum length of 100m.\n",
    "* Low to moderate slope (15 – 45º).\n",
    "* Exposed shoreline, as litter should not be blocked by anthropogenic structures\n",
    "* Accessible year round\n",
    "\n",
    "Ideally sites should not be subject to other litter collection activities, however most publicly accessible lake shore beaches have periodic maintenance cleaning \n",
    "Safe and continuous periodic access to 100m stretches of shoreline is limited and fluctuates with the lake levels. Additionally, preference has been given to previously surveyed sites for continuous and comparative data. Within the above constraints, the location of sampling sites is subject to different litter exposures including:\n",
    "\n",
    "* Urban shorelines, may reflect the contribution of land-based inputs.\n",
    "* Rural shorelines, may reflect background values for litter pollution levels.\n",
    "* Lake shores close to rivers and streams, if downstream from the prevailing drift, may reflect the contribution of riverine input to lake litter pollution.\n",
    "\n",
    "The closer the survey site is to a potential source, the greater probability that part of the litter originates from that source. An urban beach likely reflects more the influence and recent input from nearby tourism, industries etc. A more rural beach may be a better indicator of anthropogenic litter that is consistently present in the lake. Both types of sites may provide important and complementary data to better assess inputs and current environmental conditions.\n",
    "\n",
    "For this project an urban beach is defined by its proximity to a city, a rural beach relates to a countryside or agriculture setting and a suburban beach as a site in a residential area on the outskirts of a city or large town.\n"
   ]
  },
  {
   "cell_type": "code",
   "execution_count": 2,
   "id": "prescription-trade",
   "metadata": {},
   "outputs": [],
   "source": [
    "# land use profile of official_sites \n",
    "\n",
    "# check definition of rural, urban, suburban"
   ]
  },
  {
   "cell_type": "markdown",
   "id": "military-adobe",
   "metadata": {},
   "source": [
    "# Frequency and timing of surveys\n",
    "\n",
    "Data was collected at selected sites once a month for a twelve-month period with the exception of Lake Maggiore which was sampled once every three months to capture data in spring, summer, autumn and winter.\n",
    "\n",
    "The frequency of surveys identified significant seasonal patterns, which may be considered when using raw data for long-term trend analyses.\n"
   ]
  },
  {
   "cell_type": "markdown",
   "id": "mighty-consequence",
   "metadata": {},
   "source": [
    "# River surveys\n",
    "\n",
    "Surveys along rivers of interest will be conducted discretionarily with priority given to sites previously sampled and safe accessibility.\n"
   ]
  },
  {
   "cell_type": "code",
   "execution_count": null,
   "id": "terminal-penalty",
   "metadata": {},
   "outputs": [],
   "source": [
    "# map walensee with sites \n",
    "bassin_map = PILImage.open(\"resources/maps/aare_scaled.jpeg\")"
   ]
  }
 ],
 "metadata": {
  "kernelspec": {
   "display_name": "Python 3",
   "language": "python",
   "name": "python3"
  },
  "language_info": {
   "codemirror_mode": {
    "name": "ipython",
    "version": 3
   },
   "file_extension": ".py",
   "mimetype": "text/x-python",
   "name": "python",
   "nbconvert_exporter": "python",
   "pygments_lexer": "ipython3",
   "version": "3.8.5"
  }
 },
 "nbformat": 4,
 "nbformat_minor": 5
}
