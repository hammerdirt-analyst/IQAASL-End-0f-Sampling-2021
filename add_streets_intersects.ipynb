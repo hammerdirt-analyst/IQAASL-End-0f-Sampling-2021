{
 "cells": [
  {
   "cell_type": "markdown",
   "metadata": {},
   "source": [
    "# Attaching streets and discharge intersects to beach data\n",
    "\n",
    "Streets and discharge intersects are calculated using QGIS, the output is a .csv file that has the corresponding location name and value for any calculated variable.\n",
    "\n",
    "## Tasks:\n",
    "\n",
    "Map the values from the GIS data to the standard list of locations.\n",
    "\n",
    "questions or comments: analyst@hammerdirt.ch"
   ]
  },
  {
   "cell_type": "code",
   "execution_count": 1,
   "metadata": {},
   "outputs": [],
   "source": [
    "# sys, file and nav packages:\n",
    "import os\n",
    "import datetime as dt\n",
    "import csv\n",
    "import json\n",
    "\n",
    "# math packages:\n",
    "import pandas as pd\n",
    "import numpy as np\n",
    "\n",
    "# home brew utitilties\n",
    "import resources.utility_functions as ut\n",
    "\n",
    "# documenting\n",
    "from IPython.display import Markdown as md"
   ]
  },
  {
   "cell_type": "markdown",
   "metadata": {},
   "source": [
    "### Get and merge data\n",
    "\n",
    "The GIS data is calculated as the locations are added to the standard list. There are several lists that need to be merged. They are stored in the directory _gislanduse_. "
   ]
  },
  {
   "cell_type": "code",
   "execution_count": 2,
   "metadata": {},
   "outputs": [
    {
     "data": {
      "text/html": [
       "<div>\n",
       "<style scoped>\n",
       "    .dataframe tbody tr th:only-of-type {\n",
       "        vertical-align: middle;\n",
       "    }\n",
       "\n",
       "    .dataframe tbody tr th {\n",
       "        vertical-align: top;\n",
       "    }\n",
       "\n",
       "    .dataframe thead th {\n",
       "        text-align: right;\n",
       "    }\n",
       "</style>\n",
       "<table border=\"1\" class=\"dataframe\">\n",
       "  <thead>\n",
       "    <tr style=\"text-align: right;\">\n",
       "      <th></th>\n",
       "      <th>slug</th>\n",
       "      <th>intersects</th>\n",
       "      <th>length</th>\n",
       "    </tr>\n",
       "  </thead>\n",
       "  <tbody>\n",
       "    <tr>\n",
       "      <th>0</th>\n",
       "      <td>aare_solothurn_nguyena</td>\n",
       "      <td>0</td>\n",
       "      <td>94192</td>\n",
       "    </tr>\n",
       "    <tr>\n",
       "      <th>1</th>\n",
       "      <td>les-glariers</td>\n",
       "      <td>0</td>\n",
       "      <td>106984</td>\n",
       "    </tr>\n",
       "    <tr>\n",
       "      <th>2</th>\n",
       "      <td>mullermatte</td>\n",
       "      <td>3</td>\n",
       "      <td>109589</td>\n",
       "    </tr>\n",
       "    <tr>\n",
       "      <th>3</th>\n",
       "      <td>murg-bad</td>\n",
       "      <td>6</td>\n",
       "      <td>42890</td>\n",
       "    </tr>\n",
       "    <tr>\n",
       "      <th>4</th>\n",
       "      <td>tiger-duck-beach</td>\n",
       "      <td>1</td>\n",
       "      <td>105251</td>\n",
       "    </tr>\n",
       "  </tbody>\n",
       "</table>\n",
       "</div>"
      ],
      "text/plain": [
       "                     slug  intersects  length\n",
       "0  aare_solothurn_nguyena           0   94192\n",
       "1            les-glariers           0  106984\n",
       "2             mullermatte           3  109589\n",
       "3                murg-bad           6   42890\n",
       "4        tiger-duck-beach           1  105251"
      ]
     },
     "execution_count": 2,
     "metadata": {},
     "output_type": "execute_result"
    }
   ],
   "source": [
    "today = dt.datetime.now().date().strftime(\"%Y-%m-%d\")\n",
    "\n",
    "# beach data\n",
    "dfBeaches = pd.read_csv(\"resources/beaches_pop_bfs.csv\")\n",
    "\n",
    "# key location to slug:\n",
    "location_slug_map = dfBeaches[['location', 'slug']].set_index('location')\n",
    "\n",
    "# the geo data needs to be collected from the gislanduse directory\n",
    "# this is qgis output with aggregated values for meters of streets and number of river intersects\n",
    "# within 1500 meters of the survey location\n",
    "geo_data = pd.read_csv(\"add_exp_variables/gislanduse/beaches_no_buildings_data.csv\")\n",
    "alpes_data = pd.read_csv(\"add_exp_variables/gislanduse/alpes_valaisanees_streets.csv\")\n",
    "alpes_data2 = pd.read_csv(\"add_exp_variables/gislanduse/alpes_streets.csv\")\n",
    "# the different sources need to be combined into one structure\n",
    "geo_data = geo_data[['slug','intersects', 'length']].copy()\n",
    "geo_data.head()"
   ]
  },
  {
   "cell_type": "code",
   "execution_count": 3,
   "metadata": {},
   "outputs": [
    {
     "data": {
      "text/html": [
       "<div>\n",
       "<style scoped>\n",
       "    .dataframe tbody tr th:only-of-type {\n",
       "        vertical-align: middle;\n",
       "    }\n",
       "\n",
       "    .dataframe tbody tr th {\n",
       "        vertical-align: top;\n",
       "    }\n",
       "\n",
       "    .dataframe thead th {\n",
       "        text-align: right;\n",
       "    }\n",
       "</style>\n",
       "<table border=\"1\" class=\"dataframe\">\n",
       "  <thead>\n",
       "    <tr style=\"text-align: right;\">\n",
       "      <th></th>\n",
       "      <th>slug</th>\n",
       "      <th>intersects</th>\n",
       "      <th>length</th>\n",
       "    </tr>\n",
       "  </thead>\n",
       "  <tbody>\n",
       "    <tr>\n",
       "      <th>0</th>\n",
       "      <td>clean-up-tour-crans-montana</td>\n",
       "      <td>0</td>\n",
       "      <td>44197.553</td>\n",
       "    </tr>\n",
       "    <tr>\n",
       "      <th>1</th>\n",
       "      <td>clean-up-tour-nendaz</td>\n",
       "      <td>0</td>\n",
       "      <td>49738.888</td>\n",
       "    </tr>\n",
       "    <tr>\n",
       "      <th>2</th>\n",
       "      <td>clean-up-tour-morgins</td>\n",
       "      <td>0</td>\n",
       "      <td>66409.626</td>\n",
       "    </tr>\n",
       "    <tr>\n",
       "      <th>3</th>\n",
       "      <td>clean-up-tour-veysonnaz</td>\n",
       "      <td>0</td>\n",
       "      <td>65355.751</td>\n",
       "    </tr>\n",
       "    <tr>\n",
       "      <th>4</th>\n",
       "      <td>clean-up-tour-les-crosets</td>\n",
       "      <td>0</td>\n",
       "      <td>50272.353</td>\n",
       "    </tr>\n",
       "  </tbody>\n",
       "</table>\n",
       "</div>"
      ],
      "text/plain": [
       "                          slug  intersects     length\n",
       "0  clean-up-tour-crans-montana           0  44197.553\n",
       "1         clean-up-tour-nendaz           0  49738.888\n",
       "2        clean-up-tour-morgins           0  66409.626\n",
       "3      clean-up-tour-veysonnaz           0  65355.751\n",
       "4    clean-up-tour-les-crosets           0  50272.353"
      ]
     },
     "execution_count": 3,
     "metadata": {},
     "output_type": "execute_result"
    }
   ],
   "source": [
    "alpes_data.drop(\"ERSTELL_J\", axis=1, inplace=True)\n",
    "alpes_data.rename(columns={'streets':'length'}, inplace=True)\n",
    "alpes_data = alpes_data[['slug','intersects', 'length']]\n",
    "alpes_data.head()"
   ]
  },
  {
   "cell_type": "code",
   "execution_count": 4,
   "metadata": {},
   "outputs": [
    {
     "data": {
      "text/html": [
       "<div>\n",
       "<style scoped>\n",
       "    .dataframe tbody tr th:only-of-type {\n",
       "        vertical-align: middle;\n",
       "    }\n",
       "\n",
       "    .dataframe tbody tr th {\n",
       "        vertical-align: top;\n",
       "    }\n",
       "\n",
       "    .dataframe thead th {\n",
       "        text-align: right;\n",
       "    }\n",
       "</style>\n",
       "<table border=\"1\" class=\"dataframe\">\n",
       "  <thead>\n",
       "    <tr style=\"text-align: right;\">\n",
       "      <th></th>\n",
       "      <th>slug</th>\n",
       "      <th>intersects</th>\n",
       "      <th>length</th>\n",
       "    </tr>\n",
       "  </thead>\n",
       "  <tbody>\n",
       "    <tr>\n",
       "      <th>0</th>\n",
       "      <td>clean-up-tour-san-bernardino</td>\n",
       "      <td>0</td>\n",
       "      <td>43273</td>\n",
       "    </tr>\n",
       "    <tr>\n",
       "      <th>1</th>\n",
       "      <td>clean-up-tour-la-robella</td>\n",
       "      <td>0</td>\n",
       "      <td>52625</td>\n",
       "    </tr>\n",
       "    <tr>\n",
       "      <th>2</th>\n",
       "      <td>clean-up-tour-andermatt</td>\n",
       "      <td>0</td>\n",
       "      <td>22019</td>\n",
       "    </tr>\n",
       "    <tr>\n",
       "      <th>3</th>\n",
       "      <td>clean-up-tour-la-tzoumaz</td>\n",
       "      <td>0</td>\n",
       "      <td>74080</td>\n",
       "    </tr>\n",
       "    <tr>\n",
       "      <th>4</th>\n",
       "      <td>clean-up-tour-grindelwald</td>\n",
       "      <td>0</td>\n",
       "      <td>34188</td>\n",
       "    </tr>\n",
       "  </tbody>\n",
       "</table>\n",
       "</div>"
      ],
      "text/plain": [
       "                           slug  intersects  length\n",
       "0  clean-up-tour-san-bernardino           0   43273\n",
       "1      clean-up-tour-la-robella           0   52625\n",
       "2       clean-up-tour-andermatt           0   22019\n",
       "3      clean-up-tour-la-tzoumaz           0   74080\n",
       "4     clean-up-tour-grindelwald           0   34188"
      ]
     },
     "execution_count": 4,
     "metadata": {},
     "output_type": "execute_result"
    }
   ],
   "source": [
    "alpes_data2.rename(columns={'streeets':'length'}, inplace=True)\n",
    "alpes_data2 = alpes_data2[['slug','intersects', 'length']]\n",
    "alpes_data2.head()"
   ]
  },
  {
   "cell_type": "code",
   "execution_count": 5,
   "metadata": {},
   "outputs": [],
   "source": [
    "# merge the new data\n",
    "geo_data = geo_data.append(alpes_data)\n",
    "geo_data = geo_data.append(alpes_data2)\n",
    "geo_data.rename(columns={'length':'streets'}, inplace=True)\n",
    "geo_data.set_index('slug', inplace=True)\n",
    "\n",
    "# make a map for each variable of interest\n",
    "streets = geo_data['streets']\n",
    "intersects = geo_data['intersects']"
   ]
  },
  {
   "cell_type": "markdown",
   "metadata": {},
   "source": [
    "### Map Streets and intersects to beach data\n",
    "\n",
    "When the attributes surounding each survey location are calculated in QGIS the data is keyed to the survey location 'slug'. Therefore the 'slug' column of the beach data can be used to map the results from the GIS data to the beach data."
   ]
  },
  {
   "cell_type": "code",
   "execution_count": 6,
   "metadata": {},
   "outputs": [
    {
     "name": "stdout",
     "output_type": "stream",
     "text": [
      "These are the locations that have no intersects data:\n",
      "\n",
      "[]\n",
      "\n",
      "These are the locations that have no streets data:\n",
      "\n",
      "['sihl_horgen_bucherf']\n",
      "\n"
     ]
    }
   ],
   "source": [
    "# a function to tag records that do not have any corresponding GIS data\n",
    "def check_values(df, x):\n",
    "    try:\n",
    "        package = df.loc[x]\n",
    "    except:\n",
    "        package =0\n",
    "    return package\n",
    "\n",
    "# check each variable\n",
    "dfBeaches['streets'] = dfBeaches.slug.map(lambda x:check_values(streets, x,))\n",
    "dfBeaches['streets'] = dfBeaches.streets.astype('int')\n",
    "no_streets = dfBeaches[dfBeaches.streets == 0]\n",
    "\n",
    "dfBeaches['intersects'] = dfBeaches.slug.map(lambda x:check_values(intersects, x))\n",
    "no_intersects = dfBeaches[dfBeaches.intersects == 'none']\n",
    "\n",
    "# collect the locations that had no gis data\n",
    "no_geo_data = list(set(no_intersects.slug.unique()) | set(no_streets.slug.unique()))\n",
    "\n",
    "print(F\"These are the locations that have no intersects data:\\n\")\n",
    "print(F\"{no_intersects['slug'].values}\\n\")\n",
    "print(F\"These are the locations that have no streets data:\\n\")\n",
    "print(F\"{no_streets.slug.values}\\n\")"
   ]
  },
  {
   "cell_type": "markdown",
   "metadata": {},
   "source": [
    "#### Export the data"
   ]
  },
  {
   "cell_type": "code",
   "execution_count": 7,
   "metadata": {},
   "outputs": [],
   "source": [
    "filename = \"add_exp_variables/beaches_with_intersects_and_streets.csv\"\n",
    "dfBeaches.to_csv(filename, index=False)"
   ]
  },
  {
   "cell_type": "code",
   "execution_count": 8,
   "metadata": {
    "tags": []
   },
   "outputs": [
    {
     "data": {
      "text/markdown": [
       "<br></br>\n",
       "**This project was made possible by the Swiss federal office for the environment.**<br>\n",
       "\n",
       ">Love what you do. ❤️<br>\n",
       "\n",
       "*roger@hammerdirt.ch* pushed the run button on 2021-09-19.<br>\n",
       "This document originates from https://github.com/hammerdirt-analyst/IQAASL-End-0f-Sampling-2021 all copyrights apply.<br>\n"
      ],
      "text/plain": [
       "<IPython.core.display.Markdown object>"
      ]
     },
     "execution_count": 8,
     "metadata": {},
     "output_type": "execute_result"
    }
   ],
   "source": [
    "author = \"roger@hammerdirt.ch\"\n",
    "my_message = \"Love what you do. \\u2764\\ufe0f\"\n",
    "md(F\"\"\"<br></br>\n",
    "**This project was made possible by the Swiss federal office for the environment.**<br>\n",
    "\n",
    ">{my_message}<br>\n",
    "\n",
    "*{author}* pushed the run button on {today}.<br>\n",
    "This document originates from https://github.com/hammerdirt-analyst/IQAASL-End-0f-Sampling-2021 all copyrights apply.<br>\n",
    "\"\"\")"
   ]
  },
  {
   "cell_type": "code",
   "execution_count": null,
   "metadata": {},
   "outputs": [],
   "source": []
  }
 ],
 "metadata": {
  "kernelspec": {
   "display_name": "Python 3 (ipykernel)",
   "language": "python",
   "name": "python3"
  },
  "language_info": {
   "codemirror_mode": {
    "name": "ipython",
    "version": 3
   },
   "file_extension": ".py",
   "mimetype": "text/x-python",
   "name": "python",
   "nbconvert_exporter": "python",
   "pygments_lexer": "ipython3",
   "version": "3.8.10"
  }
 },
 "nbformat": 4,
 "nbformat_minor": 4
}
