{
 "cells": [
  {
   "cell_type": "code",
   "execution_count": 1,
   "metadata": {
    "pycharm": {
     "name": "#%%\n"
    },
    "tags": [
     "hide-input"
    ]
   },
   "outputs": [],
   "source": [
    "# -*- coding: utf-8 -*-\n",
    "# This is a report using the data from IQAASL.\n",
    "# IQAASL was a project funded by the Swiss Confederation\n",
    "# It produces a summary of litter survey results for a defined region.\n",
    "# These charts serve as the models for the development of plagespropres.ch\n",
    "# The data is gathered by volunteers.\n",
    "# Please remember all copyrights apply, please give credit when applicable\n",
    "# The repo is maintained by the community effective January 01, 2022\n",
    "# There is ample opportunity to contribute, learn and teach\n",
    "# contact dev@hammerdirt.ch\n",
    "\n",
    "# Dies ist ein Bericht, der die Daten von IQAASL verwendet.\n",
    "# IQAASL war ein von der Schweizerischen Eidgenossenschaft finanziertes Projekt.\n",
    "# Es erstellt eine Zusammenfassung der Ergebnisse der Littering-Umfrage für eine bestimmte Region.\n",
    "# Diese Grafiken dienten als Vorlage für die Entwicklung von plagespropres.ch.\n",
    "# Die Daten werden von Freiwilligen gesammelt.\n",
    "# Bitte denken Sie daran, dass alle Copyrights gelten, bitte geben Sie den Namen an, wenn zutreffend.\n",
    "# Das Repo wird ab dem 01. Januar 2022 von der Community gepflegt.\n",
    "# Es gibt reichlich Gelegenheit, etwas beizutragen, zu lernen und zu lehren.\n",
    "# Kontakt dev@hammerdirt.ch\n",
    "\n",
    "# Il s'agit d'un rapport utilisant les données de IQAASL.\n",
    "# IQAASL était un projet financé par la Confédération suisse.\n",
    "# Il produit un résumé des résultats de l'enquête sur les déchets sauvages pour une région définie.\n",
    "# Ces tableaux ont servi de modèles pour le développement de plagespropres.ch\n",
    "# Les données sont recueillies par des bénévoles.\n",
    "# N'oubliez pas que tous les droits d'auteur s'appliquent, veuillez indiquer le crédit lorsque cela est possible.\n",
    "# Le dépôt est maintenu par la communauté à partir du 1er janvier 2022.\n",
    "# Il y a de nombreuses possibilités de contribuer, d'apprendre et d'enseigner.\n",
    "# contact dev@hammerdirt.ch\n",
    "\n",
    "# sys, file and nav packages:\n",
    "import datetime as dt\n",
    "from datetime import date, datetime, time\n",
    "from babel.dates import format_date, format_datetime, format_time, get_month_names\n",
    "import locale\n",
    "\n",
    "# math packages:\n",
    "import pandas as pd\n",
    "import numpy as np\n",
    "from scipy import stats\n",
    "from math import pi\n",
    "\n",
    "# charting:\n",
    "import matplotlib.pyplot as plt\n",
    "import matplotlib.dates as mdates\n",
    "from matplotlib import ticker\n",
    "from matplotlib.ticker import MultipleLocator\n",
    "import seaborn as sns\n",
    "\n",
    "# the module that has all the methods for handling the data\n",
    "import resources.featuredata as featuredata\n",
    "\n",
    "# home brew utitilties\n",
    "import resources.chart_kwargs as ck\n",
    "import resources.sr_ut as sut\n",
    "\n",
    "# images and display\n",
    "from IPython.display import Markdown as md\n",
    "from myst_nb import glue\n",
    "\n",
    "# chart style\n",
    "sns.set_style(\"whitegrid\")\n",
    "\n",
    "# colors for gradients\n",
    "cmap2 = ck.cmap2\n",
    "colors_palette = ck.colors_palette\n",
    "bassin_pallette = featuredata.bassin_pallette\n",
    "\n",
    "\n",
    "# border and row shading fro tables\n",
    "a_color = \"saddlebrown\"\n",
    "table_row = \"saddlebrown\"\n",
    "\n",
    "## !! Begin Note book variables !!\n",
    "# There are two language variants: german and english\n",
    "# change both: date_lang and language\n",
    "date_lang =  'de_DE.utf8'\n",
    "locale.setlocale(locale.LC_ALL, date_lang)\n",
    "\n",
    "# the date format of the survey data is defined in the module\n",
    "date_format = featuredata.date_format\n",
    "\n",
    "# the language setting use lower case: en or de\n",
    "# changing the language may require changing the unit label\n",
    "language = \"de\"\n",
    "unit_label = \"p/100 m\"\n",
    "\n",
    "# the standard date format is \"%Y-%m-%d\" if your date column is\n",
    "# not in this format it will not work.\n",
    "# these dates cover the duration of the IQAASL project\n",
    "start_date = \"2020-03-01\"\n",
    "end_date =\"2021-05-31\"\n",
    "start_end = [start_date, end_date]\n",
    "\n",
    "# the fail rate used to calculate the most common codes is\n",
    "# 50% it can be changed:\n",
    "fail_rate = 50\n",
    "\n",
    "# Changing these variables produces different reports\n",
    "# Call the map image for the area of interest\n",
    "bassin_map = \"resources/maps/survey_areas/aare_scaled.jpeg\"\n",
    "\n",
    "# the label for the aggregation of all data in the region\n",
    "top = \"Alle Erhebungsgebiete\"\n",
    "\n",
    "# define the feature level and components\n",
    "# the feature of interest is the Aare (aare) at the river basin (river_bassin) level.\n",
    "# the label for charting is called 'name'\n",
    "this_feature = {'slug':'all', 'name':\"Alle Erhebungsgebiete\", 'level':'all'}\n",
    "\n",
    "# these are the smallest aggregated components\n",
    "# choices are water_name_slug=lake or river, city or location at the scale of a river bassin \n",
    "# water body or lake maybe the most appropriate\n",
    "this_level = 'river_bassin'\n",
    "\n",
    "# !! End note book variables !!\n",
    "\n",
    "## data\n",
    "# Survey location details (GPS, city, land use)\n",
    "dfBeaches = pd.read_csv(\"resources/beaches_with_land_use_rates.csv\")\n",
    "# set the index of the beach data to location slug\n",
    "dfBeaches.set_index(\"slug\", inplace=True)\n",
    "\n",
    "# Survey dimensions and weights\n",
    "dfDims = pd.read_csv(\"resources/corrected_dims.csv\")\n",
    "\n",
    "# code definitions\n",
    "dxCodes = pd.read_csv(\"resources/codes_with_group_names\")\n",
    "dxCodes.set_index(\"code\", inplace=True)\n",
    "\n",
    "# columns that need to be renamed. Setting the language will automatically\n",
    "# change column names, code descriptions and chart annotations\n",
    "columns={\"% to agg\":\"% agg\", \"% to recreation\": \"% recreation\", \"% to woods\":\"% woods\", \"% to buildings\":\"% buildings\", \"p/100m\":\"p/100 m\"}\n",
    "\n",
    "# key word arguments to construct feature data\n",
    "# !Note the water type allows the selection of river or lakes\n",
    "# if None then the data is aggregated together. This selection\n",
    "# is only valid for survey-area reports or other aggregated data\n",
    "# that may have survey results from both lakes and rivers.\n",
    "fd_kwargs ={\n",
    "    \"filename\": \"resources/checked_sdata_eos_2020_21.csv\",\n",
    "    \"feature_name\": this_feature['slug'], \n",
    "    \"feature_level\": this_feature['level'], \n",
    "    \"these_features\": this_feature['slug'], \n",
    "    \"component\": this_level, \n",
    "    \"columns\": columns, \n",
    "    \"language\": 'de', \n",
    "    \"unit_label\": unit_label, \n",
    "    \"fail_rate\": fail_rate,\n",
    "    \"code_data\":dxCodes,\n",
    "    \"date_range\": start_end,\n",
    "    \"water_type\": None,    \n",
    "}\n",
    "\n",
    "fdx = featuredata.Components(**fd_kwargs)\n",
    "\n",
    "# call the reports and languages\n",
    "fdx.adjustForLanguage()\n",
    "fdx.makeFeatureData()\n",
    "fdx.locationSampleTotals()\n",
    "fdx.makeDailyTotalSummary()\n",
    "fdx.materialSummary()\n",
    "fdx.mostCommon()\n",
    "# !this is the feature data!\n",
    "fd = fdx.feature_data\n",
    "\n",
    "# the period data is all the data that was collected\n",
    "# during the same period from all the other locations\n",
    "# not included in the feature data for a survey area\n",
    "# or river bassin the parent and feature level are the\n",
    "# the same.\n",
    "period_kwargs = {\n",
    "    \"period_data\": fdx.period_data,\n",
    "    \"these_features\": this_feature['slug'],\n",
    "    \"feature_level\":this_feature['level'],\n",
    "    \"feature_parent\":this_feature['slug'],\n",
    "    \"parent_level\": this_feature['level'],\n",
    "    \"period_name\": top,\n",
    "    \"unit_label\": unit_label,\n",
    "    \"most_common\": fdx.most_common.index\n",
    "}\n",
    "period_data = featuredata.PeriodResults(**period_kwargs)\n",
    "\n",
    "# the rivers are considered separately\n",
    "# select only the results from rivers\n",
    "fd_kwargs.update({\"water_type\":\"r\"})\n",
    "fdr = featuredata.Components(**fd_kwargs)\n",
    "fdr.makeFeatureData()\n",
    "fdr.adjustForLanguage()\n",
    "fdr.locationSampleTotals()\n",
    "fdr.makeDailyTotalSummary()\n",
    "fdr.materialSummary()\n",
    "fdr.mostCommon()\n",
    "\n",
    "# collects the summarized values for the feature data\n",
    "# use this to generate the summary data for the survey area\n",
    "# and the section for the rivers\n",
    "admin_kwargs = {\n",
    "    \"data\":fd,\n",
    "    \"dims_data\":dfDims,\n",
    "    \"label\": this_feature[\"name\"],\n",
    "    \"feature_component\": this_level,\n",
    "    \"date_range\":start_end,\n",
    "    **{\"dfBeaches\":dfBeaches}\n",
    "}\n",
    "admin_details = featuredata.AdministrativeSummary(**admin_kwargs)\n",
    "admin_summary = admin_details.summaryObject()\n",
    "admin_r_details = featuredata.AdministrativeSummary(data=fdr.feature_data, dims_data=dfDims, label=this_feature[\"name\"], feature_component=this_level, date_range=start_end, **{\"dfBeaches\":dfBeaches})\n",
    "\n",
    "admin_kwargs.update({\"data\":fdr.feature_data})\n",
    "admin_r_details = featuredata.AdministrativeSummary(**admin_kwargs)\n",
    "admin_r_summary = admin_r_details.summaryObject()"
   ]
  },
  {
   "cell_type": "markdown",
   "metadata": {},
   "source": [
    "### GIS Return\n",
    "\n",
    "The Aare survey area was divided into 500 m hexagons (hex grid). The landcover values and road lengths were extracted from the SWISS TLM REGIO map layers and assigned to the corresponding hexagon, for each hexagon in the hex grid. Geometries that were invalid or could not be assigned a value were skipped. In total there were X records skipped out of. There were no skipped hexagons that contained a survey location. That is to say all survey locations have a corresponding hexagon with land use and road length values.\n",
    "\n",
    "#### The location-hex key\n",
    "\n",
    "Each location has a corresponding hex_id. Other values can be assigned to the same hexagon. "
   ]
  },
  {
   "cell_type": "code",
   "execution_count": 2,
   "metadata": {
    "tags": []
   },
   "outputs": [
    {
     "data": {
      "text/html": [
       "<div>\n",
       "<style scoped>\n",
       "    .dataframe tbody tr th:only-of-type {\n",
       "        vertical-align: middle;\n",
       "    }\n",
       "\n",
       "    .dataframe tbody tr th {\n",
       "        vertical-align: top;\n",
       "    }\n",
       "\n",
       "    .dataframe thead th {\n",
       "        text-align: right;\n",
       "    }\n",
       "</style>\n",
       "<table border=\"1\" class=\"dataframe\">\n",
       "  <thead>\n",
       "    <tr style=\"text-align: right;\">\n",
       "      <th></th>\n",
       "      <th>location</th>\n",
       "    </tr>\n",
       "    <tr>\n",
       "      <th>hex_id</th>\n",
       "      <th></th>\n",
       "    </tr>\n",
       "  </thead>\n",
       "  <tbody>\n",
       "    <tr>\n",
       "      <th>54155</th>\n",
       "      <td>la-thiele_le-mujon_confluence</td>\n",
       "    </tr>\n",
       "    <tr>\n",
       "      <th>54590</th>\n",
       "      <td>pecos-plage</td>\n",
       "    </tr>\n",
       "    <tr>\n",
       "      <th>55478</th>\n",
       "      <td>signalpain</td>\n",
       "    </tr>\n",
       "    <tr>\n",
       "      <th>55921</th>\n",
       "      <td>la-petite-plage</td>\n",
       "    </tr>\n",
       "    <tr>\n",
       "      <th>65196</th>\n",
       "      <td>ruisseau-de-la-croix-plage</td>\n",
       "    </tr>\n",
       "  </tbody>\n",
       "</table>\n",
       "</div>"
      ],
      "text/plain": [
       "                             location\n",
       "hex_id                               \n",
       "54155   la-thiele_le-mujon_confluence\n",
       "54590                     pecos-plage\n",
       "55478                      signalpain\n",
       "55921                 la-petite-plage\n",
       "65196      ruisseau-de-la-croix-plage"
      ]
     },
     "execution_count": 2,
     "metadata": {},
     "output_type": "execute_result"
    }
   ],
   "source": [
    "location_hex_key = pd.read_csv(\"resources/input/location_hex_key.csv\")\n",
    "location_key = location_hex_key[[\"hex_id\", \"location\"]].set_index(\"hex_id\")\n",
    "location_key.head()"
   ]
  },
  {
   "cell_type": "markdown",
   "metadata": {},
   "source": [
    "#### Road Length\n",
    "\n",
    "The length for each \"type\" of road for each hex. The road length for the survey location *pecos-plage*"
   ]
  },
  {
   "cell_type": "code",
   "execution_count": 3,
   "metadata": {
    "tags": []
   },
   "outputs": [
    {
     "data": {
      "text/html": [
       "<div>\n",
       "<style scoped>\n",
       "    .dataframe tbody tr th:only-of-type {\n",
       "        vertical-align: middle;\n",
       "    }\n",
       "\n",
       "    .dataframe tbody tr th {\n",
       "        vertical-align: top;\n",
       "    }\n",
       "\n",
       "    .dataframe thead th {\n",
       "        text-align: right;\n",
       "    }\n",
       "</style>\n",
       "<table border=\"1\" class=\"dataframe\">\n",
       "  <thead>\n",
       "    <tr style=\"text-align: right;\">\n",
       "      <th></th>\n",
       "      <th>hex_id</th>\n",
       "      <th>variable</th>\n",
       "      <th>label</th>\n",
       "      <th>value</th>\n",
       "    </tr>\n",
       "  </thead>\n",
       "  <tbody>\n",
       "    <tr>\n",
       "      <th>107</th>\n",
       "      <td>54590</td>\n",
       "      <td>roads</td>\n",
       "      <td>HauptStrAB6</td>\n",
       "      <td>385</td>\n",
       "    </tr>\n",
       "  </tbody>\n",
       "</table>\n",
       "</div>"
      ],
      "text/plain": [
       "     hex_id variable        label  value\n",
       "107   54590    roads  HauptStrAB6    385"
      ]
     },
     "execution_count": 3,
     "metadata": {},
     "output_type": "execute_result"
    }
   ],
   "source": [
    "road_length = pd.read_csv(\"resources/input/road_length.csv\")\n",
    "road_length_aare = road_length[[\"hex_id\", \"OBJVAL\", \"MED\", \"length\"]]\n",
    "road_length[\"hex_id\"] = road_length[\"hex_id\"].astype(\"int\")\n",
    "road_length = road_length.groupby([\"hex_id\",\"OBJVAL\"], as_index=False).length.sum()\n",
    "road_length[\"variable\"] = \"roads\"\n",
    "road_length.rename(columns={\"length\":\"value\", \"OBJVAL\": \"label\"}, inplace=True)\n",
    "road_length =road_length[[\"hex_id\", \"variable\", \"label\", \"value\"]].copy()\n",
    "road_length[road_length.hex_id == 54590]"
   ]
  },
  {
   "cell_type": "markdown",
   "metadata": {},
   "source": [
    "__The different types of roads__"
   ]
  },
  {
   "cell_type": "code",
   "execution_count": 4,
   "metadata": {
    "tags": []
   },
   "outputs": [
    {
     "data": {
      "text/plain": [
       "array(['NebenStr3', 'VerbindStr6', 'Fahrstraes', 'Autobahn',\n",
       "       'HauptStrAB6', 'NebenStr6', 'Fussweg', 'VerbindStr4', 'Autob_Ri',\n",
       "       'HauptStrAB4', 'Autostr'], dtype=object)"
      ]
     },
     "execution_count": 4,
     "metadata": {},
     "output_type": "execute_result"
    }
   ],
   "source": [
    "road_length.label.unique()"
   ]
  },
  {
   "cell_type": "markdown",
   "metadata": {},
   "source": [
    "#### Land-cover\n",
    "\n",
    "The land cover for the hexagon that contains *pecos-plage*"
   ]
  },
  {
   "cell_type": "code",
   "execution_count": 5,
   "metadata": {
    "tags": []
   },
   "outputs": [
    {
     "data": {
      "text/html": [
       "<div>\n",
       "<style scoped>\n",
       "    .dataframe tbody tr th:only-of-type {\n",
       "        vertical-align: middle;\n",
       "    }\n",
       "\n",
       "    .dataframe tbody tr th {\n",
       "        vertical-align: top;\n",
       "    }\n",
       "\n",
       "    .dataframe thead th {\n",
       "        text-align: right;\n",
       "    }\n",
       "</style>\n",
       "<table border=\"1\" class=\"dataframe\">\n",
       "  <thead>\n",
       "    <tr style=\"text-align: right;\">\n",
       "      <th></th>\n",
       "      <th>hex_id</th>\n",
       "      <th>variable</th>\n",
       "      <th>label</th>\n",
       "      <th>value</th>\n",
       "    </tr>\n",
       "  </thead>\n",
       "  <tbody>\n",
       "    <tr>\n",
       "      <th>78</th>\n",
       "      <td>54590</td>\n",
       "      <td>landcover</td>\n",
       "      <td>See</td>\n",
       "      <td>92293.560</td>\n",
       "    </tr>\n",
       "    <tr>\n",
       "      <th>79</th>\n",
       "      <td>54590</td>\n",
       "      <td>landcover</td>\n",
       "      <td>Siedl</td>\n",
       "      <td>67611.049</td>\n",
       "    </tr>\n",
       "  </tbody>\n",
       "</table>\n",
       "</div>"
      ],
      "text/plain": [
       "    hex_id   variable  label      value\n",
       "78   54590  landcover    See  92293.560\n",
       "79   54590  landcover  Siedl  67611.049"
      ]
     },
     "execution_count": 5,
     "metadata": {},
     "output_type": "execute_result"
    }
   ],
   "source": [
    "land_use = pd.read_csv(\"resources/input/land_use_aare.csv\")\n",
    "land_use[\"hex_id\"] = land_use.hex_id.fillna(0)\n",
    "land_use[\"hex_id\"] = land_use.hex_id.astype(int)\n",
    "cols = [\"hex_id\", \"OBJVAL\", \"area\"]\n",
    "survey_land_use = land_use[cols].groupby([\"hex_id\", \"OBJVAL\"], as_index=False).area.sum()\n",
    "survey_land_use[\"variable\"] = \"landcover\"\n",
    "survey_land_use.rename(columns={\"area\":\"value\", \"OBJVAL\": \"label\"}, inplace=True)\n",
    "survey_land_use =survey_land_use[[\"hex_id\", \"variable\", \"label\", \"value\"]].copy()\n",
    "survey_land_use[survey_land_use.hex_id == 54590]"
   ]
  },
  {
   "cell_type": "markdown",
   "metadata": {},
   "source": [
    "__The differnt types of landcover__"
   ]
  },
  {
   "cell_type": "code",
   "execution_count": 6,
   "metadata": {
    "tags": []
   },
   "outputs": [
    {
     "data": {
      "text/plain": [
       "array(['Fels', 'Geroell', 'Gletscher', 'Obstanlage', 'Reben', 'See',\n",
       "       'Siedl', 'Wald', 'Sumpf', 'Stadtzentr', 'Stausee'], dtype=object)"
      ]
     },
     "execution_count": 6,
     "metadata": {},
     "output_type": "execute_result"
    }
   ],
   "source": [
    "survey_land_use.label.unique()"
   ]
  },
  {
   "cell_type": "code",
   "execution_count": 7,
   "metadata": {
    "tags": []
   },
   "outputs": [
    {
     "data": {
      "text/html": [
       "<div>\n",
       "<style scoped>\n",
       "    .dataframe tbody tr th:only-of-type {\n",
       "        vertical-align: middle;\n",
       "    }\n",
       "\n",
       "    .dataframe tbody tr th {\n",
       "        vertical-align: top;\n",
       "    }\n",
       "\n",
       "    .dataframe thead th {\n",
       "        text-align: right;\n",
       "    }\n",
       "</style>\n",
       "<table border=\"1\" class=\"dataframe\">\n",
       "  <thead>\n",
       "    <tr style=\"text-align: right;\">\n",
       "      <th></th>\n",
       "      <th>hex_id</th>\n",
       "      <th>variable</th>\n",
       "      <th>label</th>\n",
       "      <th>value</th>\n",
       "    </tr>\n",
       "  </thead>\n",
       "  <tbody>\n",
       "    <tr>\n",
       "      <th>10</th>\n",
       "      <td>51058</td>\n",
       "      <td>landcover</td>\n",
       "      <td>Wald</td>\n",
       "      <td>93062.365</td>\n",
       "    </tr>\n",
       "  </tbody>\n",
       "</table>\n",
       "</div>"
      ],
      "text/plain": [
       "    hex_id   variable label      value\n",
       "10   51058  landcover  Wald  93062.365"
      ]
     },
     "execution_count": 7,
     "metadata": {},
     "output_type": "execute_result"
    }
   ],
   "source": [
    "survey_land_use[survey_land_use.hex_id == 51058]"
   ]
  },
  {
   "cell_type": "markdown",
   "metadata": {},
   "source": [
    "### Scaling the land use variables and survey results\n",
    "\n",
    "The roads are given in meters and the land-cover in m². Both values will be scaled using the following: $ X{scaled} = \\frac{X - X{min}}{X{max} - X{min}}$.\n",
    "\n",
    "__Assumptions:__\n",
    "\n",
    "The landuse proximal to a survey location has a direct impact on the type and quantity of objects found on the beach."
   ]
  },
  {
   "cell_type": "code",
   "execution_count": 66,
   "metadata": {
    "tags": []
   },
   "outputs": [
    {
     "name": "stdout",
     "output_type": "stream",
     "text": [
      "\n",
      "    The land-cover variable scaled: \n",
      "    \n",
      "    count    20372.000000\n",
      "mean         0.481508\n",
      "std          0.346974\n",
      "min          0.000000\n",
      "25%          0.157597\n",
      "50%          0.439060\n",
      "75%          0.808814\n",
      "max          1.000000\n",
      "Name: scaled, dtype: float64\n",
      "    \n"
     ]
    }
   ],
   "source": [
    "def scaleTheColumn(x, xmin, xmax):\n",
    "    \n",
    "    if xmax-xmin == 0:\n",
    "        denom = 0.001\n",
    "    else:\n",
    "        denom = xmax-xmin\n",
    "    xscaled = (x-xmin)/denom\n",
    "    \n",
    "    return xscaled\n",
    "\n",
    "xmin = survey_land_use.value.min()\n",
    "xmax = survey_land_use.value.max()\n",
    "survey_land_use[\"scaled\"] = survey_land_use.value.apply(lambda x: scaleTheColumn(x, xmin, xmax))\n",
    "\n",
    "# redeine max min for the roads\n",
    "xmin = road_length.value.min()\n",
    "xmax = road_length.value.max()\n",
    "road_length[\"scaled\"] = road_length.value.apply(lambda x: scaleTheColumn(x, xmin, xmax))\n",
    "\n",
    "astring= f\"\"\"\n",
    "    The land-cover variable scaled: \n",
    "    \n",
    "    {survey_land_use.scaled.describe()}\n",
    "    \"\"\"\n",
    "print(astring)"
   ]
  },
  {
   "cell_type": "code",
   "execution_count": 67,
   "metadata": {
    "tags": []
   },
   "outputs": [
    {
     "name": "stdout",
     "output_type": "stream",
     "text": [
      "\n",
      "    The road_length variable scaled: \n",
      "    \n",
      "    count    10431.000000\n",
      "mean         0.268084\n",
      "std          0.138596\n",
      "min          0.000000\n",
      "25%          0.174084\n",
      "50%          0.283377\n",
      "75%          0.339660\n",
      "max          1.000000\n",
      "Name: scaled, dtype: float64\n",
      "    \n"
     ]
    }
   ],
   "source": [
    "astring= f\"\"\"\n",
    "    The road_length variable scaled: \n",
    "    \n",
    "    {road_length.scaled.describe()}\n",
    "    \"\"\"\n",
    "print(astring)"
   ]
  },
  {
   "cell_type": "code",
   "execution_count": 68,
   "metadata": {
    "tags": []
   },
   "outputs": [
    {
     "name": "stdout",
     "output_type": "stream",
     "text": [
      "\n",
      "    The survey values scaled: \n",
      "    \n",
      "    count    32200.000000\n",
      "mean         0.003034\n",
      "std          0.024663\n",
      "min          0.000000\n",
      "25%          0.000000\n",
      "50%          0.000000\n",
      "75%          0.000000\n",
      "max          1.000000\n",
      "Name: scaled, dtype: float64\n",
      "    \n"
     ]
    }
   ],
   "source": [
    "# the sample values:\n",
    "mask = fdx.feature_data.river_bassin == \"aare\"\n",
    "aare_samps = fdx.feature_data[mask].copy()\n",
    "xmin = aare_samps[\"p/100 m\"].min()\n",
    "xmax = aare_samps[\"p/100 m\"].max()\n",
    "aare_samps[\"scaled\"] = aare_samps[\"p/100 m\"].apply(lambda x: scaleTheColumn(x, xmin, xmax))\n",
    "\n",
    "astring= f\"\"\"\n",
    "    The survey values scaled: \n",
    "    \n",
    "    {aare_samps.scaled.describe()}\n",
    "    \"\"\"\n",
    "print(astring)"
   ]
  },
  {
   "cell_type": "markdown",
   "metadata": {
    "tags": []
   },
   "source": [
    "### Fluvial inputs\n",
    "\n",
    "The number, class, size and distance of the river instersections within 2km of the survey location."
   ]
  },
  {
   "cell_type": "code",
   "execution_count": 100,
   "metadata": {
    "tags": []
   },
   "outputs": [
    {
     "data": {
      "text/html": [
       "<div>\n",
       "<style scoped>\n",
       "    .dataframe tbody tr th:only-of-type {\n",
       "        vertical-align: middle;\n",
       "    }\n",
       "\n",
       "    .dataframe tbody tr th {\n",
       "        vertical-align: top;\n",
       "    }\n",
       "\n",
       "    .dataframe thead th {\n",
       "        text-align: right;\n",
       "    }\n",
       "</style>\n",
       "<table border=\"1\" class=\"dataframe\">\n",
       "  <thead>\n",
       "    <tr style=\"text-align: right;\">\n",
       "      <th></th>\n",
       "      <th>location</th>\n",
       "      <th>intersect</th>\n",
       "      <th>size</th>\n",
       "      <th>size_scaled</th>\n",
       "      <th>k/s</th>\n",
       "      <th>s/k</th>\n",
       "      <th>ks</th>\n",
       "      <th>sk</th>\n",
       "      <th>e_ks</th>\n",
       "      <th>e_sk</th>\n",
       "      <th>klasse_scaled</th>\n",
       "      <th>dist_scaled</th>\n",
       "      <th>dist</th>\n",
       "    </tr>\n",
       "  </thead>\n",
       "  <tbody>\n",
       "    <tr>\n",
       "      <th>0</th>\n",
       "      <td>plage-de-serriere</td>\n",
       "      <td>Le Seyon</td>\n",
       "      <td>8</td>\n",
       "      <td>-2314000.0</td>\n",
       "      <td>1.000000</td>\n",
       "      <td>1.000000</td>\n",
       "      <td>0.810811</td>\n",
       "      <td>0.054054</td>\n",
       "      <td>8.125000</td>\n",
       "      <td>0.001190</td>\n",
       "      <td>0.666667</td>\n",
       "      <td>0.420137</td>\n",
       "      <td>840</td>\n",
       "    </tr>\n",
       "    <tr>\n",
       "      <th>4</th>\n",
       "      <td>pointe-dareuse</td>\n",
       "      <td>L'Areuse</td>\n",
       "      <td>7</td>\n",
       "      <td>-2315000.0</td>\n",
       "      <td>1.000000</td>\n",
       "      <td>1.000000</td>\n",
       "      <td>0.810811</td>\n",
       "      <td>0.054054</td>\n",
       "      <td>7.142857</td>\n",
       "      <td>0.018868</td>\n",
       "      <td>0.500000</td>\n",
       "      <td>0.005271</td>\n",
       "      <td>53</td>\n",
       "    </tr>\n",
       "    <tr>\n",
       "      <th>5</th>\n",
       "      <td>pointe-dareuse</td>\n",
       "      <td>Le Vivier</td>\n",
       "      <td>9</td>\n",
       "      <td>-2313000.0</td>\n",
       "      <td>0.777778</td>\n",
       "      <td>1.285714</td>\n",
       "      <td>0.558559</td>\n",
       "      <td>0.162162</td>\n",
       "      <td>7.111111</td>\n",
       "      <td>0.002031</td>\n",
       "      <td>0.500000</td>\n",
       "      <td>0.311017</td>\n",
       "      <td>633</td>\n",
       "    </tr>\n",
       "    <tr>\n",
       "      <th>12</th>\n",
       "      <td>signalpain</td>\n",
       "      <td>Le Buron</td>\n",
       "      <td>8</td>\n",
       "      <td>-2314000.0</td>\n",
       "      <td>1.000000</td>\n",
       "      <td>1.000000</td>\n",
       "      <td>0.810811</td>\n",
       "      <td>0.054054</td>\n",
       "      <td>8.125000</td>\n",
       "      <td>0.003460</td>\n",
       "      <td>0.666667</td>\n",
       "      <td>0.129678</td>\n",
       "      <td>289</td>\n",
       "    </tr>\n",
       "    <tr>\n",
       "      <th>13</th>\n",
       "      <td>signalpain</td>\n",
       "      <td>Canal Oriental</td>\n",
       "      <td>18</td>\n",
       "      <td>-2304000.0</td>\n",
       "      <td>0.444444</td>\n",
       "      <td>2.250000</td>\n",
       "      <td>0.180180</td>\n",
       "      <td>0.527027</td>\n",
       "      <td>8.055556</td>\n",
       "      <td>0.023438</td>\n",
       "      <td>0.666667</td>\n",
       "      <td>0.027939</td>\n",
       "      <td>96</td>\n",
       "    </tr>\n",
       "  </tbody>\n",
       "</table>\n",
       "</div>"
      ],
      "text/plain": [
       "             location       intersect  size  size_scaled       k/s       s/k  \\\n",
       "0   plage-de-serriere        Le Seyon     8   -2314000.0  1.000000  1.000000   \n",
       "4      pointe-dareuse        L'Areuse     7   -2315000.0  1.000000  1.000000   \n",
       "5      pointe-dareuse       Le Vivier     9   -2313000.0  0.777778  1.285714   \n",
       "12         signalpain        Le Buron     8   -2314000.0  1.000000  1.000000   \n",
       "13         signalpain  Canal Oriental    18   -2304000.0  0.444444  2.250000   \n",
       "\n",
       "          ks        sk      e_ks      e_sk  klasse_scaled  dist_scaled  dist  \n",
       "0   0.810811  0.054054  8.125000  0.001190       0.666667     0.420137   840  \n",
       "4   0.810811  0.054054  7.142857  0.018868       0.500000     0.005271    53  \n",
       "5   0.558559  0.162162  7.111111  0.002031       0.500000     0.311017   633  \n",
       "12  0.810811  0.054054  8.125000  0.003460       0.666667     0.129678   289  \n",
       "13  0.180180  0.527027  8.055556  0.023438       0.666667     0.027939    96  "
      ]
     },
     "execution_count": 100,
     "metadata": {},
     "output_type": "execute_result"
    }
   ],
   "source": [
    "intersections = pd.read_csv(\"resources/input/distance_to_intersection.csv\")\n",
    "intersections = intersections[[\"location\",  \"NAMN_2\", \"BREITE\", \"KLASSE\", \"OBJVAL\", \"OBJVAL_2\", \"distance\"]]\n",
    "# intersections = intersections.drop_duplicates([\"location\", \"NAMN_2\",\"BREITE\"])\n",
    "intersections[\"distance\"] = intersections.distance.astype(int)\n",
    "intersections.rename(columns={\"NAMN_2\": \"intersect\", \"BREITE\":\"size\", \"KLASSE\": \"klasse\", \"distance\": \"dist\"}, inplace=True)\n",
    "xmin = intersections.dist.min()\n",
    "xmax = intersections.dist.max()\n",
    "intersections.fillna(0)\n",
    "\n",
    "intersections[\"dist_scaled\"] = intersections.dist.apply(lambda x: scaleTheColumn(x, xmin, xmax))\n",
    "\n",
    "xmin = intersections.klasse.min()\n",
    "xmax = intersections.klasse.max()\n",
    "intersections[\"klasse_scaled\"] = intersections.klasse.apply(lambda x: scaleTheColumn(x, xmin, xmax))\n",
    "\n",
    "xmin = intersections.size.min()\n",
    "xmax = intersections.size.max()\n",
    "intersections[\"size_scaled\"] = intersections[\"size\"].apply(lambda x: scaleTheColumn(x, xmin, xmax))\n",
    "\n",
    "intersections[\"k/s\"] = intersections[\"klasse\"]/intersections[\"size\"]\n",
    "intersections[\"s/k\"] = intersections[\"size\"]/intersections[\"klasse\"]\n",
    "xmin = intersections[\"k/s\"].min()\n",
    "xmax = intersections[\"k/s\"].max()\n",
    "\n",
    "intersections[\"ks\"] = intersections[\"k/s\"].apply(lambda x: scaleTheColumn(x, xmin, xmax))\n",
    "xmin = intersections[\"s/k\"].min()\n",
    "xmax = intersections[\"s/k\"].max()\n",
    "intersections[\"sk\"] = intersections[\"s/k\"].apply(lambda x: scaleTheColumn(x, xmin, xmax))\n",
    "intersections[\"e_ks\"] = 1/intersections[\"size\"]+ intersections[\"klasse\"]\n",
    "intersections[\"e_sk\"] = intersections[\"s/k\"]/intersections[\"dist\"]\n",
    "intersections = intersections.drop_duplicates([\"location\", \"intersect\"])\n",
    "inter_map = intersections[[\"location\", \"intersect\", \"size\",\"size_scaled\",\"k/s\", \"s/k\", \"ks\", \"sk\", \"e_ks\", \"e_sk\", \"klasse_scaled\", \"dist_scaled\", \"dist\"]]\n",
    "inter_map.head()"
   ]
  },
  {
   "cell_type": "code",
   "execution_count": 101,
   "metadata": {},
   "outputs": [
    {
     "data": {
      "text/plain": [
       "array([-2314000., -2315000., -2313000., -2304000., -2316000., -2308000.,\n",
       "       -2312000., -2317000., -2307000., -2318000., -2302000.])"
      ]
     },
     "execution_count": 101,
     "metadata": {},
     "output_type": "execute_result"
    }
   ],
   "source": [
    "inter_map[\"size_scaled\"].unique()"
   ]
  },
  {
   "cell_type": "code",
   "execution_count": 107,
   "metadata": {},
   "outputs": [
    {
     "name": "stdout",
     "output_type": "stream",
     "text": [
      "                    p/100 m  klasse_scaled         size          dist  \\\n",
      "p/100 m        29220.200250      25.009238    25.221946  9.749288e+04   \n",
      "klasse_scaled     25.009238       5.363795     0.707827  6.191545e+03   \n",
      "size              25.221946       0.707827     0.277886  2.129912e+03   \n",
      "dist           97492.877903    6191.544569  2129.912072  2.534710e+07   \n",
      "e_ks            1011.643919      59.788975    12.762705  1.036999e+05   \n",
      "\n",
      "                        e_ks  \n",
      "p/100 m          1011.643919  \n",
      "klasse_scaled      59.788975  \n",
      "size               12.762705  \n",
      "dist           103699.949525  \n",
      "e_ks              804.763129  \n"
     ]
    },
    {
     "data": {
      "text/plain": [
       "<seaborn.axisgrid.PairGrid at 0x7fc3849b8e80>"
      ]
     },
     "execution_count": 107,
     "metadata": {},
     "output_type": "execute_result"
    },
    {
     "data": {
      "image/png": "[encoded data removed]",
      "text/plain": [
       "<Figure size 1250x1250 with 25 Axes>"
      ]
     },
     "metadata": {},
     "output_type": "display_data"
    }
   ],
   "source": [
    "test_aare = fd[fd.river_bassin == \"aare\"].copy()\n",
    "\n",
    "xmin = test_aare[\"p/100 m\"].min()\n",
    "xmax = test_aare[\"p/100 m\"].max()\n",
    "\n",
    "test_aare[\"p/100 ms\"] = test_aare[\"p/100 m\"].apply(lambda x: scaleTheColumn(x, xmin, xmax))\n",
    "\n",
    "\n",
    "\n",
    "tdata = test_aare[[\"loc_date\", \"location\",\"code\", \"p/100 m\", \"p/100 ms\",\"water_name_slug\"]].merge(inter_map, how=\"right\", on=\"location\")\n",
    "codes = [\"G67\", \"G95\", \"Gfrags\", \"Gfoam\"]\n",
    "tdata[\"size\"] = 1/tdata[\"size\"]\n",
    "# tdata[\"dist\"] = 1/tdata[\"dist\"]\n",
    "# xmin = tdata[\"dist\"].min()\n",
    "# xmax = tdata[\"dist\"].max()\n",
    "# tdata[\"dist\"] = tdata[\"dist\"].apply(lambda x: scaleTheColumn(x, xmin, xmax))\n",
    "data = tdata[tdata.code.isin(codes)].groupby([\"loc_date\",\"water_name_slug\"],as_index=False).agg({\"dist\":\"sum\", \"p/100 ms\":\"sum\", \"p/100 m\":\"sum\",\"size\":\"sum\", \"klasse_scaled\":\"sum\", \"dist_scaled\":\"sum\",\"e_ks\": \"sum\", \"e_sk\":\"sum\", \"k/s\":\"sum\", \"s/k\":\"sum\", \"ks\": \"sum\", \"sk\":\"sum\"})\n",
    "\n",
    "\n",
    "cols = [\"p/100 m\", \"klasse_scaled\", \"size\", \"dist\", \"e_ks\"]\n",
    "\n",
    "print(data[cols].cov())\n",
    "\n",
    "\n",
    "\n",
    "agrid = sns.PairGrid(data[cols],)\n",
    "agrid.map(sns.scatterplot)\n"
   ]
  },
  {
   "cell_type": "code",
   "execution_count": 108,
   "metadata": {},
   "outputs": [
    {
     "data": {
      "text/plain": [
       "0      1.000000\n",
       "4      1.000000\n",
       "5      0.777778\n",
       "12     1.000000\n",
       "13     0.444444\n",
       "         ...   \n",
       "234    0.444444\n",
       "238    1.000000\n",
       "246    1.000000\n",
       "247    1.000000\n",
       "249    1.000000\n",
       "Length: 68, dtype: float64"
      ]
     },
     "execution_count": 108,
     "metadata": {},
     "output_type": "execute_result"
    }
   ],
   "source": [
    "intersections[\"klasse\"]/intersections[\"size\"]"
   ]
  },
  {
   "cell_type": "code",
   "execution_count": 86,
   "metadata": {
    "tags": []
   },
   "outputs": [
    {
     "ename": "KeyError",
     "evalue": "\"['effect'] not in index\"",
     "output_type": "error",
     "traceback": [
      "\u001b[0;31m---------------------------------------------------------------------------\u001b[0m",
      "\u001b[0;31mKeyError\u001b[0m                                  Traceback (most recent call last)",
      "Cell \u001b[0;32mIn [86], line 2\u001b[0m\n\u001b[1;32m      1\u001b[0m \u001b[38;5;66;03m# the cumulative effect of all the intersects for each location\u001b[39;00m\n\u001b[0;32m----> 2\u001b[0m \u001b[43mintersections\u001b[49m\u001b[43m[\u001b[49m\u001b[43m[\u001b[49m\u001b[38;5;124;43m\"\u001b[39;49m\u001b[38;5;124;43mlocation\u001b[39;49m\u001b[38;5;124;43m\"\u001b[39;49m\u001b[43m,\u001b[49m\u001b[43m \u001b[49m\u001b[38;5;124;43m\"\u001b[39;49m\u001b[38;5;124;43mintersect\u001b[39;49m\u001b[38;5;124;43m\"\u001b[39;49m\u001b[43m,\u001b[49m\u001b[43m \u001b[49m\u001b[38;5;124;43m\"\u001b[39;49m\u001b[38;5;124;43msize\u001b[39;49m\u001b[38;5;124;43m\"\u001b[39;49m\u001b[43m,\u001b[49m\u001b[43m \u001b[49m\u001b[38;5;124;43m\"\u001b[39;49m\u001b[38;5;124;43mklasse\u001b[39;49m\u001b[38;5;124;43m\"\u001b[39;49m\u001b[43m,\u001b[49m\u001b[43m \u001b[49m\u001b[38;5;124;43m\"\u001b[39;49m\u001b[38;5;124;43mdist\u001b[39;49m\u001b[38;5;124;43m\"\u001b[39;49m\u001b[43m,\u001b[49m\u001b[43m \u001b[49m\u001b[38;5;124;43m\"\u001b[39;49m\u001b[38;5;124;43mk/s\u001b[39;49m\u001b[38;5;124;43m\"\u001b[39;49m\u001b[43m,\u001b[49m\u001b[43m \u001b[49m\u001b[38;5;124;43m\"\u001b[39;49m\u001b[38;5;124;43meffect\u001b[39;49m\u001b[38;5;124;43m\"\u001b[39;49m\u001b[43m]\u001b[49m\u001b[43m]\u001b[49m[intersections\u001b[38;5;241m.\u001b[39mlocation \u001b[38;5;241m==\u001b[39m \u001b[38;5;124m\"\u001b[39m\u001b[38;5;124mwycheley\u001b[39m\u001b[38;5;124m\"\u001b[39m]\n",
      "File \u001b[0;32m~/anaconda3/envs/dscy/lib/python3.10/site-packages/pandas/core/frame.py:3511\u001b[0m, in \u001b[0;36mDataFrame.__getitem__\u001b[0;34m(self, key)\u001b[0m\n\u001b[1;32m   3509\u001b[0m     \u001b[38;5;28;01mif\u001b[39;00m is_iterator(key):\n\u001b[1;32m   3510\u001b[0m         key \u001b[38;5;241m=\u001b[39m \u001b[38;5;28mlist\u001b[39m(key)\n\u001b[0;32m-> 3511\u001b[0m     indexer \u001b[38;5;241m=\u001b[39m \u001b[38;5;28;43mself\u001b[39;49m\u001b[38;5;241;43m.\u001b[39;49m\u001b[43mcolumns\u001b[49m\u001b[38;5;241;43m.\u001b[39;49m\u001b[43m_get_indexer_strict\u001b[49m\u001b[43m(\u001b[49m\u001b[43mkey\u001b[49m\u001b[43m,\u001b[49m\u001b[43m \u001b[49m\u001b[38;5;124;43m\"\u001b[39;49m\u001b[38;5;124;43mcolumns\u001b[39;49m\u001b[38;5;124;43m\"\u001b[39;49m\u001b[43m)\u001b[49m[\u001b[38;5;241m1\u001b[39m]\n\u001b[1;32m   3513\u001b[0m \u001b[38;5;66;03m# take() does not accept boolean indexers\u001b[39;00m\n\u001b[1;32m   3514\u001b[0m \u001b[38;5;28;01mif\u001b[39;00m \u001b[38;5;28mgetattr\u001b[39m(indexer, \u001b[38;5;124m\"\u001b[39m\u001b[38;5;124mdtype\u001b[39m\u001b[38;5;124m\"\u001b[39m, \u001b[38;5;28;01mNone\u001b[39;00m) \u001b[38;5;241m==\u001b[39m \u001b[38;5;28mbool\u001b[39m:\n",
      "File \u001b[0;32m~/anaconda3/envs/dscy/lib/python3.10/site-packages/pandas/core/indexes/base.py:5796\u001b[0m, in \u001b[0;36mIndex._get_indexer_strict\u001b[0;34m(self, key, axis_name)\u001b[0m\n\u001b[1;32m   5793\u001b[0m \u001b[38;5;28;01melse\u001b[39;00m:\n\u001b[1;32m   5794\u001b[0m     keyarr, indexer, new_indexer \u001b[38;5;241m=\u001b[39m \u001b[38;5;28mself\u001b[39m\u001b[38;5;241m.\u001b[39m_reindex_non_unique(keyarr)\n\u001b[0;32m-> 5796\u001b[0m \u001b[38;5;28;43mself\u001b[39;49m\u001b[38;5;241;43m.\u001b[39;49m\u001b[43m_raise_if_missing\u001b[49m\u001b[43m(\u001b[49m\u001b[43mkeyarr\u001b[49m\u001b[43m,\u001b[49m\u001b[43m \u001b[49m\u001b[43mindexer\u001b[49m\u001b[43m,\u001b[49m\u001b[43m \u001b[49m\u001b[43maxis_name\u001b[49m\u001b[43m)\u001b[49m\n\u001b[1;32m   5798\u001b[0m keyarr \u001b[38;5;241m=\u001b[39m \u001b[38;5;28mself\u001b[39m\u001b[38;5;241m.\u001b[39mtake(indexer)\n\u001b[1;32m   5799\u001b[0m \u001b[38;5;28;01mif\u001b[39;00m \u001b[38;5;28misinstance\u001b[39m(key, Index):\n\u001b[1;32m   5800\u001b[0m     \u001b[38;5;66;03m# GH 42790 - Preserve name from an Index\u001b[39;00m\n",
      "File \u001b[0;32m~/anaconda3/envs/dscy/lib/python3.10/site-packages/pandas/core/indexes/base.py:5859\u001b[0m, in \u001b[0;36mIndex._raise_if_missing\u001b[0;34m(self, key, indexer, axis_name)\u001b[0m\n\u001b[1;32m   5856\u001b[0m     \u001b[38;5;28;01mraise\u001b[39;00m \u001b[38;5;167;01mKeyError\u001b[39;00m(\u001b[38;5;124mf\u001b[39m\u001b[38;5;124m\"\u001b[39m\u001b[38;5;124mNone of [\u001b[39m\u001b[38;5;132;01m{\u001b[39;00mkey\u001b[38;5;132;01m}\u001b[39;00m\u001b[38;5;124m] are in the [\u001b[39m\u001b[38;5;132;01m{\u001b[39;00maxis_name\u001b[38;5;132;01m}\u001b[39;00m\u001b[38;5;124m]\u001b[39m\u001b[38;5;124m\"\u001b[39m)\n\u001b[1;32m   5858\u001b[0m not_found \u001b[38;5;241m=\u001b[39m \u001b[38;5;28mlist\u001b[39m(ensure_index(key)[missing_mask\u001b[38;5;241m.\u001b[39mnonzero()[\u001b[38;5;241m0\u001b[39m]]\u001b[38;5;241m.\u001b[39munique())\n\u001b[0;32m-> 5859\u001b[0m \u001b[38;5;28;01mraise\u001b[39;00m \u001b[38;5;167;01mKeyError\u001b[39;00m(\u001b[38;5;124mf\u001b[39m\u001b[38;5;124m\"\u001b[39m\u001b[38;5;132;01m{\u001b[39;00mnot_found\u001b[38;5;132;01m}\u001b[39;00m\u001b[38;5;124m not in index\u001b[39m\u001b[38;5;124m\"\u001b[39m)\n",
      "\u001b[0;31mKeyError\u001b[0m: \"['effect'] not in index\""
     ]
    }
   ],
   "source": [
    "# the cumulative effect of all the intersects for each location\n",
    "intersections[[\"location\", \"intersect\", \"size\", \"klasse\", \"dist\", \"k/s\", \"effect\"]][intersections.location == \"wycheley\"]"
   ]
  },
  {
   "cell_type": "code",
   "execution_count": 74,
   "metadata": {},
   "outputs": [
    {
     "ename": "KeyError",
     "evalue": "\"['effect'] not in index\"",
     "output_type": "error",
     "traceback": [
      "\u001b[0;31m---------------------------------------------------------------------------\u001b[0m",
      "\u001b[0;31mKeyError\u001b[0m                                  Traceback (most recent call last)",
      "Cell \u001b[0;32mIn [74], line 2\u001b[0m\n\u001b[1;32m      1\u001b[0m \u001b[38;5;66;03m# the cumulative effect of all the intersects for each location\u001b[39;00m\n\u001b[0;32m----> 2\u001b[0m \u001b[43mintersections\u001b[49m\u001b[43m[\u001b[49m\u001b[43m[\u001b[49m\u001b[38;5;124;43m\"\u001b[39;49m\u001b[38;5;124;43mlocation\u001b[39;49m\u001b[38;5;124;43m\"\u001b[39;49m\u001b[43m,\u001b[49m\u001b[43m \u001b[49m\u001b[38;5;124;43m\"\u001b[39;49m\u001b[38;5;124;43mintersect\u001b[39;49m\u001b[38;5;124;43m\"\u001b[39;49m\u001b[43m,\u001b[49m\u001b[43m \u001b[49m\u001b[38;5;124;43m\"\u001b[39;49m\u001b[38;5;124;43msize\u001b[39;49m\u001b[38;5;124;43m\"\u001b[39;49m\u001b[43m,\u001b[49m\u001b[43m \u001b[49m\u001b[38;5;124;43m\"\u001b[39;49m\u001b[38;5;124;43mklasse\u001b[39;49m\u001b[38;5;124;43m\"\u001b[39;49m\u001b[43m,\u001b[49m\u001b[43m  \u001b[49m\u001b[38;5;124;43m\"\u001b[39;49m\u001b[38;5;124;43mk/s\u001b[39;49m\u001b[38;5;124;43m\"\u001b[39;49m\u001b[43m,\u001b[49m\u001b[43m \u001b[49m\u001b[38;5;124;43m\"\u001b[39;49m\u001b[38;5;124;43mdist\u001b[39;49m\u001b[38;5;124;43m\"\u001b[39;49m\u001b[43m,\u001b[49m\u001b[43m \u001b[49m\u001b[38;5;124;43m\"\u001b[39;49m\u001b[38;5;124;43meffect\u001b[39;49m\u001b[38;5;124;43m\"\u001b[39;49m\u001b[43m]\u001b[49m\u001b[43m]\u001b[49m[intersections\u001b[38;5;241m.\u001b[39mlocation \u001b[38;5;241m==\u001b[39m \u001b[38;5;124m\"\u001b[39m\u001b[38;5;124moben-am-see\u001b[39m\u001b[38;5;124m\"\u001b[39m]\n",
      "File \u001b[0;32m~/anaconda3/envs/dscy/lib/python3.10/site-packages/pandas/core/frame.py:3511\u001b[0m, in \u001b[0;36mDataFrame.__getitem__\u001b[0;34m(self, key)\u001b[0m\n\u001b[1;32m   3509\u001b[0m     \u001b[38;5;28;01mif\u001b[39;00m is_iterator(key):\n\u001b[1;32m   3510\u001b[0m         key \u001b[38;5;241m=\u001b[39m \u001b[38;5;28mlist\u001b[39m(key)\n\u001b[0;32m-> 3511\u001b[0m     indexer \u001b[38;5;241m=\u001b[39m \u001b[38;5;28;43mself\u001b[39;49m\u001b[38;5;241;43m.\u001b[39;49m\u001b[43mcolumns\u001b[49m\u001b[38;5;241;43m.\u001b[39;49m\u001b[43m_get_indexer_strict\u001b[49m\u001b[43m(\u001b[49m\u001b[43mkey\u001b[49m\u001b[43m,\u001b[49m\u001b[43m \u001b[49m\u001b[38;5;124;43m\"\u001b[39;49m\u001b[38;5;124;43mcolumns\u001b[39;49m\u001b[38;5;124;43m\"\u001b[39;49m\u001b[43m)\u001b[49m[\u001b[38;5;241m1\u001b[39m]\n\u001b[1;32m   3513\u001b[0m \u001b[38;5;66;03m# take() does not accept boolean indexers\u001b[39;00m\n\u001b[1;32m   3514\u001b[0m \u001b[38;5;28;01mif\u001b[39;00m \u001b[38;5;28mgetattr\u001b[39m(indexer, \u001b[38;5;124m\"\u001b[39m\u001b[38;5;124mdtype\u001b[39m\u001b[38;5;124m\"\u001b[39m, \u001b[38;5;28;01mNone\u001b[39;00m) \u001b[38;5;241m==\u001b[39m \u001b[38;5;28mbool\u001b[39m:\n",
      "File \u001b[0;32m~/anaconda3/envs/dscy/lib/python3.10/site-packages/pandas/core/indexes/base.py:5796\u001b[0m, in \u001b[0;36mIndex._get_indexer_strict\u001b[0;34m(self, key, axis_name)\u001b[0m\n\u001b[1;32m   5793\u001b[0m \u001b[38;5;28;01melse\u001b[39;00m:\n\u001b[1;32m   5794\u001b[0m     keyarr, indexer, new_indexer \u001b[38;5;241m=\u001b[39m \u001b[38;5;28mself\u001b[39m\u001b[38;5;241m.\u001b[39m_reindex_non_unique(keyarr)\n\u001b[0;32m-> 5796\u001b[0m \u001b[38;5;28;43mself\u001b[39;49m\u001b[38;5;241;43m.\u001b[39;49m\u001b[43m_raise_if_missing\u001b[49m\u001b[43m(\u001b[49m\u001b[43mkeyarr\u001b[49m\u001b[43m,\u001b[49m\u001b[43m \u001b[49m\u001b[43mindexer\u001b[49m\u001b[43m,\u001b[49m\u001b[43m \u001b[49m\u001b[43maxis_name\u001b[49m\u001b[43m)\u001b[49m\n\u001b[1;32m   5798\u001b[0m keyarr \u001b[38;5;241m=\u001b[39m \u001b[38;5;28mself\u001b[39m\u001b[38;5;241m.\u001b[39mtake(indexer)\n\u001b[1;32m   5799\u001b[0m \u001b[38;5;28;01mif\u001b[39;00m \u001b[38;5;28misinstance\u001b[39m(key, Index):\n\u001b[1;32m   5800\u001b[0m     \u001b[38;5;66;03m# GH 42790 - Preserve name from an Index\u001b[39;00m\n",
      "File \u001b[0;32m~/anaconda3/envs/dscy/lib/python3.10/site-packages/pandas/core/indexes/base.py:5859\u001b[0m, in \u001b[0;36mIndex._raise_if_missing\u001b[0;34m(self, key, indexer, axis_name)\u001b[0m\n\u001b[1;32m   5856\u001b[0m     \u001b[38;5;28;01mraise\u001b[39;00m \u001b[38;5;167;01mKeyError\u001b[39;00m(\u001b[38;5;124mf\u001b[39m\u001b[38;5;124m\"\u001b[39m\u001b[38;5;124mNone of [\u001b[39m\u001b[38;5;132;01m{\u001b[39;00mkey\u001b[38;5;132;01m}\u001b[39;00m\u001b[38;5;124m] are in the [\u001b[39m\u001b[38;5;132;01m{\u001b[39;00maxis_name\u001b[38;5;132;01m}\u001b[39;00m\u001b[38;5;124m]\u001b[39m\u001b[38;5;124m\"\u001b[39m)\n\u001b[1;32m   5858\u001b[0m not_found \u001b[38;5;241m=\u001b[39m \u001b[38;5;28mlist\u001b[39m(ensure_index(key)[missing_mask\u001b[38;5;241m.\u001b[39mnonzero()[\u001b[38;5;241m0\u001b[39m]]\u001b[38;5;241m.\u001b[39munique())\n\u001b[0;32m-> 5859\u001b[0m \u001b[38;5;28;01mraise\u001b[39;00m \u001b[38;5;167;01mKeyError\u001b[39;00m(\u001b[38;5;124mf\u001b[39m\u001b[38;5;124m\"\u001b[39m\u001b[38;5;132;01m{\u001b[39;00mnot_found\u001b[38;5;132;01m}\u001b[39;00m\u001b[38;5;124m not in index\u001b[39m\u001b[38;5;124m\"\u001b[39m)\n",
      "\u001b[0;31mKeyError\u001b[0m: \"['effect'] not in index\""
     ]
    }
   ],
   "source": [
    "# the cumulative effect of all the intersects for each location\n",
    "intersections[[\"location\", \"intersect\", \"size\", \"klasse\",  \"k/s\", \"dist\", \"effect\"]][intersections.location == \"oben-am-see\"]"
   ]
  },
  {
   "cell_type": "code",
   "execution_count": null,
   "metadata": {},
   "outputs": [],
   "source": []
  },
  {
   "cell_type": "markdown",
   "metadata": {},
   "source": [
    "#### __Assumptions/Relation:__\n",
    "\n",
    "1. There is a positive correlation between the size of the river or the class of the river and the quantity of trash it transports\n",
    "2. The closer a survey location is to a river intersection point the more likely it is to receive trash from the intersection.\n",
    "3. In general there is a negative correlation between a river intersection and the distance to any location on the lake.\n",
    "\n",
    "__Background/Priors__\n",
    "\n",
    "There is enough research that points to relations 1 and 2 (Seine maritime, Pay Bas). However, the contamination of remote Pacific Islands and Northern Europes coast line shows that even places far away from the source are seriously effected. The transport of plastics or more generally of trash on the Oceans is a well studied and documented process. A portion of the data is derived from _beach-litter-surveys_ conducted by a variety organizations. Trash has been monitored in the same fashion on Le Léman since November 2015. The combined effort has resulted in 312 samples from 145km of coastline. Furthermore, these samples were all conducted using the same protocol. \n",
    "\n",
    "As of 2020 the EU threshold for beach litter is 15 pieces of trash per 100 m (p/100m). The results for Switzerland in 2021 suggest a median value of 189 p/100m, the lowest values were in the Aare river catchment area and the Highest were in the Rhône catchment area (IQAASL). Recent sample data from Pays Bas have a mean of VALUE and median VALUE for VALUE samples. Relation one stems from the observations in Brienze and Bonnigen on the Brienzersee and Saint Gingolph on Lac Léman (both in Switzerland). These communities are located very near the mouth of major swiss rivers, Aare and Rhône respectively and are primarily rural communities. The amount of land that is étanche surrounding these surveys locations is low when compared to other communities in the survey. \n",
    "\n",
    "Lac Léman presents unique opportunities for researching the movement or deposition of trash on the shoreline. For example the resident time on the lake is 11 years, the water is moving slowly from Saint Gingolph to Geneva. There are not massive tidal events in relation to the ocean and there is an established culture and infrastructure dedicated to improving the conditions for the lakes wildlife. This includes litter campaigns, clean ups, communications and public education. Lac Léman is also urbanized, only 1% of the coastline is considered in a \"natural state\" and the real estate values are among the highest in the world.\n",
    "\n",
    "__Enquiries__\n",
    "\n",
    "1. Can the fluvial effect be used to predict trash values?\n",
    "   1. Is there a higher probability of finding more trash at locations with a high fluvial effect?\n",
    "   2. How likely are you to exceed the regional average in relation to the fluvial effect?\n",
    "<br></br>\n",
    "2. How does land use change the probability of finding an object?\n",
    "   1. How does the probability of finding a given number of objects change when the land-use changes?\n",
    "<br></br>\n",
    "3. how does the probability of finding an object or a quantity of a group of objects change with location or region?\n",
    "   1. Does the knowledge of the land-use change the expected result?\n",
    "   2. If so, how reliable are the new assumptions?\n",
    "   \n",
    "The effects of land-use are calculated by using the meters squared (m²) of a 500 m hexagon that contains the sample location. This is a departure from the orginal method where the sample location was considered the reference point and the land use was considered as a function of the distance from the point. In this case a 500 m hex grid was made of Switzerland and the land use values for each 500 m hex were extracted from the Swss TLM Regio map. This set of maps has less detail than the first map but the data is complete with many relavent topographical categories labeled and classfied. For example the size and the class of the rivers on the map is detailed and defined in German and French. \n",
    "\n",
    "#### __Calculating Fluvial effects:__\n",
    "\n",
    "__Definitions:__\n",
    "\n",
    "* __size:__ german = \"Kartografische“ Breite des Abschnitts, french = Largeur cartographique du tronçon, english = The size of the river at this section.\n",
    "\n",
    "* __class:__ german = Breite, einheitlich über die ganze Länge, french = Importance, identique sur toute la longueur, english = The importance of the river, identical for the whole length.\n",
    "\n",
    "The size value can vary depending on the location. the class variable is consistent for the whole variable. Note that the smaller the class the more important the river. The size attribute however reflects the actual size of the river at the point of intersection.\n",
    "\n",
    "\n"
   ]
  },
  {
   "cell_type": "code",
   "execution_count": 20,
   "metadata": {
    "tags": []
   },
   "outputs": [
    {
     "ename": "NameError",
     "evalue": "name 'intersect_effect' is not defined",
     "output_type": "error",
     "traceback": [
      "\u001b[0;31m---------------------------------------------------------------------------\u001b[0m",
      "\u001b[0;31mNameError\u001b[0m                                 Traceback (most recent call last)",
      "Cell \u001b[0;32mIn [20], line 1\u001b[0m\n\u001b[0;32m----> 1\u001b[0m aare_samples[\u001b[38;5;124m\"\u001b[39m\u001b[38;5;124mhydro_effect\u001b[39m\u001b[38;5;124m\"\u001b[39m] \u001b[38;5;241m=\u001b[39m \u001b[43maare_samples\u001b[49m\u001b[38;5;241;43m.\u001b[39;49m\u001b[43mlocation\u001b[49m\u001b[38;5;241;43m.\u001b[39;49m\u001b[43mmap\u001b[49m\u001b[43m(\u001b[49m\u001b[38;5;28;43;01mlambda\u001b[39;49;00m\u001b[43m \u001b[49m\u001b[43mx\u001b[49m\u001b[43m:\u001b[49m\u001b[43m \u001b[49m\u001b[43maddEffect\u001b[49m\u001b[43m(\u001b[49m\u001b[43mx\u001b[49m\u001b[43m,\u001b[49m\u001b[43m \u001b[49m\u001b[43mintersect_effect\u001b[49m\u001b[43m)\u001b[49m\u001b[43m)\u001b[49m\n\u001b[1;32m      3\u001b[0m code\u001b[38;5;241m=\u001b[39m\u001b[38;5;124m\"\u001b[39m\u001b[38;5;124mG89\u001b[39m\u001b[38;5;124m\"\u001b[39m\n\u001b[1;32m      5\u001b[0m test_samples \u001b[38;5;241m=\u001b[39m aare_samples[aare_samples\u001b[38;5;241m.\u001b[39mcode \u001b[38;5;241m==\u001b[39m code]\u001b[38;5;241m.\u001b[39mcopy()\n",
      "File \u001b[0;32m~/anaconda3/envs/dscy/lib/python3.10/site-packages/pandas/core/series.py:4237\u001b[0m, in \u001b[0;36mSeries.map\u001b[0;34m(self, arg, na_action)\u001b[0m\n\u001b[1;32m   4162\u001b[0m \u001b[38;5;28;01mdef\u001b[39;00m \u001b[38;5;21mmap\u001b[39m(\u001b[38;5;28mself\u001b[39m, arg, na_action\u001b[38;5;241m=\u001b[39m\u001b[38;5;28;01mNone\u001b[39;00m) \u001b[38;5;241m-\u001b[39m\u001b[38;5;241m>\u001b[39m Series:\n\u001b[1;32m   4163\u001b[0m     \u001b[38;5;124;03m\"\"\"\u001b[39;00m\n\u001b[1;32m   4164\u001b[0m \u001b[38;5;124;03m    Map values of Series according to an input mapping or function.\u001b[39;00m\n\u001b[1;32m   4165\u001b[0m \n\u001b[0;32m   (...)\u001b[0m\n\u001b[1;32m   4235\u001b[0m \u001b[38;5;124;03m    dtype: object\u001b[39;00m\n\u001b[1;32m   4236\u001b[0m \u001b[38;5;124;03m    \"\"\"\u001b[39;00m\n\u001b[0;32m-> 4237\u001b[0m     new_values \u001b[38;5;241m=\u001b[39m \u001b[38;5;28;43mself\u001b[39;49m\u001b[38;5;241;43m.\u001b[39;49m\u001b[43m_map_values\u001b[49m\u001b[43m(\u001b[49m\u001b[43marg\u001b[49m\u001b[43m,\u001b[49m\u001b[43m \u001b[49m\u001b[43mna_action\u001b[49m\u001b[38;5;241;43m=\u001b[39;49m\u001b[43mna_action\u001b[49m\u001b[43m)\u001b[49m\n\u001b[1;32m   4238\u001b[0m     \u001b[38;5;28;01mreturn\u001b[39;00m \u001b[38;5;28mself\u001b[39m\u001b[38;5;241m.\u001b[39m_constructor(new_values, index\u001b[38;5;241m=\u001b[39m\u001b[38;5;28mself\u001b[39m\u001b[38;5;241m.\u001b[39mindex)\u001b[38;5;241m.\u001b[39m__finalize__(\n\u001b[1;32m   4239\u001b[0m         \u001b[38;5;28mself\u001b[39m, method\u001b[38;5;241m=\u001b[39m\u001b[38;5;124m\"\u001b[39m\u001b[38;5;124mmap\u001b[39m\u001b[38;5;124m\"\u001b[39m\n\u001b[1;32m   4240\u001b[0m     )\n",
      "File \u001b[0;32m~/anaconda3/envs/dscy/lib/python3.10/site-packages/pandas/core/base.py:880\u001b[0m, in \u001b[0;36mIndexOpsMixin._map_values\u001b[0;34m(self, mapper, na_action)\u001b[0m\n\u001b[1;32m    877\u001b[0m         \u001b[38;5;28;01mraise\u001b[39;00m \u001b[38;5;167;01mValueError\u001b[39;00m(msg)\n\u001b[1;32m    879\u001b[0m \u001b[38;5;66;03m# mapper is a function\u001b[39;00m\n\u001b[0;32m--> 880\u001b[0m new_values \u001b[38;5;241m=\u001b[39m \u001b[43mmap_f\u001b[49m\u001b[43m(\u001b[49m\u001b[43mvalues\u001b[49m\u001b[43m,\u001b[49m\u001b[43m \u001b[49m\u001b[43mmapper\u001b[49m\u001b[43m)\u001b[49m\n\u001b[1;32m    882\u001b[0m \u001b[38;5;28;01mreturn\u001b[39;00m new_values\n",
      "File \u001b[0;32m~/anaconda3/envs/dscy/lib/python3.10/site-packages/pandas/_libs/lib.pyx:2870\u001b[0m, in \u001b[0;36mpandas._libs.lib.map_infer\u001b[0;34m()\u001b[0m\n",
      "Cell \u001b[0;32mIn [20], line 1\u001b[0m, in \u001b[0;36m<lambda>\u001b[0;34m(x)\u001b[0m\n\u001b[0;32m----> 1\u001b[0m aare_samples[\u001b[38;5;124m\"\u001b[39m\u001b[38;5;124mhydro_effect\u001b[39m\u001b[38;5;124m\"\u001b[39m] \u001b[38;5;241m=\u001b[39m aare_samples\u001b[38;5;241m.\u001b[39mlocation\u001b[38;5;241m.\u001b[39mmap(\u001b[38;5;28;01mlambda\u001b[39;00m x: addEffect(x, \u001b[43mintersect_effect\u001b[49m))\n\u001b[1;32m      3\u001b[0m code\u001b[38;5;241m=\u001b[39m\u001b[38;5;124m\"\u001b[39m\u001b[38;5;124mG89\u001b[39m\u001b[38;5;124m\"\u001b[39m\n\u001b[1;32m      5\u001b[0m test_samples \u001b[38;5;241m=\u001b[39m aare_samples[aare_samples\u001b[38;5;241m.\u001b[39mcode \u001b[38;5;241m==\u001b[39m code]\u001b[38;5;241m.\u001b[39mcopy()\n",
      "\u001b[0;31mNameError\u001b[0m: name 'intersect_effect' is not defined"
     ]
    }
   ],
   "source": [
    "aare_samples[\"hydro_effect\"] = aare_samples.location.map(lambda x: addEffect(x, intersect_effect))\n",
    "\n",
    "code=\"G89\"\n",
    "\n",
    "test_samples = aare_samples[aare_samples.code == code].copy()\n",
    "\n",
    "xmin = test_samples.pcs_m.min()\n",
    "xmax = test_samples.pcs_m.max()\n",
    "test_samples[\"scaled\"] = test_samples.pcs_m.apply(lambda x: scaleTheColumn(x, xmin, xmax))\n",
    "\n",
    "sns.scatterplot(data=test_samples, x=\"hydro_effect\", y=\"scaled\")"
   ]
  },
  {
   "cell_type": "code",
   "execution_count": null,
   "metadata": {},
   "outputs": [],
   "source": [
    "corr, a_p = stats.spearmanr(test_samples[\"hydro_effect\"], test_samples[\"scaled\"])"
   ]
  },
  {
   "cell_type": "code",
   "execution_count": null,
   "metadata": {},
   "outputs": [],
   "source": [
    "corr"
   ]
  },
  {
   "cell_type": "code",
   "execution_count": null,
   "metadata": {},
   "outputs": [],
   "source": [
    "a_p"
   ]
  },
  {
   "cell_type": "code",
   "execution_count": null,
   "metadata": {},
   "outputs": [],
   "source": []
  }
 ],
 "metadata": {
  "kernelspec": {
   "display_name": "Python 3 (ipykernel)",
   "language": "python",
   "name": "python3"
  },
  "language_info": {
   "codemirror_mode": {
    "name": "ipython",
    "version": 3
   },
   "file_extension": ".py",
   "mimetype": "text/x-python",
   "name": "python",
   "nbconvert_exporter": "python",
   "pygments_lexer": "ipython3",
   "version": "3.10.0"
  }
 },
 "nbformat": 4,
 "nbformat_minor": 4
}
