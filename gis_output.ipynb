{
 "cells": [
  {
   "cell_type": "code",
   "execution_count": 1,
   "metadata": {
    "pycharm": {
     "name": "#%%\n"
    },
    "tags": [
     "hide-input"
    ]
   },
   "outputs": [],
   "source": [
    "# -*- coding: utf-8 -*-\n",
    "# This is a report using the data from IQAASL.\n",
    "# IQAASL was a project funded by the Swiss Confederation\n",
    "# It produces a summary of litter survey results for a defined region.\n",
    "# These charts serve as the models for the development of plagespropres.ch\n",
    "# The data is gathered by volunteers.\n",
    "# Please remember all copyrights apply, please give credit when applicable\n",
    "# The repo is maintained by the community effective January 01, 2022\n",
    "# There is ample opportunity to contribute, learn and teach\n",
    "# contact dev@hammerdirt.ch\n",
    "\n",
    "# Dies ist ein Bericht, der die Daten von IQAASL verwendet.\n",
    "# IQAASL war ein von der Schweizerischen Eidgenossenschaft finanziertes Projekt.\n",
    "# Es erstellt eine Zusammenfassung der Ergebnisse der Littering-Umfrage für eine bestimmte Region.\n",
    "# Diese Grafiken dienten als Vorlage für die Entwicklung von plagespropres.ch.\n",
    "# Die Daten werden von Freiwilligen gesammelt.\n",
    "# Bitte denken Sie daran, dass alle Copyrights gelten, bitte geben Sie den Namen an, wenn zutreffend.\n",
    "# Das Repo wird ab dem 01. Januar 2022 von der Community gepflegt.\n",
    "# Es gibt reichlich Gelegenheit, etwas beizutragen, zu lernen und zu lehren.\n",
    "# Kontakt dev@hammerdirt.ch\n",
    "\n",
    "# Il s'agit d'un rapport utilisant les données de IQAASL.\n",
    "# IQAASL était un projet financé par la Confédération suisse.\n",
    "# Il produit un résumé des résultats de l'enquête sur les déchets sauvages pour une région définie.\n",
    "# Ces tableaux ont servi de modèles pour le développement de plagespropres.ch\n",
    "# Les données sont recueillies par des bénévoles.\n",
    "# N'oubliez pas que tous les droits d'auteur s'appliquent, veuillez indiquer le crédit lorsque cela est possible.\n",
    "# Le dépôt est maintenu par la communauté à partir du 1er janvier 2022.\n",
    "# Il y a de nombreuses possibilités de contribuer, d'apprendre et d'enseigner.\n",
    "# contact dev@hammerdirt.ch\n",
    "\n",
    "# sys, file and nav packages:\n",
    "import datetime as dt\n",
    "from datetime import date, datetime, time\n",
    "from babel.dates import format_date, format_datetime, format_time, get_month_names\n",
    "import locale\n",
    "\n",
    "# math packages:\n",
    "import pandas as pd\n",
    "import numpy as np\n",
    "from scipy import stats\n",
    "from math import pi\n",
    "\n",
    "# charting:\n",
    "import matplotlib.pyplot as plt\n",
    "import matplotlib.dates as mdates\n",
    "from matplotlib import ticker\n",
    "from matplotlib.ticker import MultipleLocator\n",
    "import seaborn as sns\n",
    "\n",
    "# the module that has all the methods for handling the data\n",
    "import resources.featuredata as featuredata\n",
    "\n",
    "# home brew utitilties\n",
    "import resources.chart_kwargs as ck\n",
    "import resources.sr_ut as sut\n",
    "\n",
    "# images and display\n",
    "from IPython.display import Markdown as md\n",
    "from myst_nb import glue\n",
    "\n",
    "# chart style\n",
    "sns.set_style(\"whitegrid\")\n",
    "\n",
    "# colors for gradients\n",
    "cmap2 = ck.cmap2\n",
    "colors_palette = ck.colors_palette\n",
    "bassin_pallette = featuredata.bassin_pallette\n",
    "\n",
    "\n",
    "# border and row shading fro tables\n",
    "a_color = \"saddlebrown\"\n",
    "table_row = \"saddlebrown\"\n",
    "\n",
    "## !! Begin Note book variables !!\n",
    "# There are two language variants: german and english\n",
    "# change both: date_lang and language\n",
    "date_lang =  'de_DE.utf8'\n",
    "locale.setlocale(locale.LC_ALL, date_lang)\n",
    "\n",
    "# the date format of the survey data is defined in the module\n",
    "date_format = featuredata.date_format\n",
    "\n",
    "# the language setting use lower case: en or de\n",
    "# changing the language may require changing the unit label\n",
    "language = \"de\"\n",
    "unit_label = \"p/100 m\"\n",
    "\n",
    "# the standard date format is \"%Y-%m-%d\" if your date column is\n",
    "# not in this format it will not work.\n",
    "# these dates cover the duration of the IQAASL project\n",
    "start_date = \"2020-03-01\"\n",
    "end_date =\"2021-05-31\"\n",
    "start_end = [start_date, end_date]\n",
    "\n",
    "# the fail rate used to calculate the most common codes is\n",
    "# 50% it can be changed:\n",
    "fail_rate = 50\n",
    "\n",
    "# Changing these variables produces different reports\n",
    "# Call the map image for the area of interest\n",
    "bassin_map = \"resources/maps/survey_areas/aare_scaled.jpeg\"\n",
    "\n",
    "# the label for the aggregation of all data in the region\n",
    "top = \"Alle Erhebungsgebiete\"\n",
    "\n",
    "# define the feature level and components\n",
    "# the feature of interest is the Aare (aare) at the river basin (river_bassin) level.\n",
    "# the label for charting is called 'name'\n",
    "this_feature = {'slug':'all', 'name':\"Alle Erhebungsgebiete\", 'level':'all'}\n",
    "\n",
    "# these are the smallest aggregated components\n",
    "# choices are water_name_slug=lake or river, city or location at the scale of a river bassin \n",
    "# water body or lake maybe the most appropriate\n",
    "this_level = 'river_bassin'\n",
    "\n",
    "# identify the lakes of interest for the survey area\n",
    "# lakes_of_interest = [\"neuenburgersee\", \"thunersee\", \"bielersee\", \"brienzersee\"]\n",
    "\n",
    "# !! End note book variables !!\n",
    "\n",
    "## data\n",
    "# Survey location details (GPS, city, land use)\n",
    "dfBeaches = pd.read_csv(\"resources/beaches_with_land_use_rates.csv\")\n",
    "# set the index of the beach data to location slug\n",
    "dfBeaches.set_index(\"slug\", inplace=True)\n",
    "\n",
    "# Survey dimensions and weights\n",
    "dfDims = pd.read_csv(\"resources/corrected_dims.csv\")\n",
    "\n",
    "# code definitions\n",
    "dxCodes = pd.read_csv(\"resources/codes_with_group_names\")\n",
    "dxCodes.set_index(\"code\", inplace=True)\n",
    "\n",
    "# columns that need to be renamed. Setting the language will automatically\n",
    "# change column names, code descriptions and chart annotations\n",
    "columns={\"% to agg\":\"% agg\", \"% to recreation\": \"% recreation\", \"% to woods\":\"% woods\", \"% to buildings\":\"% buildings\", \"p/100m\":\"p/100 m\"}\n",
    "\n",
    "# key word arguments to construct feature data\n",
    "# !Note the water type allows the selection of river or lakes\n",
    "# if None then the data is aggregated together. This selection\n",
    "# is only valid for survey-area reports or other aggregated data\n",
    "# that may have survey results from both lakes and rivers.\n",
    "fd_kwargs ={\n",
    "    \"filename\": \"resources/checked_sdata_eos_2020_21.csv\",\n",
    "    \"feature_name\": this_feature['slug'], \n",
    "    \"feature_level\": this_feature['level'], \n",
    "    \"these_features\": this_feature['slug'], \n",
    "    \"component\": this_level, \n",
    "    \"columns\": columns, \n",
    "    \"language\": 'de', \n",
    "    \"unit_label\": unit_label, \n",
    "    \"fail_rate\": fail_rate,\n",
    "    \"code_data\":dxCodes,\n",
    "    \"date_range\": start_end,\n",
    "    \"water_type\": None,    \n",
    "}\n",
    "\n",
    "fdx = featuredata.Components(**fd_kwargs)\n",
    "\n",
    "# call the reports and languages\n",
    "fdx.adjustForLanguage()\n",
    "fdx.makeFeatureData()\n",
    "fdx.locationSampleTotals()\n",
    "fdx.makeDailyTotalSummary()\n",
    "fdx.materialSummary()\n",
    "fdx.mostCommon()\n",
    "# !this is the feature data!\n",
    "fd = fdx.feature_data\n",
    "\n",
    "# the period data is all the data that was collected\n",
    "# during the same period from all the other locations\n",
    "# not included in the feature data for a survey area\n",
    "# or river bassin the parent and feature level are the\n",
    "# the same.\n",
    "period_kwargs = {\n",
    "    \"period_data\": fdx.period_data,\n",
    "    \"these_features\": this_feature['slug'],\n",
    "    \"feature_level\":this_feature['level'],\n",
    "    \"feature_parent\":this_feature['slug'],\n",
    "    \"parent_level\": this_feature['level'],\n",
    "    \"period_name\": top,\n",
    "    \"unit_label\": unit_label,\n",
    "    \"most_common\": fdx.most_common.index\n",
    "}\n",
    "period_data = featuredata.PeriodResults(**period_kwargs)\n",
    "\n",
    "# the rivers are considered separately\n",
    "# select only the results from rivers\n",
    "fd_kwargs.update({\"water_type\":\"r\"})\n",
    "fdr = featuredata.Components(**fd_kwargs)\n",
    "fdr.makeFeatureData()\n",
    "fdr.adjustForLanguage()\n",
    "fdr.locationSampleTotals()\n",
    "fdr.makeDailyTotalSummary()\n",
    "fdr.materialSummary()\n",
    "fdr.mostCommon()\n",
    "\n",
    "# collects the summarized values for the feature data\n",
    "# use this to generate the summary data for the survey area\n",
    "# and the section for the rivers\n",
    "admin_kwargs = {\n",
    "    \"data\":fd,\n",
    "    \"dims_data\":dfDims,\n",
    "    \"label\": this_feature[\"name\"],\n",
    "    \"feature_component\": this_level,\n",
    "    \"date_range\":start_end,\n",
    "    **{\"dfBeaches\":dfBeaches}\n",
    "}\n",
    "admin_details = featuredata.AdministrativeSummary(**admin_kwargs)\n",
    "admin_summary = admin_details.summaryObject()\n",
    "admin_r_details = featuredata.AdministrativeSummary(data=fdr.feature_data, dims_data=dfDims, label=this_feature[\"name\"], feature_component=this_level, date_range=start_end, **{\"dfBeaches\":dfBeaches})\n",
    "\n",
    "admin_kwargs.update({\"data\":fdr.feature_data})\n",
    "admin_r_details = featuredata.AdministrativeSummary(**admin_kwargs)\n",
    "admin_r_summary = admin_r_details.summaryObject()"
   ]
  },
  {
   "cell_type": "markdown",
   "metadata": {
    "pycharm": {
     "name": "#%% md\n"
    }
   },
   "source": [
    "(gisoutput)=\n",
    "# GIS output"
   ]
  },
  {
   "cell_type": "code",
   "execution_count": 2,
   "metadata": {
    "pycharm": {
     "name": "#%%\n"
    },
    "tags": [
     "hide-input",
     "remove-output"
    ]
   },
   "outputs": [],
   "source": [
    "# this gets all the data for the project\n",
    "land_use_kwargs = {\n",
    "    \"data\": period_data.period_data,\n",
    "    \"index_column\":\"loc_date\",\n",
    "    \"these_features\": this_feature['slug'],\n",
    "    \"feature_level\":this_level   \n",
    "}\n",
    "\n",
    "# the landuse profile of the project\n",
    "project_profile = featuredata.LandUseProfile(**land_use_kwargs).byIndexColumn()\n",
    "\n",
    "# update the kwargs for the feature data\n",
    "land_use_kwargs.update({\"data\":fdx.feature_data})\n",
    "\n",
    "# build the landuse profile of the feature\n",
    "feature_profile = featuredata.LandUseProfile(**land_use_kwargs)\n",
    "\n",
    "# this is the component features of the report\n",
    "feature_landuse = feature_profile.featureOfInterest()"
   ]
  },
  {
   "cell_type": "markdown",
   "metadata": {
    "pycharm": {
     "name": "#%% md\n"
    }
   },
   "source": [
    "### Gesamtergebnisse nach Erhebungsgebiet"
   ]
  },
  {
   "cell_type": "code",
   "execution_count": 3,
   "metadata": {
    "pycharm": {
     "name": "#%%\n"
    },
    "tags": [
     "hide-input"
    ]
   },
   "outputs": [
    {
     "data": {
      "text/html": [
       "<div>\n",
       "<style scoped>\n",
       "    .dataframe tbody tr th:only-of-type {\n",
       "        vertical-align: middle;\n",
       "    }\n",
       "\n",
       "    .dataframe tbody tr th {\n",
       "        vertical-align: top;\n",
       "    }\n",
       "\n",
       "    .dataframe thead th {\n",
       "        text-align: right;\n",
       "    }\n",
       "</style>\n",
       "<table border=\"1\" class=\"dataframe\">\n",
       "  <thead>\n",
       "    <tr style=\"text-align: right;\">\n",
       "      <th></th>\n",
       "      <th>river_bassin</th>\n",
       "      <th>Gesamtgewicht (Kg)</th>\n",
       "      <th>Plastik (Kg)</th>\n",
       "      <th>Fläche (m2)</th>\n",
       "      <th>Länge (m)</th>\n",
       "      <th>Erhebungen</th>\n",
       "      <th>Objekte (St.)</th>\n",
       "    </tr>\n",
       "  </thead>\n",
       "  <tbody>\n",
       "    <tr>\n",
       "      <th>0</th>\n",
       "      <td>Alle Erhebungsgebiete</td>\n",
       "      <td>305.507</td>\n",
       "      <td>94.213346</td>\n",
       "      <td>96616.35</td>\n",
       "      <td>19722.0</td>\n",
       "      <td>386.0</td>\n",
       "      <td>54744.0</td>\n",
       "    </tr>\n",
       "    <tr>\n",
       "      <th>1</th>\n",
       "      <td>Rhone</td>\n",
       "      <td>151.309</td>\n",
       "      <td>45.967375</td>\n",
       "      <td>25986.25</td>\n",
       "      <td>4911.0</td>\n",
       "      <td>106.0</td>\n",
       "      <td>28454.0</td>\n",
       "    </tr>\n",
       "    <tr>\n",
       "      <th>2</th>\n",
       "      <td>Aare</td>\n",
       "      <td>71.976</td>\n",
       "      <td>31.448170</td>\n",
       "      <td>37017.80</td>\n",
       "      <td>7971.0</td>\n",
       "      <td>140.0</td>\n",
       "      <td>13847.0</td>\n",
       "    </tr>\n",
       "    <tr>\n",
       "      <th>3</th>\n",
       "      <td>Linth</td>\n",
       "      <td>35.961</td>\n",
       "      <td>12.772621</td>\n",
       "      <td>25637.80</td>\n",
       "      <td>5323.0</td>\n",
       "      <td>112.0</td>\n",
       "      <td>9412.0</td>\n",
       "    </tr>\n",
       "    <tr>\n",
       "      <th>4</th>\n",
       "      <td>Ticino</td>\n",
       "      <td>46.261</td>\n",
       "      <td>4.025180</td>\n",
       "      <td>7974.50</td>\n",
       "      <td>1517.0</td>\n",
       "      <td>28.0</td>\n",
       "      <td>3031.0</td>\n",
       "    </tr>\n",
       "  </tbody>\n",
       "</table>\n",
       "</div>"
      ],
      "text/plain": [
       "            river_bassin  Gesamtgewicht (Kg)  Plastik (Kg)  Fläche (m2)  \\\n",
       "0  Alle Erhebungsgebiete             305.507     94.213346     96616.35   \n",
       "1                  Rhone             151.309     45.967375     25986.25   \n",
       "2                   Aare              71.976     31.448170     37017.80   \n",
       "3                  Linth              35.961     12.772621     25637.80   \n",
       "4                 Ticino              46.261      4.025180      7974.50   \n",
       "\n",
       "   Länge (m)  Erhebungen  Objekte (St.)  \n",
       "0    19722.0       386.0        54744.0  \n",
       "1     4911.0       106.0        28454.0  \n",
       "2     7971.0       140.0        13847.0  \n",
       "3     5323.0       112.0         9412.0  \n",
       "4     1517.0        28.0         3031.0  "
      ]
     },
     "execution_count": 3,
     "metadata": {},
     "output_type": "execute_result"
    }
   ],
   "source": [
    "# the dimensional data\n",
    "dims_table = admin_details.dimensionalSummary()\n",
    "\n",
    "# a method to update the place names from slug to proper name\n",
    "name_map = featuredata.river_basin_de\n",
    "\n",
    "# the order in which they are charted\n",
    "name_order = list(name_map.keys())\n",
    "\n",
    "# sort by quantity\n",
    "dims_table.sort_values(by=[\"quantity\"], ascending=False, inplace=True)\n",
    "\n",
    "# translating column names\n",
    "dims_table.rename(columns=featuredata.dims_table_columns_de, inplace=True)\n",
    "\n",
    "# the values in these columns need formating to swiss spec\n",
    "thousands_separated = [\"Fläche (m2)\", \"Länge (m)\", \"Erhebungen\", \"Objekte (St.)\"]\n",
    "replace_decimal = [\"Plastik (Kg)\", \"Gesamtgewicht (Kg)\"]\n",
    "dims_table[\"Plastik (Kg)\"] = dims_table[\"Plastik (Kg)\"]/1000\n",
    "dims_table.reset_index(inplace=True)\n",
    "dims_table[\"river_bassin\"] = dims_table.river_bassin.map(lambda x: featuredata.updatePlaceNames(x=x, a_map=name_map))\n",
    "\n",
    "dims_table"
   ]
  },
  {
   "cell_type": "markdown",
   "metadata": {
    "pycharm": {
     "name": "#%% md\n"
    }
   },
   "source": [
    "## Erhebungsergebnisse für alle Objekte\n",
    "\n",
    "Verteilung der Erhebungsergebnisse. Die Werte werden als Anzahl der identifizierten Abfallobjekte pro 100 Meter (p/100 m) dargestellt. \n",
    "\n",
    "### The sample location layer\n",
    "\n",
    "The median sample total in p/100 m for each location is figured and the lat, lon are attached. Included identifying information:\n",
    "\n",
    "1. city\n",
    "2. survey area\n",
    "3. quantity\n",
    "4. number of samples"
   ]
  },
  {
   "cell_type": "code",
   "execution_count": 4,
   "metadata": {
    "pycharm": {
     "name": "#%%\n"
    },
    "tags": [
     "hide-input"
    ]
   },
   "outputs": [
    {
     "data": {
      "text/html": [
       "<div>\n",
       "<style scoped>\n",
       "    .dataframe tbody tr th:only-of-type {\n",
       "        vertical-align: middle;\n",
       "    }\n",
       "\n",
       "    .dataframe tbody tr th {\n",
       "        vertical-align: top;\n",
       "    }\n",
       "\n",
       "    .dataframe thead th {\n",
       "        text-align: right;\n",
       "    }\n",
       "</style>\n",
       "<table border=\"1\" class=\"dataframe\">\n",
       "  <thead>\n",
       "    <tr style=\"text-align: right;\">\n",
       "      <th></th>\n",
       "      <th>river_bassin</th>\n",
       "      <th>location</th>\n",
       "      <th>quantity</th>\n",
       "      <th>p/100 m</th>\n",
       "      <th>lat</th>\n",
       "      <th>lon</th>\n",
       "      <th>city</th>\n",
       "      <th>samples</th>\n",
       "    </tr>\n",
       "  </thead>\n",
       "  <tbody>\n",
       "    <tr>\n",
       "      <th>0</th>\n",
       "      <td>aare</td>\n",
       "      <td>aare-limmatspitz</td>\n",
       "      <td>70</td>\n",
       "      <td>60.0</td>\n",
       "      <td>47.501060</td>\n",
       "      <td>8.237371</td>\n",
       "      <td>Gebenstorf</td>\n",
       "      <td>1</td>\n",
       "    </tr>\n",
       "    <tr>\n",
       "      <th>1</th>\n",
       "      <td>aare</td>\n",
       "      <td>aare-port</td>\n",
       "      <td>99</td>\n",
       "      <td>253.0</td>\n",
       "      <td>47.116170</td>\n",
       "      <td>7.269550</td>\n",
       "      <td>Port</td>\n",
       "      <td>1</td>\n",
       "    </tr>\n",
       "    <tr>\n",
       "      <th>2</th>\n",
       "      <td>aare</td>\n",
       "      <td>aare-solothurn-lido-strand</td>\n",
       "      <td>27</td>\n",
       "      <td>244.0</td>\n",
       "      <td>47.196949</td>\n",
       "      <td>7.521643</td>\n",
       "      <td>Solothurn</td>\n",
       "      <td>1</td>\n",
       "    </tr>\n",
       "    <tr>\n",
       "      <th>3</th>\n",
       "      <td>aare</td>\n",
       "      <td>aare_bern_gerberm</td>\n",
       "      <td>134</td>\n",
       "      <td>363.0</td>\n",
       "      <td>46.989363</td>\n",
       "      <td>7.452098</td>\n",
       "      <td>Bern</td>\n",
       "      <td>1</td>\n",
       "    </tr>\n",
       "    <tr>\n",
       "      <th>4</th>\n",
       "      <td>aare</td>\n",
       "      <td>aare_bern_scheurerk</td>\n",
       "      <td>4</td>\n",
       "      <td>12.0</td>\n",
       "      <td>46.970967</td>\n",
       "      <td>7.452586</td>\n",
       "      <td>Bern</td>\n",
       "      <td>1</td>\n",
       "    </tr>\n",
       "  </tbody>\n",
       "</table>\n",
       "</div>"
      ],
      "text/plain": [
       "  river_bassin                    location  quantity  p/100 m        lat  \\\n",
       "0         aare            aare-limmatspitz        70     60.0  47.501060   \n",
       "1         aare                   aare-port        99    253.0  47.116170   \n",
       "2         aare  aare-solothurn-lido-strand        27    244.0  47.196949   \n",
       "3         aare           aare_bern_gerberm       134    363.0  46.989363   \n",
       "4         aare         aare_bern_scheurerk         4     12.0  46.970967   \n",
       "\n",
       "        lon        city  samples  \n",
       "0  8.237371  Gebenstorf        1  \n",
       "1  7.269550        Port        1  \n",
       "2  7.521643   Solothurn        1  \n",
       "3  7.452098        Bern        1  \n",
       "4  7.452586        Bern        1  "
      ]
     },
     "execution_count": 4,
     "metadata": {},
     "output_type": "execute_result"
    }
   ],
   "source": [
    "# the sample totals of the parent feautre\n",
    "dx = period_data.parentSampleTotals(parent=False)\n",
    "\n",
    "# sample totals of the feature data\n",
    "sample_totals = fdx.sample_totals\n",
    "these_beaches = admin_details.df_beaches.loc[sample_totals.location.unique()]\n",
    "\n",
    "# for each location or level sum the quantity and get the median survey value\n",
    "agg_columns = {\"quantity\": \"sum\", \"p/100 m\": \"median\", \"loc_date\": \"nunique\"}\n",
    "columns = [\"river_bassin\", \"location\"]\n",
    "\n",
    "location_layer = sample_totals.groupby(columns, as_index=False).agg(agg_columns)\n",
    "\n",
    "lat_lon = these_beaches[[\"latitude\", \"longitude\"]]\n",
    "cities = these_beaches[\"city\"]\n",
    "\n",
    "location_layer[\"lat\"] = location_layer.location.map(lambda x: lat_lon.loc[x, \"latitude\"])\n",
    "location_layer[\"lon\"] = location_layer.location.map(lambda x: lat_lon.loc[x, \"longitude\"])\n",
    "location_layer[\"city\"] = location_layer.location.map(lambda x: cities.loc[x])\n",
    "location_layer['samples'] = location_layer.loc_date\n",
    "\n",
    "location_layer.drop(\"loc_date\", axis=1, inplace=True)\n",
    "\n",
    "location_layer.to_csv(\"resources/output/gis/location_layer.csv\", index=False)\n",
    "\n",
    "location_layer.head()"
   ]
  },
  {
   "cell_type": "markdown",
   "metadata": {},
   "source": [
    "### The survey area layer\n",
    "\n",
    "The survey area layer is the aggregate of the sample totals grouped by survey area. The latitude and longitude of the point is \n",
    "determined by the first record with a matching survey area. The attributes are assigned to a polygon that includes all the municipalities\n",
    "in the survey area. The median sample total for the survey area is reported as well as\n",
    "\n",
    "1. quantity\n",
    "2. number of samples\n",
    "3. survey area label"
   ]
  },
  {
   "cell_type": "code",
   "execution_count": 49,
   "metadata": {
    "jupyter": {
     "source_hidden": true
    },
    "tags": []
   },
   "outputs": [
    {
     "data": {
      "text/html": [
       "<div>\n",
       "<style scoped>\n",
       "    .dataframe tbody tr th:only-of-type {\n",
       "        vertical-align: middle;\n",
       "    }\n",
       "\n",
       "    .dataframe tbody tr th {\n",
       "        vertical-align: top;\n",
       "    }\n",
       "\n",
       "    .dataframe thead th {\n",
       "        text-align: right;\n",
       "    }\n",
       "</style>\n",
       "<table border=\"1\" class=\"dataframe\">\n",
       "  <thead>\n",
       "    <tr style=\"text-align: right;\">\n",
       "      <th></th>\n",
       "      <th>river_bassin</th>\n",
       "      <th>quantity</th>\n",
       "      <th>p/100 m</th>\n",
       "      <th>lat</th>\n",
       "      <th>lon</th>\n",
       "      <th>samples</th>\n",
       "    </tr>\n",
       "  </thead>\n",
       "  <tbody>\n",
       "    <tr>\n",
       "      <th>0</th>\n",
       "      <td>aare</td>\n",
       "      <td>13847</td>\n",
       "      <td>143.5</td>\n",
       "      <td>47.501060</td>\n",
       "      <td>8.237371</td>\n",
       "      <td>140</td>\n",
       "    </tr>\n",
       "    <tr>\n",
       "      <th>1</th>\n",
       "      <td>linth</td>\n",
       "      <td>9412</td>\n",
       "      <td>131.5</td>\n",
       "      <td>47.220989</td>\n",
       "      <td>8.940365</td>\n",
       "      <td>112</td>\n",
       "    </tr>\n",
       "    <tr>\n",
       "      <th>2</th>\n",
       "      <td>rhone</td>\n",
       "      <td>28454</td>\n",
       "      <td>442.5</td>\n",
       "      <td>46.447216</td>\n",
       "      <td>6.859612</td>\n",
       "      <td>106</td>\n",
       "    </tr>\n",
       "    <tr>\n",
       "      <th>3</th>\n",
       "      <td>ticino</td>\n",
       "      <td>3031</td>\n",
       "      <td>160.5</td>\n",
       "      <td>46.153882</td>\n",
       "      <td>8.768480</td>\n",
       "      <td>28</td>\n",
       "    </tr>\n",
       "  </tbody>\n",
       "</table>\n",
       "</div>"
      ],
      "text/plain": [
       "  river_bassin  quantity  p/100 m        lat       lon  samples\n",
       "0         aare     13847    143.5  47.501060  8.237371      140\n",
       "1        linth      9412    131.5  47.220989  8.940365      112\n",
       "2        rhone     28454    442.5  46.447216  6.859612      106\n",
       "3       ticino      3031    160.5  46.153882  8.768480       28"
      ]
     },
     "execution_count": 49,
     "metadata": {},
     "output_type": "execute_result"
    }
   ],
   "source": [
    "surveyarea_layer = sample_totals.groupby(\"river_bassin\", as_index=False).agg(agg_columns)\n",
    "\n",
    "rbassins =  these_beaches[[\"river_bassin\", \"latitude\", \"longitude\"]].drop_duplicates(\"river_bassin\")\n",
    "rbassins.set_index(\"river_bassin\", inplace=True, drop=True)\n",
    "\n",
    "surveyarea_layer[\"lat\"] = surveyarea_layer.river_bassin.map(lambda x: rbassins.loc[x, \"latitude\"])\n",
    "surveyarea_layer[\"lon\"] = surveyarea_layer.river_bassin.map(lambda x: rbassins.loc[x, \"longitude\"])\n",
    "surveyarea_layer[\"samples\"] = surveyarea_layer.loc_date\n",
    "\n",
    "surveyarea_layer.drop(\"loc_date\", axis=1, inplace=True)\n",
    "\n",
    "surveyarea_layer.to_csv(\"resources/output/gis/surveyarea_layer.csv\", index=False)\n",
    "\n",
    "surveyarea_layer.head()"
   ]
  },
  {
   "cell_type": "markdown",
   "metadata": {},
   "source": [
    "### The water feature layer\n",
    "\n",
    "The water feature layer is the aggregate of the sample totals grouped by water feature area."
   ]
  },
  {
   "cell_type": "code",
   "execution_count": 6,
   "metadata": {
    "jupyter": {
     "source_hidden": true
    },
    "tags": []
   },
   "outputs": [
    {
     "data": {
      "text/html": [
       "<div>\n",
       "<style scoped>\n",
       "    .dataframe tbody tr th:only-of-type {\n",
       "        vertical-align: middle;\n",
       "    }\n",
       "\n",
       "    .dataframe tbody tr th {\n",
       "        vertical-align: top;\n",
       "    }\n",
       "\n",
       "    .dataframe thead th {\n",
       "        text-align: right;\n",
       "    }\n",
       "</style>\n",
       "<table border=\"1\" class=\"dataframe\">\n",
       "  <thead>\n",
       "    <tr style=\"text-align: right;\">\n",
       "      <th></th>\n",
       "      <th>water_feature</th>\n",
       "      <th>quantity</th>\n",
       "      <th>p/100 m</th>\n",
       "      <th>lat</th>\n",
       "      <th>lon</th>\n",
       "      <th>samples</th>\n",
       "    </tr>\n",
       "  </thead>\n",
       "  <tbody>\n",
       "    <tr>\n",
       "      <th>0</th>\n",
       "      <td>aare</td>\n",
       "      <td>478</td>\n",
       "      <td>49.0</td>\n",
       "      <td>47.501060</td>\n",
       "      <td>8.237371</td>\n",
       "      <td>15</td>\n",
       "    </tr>\n",
       "    <tr>\n",
       "      <th>1</th>\n",
       "      <td>aarenidau-buren-kanal</td>\n",
       "      <td>155</td>\n",
       "      <td>102.0</td>\n",
       "      <td>47.116170</td>\n",
       "      <td>7.269550</td>\n",
       "      <td>3</td>\n",
       "    </tr>\n",
       "    <tr>\n",
       "      <th>2</th>\n",
       "      <td>bielersee</td>\n",
       "      <td>4477</td>\n",
       "      <td>340.0</td>\n",
       "      <td>47.038398</td>\n",
       "      <td>7.108311</td>\n",
       "      <td>38</td>\n",
       "    </tr>\n",
       "    <tr>\n",
       "      <th>3</th>\n",
       "      <td>brienzersee</td>\n",
       "      <td>974</td>\n",
       "      <td>334.0</td>\n",
       "      <td>46.690283</td>\n",
       "      <td>7.898592</td>\n",
       "      <td>5</td>\n",
       "    </tr>\n",
       "    <tr>\n",
       "      <th>4</th>\n",
       "      <td>cassarate</td>\n",
       "      <td>54</td>\n",
       "      <td>75.0</td>\n",
       "      <td>46.002411</td>\n",
       "      <td>8.961477</td>\n",
       "      <td>1</td>\n",
       "    </tr>\n",
       "  </tbody>\n",
       "</table>\n",
       "</div>"
      ],
      "text/plain": [
       "           water_feature  quantity  p/100 m        lat       lon  samples\n",
       "0                   aare       478     49.0  47.501060  8.237371       15\n",
       "1  aarenidau-buren-kanal       155    102.0  47.116170  7.269550        3\n",
       "2              bielersee      4477    340.0  47.038398  7.108311       38\n",
       "3            brienzersee       974    334.0  46.690283  7.898592        5\n",
       "4              cassarate        54     75.0  46.002411  8.961477        1"
      ]
     },
     "execution_count": 6,
     "metadata": {},
     "output_type": "execute_result"
    }
   ],
   "source": [
    "water_feature_map = admin_details.makeLocationFeatureMap()\n",
    "water_feature_layer = sample_totals.copy()\n",
    "water_feature_layer[\"water_feature\"] = water_feature_layer.location.map(lambda x: water_feature_map.loc[x])\n",
    "\n",
    "wfeatures =  these_beaches[[\"water_name_slug\", \"latitude\", \"longitude\"]].drop_duplicates(\"water_name_slug\")\n",
    "wfeatures.set_index(\"water_name_slug\", inplace=True, drop=True)\n",
    "\n",
    "water_feature_layer = water_feature_layer.groupby(\"water_feature\", as_index=False).agg(agg_columns)\n",
    "water_feature_layer[\"lat\"] = water_feature_layer.water_feature.map(lambda x: wfeatures.loc[x, \"latitude\"])\n",
    "water_feature_layer[\"lon\"] = water_feature_layer.water_feature.map(lambda x: wfeatures.loc[x, \"longitude\"])\n",
    "water_feature_layer[\"samples\"] = water_feature_layer.loc_date\n",
    "\n",
    "water_feature_layer.drop(\"loc_date\", axis=1, inplace=True)\n",
    "\n",
    "water_feature_layer.to_csv(\"resources/output/gis/water_feature_layer.csv\", index=False)\n",
    "\n",
    "water_feature_layer.head()"
   ]
  },
  {
   "cell_type": "markdown",
   "metadata": {},
   "source": [
    "### The municipal area layer\n",
    "\n",
    "The municipal layer is the aggregate of the sample totals grouped by city. The latitude and longitude of the point is \n",
    "determined by the first record with a matching city. The attributes are assigned to a polygon of that city. The median sample total for the survey area is reported as well as\n",
    "111\n",
    "1. quantity\n",
    "2. number of samples\n",
    "3. survey area label"
   ]
  },
  {
   "cell_type": "code",
   "execution_count": 7,
   "metadata": {
    "jupyter": {
     "source_hidden": true
    },
    "tags": []
   },
   "outputs": [
    {
     "data": {
      "text/html": [
       "<div>\n",
       "<style scoped>\n",
       "    .dataframe tbody tr th:only-of-type {\n",
       "        vertical-align: middle;\n",
       "    }\n",
       "\n",
       "    .dataframe tbody tr th {\n",
       "        vertical-align: top;\n",
       "    }\n",
       "\n",
       "    .dataframe thead th {\n",
       "        text-align: right;\n",
       "    }\n",
       "</style>\n",
       "<table border=\"1\" class=\"dataframe\">\n",
       "  <thead>\n",
       "    <tr style=\"text-align: right;\">\n",
       "      <th></th>\n",
       "      <th>city</th>\n",
       "      <th>quantity</th>\n",
       "      <th>p/100 m</th>\n",
       "      <th>lat</th>\n",
       "      <th>lon</th>\n",
       "      <th>samples</th>\n",
       "    </tr>\n",
       "  </thead>\n",
       "  <tbody>\n",
       "    <tr>\n",
       "      <th>0</th>\n",
       "      <td>Aarau</td>\n",
       "      <td>7</td>\n",
       "      <td>35.0</td>\n",
       "      <td>47.405669</td>\n",
       "      <td>8.066018</td>\n",
       "      <td>1</td>\n",
       "    </tr>\n",
       "    <tr>\n",
       "      <th>1</th>\n",
       "      <td>Allaman</td>\n",
       "      <td>631</td>\n",
       "      <td>716.0</td>\n",
       "      <td>46.463919</td>\n",
       "      <td>6.385732</td>\n",
       "      <td>3</td>\n",
       "    </tr>\n",
       "    <tr>\n",
       "      <th>2</th>\n",
       "      <td>Ascona</td>\n",
       "      <td>433</td>\n",
       "      <td>172.0</td>\n",
       "      <td>46.153882</td>\n",
       "      <td>8.768480</td>\n",
       "      <td>5</td>\n",
       "    </tr>\n",
       "    <tr>\n",
       "      <th>3</th>\n",
       "      <td>Beatenberg</td>\n",
       "      <td>104</td>\n",
       "      <td>242.5</td>\n",
       "      <td>46.684386</td>\n",
       "      <td>7.794768</td>\n",
       "      <td>2</td>\n",
       "    </tr>\n",
       "    <tr>\n",
       "      <th>4</th>\n",
       "      <td>Bellinzona</td>\n",
       "      <td>187</td>\n",
       "      <td>121.0</td>\n",
       "      <td>46.200625</td>\n",
       "      <td>9.015853</td>\n",
       "      <td>4</td>\n",
       "    </tr>\n",
       "  </tbody>\n",
       "</table>\n",
       "</div>"
      ],
      "text/plain": [
       "         city  quantity  p/100 m        lat       lon  samples\n",
       "0       Aarau         7     35.0  47.405669  8.066018        1\n",
       "1     Allaman       631    716.0  46.463919  6.385732        3\n",
       "2      Ascona       433    172.0  46.153882  8.768480        5\n",
       "3  Beatenberg       104    242.5  46.684386  7.794768        2\n",
       "4  Bellinzona       187    121.0  46.200625  9.015853        4"
      ]
     },
     "execution_count": 7,
     "metadata": {},
     "output_type": "execute_result"
    }
   ],
   "source": [
    "# calling the components class on updated keywords\n",
    "# aggregatest to the city level\n",
    "\n",
    "fd_kwargs_city ={\n",
    "    \"filename\": \"resources/checked_sdata_eos_2020_21.csv\",\n",
    "    \"feature_name\": this_feature['slug'], \n",
    "    \"feature_level\": this_feature['level'], \n",
    "    \"these_features\": this_feature['slug'], \n",
    "    \"component\": \"city\", \n",
    "    \"columns\": columns, \n",
    "    \"language\": 'de', \n",
    "    \"unit_label\": unit_label, \n",
    "    \"fail_rate\": fail_rate,\n",
    "    \"code_data\":dxCodes,\n",
    "    \"date_range\": start_end,\n",
    "    \"water_type\": None,    \n",
    "}\n",
    "\n",
    "\n",
    "\n",
    "fdc = featuredata.Components(**fd_kwargs_city)\n",
    "\n",
    "fdc.adjustForLanguage()\n",
    "fdc.makeFeatureData()\n",
    "fdc.locationSampleTotals()\n",
    "fdc.makeDailyTotalSummary()\n",
    "fdc.materialSummary()\n",
    "fdc.mostCommon()\n",
    "# !this is the feature data!\n",
    "municipal_layer = fdc.sample_totals.groupby(\"city\", as_index=False).agg(agg_columns)\n",
    "\n",
    "city_gps =  these_beaches[[\"city\", \"latitude\", \"longitude\"]].drop_duplicates(\"city\")\n",
    "city_gps.set_index(\"city\", inplace=True, drop=True)\n",
    "\n",
    "municipal_layer[\"lat\"] = municipal_layer.city.map(lambda x: city_gps.loc[x, \"latitude\"])\n",
    "municipal_layer[\"lon\"] = municipal_layer.city.map(lambda x: city_gps.loc[x, \"longitude\"])\n",
    "municipal_layer[\"samples\"] = municipal_layer.loc_date\n",
    "\n",
    "municipal_layer.drop(\"loc_date\", axis=1, inplace=True)\n",
    "\n",
    "municipal_layer.to_csv(\"resources/output/gis/municipal_layer.csv\", index=False)\n",
    "\n",
    "municipal_layer.head()"
   ]
  },
  {
   "cell_type": "markdown",
   "metadata": {},
   "source": [
    "### GIS Return\n",
    "\n",
    "The Aare survey area was divided into 500 m hexagons (hex grid). The landcover values and road lengths were extracted from the SWISS TLM REGIO map layers and assigned to the corresponding hexagon, for each hexagon in the hex grid. Geometries that were invalid or could not be assigned a value were skipped. In total there were X records skipped out of. There were no skipped hexagons that contained a survey location. That is to say all survey locations have a corresponding hexagon with land use and road length values.\n",
    "\n",
    "#### The location-hex key\n",
    "\n",
    "Each location has a corresponding hex_id. Other values can be assigned to the same hexagon. "
   ]
  },
  {
   "cell_type": "code",
   "execution_count": 17,
   "metadata": {
    "tags": []
   },
   "outputs": [
    {
     "data": {
      "text/html": [
       "<div>\n",
       "<style scoped>\n",
       "    .dataframe tbody tr th:only-of-type {\n",
       "        vertical-align: middle;\n",
       "    }\n",
       "\n",
       "    .dataframe tbody tr th {\n",
       "        vertical-align: top;\n",
       "    }\n",
       "\n",
       "    .dataframe thead th {\n",
       "        text-align: right;\n",
       "    }\n",
       "</style>\n",
       "<table border=\"1\" class=\"dataframe\">\n",
       "  <thead>\n",
       "    <tr style=\"text-align: right;\">\n",
       "      <th></th>\n",
       "      <th>location</th>\n",
       "    </tr>\n",
       "    <tr>\n",
       "      <th>hex_id</th>\n",
       "      <th></th>\n",
       "    </tr>\n",
       "  </thead>\n",
       "  <tbody>\n",
       "    <tr>\n",
       "      <th>54155</th>\n",
       "      <td>la-thiele_le-mujon_confluence</td>\n",
       "    </tr>\n",
       "    <tr>\n",
       "      <th>54590</th>\n",
       "      <td>pecos-plage</td>\n",
       "    </tr>\n",
       "    <tr>\n",
       "      <th>55478</th>\n",
       "      <td>signalpain</td>\n",
       "    </tr>\n",
       "    <tr>\n",
       "      <th>55921</th>\n",
       "      <td>la-petite-plage</td>\n",
       "    </tr>\n",
       "    <tr>\n",
       "      <th>65196</th>\n",
       "      <td>ruisseau-de-la-croix-plage</td>\n",
       "    </tr>\n",
       "  </tbody>\n",
       "</table>\n",
       "</div>"
      ],
      "text/plain": [
       "                             location\n",
       "hex_id                               \n",
       "54155   la-thiele_le-mujon_confluence\n",
       "54590                     pecos-plage\n",
       "55478                      signalpain\n",
       "55921                 la-petite-plage\n",
       "65196      ruisseau-de-la-croix-plage"
      ]
     },
     "execution_count": 17,
     "metadata": {},
     "output_type": "execute_result"
    }
   ],
   "source": [
    "location_hex_key = pd.read_csv(\"resources/input/location_hex_key.csv\")\n",
    "location_key = location_hex_key[[\"hex_id\", \"location\"]].set_index(\"hex_id\")\n",
    "location_key.head()"
   ]
  },
  {
   "cell_type": "markdown",
   "metadata": {},
   "source": [
    "#### Road Length\n",
    "\n",
    "The length for each \"type\" of road for each hex. The road length for the survey location *pecos-plage*"
   ]
  },
  {
   "cell_type": "code",
   "execution_count": 9,
   "metadata": {
    "jupyter": {
     "source_hidden": true
    },
    "tags": []
   },
   "outputs": [
    {
     "data": {
      "text/html": [
       "<div>\n",
       "<style scoped>\n",
       "    .dataframe tbody tr th:only-of-type {\n",
       "        vertical-align: middle;\n",
       "    }\n",
       "\n",
       "    .dataframe tbody tr th {\n",
       "        vertical-align: top;\n",
       "    }\n",
       "\n",
       "    .dataframe thead th {\n",
       "        text-align: right;\n",
       "    }\n",
       "</style>\n",
       "<table border=\"1\" class=\"dataframe\">\n",
       "  <thead>\n",
       "    <tr style=\"text-align: right;\">\n",
       "      <th></th>\n",
       "      <th>hex_id</th>\n",
       "      <th>variable</th>\n",
       "      <th>label</th>\n",
       "      <th>value</th>\n",
       "    </tr>\n",
       "  </thead>\n",
       "  <tbody>\n",
       "    <tr>\n",
       "      <th>107</th>\n",
       "      <td>54590</td>\n",
       "      <td>roads</td>\n",
       "      <td>HauptStrAB6</td>\n",
       "      <td>385</td>\n",
       "    </tr>\n",
       "  </tbody>\n",
       "</table>\n",
       "</div>"
      ],
      "text/plain": [
       "     hex_id variable        label  value\n",
       "107   54590    roads  HauptStrAB6    385"
      ]
     },
     "execution_count": 9,
     "metadata": {},
     "output_type": "execute_result"
    }
   ],
   "source": [
    "road_length = pd.read_csv(\"resources/input/road_length.csv\")\n",
    "road_length_aare = road_length[[\"hex_id\", \"OBJVAL\", \"MED\", \"length\"]]\n",
    "road_length[\"hex_id\"] = road_length[\"hex_id\"].astype(\"int\")\n",
    "road_length = road_length.groupby([\"hex_id\",\"OBJVAL\"], as_index=False).length.sum()\n",
    "road_length[\"variable\"] = \"roads\"\n",
    "road_length.rename(columns={\"length\":\"value\", \"OBJVAL\": \"label\"}, inplace=True)\n",
    "road_length =road_length[[\"hex_id\", \"variable\", \"label\", \"value\"]].copy()\n",
    "road_length[road_length.hex_id == 54590]"
   ]
  },
  {
   "cell_type": "markdown",
   "metadata": {},
   "source": [
    "__The different types of roads__"
   ]
  },
  {
   "cell_type": "code",
   "execution_count": 10,
   "metadata": {
    "tags": []
   },
   "outputs": [
    {
     "data": {
      "text/plain": [
       "array(['NebenStr3', 'VerbindStr6', 'Fahrstraes', 'Autobahn',\n",
       "       'HauptStrAB6', 'NebenStr6', 'Fussweg', 'VerbindStr4', 'Autob_Ri',\n",
       "       'HauptStrAB4', 'Autostr'], dtype=object)"
      ]
     },
     "execution_count": 10,
     "metadata": {},
     "output_type": "execute_result"
    }
   ],
   "source": [
    "road_length.label.unique()"
   ]
  },
  {
   "cell_type": "markdown",
   "metadata": {},
   "source": [
    "#### Land-cover\n",
    "\n",
    "The land cover for the hexagon that contains *pecos-plage*"
   ]
  },
  {
   "cell_type": "code",
   "execution_count": 11,
   "metadata": {
    "jupyter": {
     "source_hidden": true
    },
    "tags": []
   },
   "outputs": [
    {
     "data": {
      "text/html": [
       "<div>\n",
       "<style scoped>\n",
       "    .dataframe tbody tr th:only-of-type {\n",
       "        vertical-align: middle;\n",
       "    }\n",
       "\n",
       "    .dataframe tbody tr th {\n",
       "        vertical-align: top;\n",
       "    }\n",
       "\n",
       "    .dataframe thead th {\n",
       "        text-align: right;\n",
       "    }\n",
       "</style>\n",
       "<table border=\"1\" class=\"dataframe\">\n",
       "  <thead>\n",
       "    <tr style=\"text-align: right;\">\n",
       "      <th></th>\n",
       "      <th>hex_id</th>\n",
       "      <th>variable</th>\n",
       "      <th>label</th>\n",
       "      <th>value</th>\n",
       "    </tr>\n",
       "  </thead>\n",
       "  <tbody>\n",
       "    <tr>\n",
       "      <th>78</th>\n",
       "      <td>54590</td>\n",
       "      <td>landcover</td>\n",
       "      <td>See</td>\n",
       "      <td>92293.560</td>\n",
       "    </tr>\n",
       "    <tr>\n",
       "      <th>79</th>\n",
       "      <td>54590</td>\n",
       "      <td>landcover</td>\n",
       "      <td>Siedl</td>\n",
       "      <td>67611.049</td>\n",
       "    </tr>\n",
       "  </tbody>\n",
       "</table>\n",
       "</div>"
      ],
      "text/plain": [
       "    hex_id   variable  label      value\n",
       "78   54590  landcover    See  92293.560\n",
       "79   54590  landcover  Siedl  67611.049"
      ]
     },
     "execution_count": 11,
     "metadata": {},
     "output_type": "execute_result"
    }
   ],
   "source": [
    "land_use = pd.read_csv(\"resources/input/land_use_aare.csv\")\n",
    "land_use[\"hex_id\"] = land_use.hex_id.fillna(0)\n",
    "land_use[\"hex_id\"] = land_use.hex_id.astype(int)\n",
    "cols = [\"hex_id\", \"OBJVAL\", \"area\"]\n",
    "survey_land_use = land_use[cols].groupby([\"hex_id\", \"OBJVAL\"], as_index=False).area.sum()\n",
    "survey_land_use[\"variable\"] = \"landcover\"\n",
    "survey_land_use.rename(columns={\"area\":\"value\", \"OBJVAL\": \"label\"}, inplace=True)\n",
    "survey_land_use =survey_land_use[[\"hex_id\", \"variable\", \"label\", \"value\"]].copy()\n",
    "survey_land_use[survey_land_use.hex_id == 54590]"
   ]
  },
  {
   "cell_type": "markdown",
   "metadata": {},
   "source": [
    "__The differnt types of landcover__"
   ]
  },
  {
   "cell_type": "code",
   "execution_count": 12,
   "metadata": {
    "jupyter": {
     "source_hidden": true
    },
    "tags": []
   },
   "outputs": [
    {
     "data": {
      "text/plain": [
       "array(['Fels', 'Geroell', 'Gletscher', 'Obstanlage', 'Reben', 'See',\n",
       "       'Siedl', 'Wald', 'Sumpf', 'Stadtzentr', 'Stausee'], dtype=object)"
      ]
     },
     "execution_count": 12,
     "metadata": {},
     "output_type": "execute_result"
    }
   ],
   "source": [
    "survey_land_use.label.unique()"
   ]
  },
  {
   "cell_type": "code",
   "execution_count": 13,
   "metadata": {
    "jupyter": {
     "source_hidden": true
    },
    "tags": []
   },
   "outputs": [
    {
     "data": {
      "text/html": [
       "<div>\n",
       "<style scoped>\n",
       "    .dataframe tbody tr th:only-of-type {\n",
       "        vertical-align: middle;\n",
       "    }\n",
       "\n",
       "    .dataframe tbody tr th {\n",
       "        vertical-align: top;\n",
       "    }\n",
       "\n",
       "    .dataframe thead th {\n",
       "        text-align: right;\n",
       "    }\n",
       "</style>\n",
       "<table border=\"1\" class=\"dataframe\">\n",
       "  <thead>\n",
       "    <tr style=\"text-align: right;\">\n",
       "      <th></th>\n",
       "      <th>hex_id</th>\n",
       "      <th>variable</th>\n",
       "      <th>label</th>\n",
       "      <th>value</th>\n",
       "    </tr>\n",
       "  </thead>\n",
       "  <tbody>\n",
       "    <tr>\n",
       "      <th>10</th>\n",
       "      <td>51058</td>\n",
       "      <td>landcover</td>\n",
       "      <td>Wald</td>\n",
       "      <td>93062.365</td>\n",
       "    </tr>\n",
       "  </tbody>\n",
       "</table>\n",
       "</div>"
      ],
      "text/plain": [
       "    hex_id   variable label      value\n",
       "10   51058  landcover  Wald  93062.365"
      ]
     },
     "execution_count": 13,
     "metadata": {},
     "output_type": "execute_result"
    }
   ],
   "source": [
    "survey_land_use[survey_land_use.hex_id == 51058]"
   ]
  },
  {
   "cell_type": "markdown",
   "metadata": {},
   "source": [
    "### Scaling the land use variables and survey results\n",
    "\n",
    "The roads are given in meters and the land-cover in m². Both values will be scaled using the following: $ X{scaled} = \\frac{X - X{min}}{X{max} - X{min}}$.\n",
    "\n",
    "__Assumptions:__\n",
    "\n",
    "The landuse proximal to a survey location has a direct impact on the type and quantity of objects found on the beach."
   ]
  },
  {
   "cell_type": "code",
   "execution_count": 45,
   "metadata": {
    "jupyter": {
     "source_hidden": true
    },
    "tags": []
   },
   "outputs": [
    {
     "name": "stdout",
     "output_type": "stream",
     "text": [
      "\n",
      "    The land-cover variable scaled: \n",
      "    \n",
      "    count    20372.000000\n",
      "mean         0.481508\n",
      "std          0.346974\n",
      "min          0.000000\n",
      "25%          0.157597\n",
      "50%          0.439060\n",
      "75%          0.808814\n",
      "max          1.000000\n",
      "Name: scaled, dtype: float64\n",
      "    \n"
     ]
    }
   ],
   "source": [
    "def scaleTheColumn(x, xmin, xmax):\n",
    "    xscaled = (x-xmin)/(xmax-xmin)\n",
    "    \n",
    "    return xscaled\n",
    "\n",
    "xmin = survey_land_use.value.min()\n",
    "xmax = survey_land_use.value.max()\n",
    "survey_land_use[\"scaled\"] = survey_land_use.value.apply(lambda x: scaleTheColumn(x, xmin, xmax))\n",
    "\n",
    "# redeine max min for the roads\n",
    "xmin = road_length.value.min()\n",
    "xmax = road_length.value.max()\n",
    "road_length[\"scaled\"] = road_length.value.apply(lambda x: scaleTheColumn(x, xmin, xmax))\n",
    "\n",
    "astring= f\"\"\"\n",
    "    The land-cover variable scaled: \n",
    "    \n",
    "    {survey_land_use.scaled.describe()}\n",
    "    \"\"\"\n",
    "print(astring)"
   ]
  },
  {
   "cell_type": "code",
   "execution_count": 46,
   "metadata": {
    "jupyter": {
     "source_hidden": true
    },
    "tags": []
   },
   "outputs": [
    {
     "name": "stdout",
     "output_type": "stream",
     "text": [
      "\n",
      "    The road_length variable scaled: \n",
      "    \n",
      "    count    10431.000000\n",
      "mean         0.268084\n",
      "std          0.138596\n",
      "min          0.000000\n",
      "25%          0.174084\n",
      "50%          0.283377\n",
      "75%          0.339660\n",
      "max          1.000000\n",
      "Name: scaled, dtype: float64\n",
      "    \n"
     ]
    }
   ],
   "source": [
    "astring= f\"\"\"\n",
    "    The road_length variable scaled: \n",
    "    \n",
    "    {road_length.scaled.describe()}\n",
    "    \"\"\"\n",
    "print(astring)"
   ]
  },
  {
   "cell_type": "code",
   "execution_count": 47,
   "metadata": {
    "jupyter": {
     "source_hidden": true
    },
    "tags": []
   },
   "outputs": [
    {
     "name": "stdout",
     "output_type": "stream",
     "text": [
      "\n",
      "    The survey values scaled: \n",
      "    \n",
      "    count    32200.000000\n",
      "mean         0.003034\n",
      "std          0.024663\n",
      "min          0.000000\n",
      "25%          0.000000\n",
      "50%          0.000000\n",
      "75%          0.000000\n",
      "max          1.000000\n",
      "Name: scaled, dtype: float64\n",
      "    \n"
     ]
    }
   ],
   "source": [
    "# the sample values:\n",
    "mask = fdx.feature_data.river_bassin == \"aare\"\n",
    "aare_samps = fdx.feature_data[mask].copy()\n",
    "xmin = aare_samps[\"p/100 m\"].min()\n",
    "xmax = aare_samps[\"p/100 m\"].max()\n",
    "aare_samps[\"scaled\"] = aare_samps[\"p/100 m\"].apply(lambda x: scaleTheColumn(x, xmin, xmax))\n",
    "\n",
    "astring= f\"\"\"\n",
    "    The survey values scaled: \n",
    "    \n",
    "    {aare_samps.scaled.describe()}\n",
    "    \"\"\"\n",
    "print(astring)"
   ]
  },
  {
   "cell_type": "markdown",
   "metadata": {
    "tags": []
   },
   "source": [
    "### Fluvial inputs\n",
    "\n",
    "The number, class, size and distance of the river instersections within 2km of the survey location."
   ]
  },
  {
   "cell_type": "code",
   "execution_count": 81,
   "metadata": {
    "tags": []
   },
   "outputs": [
    {
     "data": {
      "text/html": [
       "<div>\n",
       "<style scoped>\n",
       "    .dataframe tbody tr th:only-of-type {\n",
       "        vertical-align: middle;\n",
       "    }\n",
       "\n",
       "    .dataframe tbody tr th {\n",
       "        vertical-align: top;\n",
       "    }\n",
       "\n",
       "    .dataframe thead th {\n",
       "        text-align: right;\n",
       "    }\n",
       "</style>\n",
       "<table border=\"1\" class=\"dataframe\">\n",
       "  <thead>\n",
       "    <tr style=\"text-align: right;\">\n",
       "      <th></th>\n",
       "      <th>location</th>\n",
       "      <th>intersect</th>\n",
       "      <th>size</th>\n",
       "      <th>class</th>\n",
       "      <th>d</th>\n",
       "      <th>scaled</th>\n",
       "    </tr>\n",
       "  </thead>\n",
       "  <tbody>\n",
       "    <tr>\n",
       "      <th>246</th>\n",
       "      <td>pecos-plage</td>\n",
       "      <td>Le Bey</td>\n",
       "      <td>9</td>\n",
       "      <td>9</td>\n",
       "      <td>931</td>\n",
       "      <td>0.468108</td>\n",
       "    </tr>\n",
       "    <tr>\n",
       "      <th>247</th>\n",
       "      <td>pecos-plage</td>\n",
       "      <td>La Thielle</td>\n",
       "      <td>6</td>\n",
       "      <td>6</td>\n",
       "      <td>1645</td>\n",
       "      <td>0.844491</td>\n",
       "    </tr>\n",
       "    <tr>\n",
       "      <th>249</th>\n",
       "      <td>pecos-plage</td>\n",
       "      <td>La Brine</td>\n",
       "      <td>9</td>\n",
       "      <td>9</td>\n",
       "      <td>798</td>\n",
       "      <td>0.397997</td>\n",
       "    </tr>\n",
       "  </tbody>\n",
       "</table>\n",
       "</div>"
      ],
      "text/plain": [
       "        location   intersect  size  class     d    scaled\n",
       "246  pecos-plage      Le Bey     9      9   931  0.468108\n",
       "247  pecos-plage  La Thielle     6      6  1645  0.844491\n",
       "249  pecos-plage    La Brine     9      9   798  0.397997"
      ]
     },
     "execution_count": 81,
     "metadata": {},
     "output_type": "execute_result"
    }
   ],
   "source": [
    "intersections = pd.read_csv(\"resources/input/distance_to_intersection.csv\")\n",
    "intersections = intersections[[\"location\",  \"NAMN_2\", \"BREITE\", \"KLASSE\", \"OBJVAL\", \"OBJVAL_2\", \"distance\"]]\n",
    "intersections = intersections.drop_duplicates([\"location\", \"NAMN_2\",\"BREITE\"])\n",
    "intersections[\"distance\"] = intersections.distance.astype(int)\n",
    "intersections.rename(columns={\"NAMN_2\": \"intersect\", \"BREITE\":\"size\", \"KLASSE\": \"class\", \"distance\": \"d\"}, inplace=True)\n",
    "xmin = intersections.d.min()\n",
    "xmax = intersections.d.max()\n",
    "\n",
    "intersections[\"scaled\"] = intersections.d.apply(lambda x: scaleTheColumn(x, xmin, xmax))\n",
    "intersections[\"effect\"] = (intersections.size/intersections[\"class\"])/intersections.d\n",
    "intersections = intersections.drop_duplicates([\"location\", \"intersect\"])\n",
    "intersections[[\"location\", \"intersect\", \"size\", \"class\", \"d\", \"scaled\"]][intersections.location == \"pecos-plage\"]"
   ]
  },
  {
   "cell_type": "code",
   "execution_count": 82,
   "metadata": {
    "tags": []
   },
   "outputs": [],
   "source": [
    "# the cumulative effect of all the intersects for each location\n",
    "intersect_effect = intersections.groupby(\"location\").effect.sum()"
   ]
  },
  {
   "cell_type": "markdown",
   "metadata": {},
   "source": [
    "#### Size and class\n",
    "\n",
    "__Definitions:__\n",
    "\n",
    "* __size:__ german = \"Kartografische“ Breite des Abschnitts, french = Largeur cartographique du tronçon, english = The size of the river at this section.\n",
    "\n",
    "* __class:__ german = Breite, einheitlich über die ganze Länge, french = Importance, identique sur toute la longueur, english = The importance of the river, identical for the whole length.\n",
    "\n",
    "The size value can vary depending on the location. the class variable is consistent for the whole variable. Note that the smaller the class the more important the river. The size attribute however reflects the actual size of the river at the point of intersection.\n",
    "\n",
    "__Assumptions:__\n",
    "\n",
    "1. There is a positive correlation between the size of the river and the amount of trash transported\n",
    "2. The closer a survey location on a lake is to a river intersection point the more likely it is to receive trash from the intersection.\n",
    "3. The \"class\" of the river reflects it's importance of the river in general, this includes the amount of trash transported.\n",
    "\n",
    "Therfore size/class increases as class gets smaller and decreases as size gets smaller. The effect of a particular river discharge point on a survey location is assumed to be negatively correlated to the distance between to the two points.\n",
    "\n",
    "__Fluvial effects:__"
   ]
  },
  {
   "cell_type": "code",
   "execution_count": 83,
   "metadata": {
    "tags": []
   },
   "outputs": [
    {
     "data": {
      "text/plain": [
       "location\n",
       "bielersee_vinelz_fankhausers     0.132780\n",
       "camp-des-peches                  0.937926\n",
       "camping-gwatt-strand             0.097338\n",
       "delta-park                       0.295612\n",
       "erlach-camping-strand            0.286384\n",
       "evole-plage                      0.333333\n",
       "gals-reserve                     0.405828\n",
       "gummligrabbe                     0.288386\n",
       "hafeli                           1.099369\n",
       "impromptu_cudrefin               0.135424\n",
       "la-petite-plage                  0.399668\n",
       "la-thiele_le-mujon_confluence    0.142347\n",
       "ligerz-strand                    0.040267\n",
       "mannewil                         0.403728\n",
       "mullermatte                      0.463820\n",
       "nidau-strand                     0.726452\n",
       "nouvelle-plage                   0.049961\n",
       "oben-am-see                      0.865912\n",
       "oberi-chlihochstetten            0.172507\n",
       "pecos-plage                      0.230336\n",
       "plage-de-serriere                0.095238\n",
       "pointe-dareuse                   1.869504\n",
       "signalpain                       1.345617\n",
       "strandboden-biel                 1.148066\n",
       "sundbach-strand                  3.742028\n",
       "thun-strandbad                   0.328199\n",
       "weissenau-neuhaus                0.352355\n",
       "wycheley                         1.629972\n",
       "Name: effect, dtype: float64"
      ]
     },
     "execution_count": 83,
     "metadata": {},
     "output_type": "execute_result"
    }
   ],
   "source": [
    "intersect_effect"
   ]
  },
  {
   "cell_type": "code",
   "execution_count": 86,
   "metadata": {
    "tags": []
   },
   "outputs": [
    {
     "data": {
      "text/plain": [
       "<AxesSubplot: xlabel='scaled', ylabel='hydro_effect'>"
      ]
     },
     "execution_count": 86,
     "metadata": {},
     "output_type": "execute_result"
    },
    {
     "data": {
      "image/png": "[encoded data removed]",
      "text/plain": [
       "<Figure size 640x480 with 1 Axes>"
      ]
     },
     "metadata": {},
     "output_type": "display_data"
    }
   ],
   "source": [
    "aare_samples = fdx.feature_data[fdx.feature_data.river_bassin == \"aare\"].copy()\n",
    "aare_sample_totals = aare_samples[aare_samples.w_t == \"l\"].groupby([\"loc_date\", \"city\", \"location\"], as_index=False).pcs_m.sum()\n",
    "\n",
    "def addHydroEffect(x, effected):\n",
    "    \n",
    "    if x in effected.index:\n",
    "        effect = effected.loc[x]\n",
    "    else:\n",
    "        effect = 0\n",
    "    \n",
    "    return effect\n",
    "\n",
    "xmin = aare_sample_totals.pcs_m.min()\n",
    "xmax = aare_sample_totals.pcs_m.max()\n",
    "aare_sample_totals[\"scaled\"] = aare_sample_totals.pcs_m.apply(lambda x: scaleTheColumn(x, xmin, xmax))\n",
    "aare_sample_totals[\"hydro_effect\"] = aare_sample_totals.location.map(lambda x: addHydroEffect(x, intersect_effect))\n",
    "sns.scatterplot(aare_sample_totals, x=\"scaled\", y=\"hydro_effect\")"
   ]
  },
  {
   "cell_type": "code",
   "execution_count": 108,
   "metadata": {
    "tags": []
   },
   "outputs": [
    {
     "data": {
      "text/plain": [
       "0.12609172765386825"
      ]
     },
     "execution_count": 108,
     "metadata": {},
     "output_type": "execute_result"
    }
   ],
   "source": [
    "aare_sample_totals.scaled.corr(aare_sample_totals.hydro_effect)"
   ]
  },
  {
   "cell_type": "code",
   "execution_count": 105,
   "metadata": {
    "tags": []
   },
   "outputs": [
    {
     "data": {
      "text/plain": [
       "<AxesSubplot: xlabel='scaled', ylabel='effect'>"
      ]
     },
     "execution_count": 105,
     "metadata": {},
     "output_type": "execute_result"
    },
    {
     "data": {
      "image/png": "[encoded data removed]",
      "text/plain": [
       "<Figure size 640x480 with 1 Axes>"
      ]
     },
     "metadata": {},
     "output_type": "display_data"
    }
   ],
   "source": [
    "aare_samples[\"effect\"] = aare_samples.location.map(lambda x: addHydroEffect(x, intersect_effect))\n",
    "\n",
    "code=\"G30\"\n",
    "\n",
    "test_samples = aare_samples[aare_samples.code == code].copy()\n",
    "\n",
    "xmin = test_samples.pcs_m.min()\n",
    "xmax = test_samples.pcs_m.max()\n",
    "test_samples[\"scaled\"] = test_samples.pcs_m.apply(lambda x: scaleTheColumn(x, xmin, xmax))\n",
    "\n",
    "sns.scatterplot(data=test_samples, x=\"scaled\", y=\"effect\")"
   ]
  },
  {
   "cell_type": "code",
   "execution_count": 107,
   "metadata": {
    "tags": []
   },
   "outputs": [
    {
     "data": {
      "text/plain": [
       "0.18589081161131274"
      ]
     },
     "execution_count": 107,
     "metadata": {},
     "output_type": "execute_result"
    }
   ],
   "source": [
    "test_samples.scaled.corr(test_samples.effect)"
   ]
  },
  {
   "cell_type": "code",
   "execution_count": 58,
   "metadata": {
    "tags": []
   },
   "outputs": [
    {
     "data": {
      "text/html": [
       "<div>\n",
       "<style scoped>\n",
       "    .dataframe tbody tr th:only-of-type {\n",
       "        vertical-align: middle;\n",
       "    }\n",
       "\n",
       "    .dataframe tbody tr th {\n",
       "        vertical-align: top;\n",
       "    }\n",
       "\n",
       "    .dataframe thead th {\n",
       "        text-align: right;\n",
       "    }\n",
       "</style>\n",
       "<table border=\"1\" class=\"dataframe\">\n",
       "  <thead>\n",
       "    <tr style=\"text-align: right;\">\n",
       "      <th></th>\n",
       "      <th>location</th>\n",
       "      <th>intersect</th>\n",
       "      <th>size</th>\n",
       "      <th>class</th>\n",
       "      <th>OBJVAL</th>\n",
       "      <th>OBJVAL_2</th>\n",
       "      <th>d</th>\n",
       "      <th>scaled</th>\n",
       "      <th>effect</th>\n",
       "    </tr>\n",
       "  </thead>\n",
       "  <tbody>\n",
       "    <tr>\n",
       "      <th>4</th>\n",
       "      <td>pointe-dareuse</td>\n",
       "      <td>L'Areuse</td>\n",
       "      <td>7</td>\n",
       "      <td>7</td>\n",
       "      <td>Seeufer</td>\n",
       "      <td>Fluss</td>\n",
       "      <td>53</td>\n",
       "      <td>0.005271</td>\n",
       "      <td>1.649596</td>\n",
       "    </tr>\n",
       "    <tr>\n",
       "      <th>39</th>\n",
       "      <td>sundbach-strand</td>\n",
       "      <td>Sundgraben</td>\n",
       "      <td>9</td>\n",
       "      <td>9</td>\n",
       "      <td>Seeufer</td>\n",
       "      <td>Seeachse</td>\n",
       "      <td>43</td>\n",
       "      <td>0.000000</td>\n",
       "      <td>1.581395</td>\n",
       "    </tr>\n",
       "    <tr>\n",
       "      <th>37</th>\n",
       "      <td>sundbach-strand</td>\n",
       "      <td>N_P</td>\n",
       "      <td>9</td>\n",
       "      <td>9</td>\n",
       "      <td>Seeufer</td>\n",
       "      <td>Fluss</td>\n",
       "      <td>43</td>\n",
       "      <td>0.000000</td>\n",
       "      <td>1.581395</td>\n",
       "    </tr>\n",
       "    <tr>\n",
       "      <th>108</th>\n",
       "      <td>hafeli</td>\n",
       "      <td>Lütschine</td>\n",
       "      <td>6</td>\n",
       "      <td>6</td>\n",
       "      <td>Seeufer</td>\n",
       "      <td>Fluss</td>\n",
       "      <td>111</td>\n",
       "      <td>0.035846</td>\n",
       "      <td>0.918919</td>\n",
       "    </tr>\n",
       "    <tr>\n",
       "      <th>194</th>\n",
       "      <td>wycheley</td>\n",
       "      <td>Kanal Aarboden</td>\n",
       "      <td>18</td>\n",
       "      <td>8</td>\n",
       "      <td>Seeufer</td>\n",
       "      <td>Fluss</td>\n",
       "      <td>86</td>\n",
       "      <td>0.022667</td>\n",
       "      <td>0.889535</td>\n",
       "    </tr>\n",
       "    <tr>\n",
       "      <th>...</th>\n",
       "      <td>...</td>\n",
       "      <td>...</td>\n",
       "      <td>...</td>\n",
       "      <td>...</td>\n",
       "      <td>...</td>\n",
       "      <td>...</td>\n",
       "      <td>...</td>\n",
       "      <td>...</td>\n",
       "      <td>...</td>\n",
       "    </tr>\n",
       "    <tr>\n",
       "      <th>178</th>\n",
       "      <td>weissenau-neuhaus</td>\n",
       "      <td>Schifffahrtskanal</td>\n",
       "      <td>20</td>\n",
       "      <td>10</td>\n",
       "      <td>Seeufer</td>\n",
       "      <td>Fluss</td>\n",
       "      <td>1410</td>\n",
       "      <td>0.720611</td>\n",
       "      <td>0.043404</td>\n",
       "    </tr>\n",
       "    <tr>\n",
       "      <th>36</th>\n",
       "      <td>sundbach-strand</td>\n",
       "      <td>Chrutbach</td>\n",
       "      <td>10</td>\n",
       "      <td>10</td>\n",
       "      <td>Seeufer</td>\n",
       "      <td>Fluss</td>\n",
       "      <td>1445</td>\n",
       "      <td>0.739062</td>\n",
       "      <td>0.042353</td>\n",
       "    </tr>\n",
       "    <tr>\n",
       "      <th>80</th>\n",
       "      <td>gals-reserve</td>\n",
       "      <td>Mülibach</td>\n",
       "      <td>10</td>\n",
       "      <td>10</td>\n",
       "      <td>Seeufer</td>\n",
       "      <td>Fluss</td>\n",
       "      <td>1528</td>\n",
       "      <td>0.782815</td>\n",
       "      <td>0.040052</td>\n",
       "    </tr>\n",
       "    <tr>\n",
       "      <th>134</th>\n",
       "      <td>la-thiele_le-mujon_confluence</td>\n",
       "      <td>Le Buron</td>\n",
       "      <td>8</td>\n",
       "      <td>8</td>\n",
       "      <td>Seeufer</td>\n",
       "      <td>Seeachse</td>\n",
       "      <td>1932</td>\n",
       "      <td>0.995783</td>\n",
       "      <td>0.039596</td>\n",
       "    </tr>\n",
       "    <tr>\n",
       "      <th>146</th>\n",
       "      <td>ligerz-strand</td>\n",
       "      <td>La Douanne</td>\n",
       "      <td>9</td>\n",
       "      <td>9</td>\n",
       "      <td>Seeufer</td>\n",
       "      <td>Fluss_U</td>\n",
       "      <td>1766</td>\n",
       "      <td>0.908276</td>\n",
       "      <td>0.038505</td>\n",
       "    </tr>\n",
       "  </tbody>\n",
       "</table>\n",
       "<p>68 rows × 9 columns</p>\n",
       "</div>"
      ],
      "text/plain": [
       "                          location          intersect  size  class   OBJVAL  \\\n",
       "4                   pointe-dareuse           L'Areuse     7      7  Seeufer   \n",
       "39                 sundbach-strand         Sundgraben     9      9  Seeufer   \n",
       "37                 sundbach-strand                N_P     9      9  Seeufer   \n",
       "108                         hafeli          Lütschine     6      6  Seeufer   \n",
       "194                       wycheley     Kanal Aarboden    18      8  Seeufer   \n",
       "..                             ...                ...   ...    ...      ...   \n",
       "178              weissenau-neuhaus  Schifffahrtskanal    20     10  Seeufer   \n",
       "36                 sundbach-strand          Chrutbach    10     10  Seeufer   \n",
       "80                    gals-reserve           Mülibach    10     10  Seeufer   \n",
       "134  la-thiele_le-mujon_confluence           Le Buron     8      8  Seeufer   \n",
       "146                  ligerz-strand         La Douanne     9      9  Seeufer   \n",
       "\n",
       "     OBJVAL_2     d    scaled    effect  \n",
       "4       Fluss    53  0.005271  1.649596  \n",
       "39   Seeachse    43  0.000000  1.581395  \n",
       "37      Fluss    43  0.000000  1.581395  \n",
       "108     Fluss   111  0.035846  0.918919  \n",
       "194     Fluss    86  0.022667  0.889535  \n",
       "..        ...   ...       ...       ...  \n",
       "178     Fluss  1410  0.720611  0.043404  \n",
       "36      Fluss  1445  0.739062  0.042353  \n",
       "80      Fluss  1528  0.782815  0.040052  \n",
       "134  Seeachse  1932  0.995783  0.039596  \n",
       "146   Fluss_U  1766  0.908276  0.038505  \n",
       "\n",
       "[68 rows x 9 columns]"
      ]
     },
     "execution_count": 58,
     "metadata": {},
     "output_type": "execute_result"
    }
   ],
   "source": [
    "intersections.sort_values(by=\"effect\", ascending=False)"
   ]
  },
  {
   "cell_type": "markdown",
   "metadata": {
    "tags": []
   },
   "source": [
    "## Enquiries\n",
    "\n",
    "H\n",
    "\n",
    "1. What are the chances that a survey will exceed the national median for the following values:\n",
    "   * Sample total\n",
    "   * Sample total of the most common objects\n",
    "2. What is the expected range of sample results for the following values:  \n",
    "   * Sample total\n",
    "   * Sample total of the most common objects\n",
    "\n",
    "\n",
    "   \n",
    "\n",
    "  \n"
   ]
  },
  {
   "cell_type": "code",
   "execution_count": null,
   "metadata": {},
   "outputs": [],
   "source": []
  }
 ],
 "metadata": {
  "kernelspec": {
   "display_name": "Python 3 (ipykernel)",
   "language": "python",
   "name": "python3"
  },
  "language_info": {
   "codemirror_mode": {
    "name": "ipython",
    "version": 3
   },
   "file_extension": ".py",
   "mimetype": "text/x-python",
   "name": "python",
   "nbconvert_exporter": "python",
   "pygments_lexer": "ipython3",
   "version": "3.10.0"
  }
 },
 "nbformat": 4,
 "nbformat_minor": 4
}
