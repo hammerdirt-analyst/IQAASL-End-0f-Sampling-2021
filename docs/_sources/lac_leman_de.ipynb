{
 "cells": [
  {
   "cell_type": "code",
   "execution_count": 1,
   "metadata": {
    "tags": [
     "hide-input"
    ]
   },
   "outputs": [],
   "source": [
    "# -*- coding: utf-8 -*-\n",
    "\n",
    "# This is a report using the data from IQAASL.\n",
    "# IQAASL was a project funded by the Swiss Confederation\n",
    "# It produces a summary of litter survey results for a defined region.\n",
    "# These charts serve as the models for the development of plagespropres.ch\n",
    "# The data is gathered by volunteers.\n",
    "# Please remember all copyrights apply, please give credit when applicable\n",
    "# The repo is maintained by the community effective January 01, 2022\n",
    "# There is ample opportunity to contribute, learn and teach\n",
    "# contact dev@hammerdirt.ch\n",
    "\n",
    "# Dies ist ein Bericht, der die Daten von IQAASL verwendet.\n",
    "# IQAASL war ein von der Schweizerischen Eidgenossenschaft finanziertes Projekt.\n",
    "# Es erstellt eine Zusammenfassung der Ergebnisse der Littering-Umfrage für eine bestimmte Region.\n",
    "# Diese Grafiken dienten als Vorlage für die Entwicklung von plagespropres.ch.\n",
    "# Die Daten werden von Freiwilligen gesammelt.\n",
    "# Bitte denken Sie daran, dass alle Copyrights gelten, bitte geben Sie den Namen an, wenn zutreffend.\n",
    "# Das Repo wird ab dem 01. Januar 2022 von der Community gepflegt.\n",
    "# Es gibt reichlich Gelegenheit, etwas beizutragen, zu lernen und zu lehren.\n",
    "# Kontakt dev@hammerdirt.ch\n",
    "\n",
    "# Il s'agit d'un rapport utilisant les données de IQAASL.\n",
    "# IQAASL était un projet financé par la Confédération suisse.\n",
    "# Il produit un résumé des résultats de l'enquête sur les déchets sauvages pour une région définie.\n",
    "# Ces tableaux ont servi de modèles pour le développement de plagespropres.ch\n",
    "# Les données sont recueillies par des bénévoles.\n",
    "# N'oubliez pas que tous les droits d'auteur s'appliquent, veuillez indiquer le crédit lorsque cela est possible.\n",
    "# Le dépôt est maintenu par la communauté à partir du 1er janvier 2022.\n",
    "# Il y a de nombreuses possibilités de contribuer, d'apprendre et d'enseigner.\n",
    "# contact dev@hammerdirt.ch\n",
    "\n",
    "# sys, file and nav packages:\n",
    "import datetime as dt\n",
    "\n",
    "# for date and month formats in french or german\n",
    "import locale\n",
    "\n",
    "# math packages:\n",
    "import pandas as pd\n",
    "import numpy as np\n",
    "from scipy import stats\n",
    "from statsmodels.distributions.empirical_distribution import ECDF\n",
    "\n",
    "# charting:\n",
    "import matplotlib.pyplot as plt\n",
    "import matplotlib.dates as mdates\n",
    "from matplotlib import ticker\n",
    "from matplotlib import colors\n",
    "from matplotlib.colors import LinearSegmentedColormap\n",
    "from matplotlib.gridspec import GridSpec\n",
    "import seaborn as sns\n",
    "\n",
    "# home brew utitilties\n",
    "import resources.chart_kwargs as ck\n",
    "import resources.sr_ut as sut\n",
    "\n",
    "# images and display\n",
    "# import base64, io, IPython\n",
    "from PIL import Image as PILImage\n",
    "from IPython.display import Markdown as md\n",
    "from IPython.display import display\n",
    "\n",
    "# set the locale to the language desired\n",
    "# the locale is set back to to original at the the end of the script\n",
    "loc = locale.getlocale()\n",
    "lang =  'de_CH.utf8'\n",
    "locale.setlocale(locale.LC_ALL, lang)\n",
    "\n",
    "# the date is in iso standard:\n",
    "d = \"%Y-%m-%d\"\n",
    "\n",
    "# it gets changed to german format\n",
    "g = \"%d.%m.%Y\"\n",
    "\n",
    "# set some parameters:\n",
    "start_date = \"01.03.2020\"\n",
    "end_date =\"31.05.2021\"\n",
    "start_end = [start_date, end_date]\n",
    "a_fail_rate = 50\n",
    "unit_label = \"p/100 m\"\n",
    "a_color = \"dodgerblue\"\n",
    "\n",
    "# colors for gradients\n",
    "cmap2 = ck.cmap2\n",
    "colors_palette = ck.colors_palette\n",
    "# top level aggregation\n",
    "top = \"Alle Erhebungsgebiete\"\n",
    "\n",
    "# define the feature level and components\n",
    "this_feature = {\"slug\":\"bt\", \"name\":\"Lac Léman\", \"level\":\"water_name_slug\"}\n",
    "\n",
    "this_level = 'city'\n",
    "this_bassin =\"rhone\"\n",
    "bassin_label = \"Erhebungsgebiet Rhône\"\n",
    "\n",
    "lakes_of_interest = [\"lac-leman\"]\n",
    "# explanatory variables:\n",
    "# explanatory variables:\n",
    "luse_exp =  list(sut.luse_ge.values())\n",
    "\n",
    "# common aggregations\n",
    "agg_pcs_quantity = {unit_label:\"sum\", \"quantity\":\"sum\"}\n",
    "agg_pcs_median = {unit_label:\"median\", \"quantity\":\"sum\"}\n",
    "\n",
    "# aggregation of dimensional data\n",
    "agg_dims = {\"total_w\":\"sum\", \"mac_plast_w\":\"sum\", \"area\":\"sum\", \"length\":\"sum\"}\n",
    "\n",
    "# columns needed\n",
    "use_these_cols = [\"loc_date\" ,\n",
    "                  \"% to buildings\",\n",
    "                  \"% to trans\", \n",
    "                  \"% to recreation\",\n",
    "                  \"% to agg\",\n",
    "                  \"% to woods\",\n",
    "                  \"population\",\n",
    "                  this_level,\n",
    "                  \"streets km\",\n",
    "                  \"intersects\",\n",
    "                  \"length\",\n",
    "                  \"groupname\",\n",
    "                  \"code\"\n",
    "                 ]\n",
    "\n",
    "# get your data:\n",
    "dfBeaches = pd.read_csv(\"resources/beaches_with_land_use_rates.csv\")\n",
    "dfCodes = pd.read_csv(\"resources/codes_with_group_names_2015.csv\")\n",
    "dfDims = pd.read_csv(\"resources/corrected_dims.csv\")\n",
    "\n",
    "# set the index of the beach data to location slug\n",
    "dfBeaches.set_index(\"slug\", inplace=True)\n",
    "\n",
    "# make a map to city names\n",
    "city_map = dfBeaches.city\n",
    "\n",
    "# map water_name_slug to water_name\n",
    "wname_wname = dfBeaches[[\"water_name_slug\",\"water_name\"]].reset_index(drop=True).drop_duplicates().set_index(\"water_name_slug\")\n",
    "\n",
    "dfCodes.set_index(\"code\", inplace=True)\n",
    "\n",
    "# language specific\n",
    "# importing german code descriptions\n",
    "de_codes = pd.read_csv(\"resources/codes_german_Version_1.csv\")\n",
    "de_codes.set_index(\"code\", inplace=True)\n",
    "\n",
    "for x in dfCodes.index:\n",
    "    dfCodes.loc[x, \"description\"] = de_codes.loc[x, \"german\"]\n",
    "\n",
    "# there are long code descriptions that may need to be shortened for display\n",
    "codes_to_change = [\n",
    "    [\"G704\", \"description\", \"Seilbahnbürste\"],\n",
    "    [\"Gfrags\", \"description\", \"Fragmentierte Kunststoffstücke\"],\n",
    "    [\"G30\", \"description\", \"Snack-Verpackungen\"],\n",
    "    [\"G124\", \"description\", \"Kunststoff-oder Schaumstoffprodukte\"],\n",
    "    [\"G87\", \"description\", \"Abdeckklebeband/Verpackungsklebeband\"],\n",
    "    [\"G178\",\"description\",\"Flaschenverschlüsse aus Metall\"],\n",
    "    [\"G3\",\"description\",\"Einkaufstaschen, Shoppingtaschen\"],\n",
    "    [\"G33\", \"description\", \"Einwegartikel; Tassen/Becher & Deckel\"],\n",
    "    [\"G31\", \"description\", \"Schleckstengel, Stengel von Lutscher\"],\n",
    "    [\"G211\", \"description\", \"Sonstiges medizinisches Material\"],\n",
    "    [\"G904\", \"description\", \"Feuerwerkskörper; Raketenkappen\"],\n",
    "    [\"G940\", \"description\", \"Schaumstoff EVA (flexibler Kunststoff)\"]\n",
    "]\n",
    "\n",
    "# apply changes\n",
    "for x in codes_to_change:\n",
    "    dfCodes = sut.shorten_the_value(x, dfCodes)\n",
    "\n",
    "# the surveyor designated the object as aluminum instead of metal\n",
    "dfCodes.loc[\"G708\", \"material\"] = \"Metal\"\n",
    "\n",
    "# translate the material column\n",
    "dfCodes[\"material\"] = dfCodes.material.map(lambda x: sut.mat_ge[x]) \n",
    "\n",
    "# make a map to the code descriptions\n",
    "code_description_map = dfCodes.description\n",
    "\n",
    "# make a map to the code materials\n",
    "code_material_map = dfCodes.material"
   ]
  },
  {
   "cell_type": "markdown",
   "metadata": {},
   "source": [
    "(lac_lemande)=\n",
    "# Lac Léman\n",
    "\n",
    "<a href=\"lac_leman.html\"> English </a>"
   ]
  },
  {
   "cell_type": "markdown",
   "metadata": {
    "tags": [
     "hide-input"
    ]
   },
   "source": [
    "*__Unten:__ Karte des Erhebungsgebiets März 2020 - Mai 2021. Durchmesser der Punktsymbole = das mittlere Erhebungsergebnis in gefundene Abfallobjekte pro 100 Meter (p/100m).*"
   ]
  },
  {
   "cell_type": "code",
   "execution_count": 2,
   "metadata": {
    "tags": [
     "remove-input"
    ]
   },
   "outputs": [
    {
     "ename": "NameError",
     "evalue": "name 'bassin_map' is not defined",
     "output_type": "error",
     "traceback": [
      "\u001b[0;31m---------------------------------------------------------------------------\u001b[0m",
      "\u001b[0;31mNameError\u001b[0m                                 Traceback (most recent call last)",
      "Input \u001b[0;32mIn [2]\u001b[0m, in \u001b[0;36m<cell line: 1>\u001b[0;34m()\u001b[0m\n\u001b[0;32m----> 1\u001b[0m sut\u001b[38;5;241m.\u001b[39mdisplay_image_ipython(\u001b[43mbassin_map\u001b[49m, thumb\u001b[38;5;241m=\u001b[39m(\u001b[38;5;241m800\u001b[39m,\u001b[38;5;241m450\u001b[39m))\n",
      "\u001b[0;31mNameError\u001b[0m: name 'bassin_map' is not defined"
     ]
    }
   ],
   "source": [
    "sut.display_image_ipython(bassin_map, thumb=(800,450))"
   ]
  },
  {
   "cell_type": "markdown",
   "metadata": {},
   "source": [
    "## Erhebungsorte"
   ]
  },
  {
   "cell_type": "code",
   "execution_count": null,
   "metadata": {
    "tags": [
     "hide-input"
    ]
   },
   "outputs": [],
   "source": [
    "# this is the data before the expanded foams and fragmented plastics are aggregated to Gfrags and Gfoams\n",
    "before_agg = pd.read_csv(\"resources/checked_before_agg_sdata_eos_2020_21.csv\")\n",
    "\n",
    "# this is the aggregated survey data that is being used\n",
    "# a_data is all the data in the survey period\n",
    "a_data = pd.read_csv(F\"resources/checked_sdata_eos_2020_21.csv\")\n",
    "\n",
    "# apply local date configuration\n",
    "a_data[\"date\"] = pd.to_datetime(a_data.date)\n",
    "a_data[\"date\"] = a_data[\"date\"].dt.strftime(g)\n",
    "a_data[\"date\"] = pd.to_datetime(a_data[\"date\"], format=g)\n",
    "\n",
    "# rename the code groups and columns to local\n",
    "a_data[\"groupname\"] = a_data[\"groupname\"].map(lambda x: sut.group_names_de[x])\n",
    "# rename unit labels to FOEN spec\n",
    "a_data.rename(columns={\"p/100m\": unit_label}, inplace=True)\n",
    "a_data.rename(columns=sut.luse_ge, inplace=True)\n",
    "\n",
    "# the data for this report\n",
    "fd = sut.feature_data(a_data, this_feature[\"level\"], these_features=lakes_of_interest)\n",
    "\n",
    "# cumulative statistics for each code\n",
    "code_totals = sut.the_aggregated_object_values(fd, agg=agg_pcs_median, description_map=code_description_map, material_map=code_material_map)    \n",
    "\n",
    "# daily survey totals\n",
    "dt_all = fd.groupby([\"loc_date\",\"location\",this_level, \"date\"], as_index=False).agg(agg_pcs_quantity )\n",
    "\n",
    "# the materials table\n",
    "fd_mat_totals = sut.the_ratio_object_to_total(code_totals)\n",
    "\n",
    "# summary statistics, nsamples, nmunicipalities, names of citys, population\n",
    "t = sut.make_table_values(fd, col_nunique=[\"location\", \"loc_date\", \"city\"], col_sum=[\"quantity\"], col_median=[])\n",
    "\n",
    "# make a map to the population values for each survey location/city\n",
    "fd_pop_map = dfBeaches.loc[fd.location.unique()][[\"city\", \"population\"]].copy()\n",
    "fd_pop_map.drop_duplicates(inplace=True)\n",
    "\n",
    "# update t with the population data\n",
    "t.update(sut.make_table_values(fd_pop_map, col_nunique=[\"city\"], col_sum=[\"population\"], col_median=[]))\n",
    "\n",
    "# update t with the list of locations from fd\n",
    "t.update({\"locations\":fd.location.unique()})\n",
    "\n",
    "# make a map to the population values for each survey location/city\n",
    "fd_pop_map = dfBeaches.loc[fd.location.unique()][[\"city\", \"population\"]].copy()\n",
    "fd_pop_map.drop_duplicates(inplace=True)\n",
    "\n",
    "# number of cities\n",
    "fd_n_munis = len(fd_pop_map.index)\n",
    "\n",
    "# total population\n",
    "fd_effected_population = fd_pop_map.sum()\n",
    "\n",
    "# join the strings into comma separated list\n",
    "obj_string = locale.format_string('%d', int(t[\"quantity\"]), grouping=True)\n",
    "surv_string = locale.format_string('%d', int(t[\"loc_date\"]), grouping=True)\n",
    "pop_string = locale.format_string('%d', int(t[\"population\"]), grouping=True)\n",
    "\n",
    "# make strings\n",
    "date_quantity_context = F\"Für den Zeitraum zwischen {start_date[3:]} und {end_date[3:]}, wurden im Rahmen von {surv_string} Datenerhebungen insgesamt {obj_string } Objekte entfernt und identifiziert.\"\n",
    "geo_context = F\"Die Ergebnisse des {this_feature['name']} umfassen {t['location']} Orte,  {t['city']} Gemeinden und eine Gesamtbevölkerung von etwa {pop_string} Einwohnern.\"\n",
    "munis_joined = \", \".join(sorted(fd_pop_map[\"city\"]))\n",
    "\n",
    "# put that all together:\n",
    "lake_string = F\"\"\"\n",
    "{date_quantity_context} {geo_context }\n",
    "\n",
    "*Die Gemeinden in diesem Bericht:*\\n\\n >{munis_joined}\n",
    "\"\"\"\n",
    "md(lake_string)"
   ]
  },
  {
   "cell_type": "markdown",
   "metadata": {},
   "source": [
    "### Kumulative Gesamtmengen nach Gemeinden"
   ]
  },
  {
   "cell_type": "code",
   "execution_count": null,
   "metadata": {
    "tags": [
     "hide-input"
    ]
   },
   "outputs": [],
   "source": [
    "dims_parameters = dict(this_level=this_level, \n",
    "                       locations=fd.location.unique(), \n",
    "                       start_end=start_end, \n",
    "                       city_map=city_map, \n",
    "                       agg_dims=agg_dims)\n",
    "\n",
    "dims_table = sut.gather_dimensional_data(dfDims, **dims_parameters)\n",
    "\n",
    "# a map of total quantity for each component\n",
    "q_map = fd.groupby(this_level).quantity.sum()\n",
    "\n",
    "# collect the number of samples from the survey total data:\n",
    "for name in dims_table.index:\n",
    "    dims_table.loc[name, \"samples\"] = fd[fd[this_level] == name].loc_date.nunique()\n",
    "    dims_table.loc[name, \"quantity\"] = q_map[name]\n",
    "\n",
    "# get the sum of all survey areas\n",
    "dims_table.loc[this_feature[\"name\"]]= dims_table.sum(numeric_only=True, axis=0)\n",
    "\n",
    "# for display\n",
    "dims_table.sort_values(by=[\"quantity\"], ascending=False, inplace=True)\n",
    "dims_table.rename(columns={\"samples\":\"Erhebungen\",\"quantity\":\"Objekte\", \"total_w\":\"Gesamt-kg\", \"mac_plast_w\":\"kg Plastik\", \"area\":\"m²\", \"length\":\"Meter\"}, inplace=True)\n",
    "\n",
    "# format kilos\n",
    "dims_table[\"kg Plastik\"] = dims_table[\"kg Plastik\"]/1000\n",
    "dims_table[[\"m²\", \"Meter\", \"Erhebungen\", \"Objekte\"]] = dims_table[[\"m²\", \"Meter\", \"Erhebungen\", \"Objekte\"]].applymap(lambda x: f\"{locale.format_string('%d', int(x), grouping=True)}\")\n",
    "dims_table[[\"kg Plastik\", \"Gesamt-kg\"]] = dims_table[[\"kg Plastik\", \"Gesamt-kg\"]].applymap(lambda x: \"{:.2f}\".format(x))\n",
    "\n",
    "# figure caption\n",
    "agg_caption = F\"\"\"\n",
    "*__Unten:__ {this_feature[\"name\"]}: kumulierten Gewichte und Masse für die Gemeinden*\n",
    "\"\"\"\n",
    "md(agg_caption)"
   ]
  },
  {
   "cell_type": "code",
   "execution_count": null,
   "metadata": {
    "tags": [
     "hide-input"
    ]
   },
   "outputs": [],
   "source": [
    "# make table\n",
    "data = dims_table.reset_index()\n",
    "colLabels = data.columns\n",
    "\n",
    "fig, ax = plt.subplots(figsize=(len(colLabels)*2,len(data)*.7))\n",
    "\n",
    "sut.hide_spines_ticks_grids(ax)\n",
    "table_one = sut.make_a_table(ax, data.values, colLabels=colLabels, a_color=a_color)\n",
    "table_one.get_celld()[(0,0)].get_text().set_text(\" \")\n",
    "table_one.set_fontsize(14)\n",
    "\n",
    "plt.show()\n",
    "plt.tight_layout()\n",
    "plt.close()"
   ]
  },
  {
   "cell_type": "markdown",
   "metadata": {},
   "source": [
    "### Verteilung der Erhebungsergebnisse"
   ]
  },
  {
   "cell_type": "code",
   "execution_count": null,
   "metadata": {
    "tags": [
     "hide-input"
    ]
   },
   "outputs": [],
   "source": [
    "# the feature surveys to chart\n",
    "fd_dindex = dt_all.set_index(\"date\")\n",
    "\n",
    "# all the other surveys\n",
    "ots = dict(level_to_exclude=this_feature[\"level\"], components_to_exclude=fd[this_feature[\"level\"]].unique())\n",
    "dts_date = sut.the_other_surveys(a_data, **ots)\n",
    "\n",
    "# group the outher surveys by date and total pcs_m\n",
    "ots_params = dict(agg_this = {unit_label:\"sum\"}, these_columns = [\"loc_date\",\"date\"])\n",
    "dts_date = sut.group_these_columns(dts_date, **ots_params)\n",
    "\n",
    "# get the monthly or quarterly results for the feature\n",
    "resample_plot, rate = sut.quarterly_or_monthly_values(fd_dindex , this_feature[\"name\"], vals=unit_label, quarterly=[\"ticino\"])    \n",
    "\n",
    "# scale the chart as needed to accomodate for extreme values\n",
    "y_lim = 99\n",
    "y_limit = np.percentile(dts_date[unit_label], y_lim)\n",
    "\n",
    "# label for the chart that alerts to the scale\n",
    "not_included = F\"Werte grösser als {round(y_limit, 1)} {unit_label} {y_lim}% nicht gezeigt.\"\n",
    "\n",
    "# figure caption\n",
    "chart_notes = F\"\"\"\n",
    "*__Links:__ {this_feature['name']}, {start_date[3:]} bis {end_date[3:]}, n={t[\"loc_date\"]}. {not_included} __Rechts:__ {this_feature['name']}  empirische kumulative Verteilung der Erhebungsergebnisse.*\n",
    "\"\"\"\n",
    "md(chart_notes )"
   ]
  },
  {
   "cell_type": "code",
   "execution_count": null,
   "metadata": {
    "tags": [
     "hide-input"
    ]
   },
   "outputs": [],
   "source": [
    "# months locator, can be confusing\n",
    "# https://matplotlib.org/stable/api/dates_api.html\n",
    "# months = mdates.MonthLocator(interval=1)\n",
    "months_fmt = mdates.DateFormatter(\"%b\")\n",
    "days = mdates.DayLocator(interval=7)\n",
    "sns.set_style(\"whitegrid\")\n",
    "fig, axs = plt.subplots(1,2, figsize=(10,5))\n",
    "\n",
    "# the survey totals by day\n",
    "ax = axs[0]\n",
    "\n",
    "# feature surveys\n",
    "sns.scatterplot(data=dts_date, x=dts_date.index, y=unit_label, label=top, color=\"black\", alpha=0.4,  ax=ax)\n",
    "\n",
    "# all other surveys\n",
    "sns.scatterplot(data=fd_dindex, x=fd_dindex.index, y=unit_label, label=this_feature[\"name\"], color=\"red\", s=34, ec=\"white\", ax=ax)\n",
    "\n",
    "# monthly or quaterly plot\n",
    "sns.lineplot(data=resample_plot, x=resample_plot.index, y=resample_plot, label=F\"{this_feature['name']}: monatlicher Medianwert\", color=\"magenta\", ax=ax)\n",
    "\n",
    "ax.set_ylim(0,y_limit )\n",
    "ax.set_ylabel(unit_label, **ck.xlab_k14)\n",
    "\n",
    "ax.set_xlabel(\"\")\n",
    "ax.xaxis.set_minor_locator(days)\n",
    "ax.xaxis.set_major_formatter(months_fmt)\n",
    "ax.legend()\n",
    "\n",
    "# the cumlative distributions:\n",
    "axtwo = axs[1]\n",
    "\n",
    "# the feature of interest\n",
    "feature_ecd = ECDF(dt_all[unit_label].values)    \n",
    "sns.lineplot(x=feature_ecd.x, y=feature_ecd.y, color=\"darkblue\", ax=axtwo, label=this_feature[\"name\"])\n",
    "\n",
    "# the other features\n",
    "other_features = ECDF(dts_date[unit_label].values)\n",
    "sns.lineplot(x=other_features.x, y=other_features.y, color=\"magenta\", label=top, linewidth=1, ax=axtwo)\n",
    "\n",
    "axtwo.set_xlabel(unit_label, **ck.xlab_k14)\n",
    "axtwo.set_ylabel(\"Verhältnis der Erhebungen\", **ck.xlab_k14)\n",
    "\n",
    "plt.tight_layout()\n",
    "plt.show()"
   ]
  },
  {
   "cell_type": "markdown",
   "metadata": {},
   "source": [
    "### Zusammenfassende Daten und Materialtypen"
   ]
  },
  {
   "cell_type": "code",
   "execution_count": null,
   "metadata": {
    "tags": [
     "remove-input"
    ]
   },
   "outputs": [],
   "source": [
    "# figure caption\n",
    "summary_of_survey_totals = F\"\"\"\n",
    "*__Links:__ Zusammenfassung der Daten aller Erhebungen im {this_feature[\"name\"]}. __Rechts:__ Gefundene Materialarten im {this_feature[\"name\"]} und Prozentsatz deren Gesamtmenge.*\n",
    "\"\"\"\n",
    "md(summary_of_survey_totals)"
   ]
  },
  {
   "cell_type": "code",
   "execution_count": null,
   "metadata": {
    "tags": [
     "hide-input"
    ]
   },
   "outputs": [],
   "source": [
    "# get the basic statistics from pd.describe\n",
    "cs = dt_all[unit_label].describe().round(2)\n",
    "\n",
    "# change the names\n",
    "csx = sut.change_series_index_labels(cs, sut.create_summary_table_index(unit_label, lang=\"EN\"))\n",
    "\n",
    "combined_summary = sut.fmt_combined_summary(csx, nf=[])\n",
    "\n",
    "fd_mat_totals = sut.fmt_pct_of_total(fd_mat_totals)\n",
    "fd_mat_totals = sut.make_string_format(fd_mat_totals)\n",
    "\n",
    "# applly new column names for printing\n",
    "cols_to_use = {\"material\":\"Material\",\"quantity\":\"Quantity\", \"% of total\":\"% of total\"}\n",
    "fd_mat_t = fd_mat_totals[cols_to_use.keys()].values\n",
    "\n",
    "# make tables\n",
    "fig, axs = plt.subplots(1,2, figsize=(8,6))\n",
    "\n",
    "# summary table\n",
    "# names for the table columns\n",
    "a_col = [this_feature[\"name\"], \"total\"]\n",
    "\n",
    "axone = axs[0]\n",
    "sut.hide_spines_ticks_grids(axone)\n",
    "\n",
    "table_two = sut.make_a_table(axone, combined_summary,  colLabels=a_col, colWidths=[.5,.25,.25],  bbox=[0,0,1,1], **{\"loc\":\"lower center\"})\n",
    "table_two.get_celld()[(0,0)].get_text().set_text(\" \")\n",
    "table_two.set_fontsize(14)\n",
    "\n",
    "# material table\n",
    "axtwo = axs[1]\n",
    "axtwo.set_xlabel(\" \")\n",
    "sut.hide_spines_ticks_grids(axtwo)\n",
    "\n",
    "table_three = sut.make_a_table(axtwo, fd_mat_t,  colLabels=list(cols_to_use.values()), colWidths=[.4, .3,.3],  bbox=[0,0,1,1], **{\"loc\":\"lower center\"})\n",
    "table_three.get_celld()[(0,0)].get_text().set_text(\" \")\n",
    "table_three.set_fontsize(14)\n",
    "\n",
    "plt.tight_layout()\n",
    "plt.subplots_adjust(wspace=0.2)\n",
    "plt.show()"
   ]
  },
  {
   "cell_type": "markdown",
   "metadata": {},
   "source": [
    "## Die am häufigsten gefundenen Objekte\n",
    "\n",
    "Die am häufigsten gefundenen Gegenständesind die zehn mengenmässig am meisten vorkommenden Objekte UND/ODER Objekte, die in mindestens 50% aller Datenerhebungen identifiziert wurden (fail-rate). "
   ]
  },
  {
   "cell_type": "code",
   "execution_count": null,
   "metadata": {
    "tags": [
     "hide-input"
    ]
   },
   "outputs": [],
   "source": [
    "# the top ten by quantity\n",
    "most_abundant = code_totals.sort_values(by=\"quantity\", ascending=False)[:10]\n",
    "\n",
    "# the most common\n",
    "most_common = code_totals[code_totals[\"fail rate\"] >= a_fail_rate].sort_values(by=\"quantity\", ascending=False)\n",
    "\n",
    "# merge with most_common and drop duplicates\n",
    "m_common = pd.concat([most_abundant, most_common]).drop_duplicates()\n",
    "\n",
    "# get percent of total\n",
    "m_common_percent_of_total = m_common.quantity.sum()/code_totals.quantity.sum()\n",
    "\n",
    "# figure caption\n",
    "rb_string = F\"\"\"\n",
    "*__Unten:__ Häufigste Objekte im {this_feature[\"name\"]}: fail-rate >/= 50% und/oder Top Ten nach Anzahl. Zusammengenommen machen die häufigsten Objekte {int(m_common_percent_of_total*100)}% aller gefundenen Objekte aus. Anmerkung: {unit_label} = Medianwert der Erhebung.*\n",
    "\"\"\"\n",
    "md(rb_string)"
   ]
  },
  {
   "cell_type": "code",
   "execution_count": null,
   "metadata": {
    "tags": [
     "hide-input"
    ]
   },
   "outputs": [],
   "source": [
    "# format values for table\n",
    "m_common[\"item\"] = m_common.index.map(lambda x: code_description_map.loc[x])\n",
    "m_common[\"% of total\"] = m_common[\"% of total\"].map(lambda x: F\"{x}%\")\n",
    "m_common[\"quantity\"] = m_common.quantity.map(lambda x: f\"{locale.format_string('%d', x, grouping=True)}\")\n",
    "m_common[\"fail rate\"] = m_common[\"fail rate\"].map(lambda x: F\"{x}%\")\n",
    "m_common[unit_label] = m_common[unit_label].map(lambda x: F\"{round(x,1)}\")\n",
    "\n",
    "# final table data\n",
    "cols_to_use = {\"item\":\"Objekt\",\"quantity\":\"Gesamt\", \"% of total\":\"% der Gesamt\", \"fail rate\":\"fail-rate\", unit_label:unit_label}\n",
    "all_survey_areas = m_common[cols_to_use.keys()].values\n",
    "\n",
    "fig, axs = plt.subplots(figsize=(10,len(m_common)*.7))\n",
    "\n",
    "sut.hide_spines_ticks_grids(axs)\n",
    "\n",
    "table_four = sut.make_a_table(axs, all_survey_areas,  colLabels=list(cols_to_use.values()), colWidths=[.52, .12,.12,.12, .12],  bbox=[0,0,1,1], **{\"loc\":\"lower center\"})\n",
    "table_four.get_celld()[(0,0)].get_text().set_text(\" \")\n",
    "table_four.set_fontsize(14)\n",
    "\n",
    "plt.tight_layout()\n",
    "plt.show()\n",
    "\n",
    "plt.close()"
   ]
  },
  {
   "cell_type": "markdown",
   "metadata": {},
   "source": [
    "### Die am häufigsten gefundenen Gegenständenach Gemeinden"
   ]
  },
  {
   "cell_type": "code",
   "execution_count": null,
   "metadata": {
    "tags": [
     "remove-input"
    ]
   },
   "outputs": [],
   "source": [
    "rb_string = F\"\"\"\n",
    "*__Unten:__ häufigste Objekte im {this_feature[\"name\"]}: Median {unit_label}.*\n",
    "\"\"\"\n",
    "md(rb_string)"
   ]
  },
  {
   "cell_type": "code",
   "execution_count": null,
   "metadata": {
    "tags": [
     "hide-input"
    ]
   },
   "outputs": [],
   "source": [
    "# aggregated survey totals for the most common codes for all the water features\n",
    "m_common_st = fd[fd.code.isin(m_common.index)].groupby([this_level, \"loc_date\",\"code\"], as_index=False).agg(agg_pcs_quantity)\n",
    "m_common_ft = m_common_st.groupby([this_level, \"code\"], as_index=False)[unit_label].median()\n",
    "\n",
    "# map the desctiption to the code\n",
    "m_common_ft[\"item\"] = m_common_ft.code.map(lambda x: code_description_map.loc[x])\n",
    "\n",
    "# pivot that\n",
    "m_c_p = m_common_ft[[\"item\", this_level, unit_label]].pivot(columns=this_level, index=\"item\")\n",
    "\n",
    "# quash the hierarchal column index\n",
    "m_c_p.columns = m_c_p.columns.get_level_values(1)\n",
    "\n",
    "# the aggregated totals for the feature data\n",
    "c = sut.aggregate_to_group_name(fd[fd.code.isin(m_common.index)], column=\"code\", name=this_feature[\"name\"], val=\"med\", unit_label=unit_label)\n",
    "m_c_p[this_feature[\"name\"]]= sut.change_series_index_labels(c, {x:code_description_map.loc[x] for x in c.index})\n",
    "\n",
    "# the aggregated totals of the survey area\n",
    "c = sut.aggregate_to_group_name(a_data[(a_data.river_bassin == this_bassin)&(a_data.code.isin(m_common.index))], unit_label=unit_label, column=\"code\", name=top, val=\"med\")\n",
    "m_c_p[bassin_label] = sut.change_series_index_labels(c, {x:code_description_map.loc[x] for x in c.index})\n",
    "\n",
    "# the aggregated totals of all the data\n",
    "c = sut.aggregate_to_group_name(a_data[(a_data.code.isin(m_common.index))], column=\"code\", name=top, val=\"med\", unit_label=unit_label)\n",
    "m_c_p[top] = sut.change_series_index_labels(c, {x:code_description_map.loc[x] for x in c.index})\n",
    "\n",
    "# chart that\n",
    "fig, ax  = plt.subplots(figsize=(len(m_c_p.columns)*.9,len(m_c_p)*.9))\n",
    "axone = ax\n",
    "\n",
    "sns.heatmap(m_c_p, ax=axone, cmap=cmap2, annot=True, annot_kws={\"fontsize\":12}, fmt=\".1f\", square=True, cbar=False, linewidth=.1, linecolor=\"white\")\n",
    "axone.set_xlabel(\"\")\n",
    "axone.set_ylabel(\"\")\n",
    "axone.tick_params(labelsize=14, which=\"both\", axis=\"x\")\n",
    "axone.tick_params(labelsize=12, which=\"both\", axis=\"y\")\n",
    "\n",
    "plt.setp(axone.get_xticklabels(), rotation=90)\n",
    "\n",
    "plt.show()\n",
    "plt.close()"
   ]
  },
  {
   "cell_type": "markdown",
   "metadata": {},
   "source": [
    "### Die am häufigsten gefundenen Gegenständeim monatlichen Durchschnitt"
   ]
  },
  {
   "cell_type": "code",
   "execution_count": null,
   "metadata": {
    "tags": [
     "hide-input"
    ]
   },
   "outputs": [],
   "source": [
    "# collect the survey results of the most common objects\n",
    "m_common_m = fd[(fd.code.isin(m_common.index))].groupby([\"loc_date\", \"date\", \"code\", \"groupname\"], as_index=False).agg(agg_pcs_quantity)\n",
    "m_common_m.set_index(\"date\", inplace=True)\n",
    "\n",
    "# set the order of the chart, group the codes by groupname columns\n",
    "an_order = m_common_m.groupby([\"code\", \"groupname\"], as_index=False).quantity.sum().sort_values(by=\"groupname\")[\"code\"].values\n",
    "\n",
    "# a manager dict for the monthly results of each code\n",
    "mgr = {}\n",
    "\n",
    "# get the monhtly results for each code:\n",
    "for a_group in an_order:\n",
    "    # resample by month\n",
    "    a_plot = m_common_m[(m_common_m.code==a_group)][unit_label].resample(\"M\").mean().fillna(0)\n",
    "    this_group = {a_group:a_plot}\n",
    "    mgr.update(this_group)\n",
    "\n",
    "monthly_mc = F\"\"\"\n",
    "*__Unten:__ {this_feature[\"name\"]}, monatliche Durchschnittsergebnisse {unit_label}.*\n",
    "\"\"\"\n",
    "md(monthly_mc)"
   ]
  },
  {
   "cell_type": "code",
   "execution_count": null,
   "metadata": {
    "tags": [
     "hide-input"
    ]
   },
   "outputs": [],
   "source": [
    "# convenience function to lable x axis\n",
    "def new_month(x):\n",
    "    if x <= 11:\n",
    "        this_month = x\n",
    "    else:\n",
    "        this_month=x-12    \n",
    "    return this_month\n",
    "\n",
    "fig, ax = plt.subplots(figsize=(9,7))\n",
    "\n",
    "# define a bottom\n",
    "bottom = [0]*len(mgr[\"G27\"])\n",
    "\n",
    "# the monhtly survey average for all objects and locations\n",
    "monthly_fd = fd.groupby([\"loc_date\", \"date\"], as_index=False).agg(agg_pcs_quantity)\n",
    "monthly_fd.set_index(\"date\", inplace=True)\n",
    "m_fd = monthly_fd[unit_label].resample(\"M\").mean().fillna(0)\n",
    "\n",
    "# define the xaxis\n",
    "this_x = [i for i,x in  enumerate(m_fd.index)]\n",
    "\n",
    "# plot the monthly total survey average\n",
    "ax.bar(this_x, m_fd.to_numpy(), color=a_color, alpha=0.2, linewidth=1, edgecolor=\"teal\", width=1, label=\"Monthly survey average\") \n",
    "\n",
    "# plot the monthly survey average of the most common objects\n",
    "for i, a_group in enumerate(an_order): \n",
    "    \n",
    "    # define the axis\n",
    "    this_x = [i for i,x in  enumerate(mgr[a_group].index)]\n",
    "    \n",
    "    # collect the month\n",
    "    this_month = [x.month for i,x in enumerate(mgr[a_group].index)]\n",
    "    \n",
    "    # if i == 0 laydown the first bars\n",
    "    if i == 0:\n",
    "        ax.bar(this_x, mgr[a_group].to_numpy(), label=a_group, color=colors_palette[a_group], linewidth=1, alpha=0.6 ) \n",
    "    \n",
    "    # else use the previous results to define the bottom\n",
    "    else:\n",
    "        bottom += mgr[an_order[i-1]].to_numpy()        \n",
    "        ax.bar(this_x, mgr[a_group].to_numpy(), bottom=bottom, label=a_group, color=colors_palette[a_group], linewidth=1, alpha=0.8)\n",
    "        \n",
    "# collect the handles and labels from the legend\n",
    "handles, labels = ax.get_legend_handles_labels()\n",
    "\n",
    "# set the location of the x ticks\n",
    "ax.xaxis.set_major_locator(ticker.FixedLocator([i for i in np.arange(len(this_x))]))\n",
    "ax.set_ylabel(unit_label, **ck.xlab_k14)\n",
    "\n",
    "#label the xticks by month\n",
    "axisticks = ax.get_xticks()\n",
    "labelsx = [sut.months_de[new_month(x-1)] for x in  this_month]\n",
    "plt.xticks(ticks=axisticks, labels=labelsx)\n",
    "\n",
    "# make the legend\n",
    "# swap out codes for descriptions\n",
    "new_labels = [code_description_map.loc[x] for x in labels[1:]]\n",
    "new_labels = new_labels[::-1]\n",
    "\n",
    "# insert a label for the monthly average\n",
    "new_labels.insert(0,\"Monatsdurchschnitt\")\n",
    "handles = [handles[0], *handles[1:][::-1]]\n",
    "    \n",
    "plt.legend(handles=handles, labels=new_labels, bbox_to_anchor=(.5, -.05), loc=\"upper center\",  ncol=2, fontsize=14)       \n",
    "plt.show()"
   ]
  },
  {
   "cell_type": "markdown",
   "metadata": {
    "tags": []
   },
   "source": [
    "## Verwendungszweck der gefundenen Objekte \n",
    "\n",
    "Die Nutzungsart basiert auf der Verwendung des Objekts, bevor es weggeworfen wurde, oder auf der Artikelbeschreibung, wenn die ursprüngliche Verwendung unbestimmt ist. Identifizierte Objekte werden einer der 260 vordefinierten Kategorien zugeordnet. Die Kategorien werden je nach Verwendung oder Artikelbeschreibung gruppiert. \n",
    "\n",
    "*  **Abwasser:** Gegenstände, die aus Kläranlagen freigesetzt werden, einschliesslich Gegenstände, die wahrscheinlich über die Toilette entsorgt werden   \n",
    "*  **Mikroplastik (< 5 mm):** fragmentierte Kunststoffe und Kunststoffharze aus der Vorproduktion\n",
    "*  **Infrastruktur:** Artikel im Zusammenhang mit dem Bau und der Instandhaltung von Gebäuden, Strassen und der Wasser-/Stromversorgung  \n",
    "*  **Essen und Trinken:** alle Materialien, die mit dem Konsum von Essen und Trinken in Zusammenhang stehen\n",
    "*  **Landwirtschaft:** z. B. für Mulch und Reihenabdeckungen, Gewächshäuser, Bodenbegasung, Ballenverpackungen. Einschliesslich Hartkunststoffe für landwirtschaftliche Zäune, Blumentöpfe usw. \n",
    "*  **Tabakwaren:** hauptsächlich Zigarettenfilter, einschliesslich aller mit dem Rauchen verbundenen Materialien \n",
    "*  **Freizeit und Erholung:** Objekte, die mit Sport und Freizeit zu tun haben, z. B. Angeln, Jagen, Wandern usw. \n",
    "*  **Verpackungen ausser Lebensmittel und Getränke:** Verpackungsmaterial, das nicht lebensmittel-, getränke- oder tabakbezogen ist\n",
    "*  **Plastikfragmente:** Plastikteile unbestimmter Herkunft oder Verwendung  \n",
    "*  **Persönliche Gegenstände:** Accessoires, Hygieneartikel und Kleidung \n",
    "\n",
    "Im Anhang finden Sie die vollständige Liste der identifizierten Objekte, einschliesslich Beschreibungen und Gruppenklassifizierung. Der Abschnitt [Codegruppen](codegroupsde) beschreibt jede Codegruppe im Detail und bietet eine umfassende Liste aller Objekte in einer Gruppe. "
   ]
  },
  {
   "cell_type": "code",
   "execution_count": null,
   "metadata": {
    "tags": [
     "remove-input"
    ]
   },
   "outputs": [],
   "source": [
    "cg_poft = F\"\"\"\n",
    "<br></br>\n",
    "*__Unten:__ Verwendungszweck oder Beschreibung der identifizierten Objekte in % der Gesamtzahl nach Gemeinden im {this_feature[\"name\"]}. Fragmentierte Objekte, die nicht eindeutig identifiziert werden können, werden weiterhin nach ihrer Grösse klassifiziert.*\n",
    "\"\"\"\n",
    "md(cg_poft)"
   ]
  },
  {
   "cell_type": "code",
   "execution_count": null,
   "metadata": {
    "tags": [
     "hide-input"
    ]
   },
   "outputs": [],
   "source": [
    "# code groups resluts aggregated by survey\n",
    "groups = [\"loc_date\",\"groupname\"]\n",
    "cg_t = fd.groupby([this_level,*groups], as_index=False).agg(agg_pcs_quantity)\n",
    "\n",
    "# the total per water feature\n",
    "cg_tq = cg_t.groupby(this_level).quantity.sum()\n",
    "\n",
    "# get the fail rates for each group per survey\n",
    "cg_t[\"fail\"]=False\n",
    "cg_t[\"fail\"] = cg_t.quantity.where(lambda x: x == 0, True)\n",
    "\n",
    "# aggregate all that for each municipality\n",
    "agg_this = {unit_label:\"median\", \"quantity\":\"sum\", \"fail\":\"sum\", \"loc_date\":\"nunique\"} \n",
    "cg_t = cg_t.groupby([this_level, \"groupname\"], as_index=False).agg(agg_this)\n",
    "\n",
    "# assign survey area total to each record\n",
    "for a_feature in cg_tq.index:\n",
    "    cg_t.loc[cg_t[this_level] == a_feature, \"f_total\"] = cg_tq.loc[a_feature]\n",
    "\n",
    "# get the percent of total for each group for each survey area\n",
    "cg_t[\"pt\"] = (cg_t.quantity/cg_t.f_total).round(2)\n",
    "\n",
    "# pivot that\n",
    "data_table = cg_t.pivot(columns=this_level, index=\"groupname\", values=\"pt\")\n",
    "\n",
    "# aggregated values for the lake\n",
    "data_table[this_feature[\"name\"]]= sut.aggregate_to_group_name(fd, unit_label=unit_label, column=\"groupname\", name=bassin_label, val=\"pt\")\n",
    "\n",
    "# repeat for the survey area\n",
    "data_table[bassin_label] = sut.aggregate_to_group_name(a_data[a_data.river_bassin == this_bassin], unit_label=unit_label, column=\"groupname\", name=bassin_label, val=\"pt\")\n",
    "\n",
    "# repeat for all the data\n",
    "data_table[top] = sut.aggregate_to_group_name(a_data, unit_label=unit_label, column=\"groupname\", name=top, val=\"pt\")\n",
    "\n",
    "data = data_table\n",
    "# data.rename(columns={x:wname_wname.loc[x][0] for x in data.columns[:-2]}, inplace=True)\n",
    "\n",
    "fig, ax = plt.subplots(figsize=(10,10))\n",
    "\n",
    "axone = ax\n",
    "sns.heatmap(data , ax=axone, cmap=cmap2, annot=True, annot_kws={\"fontsize\":12}, cbar=False, fmt=\".0%\", linewidth=.1, square=True, linecolor=\"white\")\n",
    "\n",
    "axone.set_ylabel(\"\")\n",
    "axone.set_xlabel(\"\")\n",
    "axone.tick_params(labelsize=14, which=\"both\", axis=\"both\", labeltop=False, labelbottom=True)\n",
    "\n",
    "plt.setp(axone.get_xticklabels(), rotation=90, fontsize=14)\n",
    "plt.setp(axone.get_yticklabels(), rotation=0, fontsize=14)\n",
    "\n",
    "plt.show()"
   ]
  },
  {
   "cell_type": "code",
   "execution_count": null,
   "metadata": {
    "tags": [
     "hide-input"
    ]
   },
   "outputs": [],
   "source": [
    "cg_medpcm = F\"\"\"\n",
    "<br></br>\n",
    "*__Unten:__ Verwendungszweck der gefundenen Objekte Median {unit_label} im {this_feature[\"name\"]}. Fragmentierte Objekte, die nicht eindeutig identifiziert werden können, werden weiterhin nach ihrer Grösse klassifiziert.*\n",
    "\"\"\"\n",
    "md(cg_medpcm)"
   ]
  },
  {
   "cell_type": "code",
   "execution_count": null,
   "metadata": {
    "tags": [
     "hide-input"
    ]
   },
   "outputs": [],
   "source": [
    "# median p/50m of all the water features\n",
    "data_table = cg_t.pivot(columns=this_level, index=\"groupname\", values=unit_label)\n",
    "\n",
    "# aggregated values for the lake\n",
    "data_table[this_feature[\"name\"]]= sut.aggregate_to_group_name(fd, unit_label=unit_label, column=\"groupname\", name=bassin_label, val=\"med\")\n",
    "\n",
    "# the survey area columns\n",
    "data_table[bassin_label] = sut.aggregate_to_group_name(a_data[a_data.river_bassin == this_bassin], unit_label=unit_label, column=\"groupname\", name=bassin_label, val=\"med\")\n",
    "\n",
    "# column for all the surveys\n",
    "data_table[top] = sut.aggregate_to_group_name(a_data, unit_label=unit_label, column=\"groupname\", name=top, val=\"med\")\n",
    "\n",
    "# merge with data_table\n",
    "data = data_table\n",
    "\n",
    "fig, ax = plt.subplots(figsize=(10,10))\n",
    "\n",
    "axone = ax\n",
    "sns.heatmap(data , ax=axone, cmap=cmap2, annot=True, annot_kws={\"fontsize\":12}, fmt=\"g\", cbar=False, linewidth=.1, square=True, linecolor=\"white\")\n",
    "\n",
    "axone.set_xlabel(\"\")\n",
    "axone.set_ylabel(\"\")\n",
    "axone.tick_params(labelsize=14, which=\"both\", axis=\"both\", labeltop=False, labelbottom=True)\n",
    "\n",
    "plt.setp(axone.get_xticklabels(), rotation=90, fontsize=14)\n",
    "plt.setp(axone.get_yticklabels(), rotation=0, fontsize=14)\n",
    "\n",
    "plt.show()"
   ]
  },
  {
   "cell_type": "markdown",
   "metadata": {},
   "source": [
    "## Anhang\n",
    "\n",
    "### Schaumstoffe und Kunststoffe nach Grösse \n",
    "\n",
    "Die folgende Tabelle enthält die Komponenten \"Gfoam\" und \"Gfrags\", die für die Analyse gruppiert wurden. Objekte, die als Schaumstoffe gekennzeichnet sind, werden als Gfoam gruppiert und umfassen alle geschäumten Polystyrol-Kunststoffe > 0,5 cm.  Kunststoffteile und Objekte aus kombinierten Kunststoff- und Schaumstoffmaterialien > 0,5 cm werden für die Analyse als Gfrags gruppiert."
   ]
  },
  {
   "cell_type": "code",
   "execution_count": null,
   "metadata": {
    "tags": [
     "remove-input"
    ]
   },
   "outputs": [],
   "source": [
    "frag_foams = F\"\"\"\n",
    "*__Unten:__ Fragmentierte und geschäumte Kunststoffe nach Grösse im {this_feature[\"name\"]}, Median p/100m, Anzahl der gefundenen Stücke und Prozent der Gesamtmenge.*\n",
    "\"\"\"\n",
    "md(frag_foams)"
   ]
  },
  {
   "cell_type": "code",
   "execution_count": null,
   "metadata": {
    "tags": [
     "hide-input"
    ]
   },
   "outputs": [],
   "source": [
    "# collect the data before aggregating foams for all locations in the survey area\n",
    "\n",
    "# the codes for the foams\n",
    "some_foams = [\"G81\", \"G82\", \"G83\", \"G74\"]\n",
    "\n",
    "# the codes for the fragmented plastics\n",
    "before_agg.rename(columns={\"p/100m\": unit_label}, inplace=True)\n",
    "some_frag_plas = list(before_agg[before_agg.groupname == \"plastic pieces\"].code.unique())\n",
    "\n",
    "# aggregate all the codes by loc_date and get the total quantity and the median pcs/m\n",
    "fd_frags_foams = before_agg[(before_agg.code.isin([*some_frag_plas, *some_foams]))&(before_agg.location.isin(t[\"locations\"]))].groupby([\"loc_date\",\"code\"], as_index=False).agg(agg_pcs_quantity)\n",
    "fd_frags_foams = fd_frags_foams.groupby(\"code\").agg(agg_pcs_median)\n",
    "\n",
    "# add code description and format for printing\n",
    "fd_frags_foams[\"item\"] = fd_frags_foams.index.map(lambda x: code_description_map.loc[x])\n",
    "fd_frags_foams[\"% of total\"] = (fd_frags_foams.quantity/fd.quantity.sum()*100).round(2)\n",
    "fd_frags_foams[\"% of total\"] = fd_frags_foams[\"% of total\"].map(lambda x: F\"{x}%\")\n",
    "fd_frags_foams[\"quantity\"] = fd_frags_foams[\"quantity\"].map(lambda x: f\"{locale.format_string('%d', x, grouping=True)}\")\n",
    "\n",
    "# table data\n",
    "data = fd_frags_foams[[\"item\", unit_label, \"quantity\", \"% of total\"]]\n",
    "\n",
    "data.rename(columns={\"quantity\":\"Gesamt\", \"% of total\":\"% Gesamt\" }, inplace=True)\n",
    "\n",
    "fig, axs = plt.subplots(figsize=(11,len(data)*.8))\n",
    "sut.hide_spines_ticks_grids(axs)\n",
    "\n",
    "the_first_table_data = axs.table(data.values,  colLabels=data.columns, colWidths=[.6, .13, .13, .13], bbox=[0, 0, 1, 1])\n",
    "\n",
    "a_summary_table_one = sut.make_a_summary_table(the_first_table_data,data.values,data.columns, a_color, s_et_bottom_row=True)\n",
    "\n",
    "a_summary_table_one.get_celld()[(0,0)].get_text().set_text(\" \")\n",
    "\n",
    "a_summary_table_one.set_fontsize(14)\n",
    "plt.show()\n",
    "plt.tight_layout()\n",
    "plt.close()"
   ]
  },
  {
   "cell_type": "markdown",
   "metadata": {},
   "source": [
    "### Die Erhebungsorte"
   ]
  },
  {
   "cell_type": "code",
   "execution_count": null,
   "metadata": {
    "tags": [
     "hide-input"
    ]
   },
   "outputs": [],
   "source": [
    "# display the survey locations\n",
    "\n",
    "disp_columns = [\"latitude\", \"longitude\", \"city\"]\n",
    "disp_beaches = dfBeaches.loc[t[\"locations\"]][disp_columns]\n",
    "disp_beaches.reset_index(inplace=True)\n",
    "disp_beaches.rename(columns={\"city\":\"stat\", \"slug\":\"standort\"}, inplace=True)\n",
    "disp_beaches.set_index(\"standort\", inplace=True, drop=True)\n",
    "\n",
    "disp_beaches"
   ]
  },
  {
   "cell_type": "markdown",
   "metadata": {
    "tags": []
   },
   "source": [
    "### Inventar der Objekte"
   ]
  },
  {
   "cell_type": "code",
   "execution_count": null,
   "metadata": {
    "tags": [
     "hide-input"
    ]
   },
   "outputs": [],
   "source": [
    "# display inventory\n",
    "pd.set_option(\"display.max_rows\", None)\n",
    "locale.setlocale(locale.LC_ALL, loc)\n",
    "complete_inventory = code_totals[code_totals.quantity>0][[\"item\", \"groupname\", \"quantity\", \"% of total\",\"fail rate\"]]\n",
    "complete_inventory.rename(columns={\"item\":\"Objekte\", \"groupname\":\"Gruppenname\", \"quantity\":\"Gesamt\", \"% of total\":\"% Gesamt\", \"fail rate\":\"fail rate\" }, inplace=True)\n",
    "\n",
    "\n",
    "complete_inventory.sort_values(by=\"Gesamt\", ascending=False)"
   ]
  },
  {
   "cell_type": "code",
   "execution_count": null,
   "metadata": {
    "tags": []
   },
   "outputs": [],
   "source": []
  }
 ],
 "metadata": {
  "kernelspec": {
   "display_name": "Python 3 (ipykernel)",
   "language": "python",
   "name": "python3"
  },
  "language_info": {
   "codemirror_mode": {
    "name": "ipython",
    "version": 3
   },
   "file_extension": ".py",
   "mimetype": "text/x-python",
   "name": "python",
   "nbconvert_exporter": "python",
   "pygments_lexer": "ipython3",
   "version": "3.8.12"
  }
 },
 "nbformat": 4,
 "nbformat_minor": 4
}
