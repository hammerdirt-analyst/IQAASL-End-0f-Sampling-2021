{
 "cells": [
  {
   "cell_type": "code",
   "execution_count": 1,
   "metadata": {
    "tags": [
     "remove-input"
    ]
   },
   "outputs": [],
   "source": [
    "# sys, file and nav packages:\n",
    "import datetime as dt\n",
    "\n",
    "# math packages:\n",
    "import pandas as pd\n",
    "import numpy as np\n",
    "from scipy import stats\n",
    "import statsmodels.api as sm\n",
    "from statsmodels.distributions.empirical_distribution import ECDF\n",
    "from statsmodels.stats.stattools import medcouple\n",
    "import math\n",
    "\n",
    "# charting:\n",
    "import matplotlib as mpl\n",
    "import matplotlib.pyplot as plt\n",
    "# import matplotlib.dates as mdates\n",
    "# from matplotlib import ticker\n",
    "# from matplotlib import colors\n",
    "# from matplotlib.colors import LinearSegmentedColormap\n",
    "import seaborn as sns\n",
    "\n",
    "# home brew utitilties\n",
    "import resources.utility_functions as ut\n",
    "import resources.chart_kwargs as ck\n",
    "import resources.sr_ut as sut\n",
    "\n",
    "# images and display\n",
    "# import base64, io, IPython\n",
    "# from PIL import Image as PILImage\n",
    "from IPython.display import Markdown as md\n",
    "from IPython.display import Math, Latex\n",
    "\n",
    "# set some parameters:\n",
    "today = dt.datetime.now().date().strftime(\"%Y-%m-%d\")\n",
    "start_date = '2020-03-01'\n",
    "end_date ='2021-05-31'\n",
    "\n",
    "# set the fail rate to test\n",
    "# a_fail_rate = 50\n",
    "\n",
    "# name of the output folder:\n",
    "name_of_project = 'threshold_values'\n",
    "\n",
    "# set the maps\n",
    "# bassin_map = PILImage.open(\"resources/maps/aare_scaled.jpeg\")\n",
    "# land_use_map = PILImage.open(\"resources/maps/land_use_aare.jpeg\")\n",
    "\n",
    "# # the search term for the river bassin\n",
    "# bassin_name = 'aare'\n",
    "\n",
    "# lakes_of_interest = ['thunersee', 'bielersee', 'neuenburgersee']\n",
    "# lake_colors=[\"darkblue\", \"royalblue\", \"cadetblue\"]\n",
    "\n",
    "# # the names for the survey area and the cumulative data\n",
    "# level_names = [\"Aare survey area\",\"All survey areas\"]\n",
    "\n",
    "# the scale for pieces per meter and the column and chart label for the units\n",
    "reporting_unit = 100\n",
    "unit_label = 'p/100m'\n",
    "\n",
    "# add the folder to the directory tree:\n",
    "project_directory = ut.make_project_folder('output', name_of_project)\n",
    "\n",
    "# colors for gradients\n",
    "# colors = ['beige', 'navajowhite', 'sandybrown', 'salmon', 'sienna']\n",
    "# nodes = [0.0, 0.2, 0.6, 0.8, 1.0]\n",
    "# cmap2 = LinearSegmentedColormap.from_list(\"mycmap\", list(zip(nodes, colors)))\n",
    "\n",
    "# get your data:\n",
    "survey_data = pd.read_csv('resources/results_with_land_use_2015.csv')\n",
    "river_bassins = ut.json_file_get(\"resources/river_basins.json\")\n",
    "dfBeaches = pd.read_csv(\"resources/beaches_with_land_use_rates.csv\")\n",
    "dfCodes = pd.read_csv(\"resources/codes_with_group_names_2015.csv\")\n",
    "dfDims = pd.read_csv(\"resources/dims_data.csv\")\n",
    "\n",
    "# set the index of the beach data to location slug\n",
    "dfBeaches.set_index('slug', inplace=True)\n",
    "\n",
    "# map locations to feature names\n",
    "location_wname_key = dfBeaches.water_name_slug\n",
    "\n",
    "# map water_name_slug to water_name\n",
    "wname_wname = dfBeaches[['water_name_slug','water_name']].reset_index(drop=True).drop_duplicates()\n",
    "wname_wname.set_index('water_name_slug', inplace=True)\n",
    "\n",
    "# convenience function for doing land use correlations\n",
    "def make_plot_with_spearmans(data, ax, n):\n",
    "    sns.scatterplot(data=data, x=n, y=unit_label, ax=ax, color='black', s=30, edgecolor='white', alpha=0.6)\n",
    "    corr, a_p = stats.spearmanr(data[n], data[unit_label])\n",
    "    return ax, corr, a_p\n",
    "\n",
    "# index the code data\n",
    "dfCodes.set_index(\"code\", inplace=True)\n",
    "\n",
    "# these descriptions need to be shortened for display\n",
    "dfCodes = sut.shorten_the_value([\"G74\", \"description\", \"Insulation: includes spray foams\"], dfCodes)\n",
    "dfCodes = sut.shorten_the_value([\"G940\", \"description\", \"Foamed EVA for crafts and sports\"], dfCodes)\n",
    "dfCodes = sut.shorten_the_value([\"G96\", \"description\", \"Sanitary-pads/tampons, applicators\"], dfCodes)\n",
    "dfCodes = sut.shorten_the_value([\"G178\", \"description\", \"Metal bottle caps and lids\"], dfCodes)\n",
    "dfCodes = sut.shorten_the_value([\"G82\", \"description\", \"Expanded foams 2.5cm - 50cm\"], dfCodes)\n",
    "dfCodes = sut.shorten_the_value([\"G81\", \"description\", \"Expanded foams .5cm - 2.5cm\"], dfCodes)\n",
    "dfCodes = sut.shorten_the_value([\"G117\", \"description\", \"Expanded foams < 5mm\"], dfCodes)\n",
    "dfCodes = sut.shorten_the_value([\"G75\", \"description\", \"Plastic/foamed polystyrene 0 - 2.5cm\"], dfCodes)\n",
    "dfCodes = sut.shorten_the_value([\"G76\", \"description\", \"Plastic/foamed polystyrene 2.5cm - 50cm\"], dfCodes)\n",
    "dfCodes = sut.shorten_the_value([\"G24\", \"description\", \"Plastic lid rings\"], dfCodes)\n",
    "dfCodes = sut.shorten_the_value([\"G33\", \"description\", \"Lids for togo drinks plastic\"], dfCodes)\n",
    "dfCodes = sut.shorten_the_value([\"G3\", \"description\", \"Plastic bags, carier bags\"], dfCodes)\n",
    "dfCodes = sut.shorten_the_value([\"G204\", \"description\", \"Bricks, pipes not plastic\"], dfCodes)\n",
    "\n",
    "# make a map to the code descriptions\n",
    "code_description_map = dfCodes.description\n",
    "\n",
    "# make a map to the code descriptions\n",
    "code_material_map = dfCodes.material"
   ]
  },
  {
   "cell_type": "markdown",
   "metadata": {
    "tags": []
   },
   "source": [
    "# Calculating baseline values\n",
    "\n",
    "Similar to survey results in the marine environment beach-litter-data in Switzerland is highly variable. With values ranging from zero (two surveys in 2020 had a quantity of zero), to thousands of objects and fragments within 100m coastline. The _JRC Technical Report: A European threshold value_ {cite}`eubaselines` suggests several methods for calculating threshold values, confidence intervals and extreme values. Examples of the proposed methods are applied to the survey results from IQAASL.\n",
    "\n",
    "__Assumptions:__\n",
    "\n",
    "*  The more trash there is on the ground the more a person is likely to find\n",
    "*  **The survey results represent the minimum amount of trash at that site**\n",
    "*  For each survey: finding one item does not effect the chance of finding another"
   ]
  },
  {
   "cell_type": "markdown",
   "metadata": {},
   "source": [
    "## The data\n",
    "\n",
    "Only surveys with a length greater than ten meters and less than 100 meters are included in the baseline calculation. The available space to survey in urban or suburban environments is limited, changes in the lake level and wave action can have significant effects on the available space to survey, including reducing the length of available shoreline. In IQAASL the policy was to avoid doing surveys less than ten meters. Note that this does not exclude all surveys from a location, only those that were less than ten meters."
   ]
  },
  {
   "cell_type": "code",
   "execution_count": 2,
   "metadata": {
    "tags": [
     "hide-input"
    ]
   },
   "outputs": [],
   "source": [
    "# define the final survey data set here:\n",
    "a_data = survey_data.copy()\n",
    "\n",
    "# make a loc_date column from the survey data\n",
    "# before converting to timestamp\n",
    "a_data['loc_date']=tuple(zip(a_data.location, a_data.date))\n",
    "\n",
    "# convert string dates from .csv to timestamp\n",
    "a_data['date']=pd.to_datetime(a_data['date'], format='%Y-%m-%d')\n",
    "\n",
    "# slice by start- end date\n",
    "a_data = a_data[(a_data.date >= start_date)&(a_data.date <= end_date)]\n",
    "\n",
    "# combine lugano and maggiore\n",
    "# if the river bassin name does not equal tresa leave it, else change it to ticino\n",
    "a_data['river_bassin'] = a_data.river_bassin.where(a_data.river_bassin != 'tresa', 'ticino' )\n",
    "\n",
    "# assign the reporting value\n",
    "a_data[unit_label] = (a_data.pcs_m * reporting_unit).round(2)\n",
    "\n",
    "# scale the streets to kilometers\n",
    "a_data['streets'] = a_data.streets.astype('int')\n",
    "a_data['streets km'] = a_data.streets/1000\n",
    "\n",
    "# save the data before aggregating to test\n",
    "before_agg = a_data.copy()\n",
    "\n",
    "# Combine the different sizes of fragmented plastics and styrofoam\n",
    "# the codes for the foams\n",
    "some_foams = ['G81', 'G82', 'G83']\n",
    "\n",
    "# the codes for the fragmented plastics\n",
    "some_frag_plas = list(a_data[a_data.groupname == 'plastic pieces'].code.unique())\n",
    "\n",
    "# this extracts and aggregates the members of the two code groups, returns a dataframe\n",
    "the_plast_rows = sut.create_aggregate_groups(a_data, codes_to_agg=some_frag_plas,a_model_code=\"G79\", a_new_code=\"Gfrags\")\n",
    "the_foam_rows = sut.create_aggregate_groups(a_data, codes_to_agg=some_foams, a_model_code=\"G82\", a_new_code=\"Gfoam\")\n",
    "\n",
    "# the foam codes and fragmented plastic codes have been aggregated in to Gfrags and Gfoam\n",
    "a_data = sut.replace_a_group_of_codes_with_one(a_data, new_code_values=[the_plast_rows, the_foam_rows], codes_to_replace=[*some_frag_plas, *some_foams])\n",
    "\n",
    "# gather the dimensional data for the time frame from dfDims\n",
    "# match records to survey data\n",
    "fd_dims= dfDims[(dfDims.location.isin(a_data.location.unique()))&(dfDims.date >= start_date)&(dfDims.date <= end_date)].copy()\n",
    "\n",
    "# make a loc_date column and get the unique values\n",
    "fd_dims['loc_date'] = list(zip(fd_dims.location, fd_dims.date))\n",
    "\n",
    "# map the survey area name to the dims data record\n",
    "a_map = fd_dims[['loc_date', 'area']].set_index('loc_date')\n",
    "l_map = fd_dims[['loc_date', 'length']].set_index('loc_date')\n",
    "\n",
    "# map length and area from dims to survey data\n",
    "for a_survey in fd_dims.loc_date.unique():\n",
    "    a_data.loc[a_data.loc_date == a_survey, 'length'] = l_map.loc[[a_survey], 'length'][0]\n",
    "    a_data.loc[a_data.loc_date == a_survey, 'area'] = a_map.loc[[a_survey], 'area'][0]\n",
    "\n",
    "# exclude surveys less than 10 meters\n",
    "gten_lhun = a_data.loc[(a_data.length > 10)].copy()\n",
    "\n",
    "# this is a common aggregation\n",
    "agg_pcs_quantity = {unit_label:'sum', 'quantity':'sum'}\n",
    "\n",
    "# survey totals by location\n",
    "dt_all = gten_lhun.groupby(['loc_date','location','river_bassin', 'water_name_slug','date'], as_index=False).agg(agg_pcs_quantity)"
   ]
  },
  {
   "cell_type": "markdown",
   "metadata": {},
   "source": [
    "### Identifying extreme values\n",
    "\n",
    "Extreme values are identified but not excluded from the baseline or confidence level calculations. The identification of extreme values is to ensure that extreme data are verified on a case by case basis and to apply the median for calculating baseline statistics. {cite}`eubaselines`\n",
    "\n",
    "The occurrence of extreme values can influence the average of the data and the interpretation of survey results. According the to the JRC report:\n",
    "\n",
    ">  The methodology for the identification of extreme values can be either expert judgement, or be based on statistical and modelling approaches, such as the application of Tukey’s box plots to detect potential outliers. For skewed distributions, the adjusted box plot is more appropriate. {cite}`eubaselines`"
   ]
  },
  {
   "cell_type": "markdown",
   "metadata": {},
   "source": [
    "#### Adjusted boxplots\n",
    "\n",
    "Tukey’s boxplot is used to visualize the distribution of a univariate data set. The samples that fall within the first quartile ($Q_1$) and the third quartile ($Q_3$) are considered to be within the innerquartial range (IQR) = $Q_3 - Q_1$. Points out side of the inner quartile range are considered outliers if their value is greater or less than one of two limits:\n",
    "\n",
    "* lower limit = $Q_1 - (1.5*IQR)$\n",
    "\n",
    "* upper limit = $Q_3 + (1.5*IQR)$\n",
    "\n",
    "Adusting the boxplot involves replacing the constant 1.5 with another parameter. This parameter is calculated using a method called the _medcouple_ (MC) and applying the result of that method to the constant 1.5. {cite}`adjbox` {cite}`medcouple` The new calculation looks like this:\n",
    "\n",
    "* lower limit = $Q_1 - (1.5e^{-4MC}*IQR)$\n",
    "\n",
    "* upper limit = $Q_3 + (1.5e^{3MC}*IQR)$\n",
    "\n",
    "*The limit at which a survey is conisdered _extreme_ extends to the 98th percentile when the boxplots are adjusted as opposed to the 90th percentile if the constant is left at 1.5.*"
   ]
  },
  {
   "cell_type": "code",
   "execution_count": 3,
   "metadata": {
    "tags": [
     "hide-input"
    ]
   },
   "outputs": [
    {
     "data": {
      "image/png": "[encoded data removed]",
      "text/plain": [
       "<Figure size 576x576 with 2 Axes>"
      ]
     },
     "metadata": {
      "needs_background": "light"
     },
     "output_type": "display_data"
    }
   ],
   "source": [
    "# implementation of medcouple\n",
    "a_whis = medcouple(dt_all[unit_label].to_numpy())\n",
    "\n",
    "# get the ecdf \n",
    "ecdf = ECDF(dt_all[unit_label].to_numpy())\n",
    "\n",
    "# quantiles and IQR of the data\n",
    "q1 = dt_all[unit_label].quantile(0.25)\n",
    "q3 =dt_all[unit_label].quantile(0.75)\n",
    "iqr = q3 - q1\n",
    "\n",
    "# the upper and lower limit of extreme values unadjusted:\n",
    "limit_lower = q1 - 1.5*iqr\n",
    "limit_upper = q3 + 1.5*iqr\n",
    "\n",
    "# the upper and lower limit of extreme values adjusted:\n",
    "a_fence = q1 - (1.5*(math.exp((-4*a_whis))))*iqr\n",
    "a_2fence = q3 + (1.5*(math.exp((3*a_whis))))*iqr\n",
    "\n",
    "# source = https://stackoverflow.com/questions/12127635/matplotlib-can-we-draw-a-histogram-and-a-box-plot-on-a-same-chart\n",
    "fig, (ax_box, ax_hist) = plt.subplots(2, sharex=True, gridspec_kw={\"height_ratios\": (.15, .85)}, figsize=(8,8))\n",
    "\n",
    "# Add a graph in each part\n",
    "sns.boxplot(x=dt_all[unit_label], ax=ax_box)\n",
    "sns.histplot(x=dt_all[unit_label], ax=ax_hist)\n",
    "\n",
    "# get the limits of the x and y axix\n",
    "xamax = ax_hist.get_xlim()\n",
    "y_max= ax_hist.get_ylim()\n",
    "\n",
    "# no xlabel on the top axis\n",
    "ax_box.set_xlabel(\" \")\n",
    "\n",
    "# fill the areas concerened by each limt\n",
    "ax_hist.fill_between(x=[limit_upper,xamax[1]], y1=y_max[1], label='upper limit boxplot', alpha=0.1, color=\"dodgerblue\", linewidth=0.1)\n",
    "ax_hist.fill_between(x=[a_2fence,xamax[1]], y1=y_max[1],label='upper limit adjusted', hatch='x', edgecolor='magenta', facecolor='none',alpha=0.2)\n",
    "\n",
    "ax_box.fill_between(x=[limit_upper,xamax[1]], y1=ax_box.get_ylim()[1], y2=ax_box.get_ylim()[0],  label='upper limit boxplot', alpha=0.1, color=\"dodgerblue\", linewidth=0.1)\n",
    "ax_box.fill_between(x=[a_2fence,xamax[1]], y1=ax_box.get_ylim()[1], y2=ax_box.get_ylim()[0], label='upper limit adjusted', hatch='x', edgecolor='magenta', facecolor='none',alpha=0.2)\n",
    "\n",
    "# get legend\n",
    "handles, labels = ax_box.get_legend_handles_labels()\n",
    "plt.legend(handles, labels, fontsize=14)\n",
    "\n",
    "plt.show()"
   ]
  },
  {
   "cell_type": "code",
   "execution_count": 4,
   "metadata": {
    "tags": [
     "remove-input"
    ]
   },
   "outputs": [
    {
     "data": {
      "text/markdown": [
       "\n",
       "*The diffrence between adjusted and normal boxplots. Adjusted = 1792 p/100m,  unadjusted = 708 p/100m.*\n"
      ],
      "text/plain": [
       "<IPython.core.display.Markdown object>"
      ]
     },
     "execution_count": 4,
     "metadata": {},
     "output_type": "execute_result"
    }
   ],
   "source": [
    "caption = F\"\"\"\n",
    "*The diffrence between adjusted and normal boxplots. Adjusted = {int(a_2fence)} {unit_label},  unadjusted = {int(limit_upper)} {unit_label}.*\n",
    "\"\"\"\n",
    "md(caption)"
   ]
  },
  {
   "cell_type": "markdown",
   "metadata": {},
   "source": [
    "#### Modeling\n",
    "\n",
    "Extreme values can be indentified by assuming the data belong to some underlying known statistical distribution. Count data is often modeled using a poisson distribution, however this is only valid where variance is equal to the mean. The data from IQAASL and beach-litter data in general do not meet this criteria, the negative binomial (NB) distribution allows for the variance to be greater than the mean. {cite}`cameron` {cite}`wolfram`\n",
    "\n",
    "> The modelling approach for the identification of extreme values is then performed by fitting the NB-distribution to the data by means of maximum likelihood and tagging all values in the right tail as potentially extreme values if the probability that they belong to the fitted NB-distribution is less than, e.g. 0.001. {cite}`threshholdeu`\n",
    "\n",
    "\n",
    "##### NB method of moments\n",
    "\n",
    "Modeling data is a vast domain and many fields and industries have developed specific algorythms using parameters from known relationships. The techniques from the MSFD are for greater temporal and spatial ranges than those defined by the IQAASL. The purpose of modeling for this example is to simply identify probable extreme values of aggregated data, a generalist approach by definition.\n",
    "\n",
    "Fitting the NB distribution has all to do with estimating parameters, _maximum likelihood estimation_ can be an involved process. The method of moments produces comparable results and the parameters can be taken from the data {cite}`mlenb` {cite}`nbinom` {cite}`examplemmoments`.  There are several basic statistical packages that cover this use, the examples here and elsewhere in this publication come from SciPy and statsmodels. {cite}`2020SciPy` {cite}`medcouple` "
   ]
  },
  {
   "cell_type": "markdown",
   "metadata": {},
   "source": [
    "*Estimating the parameters of the underlying NB distribution using the mean and the variance from the observed values* \n",
    "\n",
    "*implementation: https://docs.scipy.org/doc/scipy/reference/generated/scipy.stats.nbinom.html*"
   ]
  },
  {
   "cell_type": "code",
   "execution_count": 5,
   "metadata": {
    "tags": [
     "hide-input"
    ]
   },
   "outputs": [
    {
     "data": {
      "image/png": "[encoded data removed]",
      "text/plain": [
       "<Figure size 576x576 with 2 Axes>"
      ]
     },
     "metadata": {
      "needs_background": "light"
     },
     "output_type": "display_data"
    }
   ],
   "source": [
    "# the data to model\n",
    "vals = dt_all[unit_label].to_numpy()\n",
    "\n",
    "# whiskers for the boxplots\n",
    "a_whis = medcouple(vals)\n",
    "\n",
    "# the ratio of distributed items to contributed items in rural locations:\n",
    "# see the assessing transport notebook for a complete epxlanation\n",
    "dispersion_param = 1.7*.81\n",
    "\n",
    "# the variance\n",
    "var = np.var(vals)\n",
    "\n",
    "# the average\n",
    "mean = np.mean(vals)\n",
    "\n",
    "# dispersion\n",
    "p = (mean/var)\n",
    "n = (mean**2/(var-mean))*dispersion_param\n",
    "\n",
    "# point estimates from for the 98 and 90 %ile\n",
    "rv = stats.nbinom(n, p)\n",
    "sim_98 = rv.ppf(.98)\n",
    "obs_98 = np.quantile(vals, .98)\n",
    "\n",
    "sim_90 = rv.ppf(.9)\n",
    "obs_90 = np.quantile(vals, .9)\n",
    "\n",
    "# simulated data\n",
    "r = stats.nbinom.rvs(n,p, size=len(vals))\n",
    "a_whis = medcouple(r)\n",
    "\n",
    "# quantiles and IQR of the data\n",
    "q1 = np.percentile(r, 25)\n",
    "q3 =np.percentile(r,75)\n",
    "iqr = q3 - q1\n",
    "\n",
    "# the upper and lower limit of extreme values unadjusted:\n",
    "limit_lower = q1 - 1.5*iqr\n",
    "limit_upper = q3 + 1.5*iqr\n",
    "\n",
    "# the upper and lower limit of extreme values adjusted:\n",
    "a_fence = q1 - (1.5*(math.exp((-4*a_whis))))*iqr\n",
    "a_2fence = q3 + (1.5*(math.exp((3*a_whis))))*iqr\n",
    "\n",
    "# format data for charting\n",
    "df = pd.DataFrame({unit_label:vals, 'group':'observed'})\n",
    "df = df.append(pd.DataFrame({unit_label:r, 'group':'simulated'}))\n",
    "\n",
    "fig, (axone, axtwo) = plt.subplots(2, sharex=True, gridspec_kw={\"height_ratios\": (.15, .85)}, figsize=(8,8))\n",
    "\n",
    "# Add a graph in each part\n",
    "sns.boxplot(data=df[df.group == 'simulated'][unit_label], orient='h',ax=axone)\n",
    "sns.histplot(data=df, x=unit_label, hue='group', stat='count', multiple=\"layer\", legend=True, ax=axtwo)\n",
    "\n",
    "# get the limits of the x and y axis\n",
    "xamax = axtwo.get_xlim()\n",
    "y_max= axtwo.get_ylim()\n",
    "\n",
    "# no xlabel on the top axis\n",
    "axone.set_xlabel(\" \")\n",
    "\n",
    "# fill the areas concerened by each limit\n",
    "axtwo.fill_between(x=[limit_upper,xamax[1]], y1=y_max[1], label='lower limit simulated', alpha=0.1, color=\"dodgerblue\", linewidth=0.1)\n",
    "axtwo.fill_between(x=[a_2fence,xamax[1]], y1=y_max[1],label='upper limit simulated', hatch='x', edgecolor='magenta', facecolor='none',alpha=0.2)\n",
    "\n",
    "axone.fill_between(x=[limit_upper,xamax[1]], y1=axone.get_ylim()[1], y2=axone.get_ylim()[0],  label='upper limit boxplot', alpha=0.1, color=\"dodgerblue\", linewidth=0.1)\n",
    "axone.fill_between(x=[a_2fence,xamax[1]], y1=axone.get_ylim()[1], y2=axone.get_ylim()[0], label='upper limit adjusted', hatch='x', edgecolor='magenta', facecolor='none',alpha=0.2)\n",
    "\n",
    "plt.show()"
   ]
  },
  {
   "cell_type": "code",
   "execution_count": 6,
   "metadata": {
    "tags": [
     "remove-input"
    ]
   },
   "outputs": [
    {
     "data": {
      "text/markdown": [
       "\n",
       "*Point estimate of the 98th percentile from simulated data = 2282 p/100m, estimate of the 90th percentile = 1160 p/100m*\n"
      ],
      "text/plain": [
       "<IPython.core.display.Markdown object>"
      ]
     },
     "execution_count": 6,
     "metadata": {},
     "output_type": "execute_result"
    }
   ],
   "source": [
    "caption = F\"\"\"\n",
    "*Point estimate of the 98th percentile from simulated data = {int(sim_98)} {unit_label}, estimate of the 90th percentile = {int(sim_90)} {unit_label}*\n",
    "\"\"\"\n",
    "md(caption)"
   ]
  },
  {
   "cell_type": "markdown",
   "metadata": {},
   "source": [
    "### Confidence intervals"
   ]
  },
  {
   "cell_type": "markdown",
   "metadata": {},
   "source": [
    "Confidence intervals (CIs) help approximate or mitigate the uncertainty of beach-litter survey results. Another way to mitigate uncertainty is to have the appropriate number of samples for the region or area of interest. In the marine environment the recomended minimum number of surveys for each region is 40 if calculating CIs, after that there is only a limited gain in the improvement of the CI.{cite}`eubaselines`\n",
    "\n",
    "Even though the extreme values have been identified they are included in the data set for calcualting base lines and confidence intervals:\n",
    "\n",
    "> It was agreed to leave the extreme data in the dataset, while highlighting the need to check to verify extreme data case by case and to apply the median for calculating of averages. This allows the use of all data while not skewing results through singleextraordinary high litter count surveys. {cite}`threshholdeu`\n",
    "\n",
    "\n",
    "#### Bootstrap methods:\n",
    "\n",
    "Bootstrapping is a resampling method that uses random sampling with replacement to repeat or simulate the sampling process. Bootstrapping permits the estimation of the sampling distribution of sample statistics using random sampling methods. {cite}`bootstrapdef` {cite}`bsci` {cite}`usingbootstrap` \n",
    "\n",
    "There are several computational methods to choose from such as percentile, BCa, and Student's t to name a few. For this example two methods were tested:\n",
    "\n",
    "1. Percentile bootstrap\n",
    "2. bias-corrected accelerated bootstrap confidence interval (BCa)\n",
    "\n",
    "The _percentile method_ does not account for the _shape_ of the underlying distribution and this can lead to confidence intervals that do not match the data. The BCa corrects that. The implementation of these methods is straight forward using the previously cited packages. {cite}`bcatheory` {cite}`bcaimpdrysdale` {cite}`bcaconfidence`"
   ]
  },
  {
   "cell_type": "code",
   "execution_count": 7,
   "metadata": {
    "tags": [
     "hide-input"
    ]
   },
   "outputs": [
    {
     "data": {
      "text/markdown": [
       "\n",
       "**Confidence intervals calculated using the percentile method**\n",
       "\n",
       "95% confidence interval of the median survey total and the 10th percentile:\n",
       "\n",
       "*CI of the median:  observed=158.0 p/100m, lower limit=139.0 p/100m, upper limit=194.0 p/100m*\n",
       "\n",
       "*CI of the 15th percentile:  observed=45.5 p/100m, lower limit=39.5 p/100m, upper limit=53.0 p/100m*\n"
      ],
      "text/plain": [
       "<IPython.core.display.Markdown object>"
      ]
     },
     "execution_count": 7,
     "metadata": {},
     "output_type": "execute_result"
    }
   ],
   "source": [
    "# bootstrap percentile confidence intervals\n",
    "\n",
    "# the number of reps\n",
    "n=5000\n",
    "\n",
    "# keep the observed values\n",
    "observed_median = dt_all[unit_label].median()\n",
    "observed_tenth = dt_all[unit_label].quantile(.15)\n",
    "\n",
    "# place to keep the results from each resample\n",
    "\n",
    "# for the median\n",
    "sim_medians = []\n",
    "\n",
    "# for the tenth percentile\n",
    "sim_ten = []\n",
    "\n",
    "# sample\n",
    "for element in np.arange(n):    \n",
    "    less = dt_all[unit_label].sample(n=len(dt_all), replace=True)    \n",
    "    the_median = less.median()\n",
    "    the_10th = less.quantile(.15)\n",
    "    sim_medians.append(the_median)\n",
    "    sim_ten.append(the_10th)\n",
    "\n",
    "# get the upper and lower range of the sample median:\n",
    "g_25 = np.percentile(sim_medians, 2.5)\n",
    "g_975 = np.percentile(sim_medians, 97.5)\n",
    "\n",
    "# get the upper and lower range of the tenth percentile:\n",
    "g_25_ten = np.percentile(sim_ten, 2.5)\n",
    "g_975_ten = np.percentile(sim_ten, 97.5)\n",
    "\n",
    "caption = F\"\"\"\n",
    "**Confidence intervals calculated using the percentile method**\n",
    "\n",
    "95% confidence interval of the median survey total and the 10th percentile:\n",
    "\n",
    "*CI of the median:  observed={round(observed_median, 2)} {unit_label}, lower limit={round(g_25, 2)} {unit_label}, upper limit={round(g_975, 2)} {unit_label}*\n",
    "\n",
    "*CI of the 15th percentile:  observed={round(observed_tenth, 2)} {unit_label}, lower limit={round(g_25_ten, 2)} {unit_label}, upper limit={round(g_975_ten, 2)} {unit_label}*\n",
    "\"\"\"\n",
    "md(caption)"
   ]
  },
  {
   "cell_type": "code",
   "execution_count": 8,
   "metadata": {
    "tags": [
     "hide-input"
    ]
   },
   "outputs": [
    {
     "data": {
      "text/markdown": [
       "\n",
       "**Confidence intervals calcualted using BCa**\n",
       "\n",
       "95% confidence interval of the median survey total and the 10th percentile:\n",
       "\n",
       "*CI of the median:  observed=158.0, lower limit=137.0, upper limit=188.0*\n",
       "\n",
       "*CI of the 15th percentile:  observed=45.5, lower limit=39.0, upper limit=52.0*\n"
      ],
      "text/plain": [
       "<IPython.core.display.Markdown object>"
      ]
     },
     "execution_count": 8,
     "metadata": {},
     "output_type": "execute_result"
    }
   ],
   "source": [
    "# this code was modified from this source:\n",
    "# http://bebi103.caltech.edu.s3-website-us-east-1.amazonaws.com/2019a/content/recitations/bootstrapping.html\n",
    "# if you want to get the confidence interval around another point estimate use np.percentile and add the percentile value as a parameter\n",
    "\n",
    "\n",
    "def draw_bs_sample(data):\n",
    "    \"\"\"Draw a bootstrap sample from a 1D data set.\"\"\"\n",
    "    return np.random.choice(data, size=len(data))\n",
    "\n",
    "def compute_jackknife_reps(data, statfunction=None, stat_param=False):\n",
    "    '''Returns jackknife resampled replicates for the given data and statistical function'''\n",
    "    # Set up empty array to store jackknife replicates\n",
    "    jack_reps = np.empty(len(data))\n",
    "\n",
    "    # For each observation in the dataset, compute the statistical function on the sample\n",
    "    # with that observation removed\n",
    "    for i in range(len(data)):\n",
    "        jack_sample = np.delete(data, i)\n",
    "        if not stat_param:\n",
    "            jack_reps[i] = statfunction(jack_sample)\n",
    "        else:\n",
    "            jack_reps[i] = statfunction(jack_sample, stat_param)          \n",
    "        \n",
    "    return jack_reps\n",
    "\n",
    "\n",
    "def compute_a(jack_reps):\n",
    "    '''Returns the acceleration constant a'''\n",
    "\n",
    "    mean = np.mean(jack_reps)\n",
    "    try:\n",
    "        a = sum([(x**-(i+1)- (mean**-(i+1)))**3 for i,x in enumerate(jack_reps)])\n",
    "        b = sum([(x**-(i+1)-mean-(i+1))**2 for i,x in enumerate(jack_reps)])\n",
    "        c = 6*(b**(3/2))\n",
    "        data = a/c\n",
    "    except:\n",
    "        print(mean)\n",
    "    return data\n",
    "\n",
    "\n",
    "def bootstrap_replicates(data, n_reps=1000, statfunction=None, stat_param=False):\n",
    "    '''Computes n_reps number of bootstrap replicates for given data and statistical function'''\n",
    "    boot_reps = np.empty(n_reps)\n",
    "    for i in range(n_reps):\n",
    "        if not stat_param:\n",
    "            boot_reps[i] = statfunction(draw_bs_sample(data))\n",
    "        else:\n",
    "            boot_reps[i] = statfunction(draw_bs_sample(data), stat_param)     \n",
    "        \n",
    "    return boot_reps\n",
    "\n",
    "\n",
    "def compute_z0(data, boot_reps, statfunction=None, stat_param=False):\n",
    "    '''Computes z0 for given data and statistical function'''\n",
    "    if not stat_param:\n",
    "        s = statfunction(data)\n",
    "    else:\n",
    "        s = statfunction(data, stat_param)\n",
    "    return stats.norm.ppf(np.sum(boot_reps < s) / len(boot_reps))\n",
    "\n",
    "\n",
    "def compute_bca_ci(data, alpha_level, n_reps=1000, statfunction=None, stat_param=False):\n",
    "    '''Returns BCa confidence interval for given data at given alpha level'''\n",
    "    # Compute bootstrap and jackknife replicates\n",
    "    boot_reps = bootstrap_replicates(data, n_reps, statfunction=statfunction, stat_param=stat_param)\n",
    "    jack_reps = compute_jackknife_reps(data, statfunction=statfunction, stat_param=stat_param)\n",
    "\n",
    "    # Compute a and z0\n",
    "    a = compute_a(jack_reps)\n",
    "    z0 = compute_z0(data, boot_reps, statfunction=statfunction, stat_param=stat_param)\n",
    "\n",
    "    # Compute confidence interval indices\n",
    "    alphas = np.array([alpha_level/2., 1-alpha_level/2.])\n",
    "    zs = z0 + stats.norm.ppf(alphas).reshape(alphas.shape+(1,)*z0.ndim)\n",
    "    avals = stats.norm.cdf(z0 + zs/(1-a*zs))\n",
    "    ints = np.round((len(boot_reps)-1)*avals)\n",
    "    ints = np.nan_to_num(ints).astype('int')\n",
    "\n",
    "    # Compute confidence interval\n",
    "    boot_reps = np.sort(boot_reps)\n",
    "    ci_low = boot_reps[ints[0]]\n",
    "    ci_high = boot_reps[ints[1]]\n",
    "    return (ci_low, ci_high), a\n",
    "\n",
    "upper_bca = compute_bca_ci(dt_all[unit_label].to_numpy(), .05, n_reps=5000, statfunction=np.median)\n",
    "lower_bca = compute_bca_ci(dt_all[unit_label].to_numpy(), .05, n_reps=5000, statfunction=np.percentile, stat_param=15)\n",
    "\n",
    "caption = F\"\"\"\n",
    "**Confidence intervals calcualted using BCa**\n",
    "\n",
    "95% confidence interval of the median survey total and the 10th percentile:\n",
    "\n",
    "*CI of the median:  observed={round(observed_median, 2)}, lower limit={round(upper_bca[0][0], 2)}, upper limit={round(upper_bca[0][1], 2)}*\n",
    "\n",
    "*CI of the 15th percentile:  observed={round(observed_tenth, 2)}, lower limit={round(lower_bca[0][0], 2)}, upper limit={round(lower_bca[0][1], 2)}*\n",
    "\"\"\"\n",
    "md(caption)"
   ]
  },
  {
   "cell_type": "markdown",
   "metadata": {},
   "source": []
  },
  {
   "cell_type": "markdown",
   "metadata": {},
   "source": [
    "### Discussion\n",
    "\n",
    "This first-timeanalysis of a harmonised EU beach litter dataset allows numerous conclusions. These apply to the process and methodology for monitoring and baseline setting, the outcome from the scenario analysis based on the selection of parameters, i.e. the agreed baseline and the policy implications of the baselines.\n",
    "\n",
    "These implications include the selection and prioritisation of measures, the setting of thresholds and the evaluation of the success of implemented measures.\n",
    "\n",
    "* Data availability 2012-2016 allows the consideration of all EU regions, though with different coverage. All subregions, except for the Eastern Mediterranean Sea,can be evaluated.\n",
    "\n",
    "* Litter aggregate groups can be analysed across Europe.\n",
    "\n",
    "* Litter  category  analyses  are  possible  from  single  beaches at different  data  aggregation  levels (depending on the comparability of litter categories between surveys)\n",
    "\n",
    "#### Thresholds\n",
    "\n",
    "The European Union has set a european wide threshold value of $\\approx$ 20p/100m based on data collected in 2015-2016. This value is based on the\n",
    "$15^{th}$ percentile of the 2015-2016 results. In Switzerland the 15th percentile is between 39 and 53 p/100m for 2020-2021 with a median between 136 and 188p/100m. Note that the median for 2017 was 125p/100m and that there was no statisitical difference between the aggregated survey results of 2017 and 2020.\n",
    "\n",
    "The threshold value set by the EU is a target for member states, some member states are closer to the target goal than others. The same could be said for Switzerland if a threshold value were established.\n",
    "\n",
    "#### Number of samples\n",
    "\n",
    "The recomended number of samples is by region of analysis. For Switzerland that corresponds to catchment area or river bassin. For an adequate analysis of a single body of water, like a lake, then the number of samples should approach the recommended minimum. However, individual results can be compared directly to baseline values for the region of interest. That is a direct benefit of using the median survey result as opposed to the weighted avarage.\n",
    "\n",
    "#### Extreme values\n",
    "\n",
    "The exact method to define an extreme value should be evaluated. In this article we used the UE methods because they are applicable for a larger geographic scale. Regional and municipal stakeholders most likely have specific knowledge that can explain extreme results much more efficiently than a model. \n",
    "\n",
    "#### Quality people = quality data\n",
    "\n",
    "The quality of the data is directly related to the training and support of the surveyors. The identification process is long at first and many objects that are encountered are not part of an _average persons_ day. Encouraging meetings between surveyors and having a core team to assisst in the development and training ensures that the surveys are conducted consistently over time.\n",
    "\n",
    "#### Objective criteria, protocols and analysis\n",
    "\n",
    "The data gathered during IQASL, SLR and the EU data from 2015-2016 are all compatible. This is because they were all based on the same protocol and the protocol was designed first to gather data as accurately as possible given limited reosurces and a large geographic area. As a result the data is a collection of observations from many people and many countries. That the EU is basing target threshold values on data collected this way is a testament to the process and the people that collected the data."
   ]
  },
  {
   "cell_type": "code",
   "execution_count": 10,
   "metadata": {
    "tags": [
     "remove-input"
    ]
   },
   "outputs": [
    {
     "data": {
      "text/markdown": [
       "\n",
       "<br></br>\n",
       "**This project was made possible by the Swiss federal office for the environment.**<br>\n",
       "\n",
       ">Love what you do. ❤️<br>\n",
       "\n",
       "*roger@hammerdirt.ch* pushed the run button on 2021-08-02.<br>\n",
       "This document originates from https://github.com/hammerdirt-analyst/IQAASL-End-0f-Sampling-2021 all copyrights apply.<br>\n"
      ],
      "text/plain": [
       "<IPython.core.display.Markdown object>"
      ]
     },
     "execution_count": 10,
     "metadata": {},
     "output_type": "execute_result"
    }
   ],
   "source": [
    "author = \"roger@hammerdirt.ch\"\n",
    "my_message = \"Love what you do. \\u2764\\ufe0f\"\n",
    "md(F\"\"\"\n",
    "<br></br>\n",
    "**This project was made possible by the Swiss federal office for the environment.**<br>\n",
    "\n",
    ">{my_message}<br>\n",
    "\n",
    "*{author}* pushed the run button on {today}.<br>\n",
    "This document originates from https://github.com/hammerdirt-analyst/IQAASL-End-0f-Sampling-2021 all copyrights apply.<br>\n",
    "\"\"\")"
   ]
  },
  {
   "cell_type": "code",
   "execution_count": null,
   "metadata": {
    "tags": []
   },
   "outputs": [],
   "source": []
  }
 ],
 "metadata": {
  "kernelspec": {
   "display_name": "Python 3 (ipykernel)",
   "language": "python",
   "name": "python3"
  },
  "language_info": {
   "codemirror_mode": {
    "name": "ipython",
    "version": 3
   },
   "file_extension": ".py",
   "mimetype": "text/x-python",
   "name": "python",
   "nbconvert_exporter": "python",
   "pygments_lexer": "ipython3",
   "version": "3.8.10"
  }
 },
 "nbformat": 4,
 "nbformat_minor": 4
}
