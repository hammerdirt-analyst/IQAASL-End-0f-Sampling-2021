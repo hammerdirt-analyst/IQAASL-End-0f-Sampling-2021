{
 "cells": [
  {
   "cell_type": "code",
   "execution_count": 3,
   "metadata": {
    "pycharm": {
     "name": "#%%\n"
    },
    "tags": [
     "hide-input"
    ]
   },
   "outputs": [],
   "source": [
    "# -*- coding: utf-8 -*-\n",
    "# This is a report using the data from IQAASL.\n",
    "# IQAASL was a project funded by the Swiss Confederation\n",
    "# It produces a summary of litter survey results for a defined region.\n",
    "# These charts serve as the models for the development of plagespropres.ch\n",
    "# The data is gathered by volunteers.\n",
    "# Please remember all copyrights apply, please give credit when applicable\n",
    "# The repo is maintained by the community effective January 01, 2022\n",
    "# There is ample opportunity to contribute, learn and teach\n",
    "# contact dev@hammerdirt.ch\n",
    "\n",
    "# Dies ist ein Bericht, der die Daten von IQAASL verwendet.\n",
    "# IQAASL war ein von der Schweizerischen Eidgenossenschaft finanziertes Projekt.\n",
    "# Es erstellt eine Zusammenfassung der Ergebnisse der Littering-Umfrage für eine bestimmte Region.\n",
    "# Diese Grafiken dienten als Vorlage für die Entwicklung von plagespropres.ch.\n",
    "# Die Daten werden von Freiwilligen gesammelt.\n",
    "# Bitte denken Sie daran, dass alle Copyrights gelten, bitte geben Sie den Namen an, wenn zutreffend.\n",
    "# Das Repo wird ab dem 01. Januar 2022 von der Community gepflegt.\n",
    "# Es gibt reichlich Gelegenheit, etwas beizutragen, zu lernen und zu lehren.\n",
    "# Kontakt dev@hammerdirt.ch\n",
    "\n",
    "# Il s'agit d'un rapport utilisant les données de IQAASL.\n",
    "# IQAASL était un projet financé par la Confédération suisse.\n",
    "# Il produit un résumé des résultats de l'enquête sur les déchets sauvages pour une région définie.\n",
    "# Ces tableaux ont servi de modèles pour le développement de plagespropres.ch\n",
    "# Les données sont recueillies par des bénévoles.\n",
    "# N'oubliez pas que tous les droits d'auteur s'appliquent, veuillez indiquer le crédit lorsque cela est possible.\n",
    "# Le dépôt est maintenu par la communauté à partir du 1er janvier 2022.\n",
    "# Il y a de nombreuses possibilités de contribuer, d'apprendre et d'enseigner.\n",
    "# contact dev@hammerdirt.ch\n",
    "\n",
    "# sys, file and nav packages:\n",
    "import datetime as dt\n",
    "from datetime import date, datetime, time\n",
    "from babel.dates import format_date, format_datetime, format_time, get_month_names\n",
    "import locale\n",
    "\n",
    "# math packages:\n",
    "import pandas as pd\n",
    "import numpy as np\n",
    "\n",
    "# charting:\n",
    "import matplotlib as mpl\n",
    "import matplotlib.pyplot as plt\n",
    "import matplotlib.dates as mdates\n",
    "from matplotlib import ticker\n",
    "from matplotlib.ticker import MultipleLocator\n",
    "import seaborn as sns\n",
    "# from matplotlib import colors as mplcolors\n",
    "\n",
    "# build report\n",
    "import reportlab\n",
    "from reportlab.lib.styles import getSampleStyleSheet, ParagraphStyle\n",
    "from reportlab.lib import colors\n",
    "\n",
    "from reportlab.platypus.flowables import Flowable\n",
    "from reportlab.platypus import SimpleDocTemplate, Paragraph, Spacer, PageBreak, KeepTogether, Image\n",
    "from reportlab.lib.pagesizes import A4\n",
    "from reportlab.lib.units import cm\n",
    "from reportlab.platypus import Table, TableStyle\n",
    "\n",
    "# the module that has all the methods for handling the data\n",
    "import resources.featuredata as featuredata\n",
    "from resources.featuredata import makeAList, small_space, large_space, aSingleStyledTable, smallest_space\n",
    "from resources.featuredata import caption_style, subsection_title, title_style, block_quote_style, makeBibEntry\n",
    "from resources.featuredata import figureAndCaptionTable, tableAndCaption, aStyledTableWithTitleRow\n",
    "from resources.featuredata import sectionParagraphs, section_title, addToDoc, makeAParagraph, bold_block\n",
    "from resources.featuredata import makeAList\n",
    "\n",
    "# home brew utitilties\n",
    "import resources.sr_ut as sut\n",
    "\n",
    "# images and display\n",
    "from PIL import Image as PILImage\n",
    "from IPython.display import Markdown as md\n",
    "from myst_nb import glue\n",
    "\n",
    "def convertPixelToCm(file_name: str = None):\n",
    "    im = PILImage.open(file_name)\n",
    "    width, height = im.size\n",
    "    dpi = im.info.get(\"dpi\", (72, 72))\n",
    "    width_cm = width / dpi[0] * 2.54\n",
    "    height_cm = height / dpi[1] * 2.54\n",
    "    \n",
    "    return width_cm, height_cm\n",
    "\n",
    "# chart style\n",
    "sns.set_style(\"whitegrid\")\n",
    "\n",
    "# border and row shading for tables\n",
    "a_color = \"saddlebrown\"\n",
    "table_row = \"saddlebrown\"\n",
    "\n",
    "# a place to save figures and a \n",
    "# method to choose formats\n",
    "save_fig_prefix = \"resources/output/\"\n",
    "\n",
    "# the arguments for formatting the image\n",
    "save_figure_kwargs = {\n",
    "    \"fname\": None,\n",
    "    \"dpi\": 300.0,\n",
    "    \"format\": \"jpeg\",\n",
    "    \"bbox_inches\": None,\n",
    "    \"pad_inches\": 0,\n",
    "    \"bbox_inches\": 'tight',\n",
    "    \"facecolor\": 'auto',\n",
    "    \"edgecolor\": 'auto',\n",
    "    \"backend\": None,\n",
    "}\n",
    "\n",
    "## !! Begin Note book variables !!\n",
    "\n",
    "# There are two language variants: german and english\n",
    "# change both: date_lang and language\n",
    "date_lang =  'de_DE.utf8'\n",
    "locale.setlocale(locale.LC_ALL, date_lang)\n",
    "\n",
    "# the date format of the survey data is defined in the module\n",
    "date_format = featuredata.date_format\n",
    "\n",
    "# the language setting use lower case: en or de\n",
    "# changing the language may require changing the unit label\n",
    "language = \"de\"\n",
    "unit_label = \"p/100 m\"\n",
    "\n",
    "# the standard date format is \"%Y-%m-%d\" if your date column is\n",
    "# not in this format it will not work.\n",
    "# these dates cover the duration of the IQAASL project\n",
    "start_date = \"2020-03-01\"\n",
    "end_date =\"2021-05-31\"\n",
    "start_end = [start_date, end_date]\n",
    "\n",
    "# the fail rate used to calculate the most common codes is\n",
    "# 50% it can be changed:\n",
    "fail_rate = 50\n",
    "\n",
    "# Changing these variables produces different reports\n",
    "# Call the map image for the area of interest\n",
    "bassin_map = \"resources/maps/all_survey_areas_summary.jpeg\"\n",
    "\n",
    "# the label for the aggregation of all data in the region\n",
    "top = \"Alle Erhebungsgebiete\"\n",
    "\n",
    "# define the feature level and components\n",
    "# the feature of interest is the all (all) at the river basin (river_bassin) level.\n",
    "# the label for charting is called 'name'\n",
    "this_feature = {'slug':'all', 'name':\"Alle Erhebungsgebiete\", 'level':'all'}\n",
    "\n",
    "# these are the smallest aggregated components\n",
    "# choices are water_name_slug=lake or river, city or location at the scale of a river bassin \n",
    "# water body or lake maybe the most appropriate\n",
    "this_level = 'river_bassin'\n",
    "\n",
    "# the doctitle is the unique name for the url of this document\n",
    "doc_title = \"lakes_rivers\"\n",
    "\n",
    "this_bassn = \"all\"\n",
    "\n",
    "# identify the lakes of interest for the survey area\n",
    "lakes_of_interest = [\"neuenburgersee\", \"thunersee\", \"bielersee\", \"brienzersee\"]\n",
    "\n",
    "# !! End note book variables !!\n",
    "## data\n",
    "# Survey location details (GPS, city, land use)\n",
    "dfBeaches = pd.read_csv(\"resources/beaches_with_land_use_rates.csv\")\n",
    "# set the index of the beach data to location slug\n",
    "dfBeaches.set_index(\"slug\", inplace=True)\n",
    "\n",
    "# Survey dimensions and weights\n",
    "dfDims = pd.read_csv(\"resources/corrected_dims.csv\")\n",
    "\n",
    "# code definitions\n",
    "dxCodes = pd.read_csv(\"resources/codes_with_group_names\")\n",
    "dxCodes.set_index(\"code\", inplace=True)\n",
    "\n",
    "# columns that need to be renamed. Setting the language will automatically\n",
    "# change column names, code descriptions and chart annotations\n",
    "columns={\"% to agg\":\"% agg\", \"% to recreation\": \"% recreation\", \"% to woods\":\"% woods\", \"% to buildings\":\"% buildings\", \"p/100m\":\"p/100 m\"}\n",
    "\n",
    "# !key word arguments to construct feature data\n",
    "# !Note the water type allows the selection of river or lakes\n",
    "# if None then the data is aggregated together. This selection\n",
    "# is only valid for survey-area reports or other aggregated data\n",
    "# that may have survey results from both lakes and rivers.\n",
    "fd_kwargs ={\n",
    "    \"filename\": \"resources/checked_sdata_eos_2020_21x.csv\",\n",
    "    \"feature_name\": this_feature['slug'], \n",
    "    \"feature_level\": this_feature['level'], \n",
    "    \"these_features\": this_feature['slug'], \n",
    "    \"component\": this_level, \n",
    "    \"columns\": columns, \n",
    "    \"language\": 'de', \n",
    "    \"unit_label\": unit_label, \n",
    "    \"fail_rate\": fail_rate,\n",
    "    \"code_data\":dxCodes,\n",
    "    \"date_range\": start_end,\n",
    "    \"water_type\": None,    \n",
    "}\n",
    "\n",
    "fdx = featuredata.Components(**fd_kwargs)\n",
    "\n",
    "# call the reports and languages\n",
    "fdx.adjustForLanguage()\n",
    "fdx.makeFeatureData()\n",
    "fdx.locationSampleTotals()\n",
    "fdx.makeDailyTotalSummary()\n",
    "fdx.materialSummary()\n",
    "fdx.mostCommon()\n",
    "fdx.codeGroupSummary()\n",
    "\n",
    "# !this is the feature data!\n",
    "fd = fdx.feature_data\n",
    "\n",
    "# !keyword args to build period data\n",
    "# the period data is all the data that was collected\n",
    "# during the same period from all the other locations\n",
    "# not included in the feature data. For a survey area\n",
    "# or river bassin these_features = feature_parent and \n",
    "# feature_level = parent_level\n",
    "# period_kwargs = {\n",
    "#     \"period_data\": fdx.period_data,\n",
    "#     \"these_features\": this_feature['slug'],\n",
    "#     \"feature_level\":this_feature['level'],\n",
    "#     \"feature_parent\":this_bassin,\n",
    "#     \"parent_level\": \"river_bassin\",\n",
    "#     \"period_name\": bassin_label,\n",
    "#     \"unit_label\": unit_label,\n",
    "#     \"most_common\": fdx.most_common.index\n",
    "# }\n",
    "# period_data = featuredata.PeriodResults(**period_kwargs)\n",
    "\n",
    "# the rivers are considered separately\n",
    "# select only the results from rivers\n",
    "# this can be done by updating the fd_kwargs\n",
    "fd_rivers = fd_kwargs.update({\"water_type\":\"r\"})\n",
    "fdr = featuredata.Components(**fd_kwargs)\n",
    "fdr.makeFeatureData()\n",
    "fdr.adjustForLanguage()\n",
    "fdr.makeFeatureData()\n",
    "fdr.locationSampleTotals()\n",
    "fdr.makeDailyTotalSummary()\n",
    "fdr.materialSummary()\n",
    "fdr.mostCommon()\n",
    "\n",
    "# collects the summarized values for the feature data\n",
    "# use this to generate the summary data for the survey area\n",
    "# and the section for the rivers\n",
    "admin_kwargs = {\n",
    "    \"data\":fd,\n",
    "    \"dims_data\":dfDims,\n",
    "    \"label\": this_feature[\"name\"],\n",
    "    \"feature_component\": this_level,\n",
    "    \"date_range\":start_end,\n",
    "    **{\"dfBeaches\":dfBeaches}\n",
    "}\n",
    "admin_details = featuredata.AdministrativeSummary(**admin_kwargs)\n",
    "admin_summary = admin_details.summaryObject()\n",
    "\n",
    "# update the admin kwargs with river data to make the river summary\n",
    "admin_kwargs.update({\"data\":fdr.feature_data})\n",
    "admin_r_details = featuredata.AdministrativeSummary(**admin_kwargs)\n",
    "admin_r_summary = admin_r_details.summaryObject()\n",
    "\n",
    "# this defines the css rules for the note-book table displays\n",
    "header_row = {'selector': 'th:nth-child(1)', 'props': f'background-color: #FFF;'}\n",
    "even_rows = {\"selector\": 'tr:nth-child(even)', 'props': f'background-color: rgba(139, 69, 19, 0.08);'}\n",
    "odd_rows = {'selector': 'tr:nth-child(odd)', 'props': 'background: #FFF;'}\n",
    "table_font = {'selector': 'tr', 'props': 'font-size: 12px;'}\n",
    "table_css_styles = [even_rows, odd_rows, table_font, header_row]\n",
    "\n",
    "# pdf download is an option \n",
    "# the .pdf output is generated in parallel\n",
    "# this is the same as if it were on the backend where we would\n",
    "# have a specific api endpoint for .pdf requests. \n",
    "# reportlab is used to produce the document\n",
    "# the components of the document are captured at run time\n",
    "# the pdf link gives the name and location of the future doc\n",
    "pdf_link = f'resources/pdfs/{this_feature[\"slug\"]}_sa.pdf'\n",
    "\n",
    "# the components are stored in an array and collected as the script runs\n",
    "pdfcomponents = []\n",
    "\n",
    "# pdf title and map\n",
    "pdf_title = Paragraph(this_feature[\"name\"], featuredata.title_style)"
   ]
  },
  {
   "cell_type": "markdown",
   "metadata": {
    "pycharm": {
     "name": "#%% md\n"
    }
   },
   "source": [
    "(aaresa)=\n",
    "# Aare\n",
    "\n",
    "{Download}`Download </resources/pdfs/aare_sa.pdf>`"
   ]
  },
  {
   "cell_type": "code",
   "execution_count": 4,
   "metadata": {
    "pycharm": {
     "name": "#%%\n"
    },
    "tags": [
     "remove-input"
    ]
   },
   "outputs": [
    {
     "data": {
      "application/papermill.record/text/plain": "'Die Erhebungsorte sind für die Analyse nach Erhebungsgebiet gruppiert. Die Grösse der Markierung gibt einen Hinweis auf die Anzahl Abfallobjekte, die gefunden wurden.'"
     },
     "metadata": {
      "scrapbook": {
       "mime_prefix": "application/papermill.record/",
       "name": "all_city_map_caption"
      }
     },
     "output_type": "display_data"
    }
   ],
   "source": [
    "map_caption = featuredata.defaultMapCaption(language=language)\n",
    "glue(f'{this_feature[\"slug\"]}_city_map_caption', map_caption, display=False)\n",
    "\n",
    "f1cap = Paragraph(map_caption, style=caption_style)\n",
    "o_w, o_h = convertPixelToCm(bassin_map)\n",
    "\n",
    "figure_kwargs = {\n",
    "    \"image_file\":bassin_map,\n",
    "    \"caption\": f1cap, \n",
    "    \"original_width\":o_w,\n",
    "    \"original_height\":o_h,\n",
    "    \"desired_width\": 16,\n",
    "    \"caption_height\":1,\n",
    "    \"hAlign\": \"CENTER\",\n",
    "}\n",
    "\n",
    "f1 = figureAndCaptionTable(**figure_kwargs)\n",
    "\n",
    "new_components = [\n",
    "     pdf_title,    \n",
    "    small_space,\n",
    "    f1\n",
    "]\n",
    "# add those sections\n",
    "pdfcomponents = addToDoc(new_components, pdfcomponents)"
   ]
  },
  {
   "cell_type": "markdown",
   "metadata": {
    "pycharm": {
     "name": "#%% md\n"
    }
   },
   "source": [
    "```{figure} resources/maps/aare_city_labels.jpeg\n",
    "---\n",
    "name: aare_survey_area_city_labels_map\n",
    "---\n",
    "` `\n",
    "```\n",
    "{numref}`Abbildung %s: <aare_survey_area_city_labels_map>` {glue:text}`aare_city_map_caption`"
   ]
  },
  {
   "cell_type": "markdown",
   "metadata": {
    "pycharm": {
     "name": "#%% md\n"
    }
   },
   "source": [
    "## Erhebungsorte und Landnutzungsprofile"
   ]
  },
  {
   "cell_type": "code",
   "execution_count": 5,
   "metadata": {
    "tags": [
     "hide-input"
    ]
   },
   "outputs": [
    {
     "data": {
      "text/markdown": [
       "\n",
       "Im Zeitraum von März 2020  bis Mai 2021 wurden im Rahmen von 386 Datenerhebungen insgesamt 54,744 Objekte entfernt und identifiziert.  Die Ergebnisse des Alle Erhebungsgebiete umfassen 143 Orte, 77 Gemeinden und eine Gesamtbevölkerung von etwa 1,735,991 Einwohnenden.\n",
       "\n",
       "*Seen*\n",
       "\n",
       ">Zürichsee, Lac Léman, Lago Maggiore, Thunersee, Bielersee, Lago di Lugano, Neuenburgersee, Walensee, Brienzersee, Vierwaldstättersee, Zugersee\n",
       "\n",
       "*Fliessgewässer*\n",
       "\n",
       ">Aare, Nidau-Büren-Kanal, Ticino, Cassarate, Jona, Dorfbach, La Thièle, Rhône, Limmat, Linthkanal, Escherkanal, Reuss, Maggia, Schüss, Emme, Seez, Sihl\n",
       "\n",
       "*Gemeinden*\n",
       "\n",
       ">Aarau, Allaman, Ascona, Beatenberg, Bellinzona, Bern, Biel/Bienne, Boudry, Bourg-en-Lavaux, Brienz (BE), Brissago, Brugg, Brügg, Burgdorf, Bönigen, Cheyres-Châbles, Cudrefin, Dietikon, Erlach, Estavayer, Freienbach, Gals, Gambarogno, Gebenstorf, Genève, Gland, Glarus Nord, Grandson, Hauterive (NE), Hünenberg, Kallnach, Köniz, Küsnacht (ZH), La Tour-de-Peilz, Lausanne, Lavey-Morcles, Le Landeron, Leuk, Ligerz, Locarno, Lugano, Luterbach, Lüscherz, Merenschwand, Minusio, Montreux, Neuchâtel, Nidau, Port, Préverenges, Quarten, Rapperswil-Jona, Richterswil, Riddes, Rubigen, Saint-Gingolph, Saint-Sulpice (VD), Salgesch, Schmerikon, Sion, Solothurn, Spiez, Stäfa, Thun, Tolochenaz, Unterengstringen, Unterseen, Versoix, Vevey, Vinelz, Walenstadt, Walperswil, Weesen, Weggis, Yverdon-les-Bains, Zug, Zürich\n",
       "\n",
       "\n"
      ],
      "text/plain": [
       "<IPython.core.display.Markdown object>"
      ]
     },
     "execution_count": 5,
     "metadata": {},
     "output_type": "execute_result"
    }
   ],
   "source": [
    "# the admin summary can be converted into a standard text\n",
    "an_admin_summary = featuredata.makeAdminSummaryStateMent(start_date, end_date, this_feature[\"name\"], admin_summary=admin_summary)\n",
    "                      \n",
    "# collect component features and land marks\n",
    "# this collects the components of the feature of interest (city, lake, river)\n",
    "# a comma separated string of all the componenets and a heading for each component\n",
    "# type is produced\n",
    "feature_components = featuredata.collectComponentLandMarks(admin_details, language=language)\n",
    "\n",
    "# markdown output\n",
    "components_markdown = \"\".join([f'*{x[0]}*\\n\\n>{x[1]}\\n\\n' for x in feature_components])\n",
    "\n",
    "new_components = [\n",
    "    \n",
    "    small_space,\n",
    "    Paragraph(\"Erhebungsorte\", section_title), \n",
    "    small_space,\n",
    "    Paragraph(an_admin_summary , featuredata.p_style),\n",
    "]\n",
    "\n",
    "# add the admin summary to the pdf\n",
    "pdfcomponents = addToDoc(new_components, pdfcomponents)\n",
    "\n",
    "# put that all together:\n",
    "lake_string = F\"\"\"\n",
    "{an_admin_summary}\n",
    "\n",
    "{\"\".join(components_markdown)}\n",
    "\"\"\"\n",
    "md(lake_string)"
   ]
  },
  {
   "cell_type": "markdown",
   "metadata": {
    "pycharm": {
     "name": "#%% md\n"
    }
   },
   "source": [
    "### Kumulative Gesamtmengen nach Gewässer"
   ]
  },
  {
   "cell_type": "code",
   "execution_count": 6,
   "metadata": {
    "pycharm": {
     "name": "#%%\n"
    },
    "tags": [
     "hide-input"
    ]
   },
   "outputs": [
    {
     "data": {
      "application/papermill.record/text/plain": "Paragraph(\n'caseSensitive': 1\n'encoding': 'utf8'\n'text': 'Alle Erhebungsgebiete: kumulierten Gewichte und Masse für die Gemeinden'\n'frags': [ParaFrag(__tag__='para', bold=0, fontName='Times-Italic', fontSize=9, greek=0, italic=1, link=[], rise=0, text='Alle Erhebungsgebiete: kumulierten Gewichte und Masse für die Gemeinden', textColor=Color(0,0,0,1), us_lines=[])]\n'style': <ParagraphStyle 'caption_style'>\n'bulletText': None\n'debug': 0\n) #Paragraph"
     },
     "metadata": {
      "scrapbook": {
       "mime_prefix": "application/papermill.record/",
       "name": "aare_dims_table_caption"
      }
     },
     "output_type": "display_data"
    },
    {
     "data": {
      "application/papermill.record/text/html": "<style type=\"text/css\">\n#T_46af6 tr:nth-child(even) {\n  background-color: rgba(139, 69, 19, 0.08);\n}\n#T_46af6 tr:nth-child(odd) {\n  background: #FFF;\n}\n#T_46af6 tr {\n  font-size: 12px;\n}\n#T_46af6 th:nth-child(1) {\n  background-color: #FFF;\n}\n</style>\n<table id=\"T_46af6\">\n  <thead>\n    <tr>\n      <th class=\"blank level0\" >&nbsp;</th>\n      <th id=\"T_46af6_level0_col0\" class=\"col_heading level0 col0\" >Gesamtgewicht (Kg)</th>\n      <th id=\"T_46af6_level0_col1\" class=\"col_heading level0 col1\" >Plastik (Kg)</th>\n      <th id=\"T_46af6_level0_col2\" class=\"col_heading level0 col2\" >Fläche (m2)</th>\n      <th id=\"T_46af6_level0_col3\" class=\"col_heading level0 col3\" >Länge (m)</th>\n      <th id=\"T_46af6_level0_col4\" class=\"col_heading level0 col4\" >Erhebungen</th>\n      <th id=\"T_46af6_level0_col5\" class=\"col_heading level0 col5\" >Objekte (St.)</th>\n    </tr>\n  </thead>\n  <tbody>\n    <tr>\n      <th id=\"T_46af6_level0_row0\" class=\"row_heading level0 row0\" >Alle Erhebungsgebiete</th>\n      <td id=\"T_46af6_row0_col0\" class=\"data row0 col0\" >305,51</td>\n      <td id=\"T_46af6_row0_col1\" class=\"data row0 col1\" >94,21</td>\n      <td id=\"T_46af6_row0_col2\" class=\"data row0 col2\" >96 616</td>\n      <td id=\"T_46af6_row0_col3\" class=\"data row0 col3\" >19 722</td>\n      <td id=\"T_46af6_row0_col4\" class=\"data row0 col4\" >386</td>\n      <td id=\"T_46af6_row0_col5\" class=\"data row0 col5\" >54 744</td>\n    </tr>\n    <tr>\n      <th id=\"T_46af6_level0_row1\" class=\"row_heading level0 row1\" >rhone</th>\n      <td id=\"T_46af6_row1_col0\" class=\"data row1 col0\" >151,31</td>\n      <td id=\"T_46af6_row1_col1\" class=\"data row1 col1\" >45,97</td>\n      <td id=\"T_46af6_row1_col2\" class=\"data row1 col2\" >25 986</td>\n      <td id=\"T_46af6_row1_col3\" class=\"data row1 col3\" >4 911</td>\n      <td id=\"T_46af6_row1_col4\" class=\"data row1 col4\" >106</td>\n      <td id=\"T_46af6_row1_col5\" class=\"data row1 col5\" >28 454</td>\n    </tr>\n    <tr>\n      <th id=\"T_46af6_level0_row2\" class=\"row_heading level0 row2\" >aare</th>\n      <td id=\"T_46af6_row2_col0\" class=\"data row2 col0\" >71,98</td>\n      <td id=\"T_46af6_row2_col1\" class=\"data row2 col1\" >31,45</td>\n      <td id=\"T_46af6_row2_col2\" class=\"data row2 col2\" >37 017</td>\n      <td id=\"T_46af6_row2_col3\" class=\"data row2 col3\" >7 971</td>\n      <td id=\"T_46af6_row2_col4\" class=\"data row2 col4\" >140</td>\n      <td id=\"T_46af6_row2_col5\" class=\"data row2 col5\" >13 847</td>\n    </tr>\n    <tr>\n      <th id=\"T_46af6_level0_row3\" class=\"row_heading level0 row3\" >linth</th>\n      <td id=\"T_46af6_row3_col0\" class=\"data row3 col0\" >35,96</td>\n      <td id=\"T_46af6_row3_col1\" class=\"data row3 col1\" >12,77</td>\n      <td id=\"T_46af6_row3_col2\" class=\"data row3 col2\" >25 637</td>\n      <td id=\"T_46af6_row3_col3\" class=\"data row3 col3\" >5 323</td>\n      <td id=\"T_46af6_row3_col4\" class=\"data row3 col4\" >112</td>\n      <td id=\"T_46af6_row3_col5\" class=\"data row3 col5\" >9 412</td>\n    </tr>\n    <tr>\n      <th id=\"T_46af6_level0_row4\" class=\"row_heading level0 row4\" >ticino</th>\n      <td id=\"T_46af6_row4_col0\" class=\"data row4 col0\" >46,26</td>\n      <td id=\"T_46af6_row4_col1\" class=\"data row4 col1\" >4,03</td>\n      <td id=\"T_46af6_row4_col2\" class=\"data row4 col2\" >7 974</td>\n      <td id=\"T_46af6_row4_col3\" class=\"data row4 col3\" >1 517</td>\n      <td id=\"T_46af6_row4_col4\" class=\"data row4 col4\" >28</td>\n      <td id=\"T_46af6_row4_col5\" class=\"data row4 col5\" >3 031</td>\n    </tr>\n  </tbody>\n</table>\n",
      "application/papermill.record/text/plain": "<pandas.io.formats.style.Styler at 0x7f345c007be0>"
     },
     "metadata": {
      "scrapbook": {
       "mime_prefix": "application/papermill.record/",
       "name": "all_dims_table"
      }
     },
     "output_type": "display_data"
    }
   ],
   "source": [
    "# the basic summary of dimensional data is available in the AdministrativeSummary class\n",
    "dims_table = admin_details.dimensionalSummary()\n",
    "dims_table.sort_values(by=[\"quantity\"], ascending=False, inplace=True)\n",
    "\n",
    "# apply language settings\n",
    "dims_table.rename(columns=featuredata.dims_table_columns_de, inplace=True)\n",
    "\n",
    "# convert to kilos\n",
    "dims_table[\"Plastik (Kg)\"] = dims_table[\"Plastik (Kg)\"]/1000\n",
    "\n",
    "# save a copy of the dims_table for working\n",
    "# formatting to pdf will turn the numerics to strings\n",
    "# which eliminates any further calclations\n",
    "dims_df =  dims_table.copy()\n",
    "\n",
    "# these columns need formatting for locale\n",
    "thousands_separated = [\"Fläche (m2)\", \"Länge (m)\", \"Erhebungen\", \"Objekte (St.)\"]\n",
    "replace_decimal = [\"Plastik (Kg)\", \"Gesamtgewicht (Kg)\"]\n",
    "\n",
    "# format the dimensional summary for .pdf and add to components\n",
    "dims_table[thousands_separated] = dims_table[thousands_separated].applymap(lambda x: featuredata.thousandsSeparator(int(x), language))\n",
    "dims_table[replace_decimal] = dims_table[replace_decimal].applymap(lambda x: featuredata.replaceDecimal(str(round(x,2))))\n",
    "\n",
    "# subsection title\n",
    "subsection_title1 = Paragraph(\"Kumulative Gesamtmengen nach Gewässer\", subsection_title)\n",
    "\n",
    "# a caption for the figure\n",
    "dims_table_caption = f'{this_feature[\"name\"]}: kumulierten Gewichte  und Masse für die Gemeinden'\n",
    "dims_table_caption = Paragraph(dims_table_caption, style=caption_style)\n",
    "# pdf table\n",
    "colWidths=[3.5*cm, 3*cm, *[2.2*cm]*(len(dims_table.columns)-1)]\n",
    "d_chart = aSingleStyledTable(dims_table, colWidths=colWidths)\n",
    "\n",
    "atable = tableAndCaption(d_chart, dims_table_caption, colWidths)\n",
    "\n",
    "new_components = [\n",
    "    small_space,\n",
    "    subsection_title1,\n",
    "    small_space,\n",
    "    atable \n",
    "]\n",
    "pdfcomponents = addToDoc(new_components, pdfcomponents)\n",
    "\n",
    "# this formats the table through the data frame\n",
    "dims_df[\"Plastik (Kg)\"] = dims_df[\"Plastik (Kg)\"].round(2)\n",
    "dims_df[\"Gesamtgewicht (Kg)\"] = dims_df[\"Gesamtgewicht (Kg)\"].round(2)\n",
    "dims_df[thousands_separated] = dims_df[thousands_separated].astype(\"int\")\n",
    "\n",
    "# set the index name to None so it doesn't show in the columns\n",
    "dims_df.index.name = None\n",
    "dims_df.columns.name = None\n",
    "\n",
    "# this applies formatting to the specifc column based on\n",
    "# the language.\n",
    "dims_table_formatter = {\n",
    "    \"Plastik (Kg)\": lambda x: featuredata.replaceDecimal(x, language),\n",
    "    \"Gesamtgewicht (Kg)\": lambda x: featuredata.replaceDecimal(x, language),\n",
    "    \"Fläche (m2)\": lambda x: featuredata.thousandsSeparator(int(x), language),\n",
    "    \"Länge (m)\": lambda x: featuredata.thousandsSeparator(int(x), language),\n",
    "    \"Erhebungen\": lambda x: featuredata.thousandsSeparator(int(x), language),\n",
    "    \"Objekte (St.)\": lambda x: featuredata.thousandsSeparator(int(x), language)\n",
    "}\n",
    "\n",
    "# use the caption from the .pdf for the online figure\n",
    "glue(\"aare_dims_table_caption\",dims_table_caption, display=False)\n",
    "\n",
    "# apply formatting and styles to dataframe\n",
    "q = dims_df.style.format(formatter=dims_table_formatter).set_table_styles(table_css_styles)\n",
    "\n",
    "# capture the figure before display and give it a reference number and caption\n",
    "figure_name=f'{this_feature[\"slug\"]}_dims_table'\n",
    "glue(figure_name, q, display=False)"
   ]
  },
  {
   "cell_type": "markdown",
   "metadata": {
    "pycharm": {
     "name": "#%% md\n"
    }
   },
   "source": [
    "```{glue:figure} aare_dims_table\n",
    "---\n",
    "name: 'aare_dims_table'\n",
    "---\n",
    "` `\n",
    "```\n",
    "{numref}`Abbildung %s: <aare_dims_table>` {glue:text}`aare_dims_table_caption`"
   ]
  },
  {
   "cell_type": "markdown",
   "metadata": {
    "pycharm": {
     "name": "#%% md\n"
    },
    "tags": []
   },
   "source": [
    "### Landnutzungsprofil der Erhebungsorte\n",
    "\n",
    "Das Landnutzungsprofil zeigt, welche Nutzungen innerhalb eines Radius von 1500 m um jeden Erhebungsort dominieren. Flächen werden einer von den folgenden vier Kategorien zugewiesen:\n",
    "\n",
    "* Fläche, die von Gebäuden eingenommen wird in %\n",
    "* Fläche, die dem Wald vorbehalten ist in %\n",
    "* Fläche, die für Aktivitäten im Freien genutzt wird in %\n",
    "* Fläche, die von der Landwirtschaft genutzt wird in %\n",
    "\n",
    "Strassen (inkl. Wege) werden als Gesamtzahl der Strassenkilometer innerhalb eines Radius von 1500 m angegeben.\n",
    "\n",
    "Es wird zudem angegeben, wie viele Flüsse innerhalb eines Radius von 1500 m um den Erhebungsort herum in das Gewässer münden.\n",
    "\n",
    "Das Verhältnis der gefundenen Abfallobjekte unterscheidet sich je nach Landnutzungsprofil. Das Verhältnis gibt daher einen Hinweis auf die ökologischen und wirtschaftlichen Bedingungen um den Erhebungsort.\n",
    "\n",
    "Für weitere Informationen siehe *[Landnutzungsprofil](luseprofile)*"
   ]
  },
  {
   "cell_type": "code",
   "execution_count": null,
   "metadata": {
    "tags": [
     "remove-input",
     "hide-input"
    ]
   },
   "outputs": [],
   "source": [
    "section_titlex =  \"Landnutzungsprofil der Erhebungsorte\"\n",
    "\n",
    "section_summary = [\n",
    "    \"Das Landnutzungsprofil zeigt, welche Nutzungen innerhalb eines Radius \",\n",
    "    \"von 1500 m um jeden Erhebungsort dominieren. Flächen werden einer von \",\n",
    "    \"den folgenden vier Kategorien zugewiesen:\"\n",
    "]\n",
    "\n",
    "section_definition = [\n",
    "    \"Fläche, die von Gebäuden eingenommen wird in %\",\n",
    "    \"Fläche, die dem Wald vorbehalten ist in %\",\n",
    "    \"Fläche, die für Aktivitäten im Freien genutzt wird in %\",\n",
    "    \"Fläche, die von der Landwirtschaft genutzt wird in %\"\n",
    "]\n",
    "\n",
    "p_one = [\n",
    "    \"Strassen (inkl. Wege) werden als Gesamtzahl der Strassenkilometer \",\n",
    "    \"innerhalb eines Radius von 1500 m angegeben.\"\n",
    "]\n",
    "\n",
    "p_two = [\n",
    "    \"Es wird zudem angegeben, wie viele Flüsse innerhalb eines Radius von \",\n",
    "    \"1500 m um den Erhebungsort herum in das Gewässer münden.\"\n",
    "]\n",
    "\n",
    "p_three = [\n",
    "    \"Das Verhältnis der gefundenen Abfallobjekte unterscheidet sich \",\n",
    "    \"je nach Landnutzungsprofil. Das Verhältnis gibt daher einen Hinweis \",\n",
    "    \"auf die ökologischen und wirtschaftlichen Bedingungen um den Erhebungsort.\",\n",
    "]\n",
    "\n",
    "# make paragraphs\n",
    "land_use_subtitle = Paragraph(section_titlex, section_title)\n",
    "land_use_summary = Paragraph(''.join(section_summary), featuredata.p_style)\n",
    "definition_list = makeAList(section_definition)\n",
    "para_one = Paragraph(\"\".join(p_one), featuredata.p_style)\n",
    "para_two = Paragraph(\"\".join(p_two), featuredata.p_style)\n",
    "para_three = Paragraph(\"\".join(p_three), featuredata.p_style)\n",
    "\n",
    "new_components = [\n",
    "    KeepTogether([        \n",
    "        land_use_subtitle,\n",
    "        small_space,\n",
    "        land_use_summary,\n",
    "        smallest_space,\n",
    "        definition_list,\n",
    "        smallest_space,\n",
    "        para_one,\n",
    "        smallest_space,\n",
    "        para_two,\n",
    "        smallest_space,\n",
    "        para_three\n",
    "    ])\n",
    "]\n",
    "\n",
    "pdfcomponents = addToDoc(new_components, pdfcomponents)"
   ]
  },
  {
   "cell_type": "code",
   "execution_count": null,
   "metadata": {
    "pycharm": {
     "name": "#%%\n"
    },
    "tags": [
     "hide-input"
    ]
   },
   "outputs": [],
   "source": [
    "# this gets all the data for the project\n",
    "land_use_kwargs = {\n",
    "    \"data\": period_data.period_data,\n",
    "    \"index_column\":\"loc_date\",\n",
    "    \"these_features\": this_feature['slug'],\n",
    "    \"feature_level\":this_feature['level']   \n",
    "}\n",
    "\n",
    "# the landuse profile of the project\n",
    "project_profile = featuredata.LandUseProfile(**land_use_kwargs).byIndexColumn()\n",
    "\n",
    "# update the kwargs for the feature data\n",
    "land_use_kwargs.update({\"data\":fdx.feature_data})\n",
    "\n",
    "# build the landuse profile of the feature\n",
    "feature_profile = featuredata.LandUseProfile(**land_use_kwargs)\n",
    "\n",
    "# this is the component features of the report\n",
    "feature_landuse = feature_profile.featureOfInterest()\n",
    "\n",
    "fig, axs = plt.subplots(2, 3, figsize=(9,8), sharey=\"row\")\n",
    "\n",
    "for i, n in enumerate(featuredata.default_land_use_columns):\n",
    "    r = i%2\n",
    "    c = i%3\n",
    "    ax=axs[r,c]\n",
    "    \n",
    "    # the value of land use feature n\n",
    "    # for each element of the feature\n",
    "    for element in feature_landuse:\n",
    "        # the land use data for a feature\n",
    "        data = element[n].values\n",
    "        # the name of the element\n",
    "        element_name = element[feature_profile.feature_level].unique()\n",
    "        # proper name for chart\n",
    "        label = featuredata.river_basin_de[element_name[0]]\n",
    "        # cumulative distribution        \n",
    "        xs, ys = featuredata.empiricalCDF(data)\n",
    "        # the plot of landuse n for this element\n",
    "        sns.lineplot(x=xs, y=ys, ax=ax, label=label, color=featuredata.bassin_pallette[element_name[0]])\n",
    "    \n",
    "    # the value of the land use feature n for the project\n",
    "    testx, testy = featuredata.empiricalCDF(project_profile[n].values)\n",
    "    sns.lineplot(x=testx, y=testy, ax=ax, label=top, color=\"magenta\")\n",
    "    \n",
    "    # get the median landuse for the feature\n",
    "    the_median = np.median(data)\n",
    "    \n",
    "    # plot the median and drop horizontal and vertical lines\n",
    "    ax.scatter([the_median], 0.5, color=\"red\",s=40, linewidth=1, zorder=100, label=\"Median\")\n",
    "    ax.vlines(x=the_median, ymin=0, ymax=0.5, color=\"red\", linewidth=1)\n",
    "    ax.hlines(xmax=the_median, xmin=0, y=0.5, color=\"red\", linewidth=1)\n",
    "    \n",
    "    if i <= 3:\n",
    "        if c == 0:            \n",
    "            ax.yaxis.set_major_locator(MultipleLocator(.1))\n",
    "        ax.xaxis.set_major_formatter(ticker.PercentFormatter(1.0, 0, \"%\"))        \n",
    "    else:\n",
    "        pass      \n",
    "    \n",
    "    handles, labels = ax.get_legend_handles_labels()\n",
    "    ax.get_legend().remove()    \n",
    "    ax.set_title(featuredata.luse_de[n], loc='left')\n",
    "    \n",
    "plt.tight_layout()\n",
    "plt.subplots_adjust(top=.91, hspace=.4)\n",
    "plt.suptitle(\"Landnutzung im Umkries von 1 500 m um den Erhebungsort\", ha=\"center\", y=1, fontsize=16)\n",
    "fig.legend(handles, labels, bbox_to_anchor=(.5,.5), loc=\"upper center\", ncol=3)\n",
    "figure_caption = \"Landnutzungsprofil der Erhebungsorte. Verteilung der Erhebungen in Bezug auf die Landnutzung.\"\n",
    "\n",
    "figure_name = \"aare_survey_area_landuse\"\n",
    "land_use_file_name = f'{save_fig_prefix}{figure_name}.jpeg'\n",
    "save_figure_kwargs.update({\"fname\":land_use_file_name})\n",
    "\n",
    "plt.tight_layout()\n",
    "plt.subplots_adjust(top=.91, hspace=.4)\n",
    "plt.savefig(**save_figure_kwargs)\n",
    "\n",
    "# capture the output\n",
    "glue(figure_name, fig, display=False)\n",
    "glue(f\"{this_feature['slug']}_land_use_caption\", figure_caption, display=False)\n",
    "plt.close()"
   ]
  },
  {
   "cell_type": "markdown",
   "metadata": {
    "pycharm": {
     "name": "#%% md\n"
    }
   },
   "source": [
    "```{glue:figure} aare_survey_area_landuse\n",
    "---\n",
    "name: 'aare_survey_area_landuse'\n",
    "---\n",
    "` `\n",
    "```\n",
    "{numref}`Abbildung %s: <aare_survey_area_landuse>` {glue:text}`aare_land_use_caption`"
   ]
  },
  {
   "cell_type": "markdown",
   "metadata": {
    "pycharm": {
     "name": "#%% md\n"
    }
   },
   "source": [
    "### Verteilung der Erhebungsergebnisse"
   ]
  },
  {
   "cell_type": "code",
   "execution_count": null,
   "metadata": {
    "pycharm": {
     "name": "#%%\n"
    },
    "tags": [
     "hide-input"
    ]
   },
   "outputs": [],
   "source": [
    "o_w, o_h = convertPixelToCm(land_use_file_name)\n",
    "f3cap = Paragraph(figure_caption, caption_style)\n",
    "figure_kwargs = {\n",
    "    \"image_file\":land_use_file_name,\n",
    "    \"caption\": f3cap, \n",
    "    \"original_width\":o_w,\n",
    "    \"original_height\":o_h,\n",
    "    \"desired_width\": 14,\n",
    "    \"caption_height\":1,\n",
    "    \"hAlign\": \"CENTER\",\n",
    "}\n",
    "\n",
    "f3 = figureAndCaptionTable(**figure_kwargs)\n",
    "\n",
    "new_components = [\n",
    "    small_space,\n",
    "    f3\n",
    "]\n",
    "\n",
    "pdfcomponents = addToDoc(new_components, pdfcomponents)\n",
    "\n",
    "\n",
    "dx = period_data.parentSampleTotals(parent=False)\n",
    "\n",
    "months = mdates.MonthLocator(interval=1)\n",
    "months_fmt = mdates.DateFormatter(\"%b\")\n",
    "days = mdates.DayLocator(interval=7)\n",
    "\n",
    "# get the monthly or quarterly results for the feature\n",
    "rsmp = fdx.sample_totals.set_index(\"date\")\n",
    "resample_plot, rate = featuredata.quarterlyOrMonthlyValues(rsmp, this_feature[\"name\"], vals=unit_label)\n",
    "\n",
    "fig, axs = plt.subplots(1,2, figsize=(10,5))\n",
    "\n",
    "ax = axs[0]\n",
    "\n",
    "# feature surveys\n",
    "sns.scatterplot(data=dx, x=\"date\", y=unit_label, label=top, color=\"black\", alpha=0.4,  ax=ax)\n",
    "# all other surveys\n",
    "sns.scatterplot(data=fdx.sample_totals, x=\"date\", y=unit_label, label=this_feature[\"name\"], color=\"red\", s=34, ec=\"white\", ax=ax)\n",
    "# monthly or quaterly plot\n",
    "sns.lineplot(data=resample_plot, x=resample_plot.index, y=resample_plot, label=F\"{this_feature['name']}: monatlicher Medianwert\", color=\"magenta\", ax=ax)\n",
    "\n",
    "ax.set_ylabel(unit_label, **featuredata.xlab_k14)\n",
    "\n",
    "ax.set_xlabel(\"\")\n",
    "ax.xaxis.set_minor_locator(days)\n",
    "ax.xaxis.set_major_formatter(months_fmt)\n",
    "# ax.margins(x=.05, y=.05)\n",
    "ax.set_ylim(-50, 2000)\n",
    "\n",
    "ax.legend()\n",
    "\n",
    "# the cumlative distributions:\n",
    "axtwo = axs[1]\n",
    "\n",
    "# the feature of interest\n",
    "feature_ecd = featuredata.ecdfOfAColumn(fdx.sample_totals, unit_label)    \n",
    "sns.lineplot(x=feature_ecd[\"x\"], y=feature_ecd[\"y\"], color=\"darkblue\", ax=axtwo, label=this_feature[\"name\"])\n",
    "\n",
    "# the other features\n",
    "other_features = featuredata.ecdfOfAColumn(dx, unit_label)\n",
    "sns.lineplot(x=other_features[\"x\"], y=other_features[\"y\"], color=\"magenta\", label=top, linewidth=1, ax=axtwo)\n",
    "\n",
    "axtwo.set_xlabel(unit_label, **featuredata.xlab_k14)\n",
    "axtwo.set_ylabel(\"Verhältnis der Erhebungen\", **featuredata.xlab_k14)\n",
    "axtwo.set_xlim(0, 3000)\n",
    "axtwo.legend(bbox_to_anchor=(.4,.5), loc=\"upper left\")\n",
    "axtwo.xaxis.set_major_locator(MultipleLocator(500))\n",
    "axtwo.xaxis.set_minor_locator(MultipleLocator(100))\n",
    "axtwo.yaxis.set_major_locator(MultipleLocator(.1))\n",
    "axtwo.grid(which=\"minor\", visible=True, axis=\"x\", linestyle=\"--\", linewidth=1)\n",
    "\n",
    "plt.tight_layout()\n",
    "\n",
    "figure_name = f\"{this_feature['slug']}_sample_totals\"\n",
    "sample_totals_file_name = f'{save_fig_prefix}{figure_name}.jpeg'\n",
    "save_figure_kwargs.update({\"fname\":sample_totals_file_name})\n",
    "plt.savefig(**save_figure_kwargs)\n",
    "\n",
    "# figure caption\n",
    "sample_total_notes = [\n",
    "    f'Links: {this_feature[\"name\"]}, {featuredata.dateToYearAndMonth(datetime.strptime(start_date, date_format), lang=date_lang)} ',\n",
    "    f'bis {featuredata.dateToYearAndMonth(datetime.strptime(end_date, date_format), lang=date_lang)}, n = {admin_summary[\"loc_date\"]}. ',\n",
    "    f'Rechts: empirische Verteilungsfunktion der Erhebungsergebnisse {this_feature[\"name\"]}.'\n",
    "]\n",
    "\n",
    "sample_total_notes = ''.join(sample_total_notes)\n",
    "\n",
    "glue(f'{this_feature[\"slug\"]}_sample_total_notes', sample_total_notes, display=False)\n",
    "\n",
    "glue(\"aare_sample_totals\", fig, display=False)\n",
    "plt.close()"
   ]
  },
  {
   "cell_type": "markdown",
   "metadata": {
    "pycharm": {
     "name": "#%% md\n"
    }
   },
   "source": [
    "```{glue:figure} aare_sample_totals\n",
    "---\n",
    "name: 'aare_survey_area_sample_totals'\n",
    "---\n",
    "` `\n",
    "```\n",
    "{numref}`Abbildung %s: <aare_survey_area_sample_totals>` {glue:text}`aare_sample_total_notes`"
   ]
  },
  {
   "cell_type": "markdown",
   "metadata": {
    "pycharm": {
     "name": "#%% md\n"
    }
   },
   "source": [
    "### Zusammengefasste Daten und Materialarten"
   ]
  },
  {
   "cell_type": "code",
   "execution_count": null,
   "metadata": {
    "pycharm": {
     "name": "#%%\n"
    },
    "tags": [
     "hide-input"
    ]
   },
   "outputs": [],
   "source": [
    "csx = fdx.sample_summary.copy()\n",
    "\n",
    "\n",
    "combined_summary =[(x, featuredata.thousandsSeparator(int(csx[x]), language)) for x in csx.index]\n",
    "\n",
    "# the materials table\n",
    "fd_mat_totals = fdx.material_summary.copy()\n",
    "fd_mat_totals = featuredata.fmtPctOfTotal(fd_mat_totals, around=0)\n",
    "\n",
    "# applly new column names for printing\n",
    "cols_to_use = {\"material\":\"Material\",\"quantity\":\"Objekte (St.)\", \"% of total\":\"Anteil\"}\n",
    "fd_mat_t = fd_mat_totals[cols_to_use.keys()].values\n",
    "fd_mat_t = [(x[0], featuredata.thousandsSeparator(int(x[1]), language), x[2]) for x in fd_mat_t]\n",
    "\n",
    "# make tables\n",
    "fig, axs = plt.subplots(1,2)\n",
    "\n",
    "# summary table\n",
    "# names for the table columns\n",
    "a_col = [this_feature[\"name\"], \"Total\"]\n",
    "\n",
    "axone = axs[0]\n",
    "featuredata.hide_spines_ticks_grids(axone)\n",
    "\n",
    "table_two = sut.make_a_table(axone, combined_summary,  colLabels=a_col, colWidths=[.75,.25],  bbox=[0,0,1,1], **{\"loc\":\"lower center\"})\n",
    "table_two.get_celld()[(0,0)].get_text().set_text(\" \")\n",
    "table_two.set_fontsize(12)\n",
    "\n",
    "# material table\n",
    "axtwo = axs[1]\n",
    "axtwo.set_xlabel(\" \")\n",
    "featuredata.hide_spines_ticks_grids(axtwo)\n",
    "\n",
    "table_three = sut.make_a_table(axtwo, fd_mat_t,  colLabels=list(cols_to_use.values()), colWidths=[.4, .4,.2],  bbox=[0,0,1,1], **{\"loc\":\"lower center\"})\n",
    "table_three.get_celld()[(0,0)].get_text().set_text(\" \")\n",
    "table_three.set_fontsize(12)\n",
    "plt.tight_layout()\n",
    "plt.subplots_adjust(wspace=0.2)\n",
    "\n",
    "# figure caption\n",
    "summary_of_survey_totals = [\n",
    "    f'Zusammenfassung der Daten aller Erhebungen am {this_feature[\"name\"]}. ',\n",
    "    f'Gefunden Materialarten am {this_feature[\"name\"]} in Stückzahlen und ',\n",
    "    f'als prozentuale Anteile (stückzahlbezogen).'\n",
    "]\n",
    "\n",
    "summary_of_survey_totals = ''.join(summary_of_survey_totals)\n",
    "glue(f'{this_feature[\"slug\"]}_sample_summaries_caption', summary_of_survey_totals, display=False)\n",
    "\n",
    "figure_name = f'{this_feature[\"slug\"]}_sample_summaries'\n",
    "sample_summaries_file_name = f'{save_fig_prefix}{figure_name}.jpeg'\n",
    "save_figure_kwargs.update({\"fname\":sample_summaries_file_name})\n",
    "\n",
    "plt.savefig(**save_figure_kwargs)\n",
    "glue('aare_survey_area_sample_material_tables', fig, display=False)\n",
    "plt.close()"
   ]
  },
  {
   "cell_type": "markdown",
   "metadata": {
    "pycharm": {
     "name": "#%% md\n"
    }
   },
   "source": [
    "```{glue:figure} aare_survey_area_sample_material_tables\n",
    "---\n",
    "name: 'aare_survey_area_sample_material_tables'\n",
    "---\n",
    "` `\n",
    "```"
   ]
  },
  {
   "cell_type": "markdown",
   "metadata": {
    "pycharm": {
     "name": "#%% md\n"
    }
   },
   "source": [
    "{numref}`Abbildung %s: <aare_survey_area_sample_material_tables>` {glue:text}`aare_sample_summaries_caption`"
   ]
  },
  {
   "cell_type": "markdown",
   "metadata": {
    "pycharm": {
     "name": "#%% md\n"
    }
   },
   "source": [
    "## Die am häufigsten gefundenen Objekte\n",
    "\n",
    "Die am häufigsten gefundenen Objekte sind die zehn mengenmässig am meisten vorkommenden Objekte und/oder Objekte, die in mindestens 50 % aller Datenerhebungen identifiziert wurden (Häufigkeitsrate)"
   ]
  },
  {
   "cell_type": "code",
   "execution_count": null,
   "metadata": {
    "pycharm": {
     "name": "#%%\n"
    },
    "tags": [
     "hide-input"
    ]
   },
   "outputs": [],
   "source": [
    "# add summary tables to pdf\n",
    "sample_summary_subsection = Paragraph(\"Verteilung der Erhebungsergebnisse\", subsection_title)\n",
    "\n",
    "sample_total_notes_pdf = [\n",
    "    f'<b>Links:</b> {this_feature[\"name\"]}, {featuredata.dateToYearAndMonth(datetime.strptime(start_date, date_format), lang=date_lang)} ',\n",
    "    f'bis {featuredata.dateToYearAndMonth(datetime.strptime(end_date, date_format), lang=date_lang)}, n = {admin_summary[\"loc_date\"]}. ',\n",
    "    f'<b>Rechts:</b> empirische Verteilungsfunktion der Erhebungsergebnisse {this_feature[\"name\"]}.'\n",
    "]\n",
    "s_totals_caption = makeAParagraph(sample_total_notes_pdf, style=caption_style)\n",
    "\n",
    "samp_mat_subsection = Paragraph(\"Zusammengefasste Daten und Materialarten\", style=subsection_title)\n",
    "samp_material_caption = Paragraph(summary_of_survey_totals, style=caption_style)\n",
    "\n",
    "o_w, o_h = convertPixelToCm(sample_totals_file_name)\n",
    "\n",
    "figure_kwargs = {\n",
    "    \"image_file\":sample_totals_file_name,\n",
    "    \"caption\": s_totals_caption, \n",
    "    \"original_width\":o_w,\n",
    "    \"original_height\":o_h,\n",
    "    \"desired_width\": 15,\n",
    "    \"caption_height\":1,\n",
    "    \"hAlign\": \"CENTER\",\n",
    "}\n",
    "\n",
    "f4 = figureAndCaptionTable(**figure_kwargs)\n",
    "\n",
    "o_w, o_h = convertPixelToCm(sample_summaries_file_name)\n",
    "\n",
    "figure_kwargs = {\n",
    "    \"image_file\":sample_summaries_file_name,\n",
    "    \"caption\": samp_material_caption, \n",
    "    \"original_width\":o_w,\n",
    "    \"original_height\":o_h,\n",
    "    \"desired_width\": 11,\n",
    "    \"caption_height\":1,\n",
    "    \"hAlign\": \"CENTER\",\n",
    "}\n",
    "\n",
    "f5 = figureAndCaptionTable(**figure_kwargs)\n",
    "\n",
    "\n",
    "new_components = [\n",
    "    PageBreak(),\n",
    "    sample_summary_subsection,\n",
    "    small_space,\n",
    "    f4,\n",
    "    small_space,\n",
    "    samp_mat_subsection,\n",
    "    small_space,\n",
    "    f5,\n",
    "    PageBreak()\n",
    "]\n",
    "\n",
    "pdfcomponents = addToDoc(new_components, pdfcomponents)\n",
    "\n",
    "# the most common objects results\n",
    "most_common_display = fdx.most_common\n",
    "\n",
    "# language appropriate columns\n",
    "cols_to_use = featuredata.most_common_objects_table_de\n",
    "cols_to_use.update({unit_label:unit_label})\n",
    "\n",
    "# data for display\n",
    "most_common_display.rename(columns=cols_to_use, inplace=True)\n",
    "most_common_display = most_common_display[cols_to_use.values()].copy()\n",
    "most_common_display = most_common_display.set_index(\"Objekte\", drop=True)\n",
    "\n",
    "# .pdf output\n",
    "data = most_common_display.copy()\n",
    "data[\"Anteil\"] = data[\"Anteil\"].map(lambda x: f\"{int(x)}%\")\n",
    "data['Objekte (St.)'] = data['Objekte (St.)'].map(lambda x:featuredata.thousandsSeparator(x, language))\n",
    "data['Häufigkeitsrate'] = data['Häufigkeitsrate'].map(lambda x: f\"{x}%\")\n",
    "data[unit_label] = data[unit_label].map(lambda x: featuredata.replaceDecimal(round(x,1)))\n",
    "\n",
    "# make caption\n",
    "# get percent of total to make the caption string\n",
    "m_common_percent_of_total = fdx.most_common['Objekte (St.)'].sum()/fdx.code_summary['quantity'].sum()\n",
    "\n",
    "mc_caption_string = [\n",
    "    f'Häufigste Objekte im {this_feature[\"name\"]}: ',\n",
    "    'd. h. Objekte mit einer Häufigkeitsrate von mindestens 50% und/oder ',\n",
    "    f'Top Ten nach Anzahl. Zusammengenommen machen die häufigsten Objekte {int(m_common_percent_of_total*100)}% ',\n",
    "    f'aller gefundenen Objekte aus. Anmerkung: {unit_label} = Medianwert der Erhebung.'\n",
    "]\n",
    "\n",
    "mc_caption_string = \"\".join(mc_caption_string)\n",
    "\n",
    "colwidths = [4.5*cm, 2.2*cm, 2*cm, 2.8*cm, 2*cm]\n",
    "\n",
    "mc_caption_string = \"\".join(mc_caption_string)\n",
    "d_chart = aSingleStyledTable(data, colWidths=colwidths)\n",
    "d_capt = featuredata.makeAParagraph(mc_caption_string, style=caption_style)\n",
    "mc_table = tableAndCaption(d_chart, d_capt, colwidths)\n",
    "\n",
    "most_common_display.index.name = None\n",
    "most_common_display.columns.name = None\n",
    "\n",
    "# set pandas display\n",
    "aformatter = {\n",
    "    \"Anteil\":lambda x: f\"{int(x)}%\",\n",
    "    f\"{unit_label}\": lambda x: featuredata.replaceDecimal(x, language),\n",
    "    \"Häufigkeitsrate\": lambda x: f\"{int(x)}%\",   \n",
    "    \"Objekte (St.)\": lambda x: featuredata.thousandsSeparator(int(x), language)\n",
    "}\n",
    "\n",
    "mcd = most_common_display.style.format(aformatter).set_table_styles(table_css_styles)\n",
    "glue('aare_most_common_caption', mc_caption_string, display=False)\n",
    "glue('aare_most_common_tables', mcd, display=False)"
   ]
  },
  {
   "cell_type": "markdown",
   "metadata": {
    "pycharm": {
     "name": "#%% md\n"
    }
   },
   "source": [
    "```{glue:figure} aare_most_common_tables\n",
    "---\n",
    "name: 'aare_survey_area_most_common_tables'\n",
    "---\n",
    "` `\n",
    "```\n",
    "{numref}`Abbildung %s: <aare_survey_area_most_common_tables>` {glue:text}`aare_most_common_caption`"
   ]
  },
  {
   "cell_type": "markdown",
   "metadata": {
    "pycharm": {
     "name": "#%% md\n"
    }
   },
   "source": [
    "### Die am häufigsten gefundenen Objekte nach Gewässer"
   ]
  },
  {
   "cell_type": "code",
   "execution_count": null,
   "metadata": {
    "tags": [
     "hide-input"
    ]
   },
   "outputs": [],
   "source": [
    "# add new section to pdf\n",
    "mc_section_title = Paragraph(\"Die am häufigsten gefundenen Objekte\", section_title)\n",
    "para_g = \"Die am häufigsten gefundenen Objekte sind die zehn mengenmässig am meisten vorkommenden Objekte und/oder Objekte, die in mindestens 50 % aller Datenerhebungen identifiziert wurden (Häufigkeitsrate)\"\n",
    "mc_section_para = Paragraph(para_g, featuredata.p_style)\n",
    "\n",
    "new_components = [\n",
    "    KeepTogether([\n",
    "        mc_section_title,\n",
    "        small_space,\n",
    "        mc_section_para\n",
    "    ]),\n",
    "    small_space,\n",
    "    mc_table,\n",
    "       \n",
    "]\n",
    "pdfcomponents = addToDoc(new_components, pdfcomponents)\n",
    "\n",
    "mc_heat_map_caption = f'Median {unit_label} der häufigsten Objekte am {this_feature[\"name\"]}.'\n",
    "\n",
    "# calling componentsMostCommon gets the results for the most common codes\n",
    "# at the component level\n",
    "components = fdx.componentMostCommonPcsM()\n",
    "\n",
    "# map to proper names for features\n",
    "feature_names = admin_details.makeFeatureNameMap()\n",
    "\n",
    "# pivot that and quash the hierarchal column index that is created when the table is pivoted\n",
    "mc_comp = components[[\"item\", unit_label, this_level]].pivot(columns=this_level, index=\"item\")\n",
    "mc_comp.columns = mc_comp.columns.get_level_values(1)\n",
    "\n",
    "# insert the proper columns names for display\n",
    "proper_column_names = {x : feature_names.loc[x, 'water_name'] for x in mc_comp.columns}\n",
    "mc_comp.rename(columns = proper_column_names, inplace=True)\n",
    "\n",
    "# the aggregated total of the feature is taken from the most common objects table\n",
    "mc_feature = fdx.most_common[unit_label]\n",
    "mc_feature = featuredata.changeSeriesIndexLabels(mc_feature, {x:fdx.dMap.loc[x] for x in mc_feature.index})\n",
    "\n",
    "# the aggregated totals of all the period data\n",
    "mc_period = period_data.parentMostCommon(parent=False)\n",
    "mc_period = featuredata.changeSeriesIndexLabels(mc_period, {x:fdx.dMap.loc[x] for x in mc_period.index})\n",
    "\n",
    "# add the feature, bassin_label and period results to the components table\n",
    "mc_comp[this_feature[\"name\"]]= mc_feature\n",
    "mc_comp[top] = mc_period\n",
    "\n",
    "caption_prefix =  f'Median {unit_label} der häufigsten Objekte am '\n",
    "col_widths=[4.5*cm, *[1*cm]*(len(mc_comp.columns))]\n",
    "mc_heatmap_title = Paragraph(\"Die am häufigsten gefundenen Objekte nach Gewässer\", subsection_title)\n",
    "tables = featuredata.splitTableWidth(mc_comp, gradient=True, caption_prefix=caption_prefix, caption=mc_heat_map_caption,\n",
    "                    this_feature=this_feature[\"name\"], vertical_header=True, colWidths=col_widths)\n",
    "\n",
    "# identify the tables variable as either a list or a Flowable:\n",
    "if isinstance(tables, (list, np.ndarray)):\n",
    "    grouped_pdf_components = [*tables]\n",
    "else:\n",
    "    grouped_pdf_components = [tables]\n",
    "    \n",
    "\n",
    "new_components = [\n",
    "    small_space,\n",
    "    mc_heatmap_title,\n",
    "    small_space,\n",
    "    *grouped_pdf_components\n",
    "]\n",
    "\n",
    "pdfcomponents = addToDoc(new_components, pdfcomponents)\n",
    "\n",
    "# notebook display style\n",
    "aformatter = {x: featuredata.replaceDecimal for x in mc_comp.columns}\n",
    "mcd = mc_comp.style.format(aformatter).set_table_styles(table_css_styles)\n",
    "mcd = mcd.background_gradient(axis=None, vmin=mc_comp.min().min(), vmax=mc_comp.max().max(), cmap=\"YlOrBr\")\n",
    "\n",
    "# remove the index name and column name labels\n",
    "mcd.index.name = None\n",
    "mcd.columns.name = None\n",
    "\n",
    "# rotate the text on the header row\n",
    "# the .applymap_index method in the\n",
    "# df.styler module is used for this\n",
    "mcd = mcd.applymap_index(featuredata.rotateText, axis=1)\n",
    "\n",
    "# display markdown html\n",
    "glue(f'{this_feature[\"slug\"]}_mc_heat_map_caption', mc_heat_map_caption, display=False)\n",
    "\n",
    "glue(f'{this_feature[\"slug\"]}_most_common_heat_map', mcd, display=False)"
   ]
  },
  {
   "cell_type": "markdown",
   "metadata": {
    "pycharm": {
     "name": "#%% md\n"
    }
   },
   "source": [
    "```{glue:figure} aare_most_common_heat_map\n",
    "---\n",
    "name: 'aare_survey_area_most_common_heat_map'\n",
    "---\n",
    "` `\n",
    "```\n",
    "{numref}`Abbildung %s: <aare_survey_area_most_common_heat_map>`{glue:text}`aare_mc_heat_map_caption`"
   ]
  },
  {
   "cell_type": "markdown",
   "metadata": {
    "pycharm": {
     "name": "#%% md\n"
    },
    "tags": []
   },
   "source": [
    "### Die am häufigsten gefundenen Objekte im monatlichen Durchschnitt"
   ]
  },
  {
   "cell_type": "code",
   "execution_count": null,
   "metadata": {
    "tags": [
     "hide-input"
    ]
   },
   "outputs": [],
   "source": [
    "# collect the survey results of the most common objects\n",
    "# and aggregate code with groupname for each sample\n",
    "# use the index from the most common codes to select from the feature data\n",
    "# the aggregation method and the columns to keep\n",
    "agg_pcs_quantity = {unit_label:\"sum\", \"quantity\":\"sum\"}\n",
    "groups = [\"loc_date\",\"date\",\"code\", \"groupname\"]\n",
    "# make the range for one calendar year\n",
    "start_date = \"2020-04-01\"\n",
    "end_date = \"2021-03-31\"\n",
    "# aggregate\n",
    "m_common_m = fd[(fd.code.isin(fdx.most_common.index))].groupby(groups, as_index=False).agg(agg_pcs_quantity)\n",
    "# set the index to the date column and sort values within the date rage\n",
    "m_common_m.set_index(\"date\", inplace=True)\n",
    "m_common_m = m_common_m.sort_index().loc[start_date:end_date]\n",
    "\n",
    "# set the order of the chart, group the codes by groupname columns and collect the respective object codes\n",
    "an_order = m_common_m.groupby([\"code\",\"groupname\"], as_index=False).quantity.sum().sort_values(by=\"groupname\")[\"code\"].values\n",
    "\n",
    "# use the order array and resample each code for the monthly value\n",
    "# store in a dict\n",
    "mgr = {}\n",
    "for a_code in an_order:\n",
    "    # resample by month\n",
    "    a_cell = m_common_m[(m_common_m.code==a_code)][unit_label].resample(\"M\").mean().fillna(0)\n",
    "    a_cell = round(a_cell, 1)\n",
    "    this_group = {a_code:a_cell}\n",
    "    mgr.update(this_group)\n",
    "\n",
    "# make df form dict and collect the abbreviated month name set that to index\n",
    "by_month = pd.DataFrame.from_dict(mgr)\n",
    "by_month[\"month\"] = by_month.index.map(lambda x: get_month_names('abbreviated', locale=date_lang)[x.month])\n",
    "by_month.set_index('month', drop=True, inplace=True)\n",
    "\n",
    "# transpose to get months on the columns and set index to the object description\n",
    "by_month = by_month.T\n",
    "by_month[\"Objekt\"] = by_month.index.map(lambda x: fdx.dMap.loc[x])\n",
    "by_month.set_index(\"Objekt\", drop=True, inplace=True)\n",
    "\n",
    "# pdf components\n",
    "# gradient background for .pdf table\n",
    "monthly_heat_map_gradient = featuredata.colorGradientTable(by_month)\n",
    "\n",
    "# subsection title and figure caption\n",
    "mc_monthly_title = Paragraph(\"Die am häufigsten gefundenen Objekte im monatlichen Durchschnitt\", subsection_title)\n",
    "monthly_data_caption = f'{this_feature[\"name\"]}, monatliche Durchschnittsergebnisse p/100 m'\n",
    "figure_caption = Paragraph(monthly_data_caption, caption_style)\n",
    "\n",
    "# make pdf table\n",
    "col_widths = [4.5*cm, *[1*cm]*(len(mc_comp.columns))]\n",
    "\n",
    "d_chart = aSingleStyledTable(by_month, vertical_header=True, gradient=True, colWidths=col_widths)\n",
    "d_capt = featuredata.makeAParagraph(monthly_data_caption, style=caption_style)\n",
    "mc_table = tableAndCaption(d_chart, d_capt, colwidths)\n",
    "new_components = [\n",
    "    KeepTogether([\n",
    "        featuredata.large_space,\n",
    "        mc_monthly_title,\n",
    "        featuredata.large_space,\n",
    "        mc_table\n",
    "    ])\n",
    "]\n",
    "\n",
    "pdfcomponents = addToDoc(new_components, pdfcomponents)\n",
    "\n",
    "# remove the index names for .html display\n",
    "by_month.index.name = None\n",
    "by_month.columns.name = None\n",
    "\n",
    "aformatter = {x: featuredata.replaceDecimal for x in by_month.columns}\n",
    "\n",
    "mcdm = by_month.style.format(aformatter).set_table_styles(table_css_styles).background_gradient(axis=None, cmap=\"YlOrBr\", vmin=by_month.min().min(), vmax=by_month.max().max())\n",
    "glue(\"aare_monthly_results_caption\", monthly_data_caption, display=False)\n",
    "glue(\"aare_monthly_results\", mcdm, display=False)"
   ]
  },
  {
   "cell_type": "markdown",
   "metadata": {},
   "source": [
    "```{glue:figure} aare_monthly_results\n",
    "---\n",
    "name: 'aare_monthly_results'\n",
    "---\n",
    "` `\n",
    "```\n",
    "{numref}`Abbildung %s: <aare_monthly_results>` {glue:text}`aare_monthly_results_caption`"
   ]
  },
  {
   "cell_type": "markdown",
   "metadata": {},
   "source": [
    "## Erhebungsergebnisse und Landnutzung\n",
    "\n",
    "Das Landnutzungsprofil ist eine Darstellung der Art und des Umfangs der wirtschaftlichen Aktivität und der Umweltbedingungen rund um den Erhebungsort. Die Schlüsselindikatoren aus den Ergebnissen der Datenerhebungen werden mit dem Landnutzungsprofil für einen Radius von 1500 m um den Erhebungsort verglichen.\n",
    "\n",
    "Eine Assoziation ist eine Beziehung zwischen den Ergebnissen der Datenerhebungen und dem Landnutzungsprofil, die nicht auf Zufall beruht. Das Ausmass der Beziehung ist weder definiert noch linear.\n",
    "\n",
    "Die Rangkorrelation ist ein nicht-parametrischer Test, um festzustellen, ob ein statistisch signifikanter Zusammenhang zwischen der Landnutzung und den bei einer Abfallobjekte-Erhebung identifizierten Objekten besteht.\n",
    "\n",
    "Die verwendete Methode ist der Spearmans Rho oder Spearmans geordneter Korrelationskoeffizient. Die Testergebnisse werden bei p < 0,05 für alle gültigen Erhebungen an Seen im Untersuchungsgebiet ausgewertet.\n",
    "\n",
    "1. Rot/Rosa steht für eine positive Assoziation\n",
    "2. Gelb steht für eine negative Assoziation\n",
    "3. Weiss bedeutet, dass keine statistische Grundlage für die Annahme eines Zusammenhangs besteht"
   ]
  },
  {
   "cell_type": "code",
   "execution_count": null,
   "metadata": {
    "tags": [
     "remove-input"
    ]
   },
   "outputs": [],
   "source": [
    "land_use_section_title = \"Erhebungsergebnisse und Landnutzung\"\n",
    "luse_section_summary = [\n",
    "    \"Das Landnutzungsprofil ist eine Darstellung der Art und des Umfangs der wirtschaftlichen Aktivität \",\n",
    "    \"und der Umweltbedingungen rund um den Erhebungsort. Die Schlüsselindikatoren aus den Ergebnissen der \",\n",
    "    \"Datenerhebungen werden mit dem Landnutzungsprofil für einen Radius von 1500 m um den Erhebungsort verglichen.\"\n",
    "]\n",
    "\n",
    "p_one = [\n",
    "    \"Eine Assoziation ist eine Beziehung zwischen den Ergebnissen der Datenerhebungen und \",\n",
    "    \"dem Landnutzungsprofil, die nicht auf Zufall beruht. Das Ausmass der Beziehung ist \",\n",
    "    \"weder definiert noch linear.\"\n",
    "]\n",
    "\n",
    "p_two = [\n",
    "    \"Die Rangkorrelation ist ein nicht-parametrischer Test, um festzustellen, ob ein \",\n",
    "    \"statistisch signifikanter Zusammenhang zwischen der Landnutzung und den bei einer \",\n",
    "    \"Abfallobjekte-Erhebung identifizierten Objekten besteht.\"\n",
    "]\n",
    "\n",
    "p_three = [\n",
    "    \"Die verwendete Methode ist der Spearmans Rho oder Spearmans geordneter Korrelationskoeffizient. \",\n",
    "    \"Die Testergebnisse werden bei p < 0,05 für alle gültigen Erhebungen an \",\n",
    "    \"Seen im Untersuchungsgebiet ausgewertet.\"\n",
    "]\n",
    "\n",
    "values = [\n",
    "    \"Rot/Rosa steht für eine positive Assoziation\",\n",
    "    \"Gelb steht für eine negative Assoziation\",\n",
    "    \"Weiss bedeutet, dass keine statistische Grundlage für die Annahme eines Zusammenhangs besteht\"\n",
    "]\n",
    "\n",
    "\n",
    "a_list_groups = makeAList(values)\n",
    "\n",
    "section_titlex = Paragraph(land_use_section_title, section_title)\n",
    "section_summary = Paragraph(''.join(luse_section_summary), featuredata.p_style)\n",
    "para_one = Paragraph(''.join(p_one), featuredata.p_style)\n",
    "para_two = Paragraph(''.join(p_two), featuredata.p_style)\n",
    "para_three = Paragraph(''.join(p_three), featuredata.p_style)\n",
    "\n",
    "new_components = [\n",
    "    PageBreak(),\n",
    "    section_titlex,\n",
    "    small_space,\n",
    "    section_summary,\n",
    "    smallest_space,\n",
    "    para_one,\n",
    "    smallest_space,\n",
    "    para_two,\n",
    "    smallest_space,\n",
    "    para_three,\n",
    "    smallest_space,\n",
    "    a_list_groups\n",
    "]\n",
    "\n",
    "pdfcomponents = addToDoc(new_components, pdfcomponents)"
   ]
  },
  {
   "cell_type": "code",
   "execution_count": null,
   "metadata": {
    "pycharm": {
     "name": "#%%\n"
    },
    "tags": [
     "hide-input"
    ]
   },
   "outputs": [],
   "source": [
    "corr_data = fd[(fd.code.isin(fdx.most_common.index))&(fd.water_name_slug.isin(lakes_of_interest))].copy()\n",
    "land_use_columns = featuredata.default_land_use_columns\n",
    "code_description_map = fdx.dMap\n",
    "\n",
    "# chart the results of test for association\n",
    "fig, axs = plt.subplots(len(fdx.most_common.index),len(land_use_columns), figsize=(len(land_use_columns)*1,len(fdx.most_common.index)*1), sharey=\"row\")\n",
    "\n",
    "# the test is conducted on the survey results for each code\n",
    "for i,code in enumerate(fdx.most_common.index):\n",
    "    # slice the data\n",
    "    data = corr_data[corr_data.code == code]\n",
    "    \n",
    "    # run the test on for each land use feature\n",
    "    for j, n in enumerate(land_use_columns):       \n",
    "        # assign ax and set some parameters\n",
    "        ax=axs[i, j]\n",
    "        ax.grid(False)\n",
    "        ax.tick_params(axis=\"both\", which=\"both\",bottom=False,top=False,labelbottom=False, labelleft=False, left=False)\n",
    "        \n",
    "        # check the axis and set titles and labels       \n",
    "        if i == 0:\n",
    "            ax.set_title(f\"{featuredata.luse_de[n]}\", rotation=67.5, ha=\"left\", fontsize=12)\n",
    "        else:\n",
    "            pass\n",
    "        \n",
    "        if j == 0:\n",
    "            ax.set_ylabel(f\"{code_description_map[code]}\", rotation=0, ha=\"right\", labelpad=10, fontsize=12)\n",
    "            ax.set_xlabel(\" \")\n",
    "        else:\n",
    "            ax.set_xlabel(\" \")\n",
    "            ax.set_ylabel(\" \")\n",
    "        # run test\n",
    "        ax = featuredata.make_plot_with_spearmans(data, ax, n, unit_label=unit_label)\n",
    "\n",
    "\n",
    "plt.subplots_adjust(wspace=0, hspace=0)\n",
    "# figure caption\n",
    "caption_spearmans = [\n",
    "    \"Ausgewertete Korrelationen der am häufigsten gefundenen Objekte in Bezug auf das Landnutzungsprofil \",\n",
    "    f'im Erhebungsgebiet Aare. Für alle gültigen Erhebungen an Seen n={str(admin_summary[\"loc_date\"])}. Legende: wenn p > 0,05 = weiss,  ',\n",
    "    \"wenn p < 0,05 und Rho > 0 = rot, wenn p < 0,05 und Rho < 0 = gelb.\",  \n",
    "]\n",
    "\n",
    "spearmans = ''.join(caption_spearmans)\n",
    "glue(f'{this_feature[\"slug\"]}_spearmans_caption', spearmans, display=False)\n",
    "\n",
    "figure_name = f'{this_feature[\"slug\"]}_survey_area_spearmans'\n",
    "sample_summaries_file_name = f'{save_fig_prefix}{figure_name}.jpeg'\n",
    "save_figure_kwargs.update({\"fname\":sample_summaries_file_name})\n",
    "\n",
    "plt.savefig(**save_figure_kwargs)\n",
    "glue('aare_survey_area_spearmans', fig, display=False)\n",
    "plt.close()"
   ]
  },
  {
   "cell_type": "markdown",
   "metadata": {},
   "source": [
    "```{glue:figure} aare_survey_area_spearmans\n",
    "---\n",
    "name: 'aare_survey_area_spearmans'\n",
    "---\n",
    "` `\n",
    "```\n",
    "{numref}`Abbildung %s: <aare_survey_area_spearmans>` {glue:text}`aare_spearmans_caption`"
   ]
  },
  {
   "cell_type": "markdown",
   "metadata": {
    "pycharm": {
     "name": "#%% md\n"
    },
    "tags": []
   },
   "source": [
    "## Verwendungszweck der gefundenen Objekte\n",
    "\n",
    "Der Verwendungszweck basiert auf der Verwendung des Objekts, bevor es weggeworfen wurde, oder auf der Artikelbeschreibung, wenn die ursprüngliche Verwendung unbestimmt ist. Identifizierte Objekte werden einer der 260 vordefinierten Kategorien zugeordnet. Die Kategorien werden je nach Verwendung oder Artikelbeschreibung gruppiert.\n",
    "\n",
    "* Abwasser: Objekte, die aus Kläranlagen freigesetzt werden, sprich Objekte, die wahrscheinlich über die Toilette entsorgt werden\n",
    "* Mikroplastik (< 5 mm): fragmentierte Kunststoffe und Kunststoffharze aus der Vorproduktion\n",
    "* Infrastruktur: Artikel im Zusammenhang mit dem Bau und der Instandhaltung von Gebäuden, Strassen und der Wasser-/Stromversorgung\n",
    "* Essen und Trinken: alle Materialien, die mit dem Konsum von Essen und Trinken in Zusammenhang stehen\n",
    "* Landwirtschaft: Materialien z. B. für Mulch und Reihenabdeckungen, Gewächshäuser, Bodenbegasung, Ballenverpackungen. Einschliesslich Hartkunststoffe für landwirtschaftliche Zäune, Blumentöpfe usw.\n",
    "* Tabakwaren: hauptsächlich Zigarettenfilter, einschliesslich aller mit dem Rauchen verbundenen Materialien\n",
    "* Freizeit und Erholung: Objekte, die mit Sport und Freizeit zu tun haben, z. B. Angeln, Jagen, Wandern usw.\n",
    "* Verpackungen ausser Lebensmittel und Tabak: Verpackungsmaterial, das nicht lebensmittel- oder tabakbezogen ist\n",
    "* Plastikfragmente: Plastikteile unbestimmter Herkunft oder Verwendung\n",
    "* Persönliche Gegenstände: Accessoires, Hygieneartikel und Kleidung\n",
    "\n",
    "Im Anhang befindet sich die vollständige Liste der identifizierten Objekte, einschliesslich Beschreibungen und Gruppenklassifizierung. Das Kapitel [16 Codegruppen](codegroups) beschreibt jede Codegruppe im Detail und bietet eine umfassende Liste aller Objekte in einer Gruppe."
   ]
  },
  {
   "cell_type": "code",
   "execution_count": null,
   "metadata": {
    "tags": [
     "remove-input"
    ]
   },
   "outputs": [],
   "source": [
    "o_w, o_h = convertPixelToCm(sample_summaries_file_name)\n",
    "\n",
    "figure_kwargs = {\n",
    "    \"image_file\":sample_summaries_file_name,\n",
    "    \"caption\": samp_material_caption, \n",
    "    \"original_width\":o_w,\n",
    "    \"original_height\":o_h,\n",
    "    \"desired_width\": 13,\n",
    "    \"caption_height\":1,\n",
    "    \"hAlign\": \"CENTER\",\n",
    "}\n",
    "\n",
    "f5 = figureAndCaptionTable(**figure_kwargs)\n",
    "\n",
    "\n",
    "spearmans_chart = Image(sample_summaries_file_name, width=10*cm, height=15*cm, kind=\"proportional\", hAlign= \"CENTER\")\n",
    "caption_spearmans = Paragraph(spearmans, caption_style)\n",
    "chart_style = TableStyle([\n",
    "    ('VALIGN', (0, 0), (0, -0), 'TOP'),\n",
    "    ('VALIGN', (0, 1), (0,1), 'BOTTOM')\n",
    "])\n",
    "table_data = [[spearmans_chart, caption_spearmans]]\n",
    "spearmans_table = Table(table_data, style=chart_style,colWidths=[cm*10, cm*6], rowHeights=cm*12)\n",
    "\n",
    "new_components = [\n",
    "    featuredata.large_space,\n",
    "    featuredata.large_space,\n",
    "    spearmans_table\n",
    "]\n",
    "\n",
    "pdfcomponents = addToDoc(new_components, pdfcomponents)\n",
    "\n",
    "# make pdf out put\n",
    "cone_group_subtitle = Paragraph(\"Verwendungszweck der gefundenen Objekte\", style=section_title)\n",
    "\n",
    "paragraph_one = [\n",
    "    \"Der Verwendungszweck basiert auf der Verwendung des Objekts, bevor es weggeworfen wurde, \",\n",
    "    \"oder auf der Artikelbeschreibung, wenn die ursprüngliche Verwendung unbestimmt ist. \",\n",
    "    \"Identifizierte Objekte werden einer der 260 vordefinierten Kategorien zugeordnet. \",\n",
    "    \"Die Kategorien werden je nach Verwendung oder Artikelbeschreibung gruppiert.\"\n",
    "]\n",
    "\n",
    "group_names_list = [\n",
    "    \"Abwasser: Objekte, die aus Kläranlagen freigesetzt werden, sprich Objekte, die wahrscheinlich über die Toilette entsorgt werden\",\n",
    "    \"Mikroplastik (< 5 mm): fragmentierte Kunststoffe und Kunststoffharze aus der Vorproduktion\",\n",
    "    \"Infrastruktur: Artikel im Zusammenhang mit dem Bau und der Instandhaltung von Gebäuden, Strassen und der Wasser-/Stromversorgung\",\n",
    "    \"Essen und Trinken: alle Materialien, die mit dem Konsum von Essen und Trinken in Zusammenhang stehen\",\n",
    "    \"Landwirtschaft: Materialien z. B. für Mulch und Reihenabdeckungen, Gewächshäuser, Bodenbegasung, Ballenverpackungen. Einschliesslich Hartkunststoffe für landwirtschaftliche Zäune, Blumentöpfe usw.\",\n",
    "    \"Tabakwaren: hauptsächlich Zigarettenfilter, einschliesslich aller mit dem Rauchen verbundenen Materialien\",\n",
    "    \"Freizeit und Erholung: Objekte, die mit Sport und Freizeit zu tun haben, z. B. Angeln, Jagen, Wandern usw.\",\n",
    "    \"Verpackungen ausser Lebensmittel und Tabak: Verpackungsmaterial, das nicht lebensmittel- oder tabakbezogen ist\",\n",
    "    \"Plastikfragmente: Plastikteile unbestimmter Herkunft oder Verwendung\",\n",
    "    \"Persönliche Gegenstände: Accessoires, Hygieneartikel und Kleidung\"\n",
    "]\n",
    "\n",
    "paragraph_three = [\n",
    "    \"Im Anhang befindet sich die vollständige Liste der identifizierten Objekte, \",\n",
    "    \"einschliesslich Beschreibungen und Gruppenklassifizierung. \",\n",
    "    \"Das Kapitel [16 Codegruppen](codegroups) beschreibt jede Codegruppe im Detail und bietet eine \",\n",
    "    \"umfassende Liste aller Objekte in einer Gruppe.\"\n",
    "]\n",
    "\n",
    "\n",
    "# make paragraphs\n",
    "code_group_para_one = ''.join(paragraph_one)\n",
    "code_group_para_three = ''.join(paragraph_three)\n",
    "\n",
    "cgroup_pone = Paragraph(code_group_para_one, featuredata.p_style)\n",
    "\n",
    "cgroup_pthree = Paragraph(code_group_para_three, featuredata.p_style)\n",
    "a_list_groups = makeAList(group_names_list)\n",
    "\n",
    "new_components = [\n",
    "    KeepTogether([        \n",
    "        cone_group_subtitle,\n",
    "        small_space,\n",
    "        cgroup_pone,\n",
    "        smallest_space,\n",
    "        a_list_groups,\n",
    "        smallest_space,\n",
    "        cgroup_pthree,\n",
    "    ])\n",
    "]\n",
    "\n",
    "pdfcomponents = addToDoc(new_components, pdfcomponents)"
   ]
  },
  {
   "cell_type": "code",
   "execution_count": null,
   "metadata": {
    "tags": [
     "hide-input"
    ]
   },
   "outputs": [],
   "source": [
    "# the results are a callable for the components\n",
    "components = fdx.componentCodeGroupResults()\n",
    "\n",
    "# pivot that and reomve any hierarchal column index\n",
    "pt_comp = components[[this_level, \"groupname\", '% of total' ]].pivot(columns=this_level, index=\"groupname\")\n",
    "pt_comp.columns = pt_comp.columns.get_level_values(1)\n",
    "pt_comp.rename(columns = proper_column_names, inplace=True)\n",
    "\n",
    "# the aggregated codegroup results from the feature\n",
    "pt_feature = fdx.codegroup_summary[\"% of total\"]\n",
    "pt_comp[this_feature[\"name\"]] = pt_feature\n",
    "\n",
    "# the aggregated totals for the period\n",
    "pt_period = period_data.parentGroupTotals(parent=False, percent=True)\n",
    "pt_comp[top] = pt_period\n",
    "\n",
    "# caption\n",
    "code_group_percent_caption = [\n",
    "    'Verwendungszweck oder Beschreibung der identifizierten Objekte in % der ',\n",
    "    f'Gesamtzahl nach Gemeinden im Erhebungsgebiet {this_feature[\"name\"]}. '\n",
    "    'Fragmentierte Objekte, die nicht eindeutig identifiziert werden können, ',\n",
    "    'werden weiterhin nach ihrer Grösse klassifiziert.'\n",
    "]\n",
    "\n",
    "code_group_percent_caption = ''.join(code_group_percent_caption)\n",
    "\n",
    "# format for data frame\n",
    "pt_comp.index.name = None\n",
    "pt_comp.columns.name = None\n",
    "aformatter = {x: '{:.0%}' for x in pt_comp.columns}\n",
    "ptd = pt_comp.style.format(aformatter).set_table_styles(table_css_styles).background_gradient(axis=None, vmin=pt_comp.min().min(), vmax=pt_comp.max().max(), cmap=\"YlOrBr\")\n",
    "ptd = ptd.applymap_index(featuredata.rotateText, axis=1)\n",
    "\n",
    "# the caption prefix is used in the case where the table needs to be split horzontally\n",
    "caption_prefix =  'Verwendungszweck oder Beschreibung der identifizierten Objekte in % der Gesamtzahl nach Gemeinden: '\n",
    "\n",
    "col_widths = [4.5*cm, *[1*cm]*(len(pt_comp.columns))]\n",
    "cgpercent_tables = featuredata.splitTableWidth(pt_comp.mul(100).astype(int), gradient=True, caption_prefix=caption_prefix, caption= code_group_percent_caption,\n",
    "                    this_feature=this_feature[\"name\"], vertical_header=True, colWidths=col_widths, rowends=-2)\n",
    "\n",
    "if isinstance(tables, (list, np.ndarray)):\n",
    "    grouped_pdf_components = [*tables]\n",
    "else:\n",
    "    grouped_pdf_components = [tables]\n",
    "\n",
    "\n",
    "glue(\"aare_codegroup_percent_caption\", code_group_percent_caption, display=False)\n",
    "glue(\"aare_codegroup_percent\", ptd, display=False)"
   ]
  },
  {
   "cell_type": "markdown",
   "metadata": {
    "pycharm": {
     "name": "#%% md\n"
    }
   },
   "source": [
    "```{glue:figure} aare_codegroup_percent\n",
    "---\n",
    "name: 'aare_survey_area_codegroup_percent'\n",
    "---\n",
    "` `\n",
    "```\n",
    "{numref}`Abbildung %s: <aare_survey_area_codegroup_percent>` {glue:text}`aare_codegroup_percent_caption`"
   ]
  },
  {
   "cell_type": "code",
   "execution_count": null,
   "metadata": {
    "tags": [
     "hide-input"
    ]
   },
   "outputs": [],
   "source": [
    "# pivot that\n",
    "grouppcs_comp = components[[this_level, \"groupname\", unit_label ]].pivot(columns=this_level, index=\"groupname\")\n",
    "\n",
    "# quash the hierarchal column index\n",
    "grouppcs_comp.columns = grouppcs_comp.columns.get_level_values(1)\n",
    "grouppcs_comp.rename(columns = proper_column_names, inplace=True)\n",
    "\n",
    "# the aggregated codegroup results from the feature\n",
    "pt_feature = fdx.codegroup_summary[unit_label]\n",
    "grouppcs_comp[this_feature[\"name\"]] = pt_feature\n",
    "\n",
    "# the aggregated totals for the period\n",
    "pt_period = period_data.parentGroupTotals(parent=False, percent=False)\n",
    "grouppcs_comp[top] = pt_period\n",
    "\n",
    "# color gradient of restults\n",
    "code_group_pcsm_gradient = featuredata.colorGradientTable(grouppcs_comp)\n",
    "grouppcs_comp.index.name = None\n",
    "grouppcs_comp.columns.name = None\n",
    "\n",
    "# pdf and display output\n",
    "code_group_pcsm_caption = [\n",
    "    f'Verwendungszweck der gefundenen Objekte Median {unit_label} am ',\n",
    "    f'{this_feature[\"name\"]}. Fragmentierte Objekte, die nicht eindeutig ',\n",
    "    'identifiziert werden können, werden weiterhin nach ihrer Grösse klassifiziert.'\n",
    "]\n",
    "code_group_pcsm_caption = ''.join(code_group_pcsm_caption)\n",
    "\n",
    "caption_prefix =  f'Verwendungszweck der gefundenen Objekte Median {unit_label} am '\n",
    "col_widths = [4.5*cm, *[1*cm]*(len(grouppcs_comp.columns))]\n",
    "cgpcsm_tables = featuredata.splitTableWidth(grouppcs_comp, gradient=True, caption_prefix=caption_prefix, caption=code_group_pcsm_caption,\n",
    "                    this_feature=this_feature[\"name\"], vertical_header=True, colWidths=col_widths)\n",
    "\n",
    "if isinstance(cgpcsm_tables, (list, np.ndarray)):\n",
    "    new_components = [\n",
    "        featuredata.large_space,\n",
    "        *cgpercent_tables,    \n",
    "        featuredata.larger_space,\n",
    "        *cgpcsm_tables,\n",
    "        featuredata.larger_space\n",
    "    ]\n",
    "else:\n",
    "    new_components = [\n",
    "    featuredata.large_space,\n",
    "    cgpercent_tables,    \n",
    "    featuredata.larger_space,\n",
    "    cgpcsm_tables,\n",
    "    featuredata.larger_space\n",
    "    ]\n",
    "    \n",
    "pdfcomponents = addToDoc(new_components, pdfcomponents)\n",
    "\n",
    "aformatter = {x: featuredata.replaceDecimal for x in grouppcs_comp.columns}\n",
    "cgp = grouppcs_comp.style.format(aformatter).set_table_styles(table_css_styles).background_gradient(axis=None, vmin=grouppcs_comp.min().min(), vmax=grouppcs_comp.max().max(), cmap=\"YlOrBr\")\n",
    "cgp= cgp.applymap_index(featuredata.rotateText, axis=1)\n",
    "\n",
    "\n",
    "glue(\"aare_codegroup_pcsm_caption\", code_group_pcsm_caption, display=False)\n",
    "glue(\"aare_codegroup_pcsm\", cgp, display=False)"
   ]
  },
  {
   "cell_type": "markdown",
   "metadata": {
    "pycharm": {
     "name": "#%% md\n"
    }
   },
   "source": [
    "```{glue:figure} aare_codegroup_pcsm\n",
    "---\n",
    "name: 'aare_survey_area_codegroup_pcsm'\n",
    "---\n",
    "` `\n",
    "```\n",
    "{numref}`Abbildung %s: <aare_survey_area_codegroup_pcsm>` {glue:text}`aare_codegroup_pcsm_caption`"
   ]
  },
  {
   "cell_type": "markdown",
   "metadata": {
    "pycharm": {
     "name": "#%% md\n"
    }
   },
   "source": [
    "## Fliessgewässer"
   ]
  },
  {
   "cell_type": "code",
   "execution_count": null,
   "metadata": {
    "pycharm": {
     "name": "#%%\n"
    },
    "tags": [
     "hide-input"
    ]
   },
   "outputs": [],
   "source": [
    "# summary of sample totals\n",
    "csx = fdr.sample_summary.copy()\n",
    "combined_summary =[(x, featuredata.thousandsSeparator(int(csx[x]), language)) for x in csx.index]\n",
    "\n",
    "# the lake and river sample totals\n",
    "rivers = fdr.sample_totals\n",
    "lakes = fdx.sample_totals\n",
    "\n",
    "# make the charts\n",
    "fig = plt.figure(figsize=(11,6))\n",
    "\n",
    "aspec = fig.add_gridspec(ncols=11, nrows=3)\n",
    "\n",
    "ax = fig.add_subplot(aspec[:, :6])\n",
    "\n",
    "line_label = F\"{rate} median:{top}\"\n",
    "\n",
    "sns.scatterplot(data=lakes, x=\"date\", y=unit_label, color=\"black\", alpha=0.4, label=\"Seen\", ax=ax)\n",
    "sns.scatterplot(data=rivers, x=\"date\", y=unit_label, color=\"red\", s=34, ec=\"white\",label=\"Fleissgewässer\", ax=ax)\n",
    "\n",
    "ax.set_ylabel(unit_label, labelpad=10, fontsize=14)\n",
    "\n",
    "ax.set_xlabel(\"\")\n",
    "ax.xaxis.set_minor_locator(days)\n",
    "ax.xaxis.set_major_formatter(months_fmt)\n",
    "# ax.margins(x=.05, y=.05)\n",
    "ax.set_ylim(-50, 2000)\n",
    "\n",
    "a_col = [this_feature[\"name\"], \"Total\"]\n",
    "\n",
    "axone = fig.add_subplot(aspec[:, 6:])\n",
    "featuredata.hide_spines_ticks_grids(axone)\n",
    "\n",
    "table_five = sut.make_a_table(axone, combined_summary,  colLabels=a_col, colWidths=[.75,.25],  bbox=[0,0,1,1], **{\"loc\":\"lower center\"})\n",
    "table_five.get_celld()[(0,0)].get_text().set_text(\" \")\n",
    "table_five.set_fontsize(12)\n",
    "\n",
    "rivers_caption = [\n",
    "    f'Links: {this_feature[\"name\"]} Fliessgewässer, {featuredata.dateToYearAndMonth(datetime.strptime(start_date, date_format), lang=date_lang)} ',\n",
    "    f'bis {featuredata.dateToYearAndMonth(datetime.strptime(end_date, date_format), lang=date_lang)}, n = {len(rivers.loc_date.unique())}. ',\n",
    "    'Rechts: Zusammenfassung der Daten.'\n",
    "]\n",
    "\n",
    "rivers_caption = ''.join(rivers_caption)\n",
    "\n",
    "\n",
    "figure_name = f'{this_feature[\"slug\"]}river_sample_totals'\n",
    "river_totals_file_name = f'{save_fig_prefix}{figure_name}.jpeg'\n",
    "save_figure_kwargs.update({\"fname\":river_totals_file_name})\n",
    "\n",
    "plt.tight_layout()\n",
    "plt.savefig(**save_figure_kwargs)\n",
    "\n",
    "glue('aare_survey_area_rivers_summary_caption', rivers_caption, display=False)\n",
    "\n",
    "glue('aare_survey_area_rivers_summary', fig, display=False)\n",
    "plt.close()"
   ]
  },
  {
   "cell_type": "markdown",
   "metadata": {
    "pycharm": {
     "name": "#%% md\n"
    }
   },
   "source": [
    "```{glue:figure} aare_survey_area_rivers_summary\n",
    "---\n",
    "name: 'aare_survey_area_rivers_summary'\n",
    "---\n",
    "` `\n",
    "```\n",
    "{numref}`Abbildung %s: <aare_survey_area_rivers_summary>`{glue:text}`aare_survey_area_rivers_summary_caption`"
   ]
  },
  {
   "cell_type": "markdown",
   "metadata": {
    "pycharm": {
     "name": "#%% md\n"
    }
   },
   "source": [
    "### Die an Fliessgewässern am häufigsten gefundenen Objekte"
   ]
  },
  {
   "cell_type": "code",
   "execution_count": null,
   "metadata": {
    "tags": [
     "hide-input"
    ]
   },
   "outputs": [],
   "source": [
    "# the most common objects results\n",
    "most_common_display = fdr.most_common.copy()\n",
    "\n",
    "# language appropriate columns\n",
    "cols_to_use = featuredata.most_common_objects_table_de\n",
    "cols_to_use.update({unit_label:unit_label})\n",
    "\n",
    "# data for display\n",
    "most_common_display.rename(columns=cols_to_use, inplace=True)\n",
    "most_common_display = most_common_display[cols_to_use.values()].copy()\n",
    "most_common_display = most_common_display.set_index(\"Objekte\", drop=True)\n",
    "\n",
    "# .pdf output\n",
    "data = most_common_display.copy()\n",
    "data[\"Anteil\"] = data[\"Anteil\"].map(lambda x: f\"{int(x)}%\")\n",
    "data['Objekte (St.)'] = data['Objekte (St.)'].map(lambda x:featuredata.thousandsSeparator(x, language))\n",
    "data['Häufigkeitsrate'] = data['Häufigkeitsrate'].map(lambda x: f\"{x}%\")\n",
    "data[unit_label] = data[unit_label].map(lambda x: featuredata.replaceDecimal(round(x,1)))\n",
    "\n",
    "# make caption\n",
    "# get percent of total to make the caption string\n",
    "m_common_percent_of_total = fdx.most_common['Objekte (St.)'].sum()/fdx.code_summary['quantity'].sum()\n",
    "\n",
    "mc_caption_string = f'Häufigste Objekte p/100 m an Fliessgewässern im {this_feature[\"name\"]}: Medianwert der Erhebung.'\n",
    "\n",
    "\n",
    "# pdf_mc_table  = featuredata.aStyledTable(data, caption=mc_caption_string, colWidths=[4.5*cm, 2.2*cm, 2*cm, 2.8*cm, 2*cm])\n",
    "\n",
    "col_widths = [4.5*cm, 2.2*cm, 2*cm, 2.8*cm, 2*cm]\n",
    "\n",
    "d_chart = aSingleStyledTable(data, vertical_header=False, gradient=False, colWidths=col_widths)\n",
    "d_capt = featuredata.makeAParagraph([monthly_data_caption], style=caption_style)\n",
    "pdf_mc_table = tableAndCaption(d_chart, d_capt, colwidths)\n",
    "\n",
    "most_common_display.index.name = None\n",
    "most_common_display.columns.name = None\n",
    "\n",
    "# set pandas display\n",
    "aformatter = {\n",
    "    \"Anteil\":lambda x: f\"{int(x)}%\",\n",
    "    f\"{unit_label}\": lambda x: featuredata.replaceDecimal(x, language),\n",
    "    \"Häufigkeitsrate\": lambda x: f\"{int(x)}%\",   \n",
    "    \"Objekte (St.)\": lambda x: featuredata.thousandsSeparator(int(x), language)\n",
    "}\n",
    "\n",
    "mcd = most_common_display.style.format(aformatter).set_table_styles(table_css_styles)\n",
    "glue('aare_rivers_most_common_caption', mc_caption_string, display=False)\n",
    "glue('aare_rivers_most_common_tables', mcd, display=False)"
   ]
  },
  {
   "cell_type": "markdown",
   "metadata": {
    "pycharm": {
     "name": "#%% md\n"
    }
   },
   "source": [
    "```{glue:figure} aare_rivers_most_common_tables\n",
    "---\n",
    "name: 'aare_rivers_most_common_tables'\n",
    "---\n",
    "` `\n",
    "```\n",
    "{numref}`Abbildung %s: <aare_rivers_most_common_tables>` {glue:text}`aare_rivers_most_common_caption`"
   ]
  },
  {
   "cell_type": "code",
   "execution_count": null,
   "metadata": {
    "tags": [
     "remove-input"
    ]
   },
   "outputs": [],
   "source": [
    "rivers_section_title = Paragraph(\"Fliessgewässer\", section_title)\n",
    "rivers_caption_pdf = [\n",
    "    f'<b>Links:</b> {this_feature[\"name\"]} Fliessgewässer, {featuredata.dateToYearAndMonth(datetime.strptime(start_date, date_format), lang=date_lang)} ',\n",
    "    f'bis {featuredata.dateToYearAndMonth(datetime.strptime(end_date, date_format), lang=date_lang)}, n = {len(rivers.loc_date.unique())}. ',\n",
    "    '<b>Rechts:</b> Zusammenfassung der Daten.'\n",
    "]\n",
    "\n",
    "r_totals_caption = makeAParagraph(rivers_caption_pdf, style=caption_style)\n",
    "r_mc_subsection = Paragraph(\"Die an Fliessgewässern am häufigsten gefundenen Objekte\", subsection_title)\n",
    "r_mc_caption = Paragraph(mc_caption_string, caption_style)\n",
    "\n",
    "\n",
    "o_w, o_h = convertPixelToCm(river_totals_file_name)\n",
    "\n",
    "figure_kwargs = {\n",
    "    \"image_file\":river_totals_file_name,\n",
    "    \"caption\": r_totals_caption, \n",
    "    \"original_width\":o_w,\n",
    "    \"original_height\":o_h,\n",
    "    \"desired_width\": 13,\n",
    "    \"caption_height\":1,\n",
    "    \"hAlign\": \"CENTER\",\n",
    "}\n",
    "\n",
    "r_totalsx = figureAndCaptionTable(**figure_kwargs)\n",
    "\n",
    "\n",
    "new_components = [\n",
    "    PageBreak(),\n",
    "    rivers_section_title,\n",
    "    small_space,\n",
    "    r_totalsx,\n",
    "    small_space,\n",
    "    small_space,\n",
    "    r_mc_subsection,\n",
    "    small_space,\n",
    "    pdf_mc_table,        \n",
    "    PageBreak()\n",
    "  \n",
    "]\n",
    "pdfcomponents = addToDoc(new_components, pdfcomponents)"
   ]
  },
  {
   "cell_type": "markdown",
   "metadata": {
    "pycharm": {
     "name": "#%% md\n"
    }
   },
   "source": [
    "## Anhang\n",
    "\n",
    "### Schaumstoffe und Kunststoffe nach Grösse\n",
    "\n",
    "Die folgende Tabelle enthält die Komponenten «Gfoam» und «Gfrag», die für die Analyse gruppiert wurden. Objekte, die als Schaumstoffe gekennzeichnet sind, werden als Gfoam gruppiert und umfassen alle geschäumten Polystyrol-Kunststoffe > 0,5 cm. Kunststoffteile und Objekte aus kombinierten Kunststoff- und Schaumstoffmaterialien > 0,5 cm werden für die Analyse als Gfrags gruppiert."
   ]
  },
  {
   "cell_type": "code",
   "execution_count": null,
   "metadata": {
    "tags": [
     "hide-input"
    ]
   },
   "outputs": [],
   "source": [
    "annex_title = Paragraph(\"Anhang\", section_title)\n",
    "frag_sub_title = Paragraph(\"Schaumstoffe und Kunststoffe nach Grösse\", subsection_title)\n",
    "\n",
    "frag_paras = [\n",
    "    \"Die folgende Tabelle enthält die Komponenten «Gfoam» und «Gfrag», die für die Analyse gruppiert wurden. \",\n",
    "    \"Objekte, die als Schaumstoffe gekennzeichnet sind, werden als Gfoam gruppiert und umfassen alle geschäumten \",\n",
    "    \"Polystyrol-Kunststoffe > 0,5 cm. Kunststoffteile und Objekte aus kombinierten Kunststoff - und Schaumstoffmaterialien > 0,5 \",\n",
    "    \"cm werden für die Analyse als Gfrags gruppiert.\"\n",
    "]\n",
    "\n",
    "frag_p = \"\".join(frag_paras)\n",
    "frag = Paragraph(frag_p, featuredata.p_style)\n",
    "\n",
    "frag_caption = [\n",
    "    f'Fragmentierte und geschäumte Kunststoffe nach Grösse am {this_feature[\"name\"]}',\n",
    "    f'Median {unit_label}, Anzahl der gefundenen Objekte und Prozent der Gesamtmenge.'\n",
    "]\n",
    "frag_captions = ''.join(frag_caption)\n",
    "\n",
    "# collect the data before aggregating foams for all locations in the survye area\n",
    "# group by loc_date and code\n",
    "# Combine the different sizes of fragmented plastics and styrofoam\n",
    "# the codes for the foams\n",
    "before_agg = pd.read_csv(\"resources/checked_before_agg_sdata_eos_2020_21.csv\")\n",
    "some_foams = [\"G81\", \"G82\", \"G83\", \"G74\"]\n",
    "before_agg.rename(columns={\"p/100m\":unit_label}, inplace=True)\n",
    "\n",
    "# the codes for the fragmented plastics\n",
    "some_frag_plas = list(before_agg[before_agg.groupname == \"plastic pieces\"].code.unique())\n",
    "mask = ((before_agg.code.isin([*some_frag_plas, *some_foams]))&(before_agg.location.isin(admin_summary[\"locations_of_interest\"])))\n",
    "agg_pcs_median = {unit_label:\"median\", \"quantity\":\"sum\"}\n",
    "\n",
    "fd_frags_foams = before_agg[mask].groupby([\"loc_date\",\"code\"], as_index=False).agg(agg_pcs_quantity)\n",
    "fd_frags_foams = fd_frags_foams.groupby(\"code\").agg(agg_pcs_median)\n",
    "fd_frags_foams[\"item\"] = fd_frags_foams.index.map(lambda x: fdx.dMap.loc[x])\n",
    "fd_frags_foams[\"% of total\"] = (fd_frags_foams.quantity/fd.quantity.sum()).round(2)\n",
    "\n",
    "# table data\n",
    "data = fd_frags_foams[[\"item\",unit_label, \"quantity\", \"% of total\"]]\n",
    "data.rename(columns={\"item\":\"Objekt\", \"quantity\":\"Objekte (St.)\", \"% of total\":\"Anteil\"}, inplace=True)\n",
    "data.set_index(\"Objekt\", inplace=True, drop=True)\n",
    "data.index.name = None\n",
    "\n",
    "aformatter = {\n",
    "    f\"{unit_label}\": lambda x: featuredata.replaceDecimal(x, language),\n",
    "    \"Objekte (St.)\": lambda x: featuredata.thousandsSeparator(int(x), language),\n",
    "    \"Anteil\":'{:.0%}'   \n",
    "}\n",
    "\n",
    "frags_table = data.style.format(aformatter).set_table_styles(table_css_styles)\n",
    "\n",
    "glue(\"aare_frag_table_caption\", frag_captions, display=False)\n",
    "glue(\"aare_frags_table\", frags_table, display=False)\n",
    "\n",
    "# frag_table = featuredata.aStyledTable(data, caption=frag_captions, colWidths=[7*cm, *[2*cm]*(len(dims_table.columns)-1)])\n",
    "col_widths = [7*cm, *[2*cm]*(len(data.columns)-1)]\n",
    "\n",
    "d_chart = aSingleStyledTable(data, vertical_header=False, gradient=False, colWidths=col_widths)\n",
    "d_capt = featuredata.makeAParagraph(frag_caption, style=caption_style)\n",
    "pdf_mc_table = tableAndCaption(d_chart, d_capt, colwidths)\n",
    "\n",
    "new_components = [\n",
    "    KeepTogether([\n",
    "        annex_title,\n",
    "        small_space,\n",
    "        frag_sub_title,\n",
    "        featuredata.smaller_space,\n",
    "        frag,\n",
    "        small_space\n",
    "    ]),\n",
    "    pdf_mc_table\n",
    "]\n",
    "\n",
    "pdfcomponents = addToDoc(new_components, pdfcomponents)"
   ]
  },
  {
   "cell_type": "markdown",
   "metadata": {},
   "source": [
    "```{glue:figure} aare_frags_table\n",
    "---\n",
    "name: 'aare_frags_table'\n",
    "---\n",
    "` `\n",
    "```\n",
    "{numref}`Abbildung %s: <aare_frags_table>` {glue:text}`aare_frag_table_caption`"
   ]
  },
  {
   "cell_type": "markdown",
   "metadata": {
    "pycharm": {
     "name": "#%% md\n"
    }
   },
   "source": [
    "### Die Erhebungsorte"
   ]
  },
  {
   "cell_type": "markdown",
   "metadata": {},
   "source": [
    "```{figure} resources/maps/aare_location_labels.jpeg\n",
    "---\n",
    "name: aare_location_map\n",
    "---\n",
    "` `\n",
    "```\n",
    "{numref}`Abbildung %s: <aare_location_map>` {glue:text}`lac-leman_city_map_caption` "
   ]
  },
  {
   "cell_type": "code",
   "execution_count": null,
   "metadata": {
    "pycharm": {
     "name": "#%%\n"
    },
    "tags": [
     "hide-input"
    ]
   },
   "outputs": [],
   "source": [
    "# display the survey locations\n",
    "disp_columns = [\"latitude\", \"longitude\", \"city\"]\n",
    "disp_beaches = admin_details.df_beaches.loc[admin_summary[\"locations_of_interest\"]][disp_columns]\n",
    "disp_beaches.reset_index(inplace=True)\n",
    "disp_beaches.rename(columns={\"city\":\"stat\", \"slug\":\"standort\"}, inplace=True)\n",
    "disp_beaches.set_index(\"standort\", inplace=True, drop=True)\n",
    "\n",
    "# make this into a pdf table\n",
    "location_subsection = Paragraph(\"Die Erhebungsorte und Inventar der Objekte\", subsection_title)\n",
    "col_widths = [6*cm, 2.2*cm, 2.2*cm, 3*cm]\n",
    "pdf_table = aStyledTableWithTitleRow(disp_beaches, title=\"Die Erhebungsorte\", colWidths=col_widths)\n",
    "\n",
    "disp_beaches"
   ]
  },
  {
   "cell_type": "markdown",
   "metadata": {
    "pycharm": {
     "name": "#%% md\n"
    },
    "tags": []
   },
   "source": [
    "### Inventar der Objekte"
   ]
  },
  {
   "cell_type": "code",
   "execution_count": null,
   "metadata": {
    "pycharm": {
     "name": "#%%\n"
    },
    "tags": [
     "hide-input"
    ]
   },
   "outputs": [],
   "source": [
    "pd.set_option(\"display.max_rows\", None)\n",
    "complete_inventory = fdx.code_summary.copy()\n",
    "complete_inventory.sort_values(by=\"quantity\", ascending=False, inplace=True)\n",
    "complete_inventory[\"quantity\"] = complete_inventory[\"quantity\"].map(lambda x: featuredata.thousandsSeparator(x, language))\n",
    "complete_inventory[\"% of total\"] = complete_inventory[\"% of total\"].astype(int)\n",
    "complete_inventory[unit_label] = complete_inventory[unit_label].astype(int)\n",
    "complete_inventory.rename(columns=featuredata.inventory_table_de, inplace=True)\n",
    "    \n",
    "inventory_subsection = Paragraph(\"Inventar der Objekte\", subsection_title)\n",
    "col_widths=[1.2*cm, 4.5*cm, 2.2*cm, 1.5*cm, 1.5*cm, 2.4*cm, 1.5*cm]\n",
    "inventory_table = aStyledTableWithTitleRow(complete_inventory, title=\"Inventar der Objekte\", colWidths=col_widths)\n",
    "\n",
    "new_map_image =  Image('resources/maps/aare_location_labels.jpeg', width=cm*16, height=12*cm, kind=\"proportional\", hAlign= \"CENTER\")\n",
    "new_components = [\n",
    "    KeepTogether([\n",
    "        featuredata.large_space,\n",
    "        location_subsection,\n",
    "        small_space,\n",
    "        new_map_image,\n",
    "        Paragraph(map_caption, caption_style),\n",
    "        featuredata.smaller_space,\n",
    "        pdf_table,\n",
    "        \n",
    "    ]),\n",
    "    featuredata.large_space,\n",
    "    inventory_table\n",
    "]    \n",
    "\n",
    "pdfcomponents = addToDoc(new_components, pdfcomponents)\n",
    "\n",
    "complete_inventory"
   ]
  },
  {
   "cell_type": "code",
   "execution_count": null,
   "metadata": {
    "pycharm": {
     "name": "#%%\n"
    },
    "tags": [
     "hide-input",
     "remove-input"
    ]
   },
   "outputs": [],
   "source": [
    "doc = SimpleDocTemplate(pdf_link, pagesize=A4, leftMargin=2.5*cm, rightMargin=2.5*cm, topMargin=2.5*cm, bottomMargin=1*cm)\n",
    "pageinfo = f'IQAASL/Erhebungsgebiete/Zusammengefasste/{this_feature[\"name\"]}'\n",
    "source_prefix = \"https://hammerdirt-analyst.github.io/IQAASL-End-0f-Sampling-2021/\"\n",
    "source = f\"{this_feature['slug']}_sa.html\"\n",
    "\n",
    "link_to_source = f'{source_prefix}{source}'\n",
    "\n",
    "def myLaterPages(canvas, doc):\n",
    "    canvas.saveState()\n",
    "    canvas.setLineWidth(.001*cm)\n",
    "    canvas.setFillAlpha(.8)\n",
    "    canvas.line(2.5*cm, 27.6*cm,  18.5*cm, 27.6*cm) \n",
    "    canvas.setFont('Times-Roman',9)\n",
    "    canvas.drawString(2.5*cm, 1*cm, link_to_source)\n",
    "    canvas.drawString(18.5*cm, 1*cm,  \"S.%d \" % (doc.page,))\n",
    "    canvas.drawString(2.5*cm, 27.7*cm, pageinfo)\n",
    "    canvas.restoreState()\n",
    "    \n",
    "doc.build(pdfcomponents,  onFirstPage=myLaterPages, onLaterPages=myLaterPages)"
   ]
  }
 ],
 "metadata": {
  "kernelspec": {
   "display_name": "Python 3 (ipykernel)",
   "language": "python",
   "name": "python3"
  },
  "language_info": {
   "codemirror_mode": {
    "name": "ipython",
    "version": 3
   },
   "file_extension": ".py",
   "mimetype": "text/x-python",
   "name": "python",
   "nbconvert_exporter": "python",
   "pygments_lexer": "ipython3",
   "version": "3.10.0"
  }
 },
 "nbformat": 4,
 "nbformat_minor": 4
}
