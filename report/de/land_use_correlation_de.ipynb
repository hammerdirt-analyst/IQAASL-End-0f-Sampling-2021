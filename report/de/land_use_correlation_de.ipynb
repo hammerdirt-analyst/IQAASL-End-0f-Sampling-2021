{
 "cells": [
  {
   "cell_type": "code",
   "execution_count": 1,
   "metadata": {
    "tags": [
     "hide-input"
    ]
   },
   "outputs": [
    {
     "ename": "ModuleNotFoundError",
     "evalue": "No module named 'resources'",
     "output_type": "error",
     "traceback": [
      "\u001b[0;31m---------------------------------------------------------------------------\u001b[0m",
      "\u001b[0;31mModuleNotFoundError\u001b[0m                       Traceback (most recent call last)",
      "Cell \u001b[0;32mIn [1], line 20\u001b[0m\n\u001b[1;32m     17\u001b[0m \u001b[38;5;28;01mimport\u001b[39;00m \u001b[38;5;21;01mseaborn\u001b[39;00m \u001b[38;5;28;01mas\u001b[39;00m \u001b[38;5;21;01msns\u001b[39;00m\n\u001b[1;32m     19\u001b[0m \u001b[38;5;66;03m# home brew utitilties\u001b[39;00m\n\u001b[0;32m---> 20\u001b[0m \u001b[38;5;28;01mimport\u001b[39;00m \u001b[38;5;21;01mresources\u001b[39;00m\u001b[38;5;21;01m.\u001b[39;00m\u001b[38;5;21;01mchart_kwargs\u001b[39;00m \u001b[38;5;28;01mas\u001b[39;00m \u001b[38;5;21;01mck\u001b[39;00m\n\u001b[1;32m     21\u001b[0m \u001b[38;5;28;01mimport\u001b[39;00m \u001b[38;5;21;01mresources\u001b[39;00m\u001b[38;5;21;01m.\u001b[39;00m\u001b[38;5;21;01msr_ut\u001b[39;00m \u001b[38;5;28;01mas\u001b[39;00m \u001b[38;5;21;01msut\u001b[39;00m\n\u001b[1;32m     23\u001b[0m \u001b[38;5;66;03m# images and display\u001b[39;00m\n",
      "\u001b[0;31mModuleNotFoundError\u001b[0m: No module named 'resources'"
     ]
    }
   ],
   "source": [
    "# sys, file and nav packages:\n",
    "import datetime as dt\n",
    "import locale\n",
    "\n",
    "# math packages:\n",
    "import pandas as pd\n",
    "import numpy as np\n",
    "from scipy import stats\n",
    "from statsmodels.distributions.empirical_distribution import ECDF\n",
    "\n",
    "# charting:\n",
    "import matplotlib as mpl\n",
    "import matplotlib.pyplot as plt\n",
    "from matplotlib import colors\n",
    "import matplotlib.dates as mdates\n",
    "from matplotlib import ticker\n",
    "import seaborn as sns\n",
    "\n",
    "# home brew utitilties\n",
    "import resources.chart_kwargs as ck\n",
    "import resources.sr_ut as sut\n",
    "\n",
    "# images and display\n",
    "from PIL import Image as PILImage\n",
    "from IPython.display import Markdown as md\n",
    "\n",
    "# set the locale to the language desired\n",
    "# the locale is set back to to original at the the end of the script\n",
    "loc = locale.getlocale()\n",
    "lang =  \"de_CH.utf8\"\n",
    "locale.setlocale(locale.LC_ALL, lang)\n",
    "\n",
    "# set some parameters:\n",
    "today = dt.datetime.now().date().strftime(\"%Y-%m-%d\")\n",
    "start_date = '2020-03-01'\n",
    "end_date ='2021-05-31'\n",
    "\n",
    "unit_label = 'pcs_m'\n",
    "# banded color for table\n",
    "a_color = 'saddlebrown'\n",
    "\n",
    "# get your data:\n",
    "survey_data = pd.read_csv('resources/checked_sdata_eos_2020_21.csv')\n",
    "dfBeaches = pd.read_csv(\"resources/beaches_with_land_use_rates.csv\")\n",
    "dfCodes = pd.read_csv(\"resources/codes_with_group_names_2015.csv\")\n",
    "\n",
    "# set the index of the beach data to location slug\n",
    "dfBeaches.set_index('slug', inplace=True)\n",
    "\n",
    "# set the code index and edit descriptions for display:\n",
    "dfCodes.set_index('code', inplace=True)\n",
    "\n",
    "# the surveyor designated the object as aluminum instead of metal\n",
    "dfCodes.loc[\"G708\", \"material\"] = \"Metal\"\n",
    "\n",
    "# language specific\n",
    "# importing german code descriptions and material type transaltions\n",
    "de_codes = pd.read_csv(\"resources/codes_german_Version_1.csv\")\n",
    "de_codes.set_index(\"code\", inplace=True)\n",
    "\n",
    "for x in dfCodes.index:\n",
    "    dfCodes.loc[x, \"description\"] = de_codes.loc[x, \"german\"]\n",
    "    \n",
    "dfCodes[\"material\"] = dfCodes.material.map(lambda x: sut.mat_ge[x])\n",
    "\n",
    "dfCodes = sut.shorten_the_value([\"G178\", \"description\", \"Flaschenverschlüsse aus Metall\"], dfCodes)\n",
    "dfCodes = sut.shorten_the_value([\"Gfrags\", \"description\", \"Fragmentierte Kunststoffstücke\"], dfCodes)\n",
    "dfCodes = sut.shorten_the_value([\"G74\", \"description\", \"Schaumisolierung, XPS\"], dfCodes)\n",
    "dfCodes = sut.shorten_the_value([\"G30\", \"description\", \"Snackpackungen\"], dfCodes)\n",
    "\n",
    "# make a map to the code descriptions\n",
    "code_description_map = dfCodes.description\n",
    "\n",
    "# make a map to the code materials\n",
    "code_material_map = dfCodes.material"
   ]
  },
  {
   "cell_type": "markdown",
   "metadata": {
    "tags": []
   },
   "source": [
    "(luseprofilede)=\n",
    "# Das Landnutzungsprofil\n",
    "\n",
    "<a href=\"land_use_correlation.html\" > English </a>\n",
    "\n",
    "Das Bodennutzungsprofil ist eine numerische Darstellung der Art und des Umfangs der wirtschaftlichen Aktivität um den Erhebungsort. Das Profil wird anhand von Daten berechnet, die in Kartenschichten gespeichert sind, die im [Geoportal des Bundes](https://www.geo.admin.ch/) und im [Bundesamt für Statistik](https://www.bfs.admin.ch/bfs/en/home.html) verfügbar sind. \n",
    "\n",
    "Abfallobjekte sind eine Sammlung von weggeworfenen Gegenständen, die in der natürlichen Umgebung gefunden werden. Das Objekt selbst und der Kontext, in dem es gefunden wird, sind Indikatoren für die wirtschaftliche und geografische Herkunft. Wie das Land in der Nähe des Erhebungsortes genutzt wird, ist ein wichtiger Kontext, der bei der Bewertung der Erhebungsergebnisse berücksichtigt werden muss. {cite}`aydin` {cite}`grelaud`\n",
    "\n",
    "Im September 2020 hat die Europäische Union Basislinien und Zielwerte für Abfallobjekte am Strand veröffentlicht. Nach Abwägung vieler Faktoren, darunter die Transparenz der Berechnungsmethode und die Leistung in Bezug auf Ausreisser, hat die EU entschieden, dass der Medianwert der Datenerhebungen zum Vergleich der Basiswerte zwischen den Regionen verwendet wird. Dies hat das Interesse der Gemeinden geweckt, punktuelle Abfallobjekte besser zu identifizieren und zu quantifizieren, da sie versuchen, den effizientesten Weg zur Einhaltung der Zielwerte zu finden. Die Identifizierung relevanter Landnutzungsmuster und -merkmale ist ein wesentliches Element in diesem Prozess. {cite}`threshholdeu` {cite}`eubaselines` {cite}`vanemmerick`\n",
    "\n",
    "Hier schlagen wir eine Methode vor, um die Ergebnisse von Strand-Abfallaufkommen-Untersuchungen im Hinblick auf das Landnutzungsprofil im Umkreis von 1500 m um den Untersuchungsort auszuwerten. Die Erhebungsergebnisse der häufigsten Objekte werden mit Hilfe von Spearmans rho oder Spearmans ranked correlation, einem nicht-parametrischen Test auf Assoziation mit den gemessenen Landnutzungsmerkmalen getestet. {cite}`defspearmans`    {cite}`spearmansexplained`\n",
    "\n",
    "## Berechnung des Landnutzungsprofils \n",
    "\n",
    "Das Landnutzungsprofil setzt sich aus den messbaren Eigenschaften zusammen, die geografisch verortet sind und aus den aktuellen Versionen von Statistique Suisse de la superficie und swissTlmRegio extrahiert werden können.  {cite}`superficie` {cite}`tlmregio`. \n",
    "\n",
    "Die folgenden Werte wurden in einem Radius von 1500 m um jeden Erhebungsort berechnet:\n",
    "\n",
    "1. \\% der Fläche, die auf Gebäude entfällt\n",
    "2. \\% der Fläche, die dem Wald vorbehalten ist \n",
    "3. \\% der Fläche, die der Erholung dient \n",
    "4. \\% der Fläche, die der Landwirtschaft zugeschrieben wird \n",
    "5. Länge aller Strassen und Wege in Kilometern (Schienenwege nicht eingeschlossen) \n",
    "6. Anzahl der bekannten Wasserabfluss-Schnittpunkte \n",
    "\n",
    "**Berechnung des Landnutzungsprofils**\n",
    "\n",
    "Das Bundesamt für Statistik stellt die 'Statistique de superficie' zur Verfügung, ein Raster von Punkten 100m x 100m, das die Schweiz abdeckt. Jedem Punkt ist eine von 27 verschiedenen Landnutzungskategorien zugeordnet, die durch die Standardklassifikation von 2004 definiert sind. Dieses Raster dient als Grundlage für die Berechnung der Flächennutzung in der Umgebung des Erhebungsgebiets. Für diese Studie wurden die Landnutzungskategorien in sieben Gruppen aus den siebenundzwanzig verfügbaren Kategorien zusammengefasst. \n",
    "\n",
    "*Die aggregierten Werte und die entsprechenden Landnutzungskategorien*\n",
    "\n",
    "* Gebäude: (1, 2, 3, 4, 5, 9) \n",
    "* Transport:(6, 7, 8)\n",
    "* Erholoung: (10)\n",
    "* Landwirtschaft: (11, 12, 13, 14, 15, 16, 18)\n",
    "* Wälder: (17, 19, 20, 21, 22)\n",
    "* Wasser: (23, 24)\n",
    "* unproduktiv: (25, 26, 27)\n",
    "\n",
    "Für jeden Standort wurde die kumulative Summe und die kumulative Summe jeder Gruppe innerhalb des 1500m-Puffers berechnet. Die dem Wasser zugewiesene Menge wurde von der kumulativen Summe abgezogen. Das Ergebnis wurde verwendet, um den Prozentsatz der Landnutzung für jede Kategorie zu berechnen. \n",
    "\n",
    "Die Kategorie Erholung umfasst verschiedene Anwendungen für die öffentliche Nutzung. Die Nutzung reicht von Sportplätzen bis hin zu Friedhöfen und umfasst alle Bereiche, die für soziale Aktivitäten zur Verfügung stehen. \n",
    "\n",
    "__Berechnung der Strassenlänge__\n",
    "\n",
    "Die Strassenlänge wurde berechnet, indem die Kartenebene swissTLM3D_TLM_STRASSE mit dem 1500m-Puffer jedes Erhebungsortes geschnitten wurde. Alle Strassen und Wege wurden zu einer Linie zusammengefasst (QGIS: dissolve) und die Länge der Linie ist der angegebene Wert der Strassenkilometer. \n",
    "\n",
    "__Zählen der Einträge aus Flüssen__\n",
    "\n",
    "Für Standorte an Seen wurde die Anzahl der sich überschneidenden Fluss-/Kanaleinleitungen im Umkreis von 1500 m von jedem Erhebungsstandort berechnet. Die Kartenebene swissTLM3D_TLM_FLIESSGEWAESSER (Flüsse) wurde mit swissTLM3D_TLM_STEHENDES_GEWAESSER (Seen) geschnitten (QGIS: \"Linienschnittpunkte\"), und die Anzahl der Schnittpunkte pro 1500m Puffer wurde gezählt (QGIS: \"Punkte im Polygon zählen\"). Die Kartenebene der Seen wurde um 100 Meter erweitert, um alle Abflussstellen oder Bäche zu erfassen, die in der Nähe des Sees enden.  {cite}`qgis_software` {cite}`tlmregio`"
   ]
  },
  {
   "cell_type": "markdown",
   "metadata": {},
   "source": [
    "*Für die Berechnung des Landnutzungsprofils verwendete Kartenebenen. __Oben links:__ alle messbaren Werte innerhalb von 1500m. __Oben rechts:__ Strassen und Flusskreuzungen innerhalb von 1500 m. __Unten rechts:__ Landnutzungspunkte, die zur Berechnung von % der Gesamtfläche und der Gesamtfläche verwendet werden.*"
   ]
  },
  {
   "cell_type": "code",
   "execution_count": null,
   "metadata": {
    "tags": [
     "remove-input"
    ]
   },
   "outputs": [],
   "source": [
    "sut.display_image_ipython(\"resources/images/land_use_profile/land_use_dispaly_20.jpeg\", thumb=(800, 800))"
   ]
  },
  {
   "cell_type": "markdown",
   "metadata": {},
   "source": [
    "_Berechnetes Landnutzungsprofil von Hauterive-petite-plage, NE 31-07-2020._\n",
    "\n",
    "* zu Gebauden 32.7%\n",
    "* zur Freizeitgestaltung: 9.9% \n",
    "* für die Landwirtschaft: 18.9% \n",
    "* zu Wald: 24.3%\n",
    "* Kilometer Strassen 85\n",
    "* Fluss kreutz: 2"
   ]
  },
  {
   "cell_type": "markdown",
   "metadata": {
    "tags": [
     "remove-input"
    ]
   },
   "source": [
    "*__Unten:__ Datenerhebungen in einer ländlichen Umgebung. Kallnach, BE 26.02.2021*"
   ]
  },
  {
   "cell_type": "code",
   "execution_count": null,
   "metadata": {
    "tags": [
     "remove-input"
    ]
   },
   "outputs": [],
   "source": [
    "sut.display_image_ipython(\"resources/images/land_use_profile/tightquarterswholensee.jpg\", thumb=(800, 600))"
   ]
  },
  {
   "cell_type": "markdown",
   "metadata": {},
   "source": [
    "*__Unten:__ Datenerhebungen in einer städtischen Umgebung. Vevey, 28.02.2021*"
   ]
  },
  {
   "cell_type": "code",
   "execution_count": null,
   "metadata": {
    "tags": [
     "remove-input"
    ]
   },
   "outputs": [],
   "source": [
    "sut.display_image_ipython(\"resources/images/land_use_profile/urban2_800_600.jpg\", thumb=(800, 600))"
   ]
  },
  {
   "cell_type": "markdown",
   "metadata": {
    "tags": [
     "remove-input"
    ]
   },
   "source": [
    "<!-- <table>\n",
    "<tr>\n",
    "<th>Json 1</th>\n",
    "<th>Markdown</th>\n",
    "</tr>\n",
    "<tr>\n",
    "<td>\n",
    "<pre>\n",
    "{\n",
    "  \"id\": 1,\n",
    "  \"username\": \"joe\",\n",
    "  \"email\": \"joe@example.com\",\n",
    "  \"order_id\": \"3544fc0\"\n",
    "}\n",
    "</pre>\n",
    "</td>\n",
    "<td>\n",
    "\n",
    "```json\n",
    "{\n",
    "  \"id\": 5,\n",
    "  \"username\": \"mary\",\n",
    "  \"email\": \"mary@example.com\",\n",
    "  \"order_id\": \"f7177da\"\n",
    "}\n",
    "```\n",
    "\n",
    "</td>\n",
    "</tr>\n",
    "</table> -->"
   ]
  },
  {
   "cell_type": "markdown",
   "metadata": {},
   "source": [
    "\n",
    "### Landnutzungsprofil des Projekts\n",
    "\n",
    "Die Landnutzung wird als prozentualer Anteil der Gesamtfläche angegeben, der jeder Landnutzungskategorie innerhalb eines Radius von 1500 m um den Erhebungsort zugeordnet wird. Das Verhältnis der Anzahl der in den verschiedenen Landnutzungsprofilen durchgeführten Proben ist ein Indikator für die ökologischen und wirtschaftlichen Bedingungen in der Umgebung der Erhebungsorte. "
   ]
  },
  {
   "cell_type": "markdown",
   "metadata": {},
   "source": [
    "*Verteilung der Anzahl der Datenerhebungen für die verschiedenen Landnutzungsattribute, n=350 Stichproben* "
   ]
  },
  {
   "cell_type": "code",
   "execution_count": null,
   "metadata": {
    "tags": [
     "hide-input"
    ]
   },
   "outputs": [],
   "source": [
    "# explanatory variables that are being considered\n",
    "luse_exp = ['% to buildings', '% to recreation', '% to agg', '% to woods', 'streets km', 'intersects']\n",
    "luse_ge = sut.luse_ge\n",
    "# columns needed\n",
    "use_these_cols = ['loc_date' ,\n",
    "                  'date',\n",
    "                  '% to buildings',\n",
    "                  '% to trans',\n",
    "                  '% to recreation',\n",
    "                  '% to agg',\n",
    "                  '% to woods',\n",
    "                  'population',\n",
    "                  'water_name_slug',\n",
    "                  'streets km',\n",
    "                  'intersects',\n",
    "                  'groupname',\n",
    "                  'code'\n",
    "                 ]\n",
    "\n",
    "# the land use data was unvailable for these municipalities\n",
    "no_land_use = ['Walenstadt', 'Weesen', 'Glarus Nord', 'Quarten']\n",
    "\n",
    "# slice the data by start and end date, remove the locations with no land use data\n",
    "use_these_args = ((survey_data[\"date\"] >= start_date)&(survey_data[\"date\"] <= end_date)&(~survey_data.city.isin(no_land_use)))\n",
    "survey_data = survey_data[use_these_args].copy()\n",
    "\n",
    "# format the data and column names\n",
    "survey_data['date'] = pd.to_datetime(survey_data.date)\n",
    "\n",
    "# the survey total for each survey indifferent of object\n",
    "dfdt = survey_data.groupby(use_these_cols[:-2], as_index=False).agg({unit_label:'sum', 'quantity':'sum'})\n",
    "\n",
    "sns.set_style(\"whitegrid\")\n",
    "fig, axs = plt.subplots(2, 3, figsize=(9,9), sharey=\"row\")\n",
    "\n",
    "for i, n in enumerate(luse_exp):\n",
    "    r = i%2\n",
    "    c = i%3\n",
    "    ax=axs[r,c]  \n",
    "    \n",
    "    # the ECDF of the land use variable\n",
    "    the_data = ECDF(dfdt[n].values)\n",
    "    sns.lineplot(x=the_data.x, y= the_data.y, ax=ax, color='dodgerblue', label=\"% der Oberfläche\")\n",
    "    \n",
    "    # get the median % of land use for each variable under consideration from the data\n",
    "    the_median = dfdt[n].median()\n",
    "    \n",
    "    # plot the median and drop horzontal and vertical lines\n",
    "    ax.scatter([the_median], 0.5, color='red',s=50, linewidth=2, zorder=100, label=\"der Median\")\n",
    "    ax.vlines(x=the_median, ymin=0, ymax=0.5, color='red', linewidth=2)\n",
    "    ax.hlines(xmax=the_median, xmin=0, y=0.5, color='red', linewidth=2)\n",
    "    \n",
    "    #remove the legend from ax   \n",
    "    ax.get_legend().remove()\n",
    "    if i <= 3:\n",
    "        if i == 0:            \n",
    "            ax.set_ylabel(\"Prozent der Standorte\", **ck.xlab_k)\n",
    "        ax.xaxis.set_major_formatter(ticker.PercentFormatter(1.0, 0, \"%\"))        \n",
    "    else:\n",
    "        pass\n",
    "    handles, labels = ax.get_legend_handles_labels()\n",
    "    ax.set_xlabel(luse_ge[n], **ck.xlab_k)\n",
    "    \n",
    "    # add the median value from all locations to the ax title\n",
    "    ax.set_title(F\"median: {(round(the_median, 2))}\",fontsize=12, loc='left')\n",
    "    ax.set_xlabel(luse_ge[n], **ck.xlab_k)\n",
    "\n",
    "plt.tight_layout()\n",
    "plt.subplots_adjust(top=.88, hspace=.3)\n",
    "plt.suptitle(\"% Landnutzung im Umkreis von 1500 m um den Erhebungsort\", ha=\"center\", y=1, fontsize=16)\n",
    "fig.legend(handles, labels, bbox_to_anchor=(.5,.94), loc=\"center\", ncol=3)\n",
    "\n",
    "\n",
    "# # figure caption\n",
    "# sample_total_notes = [\n",
    "#     \"Erhebungsergebnisse und zusammenfassende Statistiken: \",\n",
    "#     \"Proben grösser als 10m und ohne Objekte kleiner als 2,5cm und Chemikalien, n=372\"\n",
    "# ]\n",
    "\n",
    "# sample_total_notes = ''.join(sample_total_notes)\n",
    "\n",
    "# glue(\"baseline_sample_total_notes\", sample_total_notes, display=False)\n",
    "\n",
    "\n",
    "# glue(\"baseline_sample_totals\", fig, display=False)\n",
    "plt.show()"
   ]
  },
  {
   "cell_type": "markdown",
   "metadata": {},
   "source": [
    "Die Landnutzung in der Umgebung der Datenerhebungen war stärker auf Gebäude als auf Landwirtschaft und Wald ausgerichtet. So entfielen bei der Hälfte aller Datenerhebungen mindestens 37% der Flächennutzung auf Gebäude gegenüber 19% für die Landwirtschaft und 13% für Wälder. Bei der Hälfte aller Stichproben betrug der Anteil der Landnutzung für Erholungszwecke mindestens 6%. \n",
    "\n",
    "Die Länge des Strassennetzes innerhalb der Pufferzone unterscheidet zwischen Orten, die ansonsten ähnliche Landnutzungsmerkmale aufweisen. Die Länge des Strassennetzes pro Pufferzone reicht von 13 km bis 212 km. 50 % der Datenerhebungen hatten ein Strassennetz von weniger als 67 km. \n",
    "\n",
    "Die Anzahl der Datenerhebungen reicht von Null bis 23, von den 354 Datenerhebungen hatten 50% 3 oder weniger Kreuzungen innerhalb von 1500m vom Erhebungsort. Die Grösse des kreuzenden Flusses oder Kanals wurde nicht berücksichtigt. Datenerhebungen an Flüssen haben null Kreuzungen. \n",
    "\n",
    "Die Bevölkerung (nicht gezeigt) stammt aus statpop 2018 und stellt die Bevölkerung der Gemeinde dar, die den Erhebungsort umgibt. Die kleinste Einwohnerzahl betrug 442 und die grösste 415'367. Von den gesamten Datenerhebungen stammen 50% aus Gemeinden mit einer Einwohnerzahl von mindestens 12'812. "
   ]
  },
  {
   "cell_type": "markdown",
   "metadata": {},
   "source": [
    "### Auswahl der Datenerhebungsorte\n",
    "\n",
    "Die Standorte der Datenerhebungen wurden anhand der folgenden Kriterien ausgewählt: \n",
    "\n",
    "* Daten aus früheren Datenerhebungen (SLR, MCBP) \n",
    "* Ganzjährig sicherer Zugang \n",
    "* Innerhalb von 30 Minuten zu Fuss von den nächsten öffentlichen Verkehrsmitteln entfernt \n",
    "\n",
    "Die Erhebungsorte repräsentieren die mit öffentlichen Verkehrsmitteln erreichbaren Landnutzungsbedingungen von etwa 1,7 Millionen Menschen.  "
   ]
  },
  {
   "cell_type": "markdown",
   "metadata": {},
   "source": [
    "## Zuordnung von Landnutzung zu Erhebungsergebnissen\n",
    "\n",
    "Es gibt 350 Datenerhebungen von 129 Standorten entlang von Flüssen und Seen. Der Mittelwert war mehr als doppelt so hoch wie der Median, was die extremen Werte widerspiegelt, die für Strand-Abfallobjekte-Untersuchungen typisch sind. {cite}`eubaselines` "
   ]
  },
  {
   "cell_type": "markdown",
   "metadata": {},
   "source": [
    "*__links__ Erhebungsergebnisse und __rechts__:kumulative Verteilung alle Seen und Flüsse (ohne Walensee). Anzahl der Proben: 350,  Anzahl der Standorte:129, Median:2.14 pcs/m, Mittelwert:4.15 pcs/m*"
   ]
  },
  {
   "cell_type": "code",
   "execution_count": null,
   "metadata": {
    "tags": [
     "hide-input"
    ]
   },
   "outputs": [],
   "source": [
    "# set the date intervals for the chart\n",
    "months = mdates.MonthLocator(interval=1)\n",
    "months_fmt = mdates.DateFormatter('%b')\n",
    "days = mdates.DayLocator(interval=7)\n",
    "\n",
    "# set the grid for the chart\n",
    "sns.set_style(\"whitegrid\")\n",
    "\n",
    "# chart the daily totals and the ECDF of all surveys under consideration\n",
    "fig, ax = plt.subplots(1,2, figsize=(10,6), sharey=False)\n",
    "\n",
    "axone=ax[0]\n",
    "axtwo = ax[1]\n",
    "\n",
    "axone.set_ylabel(\"pcs/m\", **ck.xlab_k14)\n",
    "axone.xaxis.set_minor_locator(days)\n",
    "axone.xaxis.set_major_formatter(months_fmt)\n",
    "axone.set_xlabel(\" \")\n",
    "\n",
    "axtwo.set_ylabel(\"Prozent der Standorte\", **ck.xlab_k14)\n",
    "axtwo.set_xlabel(\"pcs/m\", **ck.xlab_k)\n",
    "\n",
    "# time series plot of the survey results\n",
    "sns.scatterplot(data=dfdt, x='date', y=unit_label, color=\"dodgerblue\", s=34, ec='white', ax=axone)\n",
    "\n",
    "# ecdf of the survey results\n",
    "this_ecdf = ECDF(dfdt.pcs_m.values)\n",
    "\n",
    "# plot the cumulative disrtibution\n",
    "sns.lineplot(x=this_ecdf.x,y=this_ecdf.y, ax=axtwo, label='Kumulativverteilung')\n",
    "\n",
    "# get the median and mean from the data\n",
    "the_median = dfdt.pcs_m.median()\n",
    "the_mean = dfdt.pcs_m.mean()\n",
    "\n",
    "# get the percentile ranking of the mean\n",
    "p_mean = this_ecdf(the_mean)\n",
    "\n",
    "# plot the median and drop horzontal and vertical lines\n",
    "axtwo.scatter([the_median], 0.5, color='red',s=50, linewidth=2, zorder=100, label=\"Median\")\n",
    "axtwo.vlines(x=the_median, ymin=0, ymax=0.5, color='red', linewidth=1)\n",
    "axtwo.hlines(xmax=the_median, xmin=0, y=0.5, color='red', linewidth=1)\n",
    "\n",
    "# plot the mean and drop horzontal and vertical lines\n",
    "axtwo.scatter([the_mean], p_mean, color='magenta',s=50, linewidth=2, zorder=100, label=\"Mittelwert\")\n",
    "axtwo.vlines(x=the_mean, ymin=0, ymax=p_mean, color='magenta', linewidth=1)\n",
    "axtwo.hlines(xmax=the_mean, xmin=0, y=p_mean, color='magenta', linewidth=1)\n",
    "\n",
    "handle, labels = axtwo.get_legend_handles_labels()\n",
    "\n",
    "plt.legend(handle,labels)\n",
    "\n",
    "plt.tight_layout()\n",
    "\n",
    "plt.show()"
   ]
  },
  {
   "cell_type": "markdown",
   "metadata": {},
   "source": [
    "### Spearmans $\\rho$ ein Beispiel \n",
    "\n",
    "Die Rangkorrelation nach Spearmans testet auf eine statistisch signifikante monotone Beziehung oder Assoziation zwischen zwei Variablen. Die Hypothese lautet, dass es keinen Zusammenhang zwischen dem Landnutzungsprofil und den Erhebungsergebnissen gibt. {cite}`defspearmans` \n",
    "\n",
    "Die Testergebnisse beziehen sich auf die Richtung (rho) einer Assoziation und darauf, ob diese Assoziation wahrscheinlich auf einen Zufall zurückzuführen ist (p-Wert) oder nicht.) Damit ein Test als signifikant gilt, muss der p-Wert kleiner als 0,05 sein. {cite}`impspearmans`\n",
    "\n",
    "1. Die Nullhypothese: Es gibt keine monotone Beziehung zwischen den beiden Variablen \n",
    "2. Die Alternativhypothese: Es besteht eine monotone Beziehung und das Vorzeichen (+/-) gibt die Richtung an \n",
    "\n",
    "Sie gibt keine Auskunft über das Ausmass der Beziehung. Betrachten Sie als Beispiel das Verhältnis der Erhebungsergebnisse von Zigarettenstummeln in Bezug auf die Menge an Land, die Gebäuden oder der Landwirtschaft zugerechnet wird.{cite}`spearmansexplained`"
   ]
  },
  {
   "cell_type": "markdown",
   "metadata": {},
   "source": [
    "*__Links:__ Datenerhebungen der Zigarettenstummel in Bezug auf den prozentualen Anteil der Grundstücke an den Gebäuden. rho= 0,39, p-value < .001. __Rechts:__ Datenerhebungen der Zigarettenstummel in Bezug auf den Prozentsatz der landwirtschaftlichen Nutzfläche. rho= -0,31, p-value < .001.*"
   ]
  },
  {
   "cell_type": "code",
   "execution_count": null,
   "metadata": {
    "tags": [
     "hide-input"
    ]
   },
   "outputs": [],
   "source": [
    "# data for the example\n",
    "data = survey_data[survey_data.code == \"G27\"].groupby([\"loc_date\",\"% to buildings\", \"% to agg\"], as_index=False)[unit_label].sum()\n",
    "\n",
    "# run the test under the two conditions\n",
    "sprmns_b = stats.spearmanr(data[\"% to buildings\"], data[unit_label])\n",
    "sprmns_a = stats.spearmanr(data[\"% to agg\"], data[unit_label])\n",
    "\n",
    "# plot the survey results with respect to the land use profile\n",
    "fig, axs = plt.subplots(1,2, figsize=(9,6), sharey=True)\n",
    "\n",
    "sns.scatterplot(data=data, x=\"% to buildings\", y=unit_label, ax=axs[0], color='magenta')\n",
    "sns.scatterplot(data=data, x=\"% to agg\", y=unit_label, ax=axs[1], color='dodgerblue')\n",
    "\n",
    "axs[0].set_xlabel(\"% zu Gebäude\", **ck.xlab_k14)\n",
    "axs[1].set_xlabel(\"% Landwirtschaft\", **ck.xlab_k14)\n",
    "\n",
    "axs[0].set_ylabel(\"pcs/m\", **ck.xlab_k14)\n",
    "\n",
    "plt.tight_layout()\n",
    "plt.show()"
   ]
  },
  {
   "cell_type": "markdown",
   "metadata": {},
   "source": []
  },
  {
   "cell_type": "markdown",
   "metadata": {},
   "source": [
    "Betrachtet man die Erhebungsergebnisse für Zigarettenstummel in Bezug auf den prozentualen Anteil von bebauten oder landwirtschaftlich genutzten Flächen, ist der Wert von rho entgegengesetzt.  "
   ]
  },
  {
   "cell_type": "markdown",
   "metadata": {},
   "source": [
    "### Zuordnung der Erhebungssummen zur Bodennutzung"
   ]
  },
  {
   "cell_type": "markdown",
   "metadata": {},
   "source": [
    "*Ergebnisse des Spearmans-Rangkorrelationstests: Summen der Datenerhebungen in Bezug auf das Landnutzungsprofil*\n",
    "\n",
    "1. Rot/Rosa ist eine positive Assoziation \n",
    "2. Gelb ist eine negative Assoziation \n",
    "3. Weiss ist keine statistische Grundlage für die Annahme eines Zusammenhangs, p>0,05 "
   ]
  },
  {
   "cell_type": "code",
   "execution_count": null,
   "metadata": {
    "tags": [
     "hide-input"
    ]
   },
   "outputs": [],
   "source": [
    "# correlation  of survey total to land use attributes:\n",
    "fig, axs = plt.subplots(2, 3, figsize=(9,8), sharey=\"row\")\n",
    "\n",
    "for i, n in enumerate(luse_exp):\n",
    "    r = i%2\n",
    "    c = i%3\n",
    "    ax=axs[r,c] \n",
    "    ax, corr, a_p = sut.make_plot_with_spearmans(dfdt, ax, n, unit_label=unit_label)\n",
    "    if c == 0:\n",
    "        ax.set_ylabel('pcs/m', **ck.xlab_k)\n",
    "    ax.set_xlabel(luse_ge[n], **ck.xlab_k)\n",
    "    if a_p <= .001:\n",
    "        title_str = \"p < .001\"\n",
    "    else:\n",
    "        title_str = F\"p={round(a_p, 3)}\"\n",
    "    \n",
    "    ax.set_title(rF\"$\\rho={round(corr,4)}$, {title_str}\")\n",
    "    \n",
    "    # find p    \n",
    "    if a_p < 0.05:\n",
    "        if corr > 0:\n",
    "            ax.patch.set_facecolor('salmon')\n",
    "            ax.patch.set_alpha(0.5)\n",
    "        else:\n",
    "            ax.patch.set_facecolor('palegoldenrod')\n",
    "            ax.patch.set_alpha(0.5)\n",
    "\n",
    "plt.tight_layout()\n",
    "plt.show()"
   ]
  },
  {
   "cell_type": "markdown",
   "metadata": {},
   "source": [
    "Im Allgemeinen kann ein positiver Zusammenhang zwischen den Erhebungsergebnissen und dem prozentualen Anteil der Flächen für Gebäude oder Erholung und ein negativer Zusammenhang mit Wäldern und Landwirtschaft angenommen werden. "
   ]
  },
  {
   "cell_type": "markdown",
   "metadata": {},
   "source": [
    "### Zuordnung der häufigsten Objekte zur Landnutzung \n",
    "\n",
    "Die häufigsten Objekte sind alle Objekte, die entweder die zehn häufigsten nach Anzahl sind oder alle Objekte, die in mindestens 50% aller Datenerhebungen identifiziert wurden, was ungefähr 68% aller identifizierten und gezählten Objekte entspricht. Einige Objekte wurden in 50 % der Fälle identifiziert, kamen aber nicht so häufig vor, dass sie in die \"Top-Ten-Liste\" aufgenommen werden konnten. "
   ]
  },
  {
   "cell_type": "code",
   "execution_count": null,
   "metadata": {
    "tags": [
     "hide-input"
    ]
   },
   "outputs": [],
   "source": [
    "# common aggregations of survey data\n",
    "agg_pcs_quantity = {unit_label:\"sum\", \"quantity\":\"sum\"}\n",
    "agg_pcs_median = {unit_label:\"median\", \"quantity\":\"sum\"}\n",
    "\n",
    "# cumulative statistics for each code\n",
    "c_t_params = dict(agg=agg_pcs_median, description_map=code_description_map, material_map=code_material_map)\n",
    "code_totals = sut.the_aggregated_object_values(survey_data, **c_t_params)    \n",
    "\n",
    "# all codes with a fail rate > fail rate = most common objects\n",
    "better_than_50 = code_totals[code_totals[\"fail rate\"] >= 50]\n",
    "\n",
    "# the ten objects with the greatest quantity\n",
    "t_ten = code_totals.sort_values(by=\"quantity\", ascending=False)[:10]\n",
    "\n",
    "# combine the most abundant with the most common\n",
    "abundant_codes = list(set(t_ten.index) | set(better_than_50.index))\n",
    "\n",
    "# get the survey data for the most common codes for the final table data\n",
    "cols_to_use = ['item','quantity', 'fail rate', '% of total']\n",
    "m_common = code_totals.loc[abundant_codes, cols_to_use].sort_values(by=\"quantity\", ascending=False)\n",
    "m_common[\"% of total\"] = ((m_common.quantity/survey_data.quantity.sum())*100).astype('int')\n",
    "\n",
    "# format values for table\n",
    "m_common['% of total'] = m_common[\"% of total\"].map(lambda x: F\"{x}%\")\n",
    "m_common['quantity'] = m_common.quantity.map(lambda x: f\"{locale.format_string('%d', int(x), grouping=True)}\")\n",
    "m_common['fail rate'] = m_common['fail rate'].map(lambda x: F\"{x}%\")\n",
    "\n",
    "mcc = m_common[cols_to_use]\n",
    "colLabels = [\"Artikel\", \"Gesamt\", \"fail-rate\", \"%Gesamt\"]\n",
    "\n",
    "fig, axs = plt.subplots(figsize=(11,len(m_common)*.7))\n",
    "\n",
    "sut.hide_spines_ticks_grids(axs)\n",
    "\n",
    "table_one = sut.make_a_table(axs, mcc.values,  colLabels=colLabels ,  colWidths=[.48, .13,.13,.13], bbox=[0, 0, 1, 1])\n",
    "table_one.get_celld()[(0,0)].get_text().set_text(\" \")\n",
    "\n",
    "plt.show()\n",
    "plt.tight_layout()\n",
    "plt.close()"
   ]
  },
  {
   "cell_type": "markdown",
   "metadata": {
    "tags": []
   },
   "source": [
    "#### Ergebnisse Spearmans $\\rho$\n",
    "\n",
    "Aus der ersten Abbildung lässt sich ein positiver Zusammenhang zwischen der Anzahl der identifizierten Objekte und dem prozentualen Anteil der Flächen, die Gebäuden und Erholungsgebieten zugeordnet sind, ableiten. Das Umgekehrte gilt für den prozentualen Anteil von Landwirtschaft und Wald. Es gibt keine statistische Grundlage für die Annahme eines Zusammenhangs zwischen der Länge von Strassen oder der Anzahl von Flusskreuzungen und dem Gesamtergebnis der Erhebung. \n",
    "\n",
    "Das Ergebnis von Spearman's rho für die am häufigsten vorkommenden Objekte steht im Zusammenhang mit den Ergebnissen in der vorangegangenen Abbildung und veranschaulicht, wie sich verschiedene Objekte unter verschiedenen Bedingungen anhäufen.\n",
    "\n",
    "1. Rot/Rosa ist eine positive Assoziation \n",
    "2. Gelb ist eine negative Assoziation \n",
    "3. Weiss ist keine statistische Grundlage für die Annahme eines Zusammenhangs, p>0,05 "
   ]
  },
  {
   "cell_type": "code",
   "execution_count": null,
   "metadata": {
    "tags": [
     "hide-input"
    ]
   },
   "outputs": [],
   "source": [
    "fig, axs = plt.subplots(len(abundant_codes),len(luse_exp), figsize=(len(luse_exp)+6,len(abundant_codes)+4), sharey='row')\n",
    "\n",
    "for i,code in enumerate(mcc.index):\n",
    "    data = survey_data[survey_data.code == code]\n",
    "    for j, n in enumerate(luse_exp):\n",
    "        this_data = data.groupby(['loc_date', n], as_index=False)[unit_label].sum()\n",
    "        ax=axs[i, j]\n",
    "        ax.grid(False)\n",
    "        ax.tick_params(axis='both', which='both',bottom=False,top=False,labelbottom=False, labelleft=False, left=False)\n",
    "       \n",
    "        if i == 0:\n",
    "            ax.set_title(F\"{luse_ge[n]}\")\n",
    "        else:\n",
    "            pass\n",
    "        \n",
    "        if j == 0:\n",
    "            ax.set_ylabel(F\"{code_description_map[code]}\", rotation=0, ha='right', **ck.xlab_k14)\n",
    "            ax.set_xlabel(\" \")\n",
    "        else:\n",
    "            ax.set_xlabel(\" \")\n",
    "            ax.set_ylabel(\" \")\n",
    "               \n",
    "        _, corr, a_p = sut.make_plot_with_spearmans(this_data, ax, n, unit_label=unit_label)\n",
    "        \n",
    "        if a_p < 0.05:\n",
    "            if corr > 0:\n",
    "                ax.patch.set_facecolor('salmon')\n",
    "                ax.patch.set_alpha(0.5)\n",
    "            else:\n",
    "                ax.patch.set_facecolor('palegoldenrod')\n",
    "                ax.patch.set_alpha(0.5)\n",
    "\n",
    "plt.tick_params(labelsize=14, which='both', axis='both')\n",
    "\n",
    "plt.tight_layout()\n",
    "\n",
    "plt.subplots_adjust(wspace=0.02, hspace=0.02)\n",
    "\n",
    "plt.show()"
   ]
  },
  {
   "cell_type": "markdown",
   "metadata": {
    "tags": []
   },
   "source": [
    "### Spearmans interpretieren  \n",
    "\n",
    "Eine positive Assoziation bedeutet, dass die Erhebungsergebnisse tendenziell zunehmen, wenn der prozentuale Wert des Landnutzungsmerkmals steigt. Dies kann auf eine Kovarianz der Attribute zurückzuführen sein. In jedem Fall ist eine positive Assoziation ein Signal dafür, dass sich die Objekte unter diesen Bedingungen eher häufen. \n",
    "\n",
    "Eine negative Assoziation bedeutet, dass das Landnutzungsmerkmal oder -attribut die Akkumulation des Objekts nicht erleichtert. Dieses Ergebnis ist für landwirtschaftliche Flächen und Wälder auf nationaler Ebene üblich. Eine negative Assoziation ist ein Signal dafür, dass die Objekte unter diesen Bedingungen nicht zur Akkumulation neigen. \n",
    "\n",
    "Keine oder wenige Assoziationen bedeutet, dass die Landnutzungsmerkmale keinen Einfluss auf die Akkumulation des Objekts hatten. Die Erhebungsergebnisse der häufigsten Objekte ohne oder mit wenigen Assoziationen lassen sich in zwei Kategorien einteilen: \n",
    "\n",
    "* Allgegenwärtig: hohe Fail-Pass Rate, hohe Stückzahl pro Meter. Unabhängig von der Landnutzung im gesamten Untersuchungsgebiet in gleichbleibenden Raten gefunden \n",
    "\n",
    "* Vorübergehend: niedrige Fail-Pass Rate, hohe Menge, hohe Stückzahl pro Meter, wenige Verbände. Gelegentlich in grossen Mengen an bestimmten Orten gefunden "
   ]
  },
  {
   "cell_type": "markdown",
   "metadata": {},
   "source": [
    "## Diskussion \n",
    "\n",
    "Insgesamt war es wahrscheinlich, dass Datenerhebungen an Orten mit mehr Gebäuden und Erholungsgebieten die Anhäufung von Gegenständen an der Küste begünstigten. Betrachtet man die häufigsten Gegenstände, so wurden nur vier der zwölf Gegenstände in Anwesenheit von mehr Gebäuden häufiger identifiziert. Dabei handelt es sich in der Regel um Gegenstände, die mit dem Verzehr von Lebensmitteln und/oder Tabakwaren in der Nähe des Ortes zusammenhängen. Das deutet darauf hin, dass in stark frequentierten Gebieten in Wassernähe noch einiges an Vorbeugung und Abschwächung möglich ist. \n",
    "\n",
    "Sechs der zwölf Objekte haben jedoch keine positive Assoziation zur Landnutzung, die Gebäuden zugeschrieben wird, wurden aber in mindestens 50% aller Datenerhebungen gefunden. Diese Gegenstände werden im Allgemeinen mit der beruflichen Nutzung oder im Fall der Wattestäbchen mit der persönlichen Hygiene in Verbindung gebracht: \n",
    "\n",
    "* Kunststoff-Bauabfälle \n",
    "* fragmentierte Kunststoffe \n",
    "* Industriefolien \n",
    "* expandiertes Polystyrol \n",
    "* Wattestäbchen/Stäbchen \n",
    "* Isolierung, einschliesslich Sprühschäume \n",
    "\n",
    "Ausserdem haben diese Objekte im Vergleich zu Produkten, die mit Tabakwaren oder Nahrungsmitteln in Verbindung stehen, im Allgemeinen weniger positive Assoziationen. Dies deutet darauf hin, dass das entsprechende Landnutzungsmerkmal derzeit nicht berücksichtigt wird und/oder diese Objekte unabhängig von den Landnutzungsmerkmalen in ähnlichen Mengen identifiziert werden. Dies deutet darauf hin, dass diese Objekte in der Umwelt allgegenwärtig sind. \n",
    "\n",
    "Schliesslich wurden zwei der zwölf häufigsten Objekte in weniger als 50% der Datenerhebungen gefunden und weisen nur wenige positive Assoziationen auf: \n",
    "\n",
    "* Industriepellets \n",
    "* expandierte Schaumstoffe < 5mm \n",
    "\n",
    "Diese Objekte werden in grossen Mengen sporadisch an bestimmten Orten gefunden. Sie wurden in allen Untersuchungsgebieten und in allen Seen identifiziert. Industriepellets haben einen sehr spezifischen Verwendungszweck und Kundenstamm, so dass es möglich ist, auf der Grundlage der Dichte und des Standorts der identifizierten Pellets und des Standorts des nächstgelegenen Verbrauchers oder Herstellers von Pellets, siehe [Gemeinsame Verantwortung](transportde), die Quelle zu bestimmen und die Auswirkungen zu verringern.\n",
    "\n",
    "### Anwendung\n",
    "\n",
    "Die Anzahl der Stichproben, die verwendet werden, um eine Assoziation mit Spearmans zu bestimmen, muss vorsichtig sein.  \n",
    "\n",
    "und wie viel Gewicht den Ergebnissen beigemessen wird. Die Ergebnisse für Zigarettenfilter sind ein gutes Beispiel. Die Diagramme zeigen eindeutig sowohl negative als auch positive Assoziationen in Abhängigkeit von der Landnutzung, aber rho ist kleiner als |0,5|. Es handelt sich also keineswegs um eine lineare Beziehung und das Ausmass bleibt unbestimmt. \n",
    "\n",
    "Die Betroffenen sollten diese Ergebnisse und deren Anwendbarkeit auf ihre spezifische Situation prüfen. Eine Schlussfolgerung, die gezogen werden kann, ist, dass es eine Methode gibt, um auf der Grundlage der empirischen Daten aus den Datenerhebungen mit angemessener Sicherheit Zonen der Akkumulation zu identifizieren. Diese Ergebnisse ermöglichen es den Akteuren, ihre Prioritäten auf die Herausforderungen zu stützen, die für ihre Region oder Situation spezifisch sind. \n",
    "\n",
    "Der Spearmans-Korrelationskoeffizient lässt sich leicht anwenden, sobald der endgültige Datensatz bestimmt wurde. Der Wert des Koeffizienten ändert sich jedoch je nach Erhebungsgebiet oder See, in dem der Test angewendet wird. Das bedeutet, dass das Verständnis und die Interpretation dieser Ergebnisse nicht nur ein nationales, sondern auch ein regionales und kommunales Anliegen ist. \n",
    "\n",
    "Warum 1500 Meter? Für diese Studie haben wir uns mit Objekten befasst, die hohe Werte für rho bei kleineren Radien aufwiesen, die dem Massstab der bereitgestellten Daten angemessen waren. Es wurden auch andere Entfernungen in Betracht gezogen (2km, 2,5km, ... 5km und 10km). Generell gilt, dass mit zunehmendem Radius die den Gebäuden zugewiesene Fläche abnimmt und damit auch der Wert von rho. Dieses Thema wurde in einem Artikel, der derzeit für das Peer-Review-Verfahren vorbereitet wird, ausführlicher behandelt. \n",
    "\n",
    "Die Überprüfung einer Assoziation erfolgt durch die Berücksichtigung aller anderen Schlüsselindikatoren und das Urteil von Experten. Das städtische Wartungspersonal ist mit den Bedingungen vor Ort vertraut und ist eine der besten Informationsquellen. Die Wiederholung von Stichproben an einem bestimmten Ort für einen bestimmten Zeitraum und der Vergleich der Ergebnisse mit den Ausgangswerten für das Erhebungsgebiet ist ebenfalls eine zuverlässige Methode, um die Leistung in Bezug auf das Erhebungsgebiet zu bestimmen. \n",
    "\n",
    "Der Rangkorrelationskoeffizient ist eine effiziente und zuverlässige Methode, mit der sich Landnutzungsklassifizierungen identifizieren lassen, die mit erhöhten oder verringerten Mengen an bestimmten Abfallobjekten verbunden sind. Das Ausmass der Beziehung in Bezug auf die Anzahl der Objekte auf dem Boden bleibt jedoch undefiniert. \n",
    "\n",
    "Um mehr darüber zu erfahren, wie sich die Erhebungsergebnisse je nach Landnutzung ändern und/oder gleich bleiben, siehe [_Gemeinsame Verantwortung_](transportde).\n",
    "\n",
    "Um zu verstehen, wie die Abfallobjekte für diesen Bericht berechnet wurden, siehe [_Abfallobjekte am Strand_](threshholdde)."
   ]
  },
  {
   "cell_type": "code",
   "execution_count": null,
   "metadata": {
    "tags": []
   },
   "outputs": [],
   "source": []
  },
  {
   "cell_type": "code",
   "execution_count": null,
   "metadata": {},
   "outputs": [],
   "source": []
  }
 ],
 "metadata": {
  "kernelspec": {
   "display_name": "Python 3 (ipykernel)",
   "language": "python",
   "name": "python3"
  },
  "language_info": {
   "codemirror_mode": {
    "name": "ipython",
    "version": 3
   },
   "file_extension": ".py",
   "mimetype": "text/x-python",
   "name": "python",
   "nbconvert_exporter": "python",
   "pygments_lexer": "ipython3",
   "version": "3.10.0"
  }
 },
 "nbformat": 4,
 "nbformat_minor": 4
}
