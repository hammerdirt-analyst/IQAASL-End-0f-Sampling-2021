{
 "cells": [
  {
   "cell_type": "code",
   "execution_count": 1,
   "metadata": {
    "tags": [
     "hide-input"
    ]
   },
   "outputs": [
    {
     "ename": "ModuleNotFoundError",
     "evalue": "No module named 'resources'",
     "output_type": "error",
     "traceback": [
      "\u001b[0;31m---------------------------------------------------------------------------\u001b[0m",
      "\u001b[0;31mModuleNotFoundError\u001b[0m                       Traceback (most recent call last)",
      "\u001b[0;32m/tmp/ipykernel_31052/1303077433.py\u001b[0m in \u001b[0;36m<module>\u001b[0;34m\u001b[0m\n\u001b[1;32m     53\u001b[0m \u001b[0;34m\u001b[0m\u001b[0m\n\u001b[1;32m     54\u001b[0m \u001b[0;31m# home brew utitilties\u001b[0m\u001b[0;34m\u001b[0m\u001b[0;34m\u001b[0m\u001b[0;34m\u001b[0m\u001b[0m\n\u001b[0;32m---> 55\u001b[0;31m \u001b[0;32mimport\u001b[0m \u001b[0mresources\u001b[0m\u001b[0;34m.\u001b[0m\u001b[0msr_ut\u001b[0m \u001b[0;32mas\u001b[0m \u001b[0msut\u001b[0m\u001b[0;34m\u001b[0m\u001b[0;34m\u001b[0m\u001b[0m\n\u001b[0m\u001b[1;32m     56\u001b[0m \u001b[0;32mimport\u001b[0m \u001b[0mresources\u001b[0m\u001b[0;34m.\u001b[0m\u001b[0mchart_kwargs\u001b[0m \u001b[0;32mas\u001b[0m \u001b[0mck\u001b[0m\u001b[0;34m\u001b[0m\u001b[0;34m\u001b[0m\u001b[0m\n\u001b[1;32m     57\u001b[0m \u001b[0;34m\u001b[0m\u001b[0m\n",
      "\u001b[0;31mModuleNotFoundError\u001b[0m: No module named 'resources'"
     ]
    }
   ],
   "source": [
    "# -*- coding: utf-8 -*-\n",
    "\n",
    "# This is a report using the data from IQAASL.\n",
    "# IQAASL was a project funded by the Swiss Confederation\n",
    "# It produces a summary of litter survey results for a defined region.\n",
    "# These charts serve as the models for the development of plagespropres.ch\n",
    "# The data is gathered by volunteers.\n",
    "# Please remember all copyrights apply, please give credit when applicable\n",
    "# The repo is maintained by the community effective January 01, 2022\n",
    "# There is ample opportunity to contribute, learn and teach\n",
    "# contact dev@hammerdirt.ch\n",
    "\n",
    "# Dies ist ein Bericht, der die Daten von IQAASL verwendet.\n",
    "# IQAASL war ein von der Schweizerischen Eidgenossenschaft finanziertes Projekt.\n",
    "# Es erstellt eine Zusammenfassung der Ergebnisse der Littering-Umfrage für eine bestimmte Region.\n",
    "# Diese Grafiken dienten als Vorlage für die Entwicklung von plagespropres.ch.\n",
    "# Die Daten werden von Freiwilligen gesammelt.\n",
    "# Bitte denken Sie daran, dass alle Copyrights gelten, bitte geben Sie den Namen an, wenn zutreffend.\n",
    "# Das Repo wird ab dem 01. Januar 2022 von der Community gepflegt.\n",
    "# Es gibt reichlich Gelegenheit, etwas beizutragen, zu lernen und zu lehren.\n",
    "# Kontakt dev@hammerdirt.ch\n",
    "\n",
    "# Il s'agit d'un rapport utilisant les données de IQAASL.\n",
    "# IQAASL était un projet financé par la Confédération suisse.\n",
    "# Il produit un résumé des résultats de l'enquête sur les déchets sauvages pour une région définie.\n",
    "# Ces tableaux ont servi de modèles pour le développement de plagespropres.ch\n",
    "# Les données sont recueillies par des bénévoles.\n",
    "# N'oubliez pas que tous les droits d'auteur s'appliquent, veuillez indiquer le crédit lorsque cela est possible.\n",
    "# Le dépôt est maintenu par la communauté à partir du 1er janvier 2022.\n",
    "# Il y a de nombreuses possibilités de contribuer, d'apprendre et d'enseigner.\n",
    "# contact dev@hammerdirt.ch\n",
    "\n",
    "# sys, file and nav packages:\n",
    "import datetime as dt\n",
    "# for date and month formats in french or german\n",
    "import locale\n",
    "\n",
    "# math packages:\n",
    "import pandas as pd\n",
    "import numpy as np\n",
    "from scipy import stats\n",
    "from statsmodels.distributions.empirical_distribution import ECDF\n",
    "\n",
    "# charting:\n",
    "import matplotlib as mpl\n",
    "import matplotlib.pyplot as plt\n",
    "import matplotlib.dates as mdates\n",
    "from matplotlib import ticker\n",
    "from matplotlib import colors\n",
    "from matplotlib.colors import LinearSegmentedColormap\n",
    "from matplotlib.gridspec import GridSpec\n",
    "import seaborn as sns\n",
    "\n",
    "# home brew utitilties\n",
    "import resources.sr_ut as sut\n",
    "import resources.chart_kwargs as ck\n",
    "\n",
    "# images and display\n",
    "from PIL import Image as PILImage\n",
    "from IPython.display import Markdown as md\n",
    "from IPython.display import display\n",
    "\n",
    "from myst_nb import glue\n",
    "\n",
    "# set the locale to the language desired\n",
    "# the locale is set back to to original at the the end of the script\n",
    "# set the locale to the language desired\n",
    "# the locale is set back to to original at the the end of the script\n",
    "loc = locale.getlocale()\n",
    "lang =  \"de_DE.utf8\"\n",
    "locale.setlocale(locale.LC_ALL, lang)\n",
    "\n",
    "# the date is in iso standard:\n",
    "d = \"%Y-%m-%d\"\n",
    "\n",
    "# it gets changed to german format\n",
    "g = \"%d.%m.%Y\"\n",
    "\n",
    "# set some parameters:\n",
    "start_date = \"01.03.2020\"\n",
    "end_date =\"31.09.2021\"\n",
    "start_end = [start_date, end_date]\n",
    "a_fail_rate = 50\n",
    "unit_label = \"p/100m\"\n",
    "reporting_unit = 100\n",
    "a_color = \"dodgerblue\"\n",
    "\n",
    "# colors for gradients and charts\n",
    "cmap2 = ck.cmap2\n",
    "colors_palette = ck.colors_palette\n",
    "\n",
    "# colors for the individual survey areas\n",
    "bassin_pallette = {\"rhone\":\"dimgray\", \"aare\":\"salmon\", \"linth\":\"tan\", \"ticino\":\"steelblue\", \"reuss\":\"purple\"}\n",
    "\n",
    "# set the maps\n",
    "bassin_map = \"resources/maps/lakes_rivers_map.jpeg\"\n",
    "\n",
    "# define the feature level and components\n",
    "this_level = \"river_bassin\"\n",
    "comps = [\"linth\", \"rhone\", \"aare\", \"ticino\"]\n",
    "\n",
    "# proper labels for charts and tables\n",
    "comp_labels = {\"linth\":\"Linth/Limmat\", \"rhone\":\"Rhône\", \"aare\":\"Aare\", \"ticino\":\"Ticino/Cerisio\", \"reuss\":\"Reuss\"}\n",
    "top_name = [\"Alle Erhebungsgebiete\"]\n",
    "\n",
    "# explanatory variables:\n",
    "luse_exp =  list(sut.luse_ge.values())\n",
    "\n",
    "# common aggregations\n",
    "agg_pcs_quantity = {unit_label:\"sum\", \"quantity\":\"sum\"}\n",
    "agg_pcs_median = {unit_label:\"median\", \"quantity\":\"sum\"}\n",
    "\n",
    "# aggregation of dimensional data\n",
    "agg_dims = {\"total_w\":\"sum\", \"mac_plast_w\":\"sum\", \"area\":\"sum\", \"length\":\"sum\"}\n",
    "\n",
    "# columns needed\n",
    "use_these_cols = [\"loc_date\" ,\n",
    "                  \"% buildings\",\n",
    "                  \"% to trans\", \n",
    "                  \"% recreation\",\n",
    "                  \"% ag\",\n",
    "                  \"% woods\",\n",
    "                  \"population\",\n",
    "                  this_level,\n",
    "                  \"water_name_slug\",\n",
    "                  \"streets km\",\n",
    "                  \"intersects\",\n",
    "                  \"length\",\n",
    "                  \"groupname\",\n",
    "                  \"code\"\n",
    "                 ]\n",
    "\n",
    "# get the data:\n",
    "dfBeaches = pd.read_csv(\"resources/beaches_with_land_use_rates.csv\")\n",
    "dfCodes = pd.read_csv(\"resources/codes_with_group_names_2015.csv\")\n",
    "dfDims = pd.read_csv(\"resources/corrected_dims.csv\")\n",
    "\n",
    "# set the index of the beach data to location slug\n",
    "dfBeaches.set_index(\"slug\", inplace=True)\n",
    "\n",
    "# make any adjustments to code definitions here:\n",
    "dfCodes.set_index(\"code\", inplace=True)\n",
    "\n",
    "# the surveyor designated the object as aluminum instead of metal\n",
    "dfCodes.loc[\"G708\", \"material\"] = \"Metal\"\n",
    "\n",
    "# language specific\n",
    "# importing german code descriptions\n",
    "de_codes = pd.read_csv(\"resources/codes_german_Version_1.csv\")\n",
    "de_codes.set_index(\"code\", inplace=True)\n",
    "\n",
    "for x in dfCodes.index:\n",
    "    dfCodes.loc[x, \"description\"] = de_codes.loc[x, \"german\"]\n",
    "\n",
    "# there are long code descriptions that may need to be shortened for display\n",
    "# there are long code descriptions that may need to be shortened for display\n",
    "codes_to_change = [\n",
    "    [\"G704\", \"description\", \"Seilbahnbürste\"],\n",
    "    [\"Gfrags\", \"description\", \"Fragmentierte Kunststoffstücke\"],\n",
    "    [\"G30\", \"description\", \"Snack-Verpackungen\"],\n",
    "    [\"G124\", \"description\", \"Kunststoff-oder Schaumstoffprodukte\"],\n",
    "    [\"G87\", \"description\", \"Abdeckklebeband/Verpackungsklebeband\"],\n",
    "    [\"G178\",\"description\",\"Flaschenverschlüsse aus Metall\"],\n",
    "    [\"G3\",\"description\",\"Einkaufstaschen, Shoppingtaschen\"],\n",
    "    [\"G33\", \"description\", \"Einwegartikel; Tassen/Becher & Deckel\"],\n",
    "    [\"G31\", \"description\", \"Schleckstengel, Stengel von Lutscher\"],\n",
    "    [\"G211\", \"description\", \"Sonstiges medizinisches Material\"],\n",
    "    [\"G904\", \"description\", \"Feuerwerkskörper; Raketenkappen\"],\n",
    "    [\"G940\", \"description\", \"Schaumstoff EVA (flexibler Kunststoff)\"]\n",
    "]\n",
    "\n",
    "# apply changes\n",
    "for x in codes_to_change:\n",
    "    dfCodes = sut.shorten_the_value(x, dfCodes)\n",
    "\n",
    "dfCodes[\"material\"] = dfCodes.material.map(lambda x: sut.mat_ge[x]) \n",
    "\n",
    "# make a map to the code descriptions\n",
    "code_description_map = dfCodes.description\n",
    "\n",
    "# make a map to the code materials\n",
    "code_material_map = dfCodes.material"
   ]
  },
  {
   "cell_type": "markdown",
   "metadata": {},
   "source": [
    "(allsurveysde)=\n",
    "# Seen und Flüsse\n",
    "\n",
    "<a href=\"lakes_rivers.html\"> English </a>\n",
    "\n",
    "Karte der Erhebungsorte IQAASL März 2020 - Mai 2021."
   ]
  },
  {
   "cell_type": "code",
   "execution_count": null,
   "metadata": {
    "tags": [
     "hide-input",
     "remove-input",
     "remove-output"
    ]
   },
   "outputs": [],
   "source": [
    "# sut.display_image_ipython(bassin_map, thumb=(800,450))"
   ]
  },
  {
   "cell_type": "markdown",
   "metadata": {},
   "source": [
    "```{figure} resources/maps/lakes_rivers_map.jpeg\n",
    ":figwidth: 800px\n",
    ":name: \"eosmap_de\"\n",
    "\n",
    "` `\n",
    "\n",
    "```\n",
    "\n",
    "{numref}`Abbildung {number} <eosmap_de>`: Die Standorte der Erhebungen sind für die Analyse nach Erhebungsgebiet gruppiert. Die Größe der Markierung stellt den Median der Gesamtzahl der Erhebungen für diesen Ort dar. "
   ]
  },
  {
   "cell_type": "markdown",
   "metadata": {},
   "source": [
    "## Profil der Landnutzung\n",
    "\n",
    "Die Erhebungsgebiete sind nach Flusseinzugsgebieten gruppiert. In diesem Bericht werden mehrere Einzugsgebiete zusammengefasst, um regionale Trends zu analysieren: \n",
    "\n",
    "* Aare: Emme, Aare \n",
    "* Linth/Limmat: Reuss, Linth, Limmat \n",
    "* Rhône: Rhône \n",
    "* Tessin/Ceresio: Tessin, Lago di Lugano, Lago Maggiore \n",
    "\n",
    "Das Landnutzungsprofil ist der prozentuale Anteil der Gesamtfläche, der jeder Landnutzungskategorie innerhalb eines Radius von 1'500 m um jeden Erhebungsort zugeordnet ist.       \n",
    "\n",
    "* \\% auf Gebäude entfallen \n",
    "* \\% der landwirtschaftlich genutzten Fläche \n",
    "* \\% der Fläche, die der Forstwirtschaft zugeschrieben wird \n",
    "* \\% der Fläche, die der Erholung vorbehalten ist \n",
    "\n",
    "Straßen werden als Gesamtzahl der Straßenkilometer im Umkreis von 1500 m angegeben. Intersects ist ebenfalls eine ordinale Rangfolge der Anzahl der Flüsse/Kanäle, die einen See innerhalb von 1500 m um den Erhebungsort herum durchqueren.  \n",
    "\n",
    "Das Verhältnis der Anzahl der Proben bei unterschiedlichen Landnutzungsprofilen gibt einen Hinweis auf die ökologischen und wirtschaftlichen Bedingungen der Untersuchungsstandorte. \n",
    "\n",
    "Für weitere Informationen [_Landnutzungsprofil_](luseprofilede)"
   ]
  },
  {
   "cell_type": "markdown",
   "metadata": {},
   "source": [
    "__Verteilung der Landnutzungsmerkmale__"
   ]
  },
  {
   "cell_type": "code",
   "execution_count": null,
   "metadata": {
    "tags": [
     "hide-input",
     "remove-output"
    ]
   },
   "outputs": [],
   "source": [
    "# this is the data before the expanded fragmented plastics and foams are aggregated to Gfrags and Gfoams\n",
    "before_agg = pd.read_csv(\"resources/checked_before_agg_sdata_eos_2020_21.csv\")\n",
    "before_agg[\"loc_date\"] = list(zip(before_agg.location, before_agg[\"date\"]))\n",
    "\n",
    "# this is the aggregated survey data that is being used\n",
    "fd = pd.read_csv(F\"resources/checked_sdata_eos_2020_21.csv\")\n",
    "fd[\"loc_date\"] = list(zip(fd.location, fd[\"date\"]))\n",
    "\n",
    "# apply local date configuration\n",
    "fd[\"date\"] = pd.to_datetime(fd[\"date\"])\n",
    "fd[\"date\"] = fd[\"date\"].dt.strftime(g)\n",
    "fd[\"date\"] = pd.to_datetime(fd[\"date\"], format=g)\n",
    "\n",
    "fd[\"groupname\"] = fd[\"groupname\"].map(lambda x: sut.group_names_de[x])\n",
    "fd.rename(columns=sut.luse_ge, inplace=True)\n",
    "\n",
    "# cumulative statistics for each code\n",
    "code_totals = sut.the_aggregated_object_values(fd, agg=agg_pcs_median, description_map=code_description_map, material_map=code_material_map)    \n",
    "\n",
    "dt_nw = fd.groupby([\"loc_date\", \"river_bassin\", *luse_exp], as_index=False).agg({unit_label:\"sum\"})\n",
    "\n",
    "sns.set_style(\"whitegrid\")\n",
    "\n",
    "fig, axs = plt.subplots(1,len(luse_exp), figsize=(17,4), sharey=True)\n",
    "\n",
    "for i, n in enumerate(luse_exp):\n",
    "    # get the dist for each survey area here\n",
    "    for element in comps:\n",
    "        ax=axs[i]\n",
    "        the_data = ECDF(dt_nw[dt_nw[this_level] == element][n].values)\n",
    "        sns.lineplot(x=the_data.x, y=the_data.y, ax=ax, label=comp_labels[element], color=bassin_pallette[element])\n",
    "    \n",
    "    # get the dist for all here\n",
    "    a_all_surveys =  ECDF(dt_nw[n].values)\n",
    "    sns.lineplot(x=a_all_surveys.x, y=a_all_surveys.y, ax=ax, label=\"All surveys\", color=\"magenta\", linewidth=2.5)\n",
    " \n",
    "    # get the median from the data\n",
    "    the_median = np.median(dt_nw[n].values)\n",
    "    \n",
    "    # plot the median and drop horzontal and vertical lines\n",
    "    ax.scatter([the_median], 0.5, color=\"red\",s=50, linewidth=2, zorder=100, label=\"the median\")\n",
    "    ax.vlines(x=the_median, ymin=0, ymax=0.5, color=\"red\", linewidth=2)\n",
    "    ax.hlines(xmax=the_median, xmin=0, y=0.5, color=\"red\", linewidth=2)\n",
    "    \n",
    "    # format the % of total on the xaxis:\n",
    "    if i <= 3:\n",
    "        if i == 0:            \n",
    "            ax.set_ylabel(\"% der Erhebungen\", **ck.xlab_k)\n",
    "        ax.xaxis.set_major_formatter(ticker.PercentFormatter(1.0, 0, \"%\"))        \n",
    "    else:\n",
    "        pass\n",
    "    \n",
    "    ax.set_xlabel(n, **ck.xlab_k)\n",
    "    handles, labels = ax.get_legend_handles_labels()\n",
    "    ax.get_legend().remove()\n",
    "    ax.set_title(F\"median: {(round(the_median, 2))}\",fontsize=12, loc=\"left\")\n",
    "\n",
    "plt.legend(handles, labels)       \n",
    "plt.tight_layout()\n",
    "\n",
    "glue(\"eosluse_de\", fig, display=False)\n",
    "plt.close() "
   ]
  },
  {
   "cell_type": "markdown",
   "metadata": {},
   "source": [
    "```{glue:figure} eosluse_de\n",
    "---\n",
    "name: \"eos_luse_de\"\n",
    "---\n",
    "\n",
    "` `\n",
    "\n",
    "```\n",
    "{numref}`Abbildung {number}: <eos_luse_de>` Die Erhebungen in den Gebieten Rhône und Linth/Limmat wiesen mit 47 % bzw. 40 % im Median den größten Anteil an bebauter Fläche und mit 5 % bzw. 8 % den geringsten Anteil an Wald auf. Im Erhebungsgebiet Aare war der Medianwert der bebauten Fläche mit 16 % am niedrigsten und der Anteil der landwirtschaftlich genutzten Fläche mit 30 % am höchsten. Bei den Flächen, die der Erholung zugeordnet werden, handelt es sich um Sportplätze, öffentliche Strände und andere öffentliche Versammlungsorte."
   ]
  },
  {
   "cell_type": "markdown",
   "metadata": {},
   "source": [
    "### Kumulierte Gesamtergebnisse nach Erhebungsgebiet "
   ]
  },
  {
   "cell_type": "code",
   "execution_count": null,
   "metadata": {
    "jupyter": {
     "source_hidden": true
    },
    "tags": [
     "hide-input"
    ]
   },
   "outputs": [],
   "source": [
    "# aggregate the dimensional data\n",
    "dims_parameters = dict(this_level=this_level, \n",
    "                       locations=fd.location.unique(), \n",
    "                       start_end=start_end, \n",
    "                       agg_dims=agg_dims)\n",
    "\n",
    "dims_table = sut.gather_dimensional_data(dfDims, **dims_parameters)\n",
    "\n",
    "dt_all = fd.groupby([\"loc_date\",\"location\",this_level, \"city\",\"date\"], as_index=False).agg({unit_label:\"sum\", \"quantity\":\"sum\"})\n",
    "\n",
    "for name in dims_table.index:\n",
    "    dims_table.loc[name, \"samples\"] = fd[fd[this_level] == name].loc_date.nunique()\n",
    "    dims_table.loc[name, \"quantity\"] =fd[fd[this_level] == name].quantity.sum()\n",
    "\n",
    "# add proper names for display\n",
    "dims_table[\"Survey area\"] = dims_table.index.map(lambda x: comp_labels[x])\n",
    "dims_table.set_index(\"Survey area\", inplace=True)\n",
    "   \n",
    "# get the sum of all survey areas\n",
    "dims_table.loc[\"All survey areas\"]= dims_table.sum(numeric_only=True, axis=0)\n",
    "\n",
    "# for display\n",
    "dims_table.sort_values(by=[\"quantity\"], ascending=False, inplace=True)\n",
    "dims_table.rename(columns={\"samples\":\"samples\",\"quantity\":\"items\", \"total_w\":\"total kg\", \"mac_plast_w\":\"plastic kg\", \"area\":\"m²\", \"length\":\"meters\"}, inplace=True)\n",
    "\n",
    "# format kilos and text strings\n",
    "dims_table[\"plastic kg\"] = dims_table[\"plastic kg\"]/1000\n",
    "dims_table[[\"m²\", \"meters\", \"samples\", \"items\"]] = dims_table[[\"m²\", \"meters\", \"samples\", \"items\"]].applymap(lambda x: \"{:,}\".format(int(x)))\n",
    "dims_table[[\"plastic kg\", \"total kg\"]] = dims_table[[\"plastic kg\", \"total kg\"]].applymap(lambda x: \"{:.2f}\".format(x))\n",
    "\n",
    "data = dims_table.reset_index()\n",
    "\n",
    "fig, axs = plt.subplots(figsize=(len(data.columns)*1.5,len(data)*.8))\n",
    "sut.hide_spines_ticks_grids(axs)\n",
    "\n",
    "table_one = sut.make_a_table(axs, data.values, colLabels=data.columns, colWidths=[.22, *[.13]*6],a_color=a_color)\n",
    "table_one.get_celld()[(0,0)].get_text().set_text(\" \")\n",
    "\n",
    "plt.tight_layout()\n",
    "glue(\"eos_summary_sarea_de\", fig, display=False)\n",
    "plt.close()"
   ]
  },
  {
   "cell_type": "markdown",
   "metadata": {},
   "source": [
    "```{glue:figure} eos_summary_sarea_de\n",
    ":name: \"eos_summary_sarea_de\"\n",
    "\n",
    "\n",
    "` `\n",
    "\n",
    "```\n",
    "\n",
    "{numref}`Abbildung {number}: <eos_summary_sarea_de>` Summen der Dimensionsergebnisse für alle Erhebungsgebiete. Das Aare-Erhebungsgebiet hatte die größte Anzahl von Proben und die geringste Anzahl von gesammelten Objekten.  "
   ]
  },
  {
   "cell_type": "markdown",
   "metadata": {},
   "source": [
    "## Erhebungsergebnisse für alle Objekte\n",
    "\n",
    "Verteilung der Erhebungsergebnisse. Die Werte werden als die Anzahl der identifizierten Stücke pro 100 Meter (p/100 m) dargestellt. "
   ]
  },
  {
   "cell_type": "code",
   "execution_count": null,
   "metadata": {
    "jupyter": {
     "source_hidden": true
    },
    "tags": [
     "hide-input"
    ]
   },
   "outputs": [],
   "source": [
    "# the surveys to chart\n",
    "dt_all[\"date\"] = pd.to_datetime(dt_all[\"date\"], format=\"%Y-%m-%d\")\n",
    "fd_n_samps = dt_all.loc_date.nunique()\n",
    "fd_dindex = dt_all.set_index(\"date\")\n",
    "\n",
    "# monthly median survey total\n",
    "monthly_plot = fd_dindex[unit_label].resample(\"M\").median()\n",
    "\n",
    "# scale the chart as needed to accomodate for extreme values\n",
    "y_lim = 95\n",
    "y_limit = np.percentile(dt_all[unit_label], y_lim)\n",
    "\n",
    "# months locator, can be confusing\n",
    "# https://matplotlib.org/stable/api/dates_api.html\n",
    "months_loc = mdates.MonthLocator(interval=1)\n",
    "months_fmt = mdates.DateFormatter(\"%b\")\n",
    "\n",
    "fig, axs = plt.subplots(1,2, figsize=(10,5))\n",
    "\n",
    "rate = \"Monthly\"\n",
    "\n",
    "line_label = \"monthly median\"\n",
    "\n",
    "ax = axs[0]\n",
    "sns.scatterplot(data=fd_dindex, x=\"date\", y=unit_label, hue=this_level, palette=bassin_pallette, alpha=0.8, ax=ax)\n",
    "\n",
    "sns.lineplot(data=monthly_plot, x=monthly_plot.index, y=monthly_plot, color=\"magenta\", label=line_label, ax=ax)\n",
    "\n",
    "ax.set_ylim(0,y_limit)\n",
    "\n",
    "ax.set_xlabel(\"\")\n",
    "ax.set_ylabel(unit_label, **ck.xlab_k14)\n",
    "\n",
    "ax.xaxis.set_major_formatter(months_fmt)\n",
    "ax.get_legend().remove()\n",
    "\n",
    "axtwo = axs[1]\n",
    "lake_dts = fd.groupby([this_level, \"loc_date\"], as_index=False)[unit_label].sum()\n",
    "\n",
    "for i, a_name in enumerate(fd[this_level].unique()):\n",
    "    label=comp_labels[a_name]\n",
    "    \n",
    "    a_ecdf = ECDF(lake_dts[lake_dts[this_level] == a_name][unit_label].values)\n",
    "    \n",
    "    sns.lineplot(x=a_ecdf.x, y=a_ecdf.y, color=bassin_pallette[a_name], ax=axtwo, label=label)\n",
    "\n",
    "r_bassin = ECDF(dt_all[unit_label].values)\n",
    "\n",
    "sns.lineplot(x=r_bassin.x, y=r_bassin.y, color=\"magenta\", label=top_name[0], linewidth=2, ax=axtwo)\n",
    "\n",
    "axtwo.set_xlabel(unit_label, **ck.xlab_k14)\n",
    "axtwo.set_ylabel(\"Verhältnis der Erhebungen\", **ck.xlab_k14)\n",
    "\n",
    "plt.tight_layout()\n",
    "\n",
    "glue(\"eosscatter_de\", fig, display=False)\n",
    "# plt.show()\n",
    "plt.close()"
   ]
  },
  {
   "cell_type": "markdown",
   "metadata": {},
   "source": [
    "```{glue:figure} eosscatter_de\n",
    ":name: \"eos_scatter_de\"\n",
    "\n",
    "\n",
    "` `\n",
    "\n",
    "```\n",
    "\n",
    "{numref}`Abbildung {number}: <eos_scatter_de>` __Links:__ Alle Erhebungen von 2020-03 bis 2021-05 gruppiert nach Erhebungsgebiet und aggregiert zum monatlichen Median. Werte über 2324,3 p/100 m sind nicht dargestellt. __Rechts:__ Die empirische kumulative Verteilung der Gesamtwerte der Erhebungen. "
   ]
  },
  {
   "cell_type": "markdown",
   "metadata": {},
   "source": [
    "__Zusammenfassende Daten und Materialtypen__"
   ]
  },
  {
   "cell_type": "code",
   "execution_count": null,
   "metadata": {
    "jupyter": {
     "source_hidden": true
    },
    "tags": [
     "hide-input",
     "remove-output"
    ]
   },
   "outputs": [],
   "source": [
    "# get the basic statistics from pd.describe\n",
    "cs = dt_all[unit_label].describe().round(2)\n",
    "\n",
    "# add project totals\n",
    "cs[\"total objects\"] = dt_all.quantity.sum()\n",
    "\n",
    "# change the names\n",
    "csx = sut.change_series_index_labels(cs, sut.create_summary_table_index(unit_label, lang=\"DE\"))\n",
    "\n",
    "combined_summary = sut.fmt_combined_summary(csx, nf=[])\n",
    "\n",
    "fd_mat_totals = sut.the_ratio_object_to_total(code_totals)\n",
    "fd_mat_totals = sut.fmt_pct_of_total(fd_mat_totals)\n",
    "fd_mat_totals = sut.make_string_format(fd_mat_totals)\n",
    "\n",
    "# applly new column names for printing\n",
    "cols_to_use = {\"material\":\"Material\",\"quantity\":\"Quantity\", \"% of total\":\"% of total\"}\n",
    "fd_mat_t = fd_mat_totals[cols_to_use.keys()].values\n",
    "\n",
    "# make tables\n",
    "fig, axs = plt.subplots(1,2, figsize=(8,6))\n",
    "\n",
    "# summary table\n",
    "# names for the table columns\n",
    "a_col = [\"All survey areas\", \"total\"]\n",
    "\n",
    "axone = axs[0]\n",
    "sut.hide_spines_ticks_grids(axone)\n",
    "\n",
    "table_two = sut.make_a_table(axone, combined_summary,  colLabels=a_col, colWidths=[.5,.25,.25],  bbox=[0,0,1,1], **{\"loc\":\"lower center\"})\n",
    "table_two.get_celld()[(0,0)].get_text().set_text(\" \")\n",
    "\n",
    "# material table\n",
    "axtwo = axs[1]\n",
    "axtwo.set_xlabel(\" \")\n",
    "sut.hide_spines_ticks_grids(axtwo)\n",
    "\n",
    "table_three = sut.make_a_table(axtwo, fd_mat_t,  colLabels=list(cols_to_use.values()), colWidths=[.4, .3,.3],  bbox=[0,0,1,1], **{\"loc\":\"lower center\"})\n",
    "table_three.get_celld()[(0,0)].get_text().set_text(\" \")\n",
    "\n",
    "plt.tight_layout()\n",
    "plt.subplots_adjust(wspace=0.2)\n",
    "glue(\"summarymaterial_de\", fig, display=False)\n",
    "plt.close()"
   ]
  },
  {
   "cell_type": "markdown",
   "metadata": {},
   "source": [
    "```{glue:figure} summarymaterial_de\n",
    ":name: \"summarymaterial_de\"\n",
    "\n",
    "` `\n",
    "```\n",
    "\n",
    "{numref}`Abbildung {number}: <summarymaterial_de>` __Links:__ Zusammenfassung der Erhebungen insgesamt für alle Erhebungsgebiete. __Rechts:__ Materialtypen und Prozentsatz der Gesamtmenge für alle Erhebungsgebiete. "
   ]
  },
  {
   "cell_type": "code",
   "execution_count": null,
   "metadata": {
    "jupyter": {
     "source_hidden": true
    },
    "tags": [
     "remove-input"
    ]
   },
   "outputs": [],
   "source": [
    "# # figure caption\n",
    "# material_type = F\"\"\"\n",
    "# *__Right:__ {top_name[0]} material type and percent of total*\n",
    "# \"\"\"\n",
    "# md(material_type)"
   ]
  },
  {
   "cell_type": "markdown",
   "metadata": {},
   "source": [
    "## Die häufigsten Objekte\n",
    "\n",
    "Die häufigsten Objekte sind __die zehn mengenmäßig am häufigsten vorkommenden Objekte, UND/ODER Objekte, die in mindestens 50% aller Datenerhebungen identifiziert wurden__. "
   ]
  },
  {
   "cell_type": "code",
   "execution_count": null,
   "metadata": {
    "tags": [
     "remove-output",
     "remove-input"
    ]
   },
   "outputs": [],
   "source": [
    "# the top ten by quantity\n",
    "most_abundant = code_totals.sort_values(by=\"quantity\", ascending=False)[:10]\n",
    "\n",
    "# the most common\n",
    "most_common = code_totals[code_totals[\"fail rate\"] >= a_fail_rate ].sort_values(by=\"quantity\", ascending=False)\n",
    "\n",
    "# merge with most_common and drop duplicates\n",
    "m_common = pd.concat([most_abundant, most_common]).drop_duplicates()\n",
    "\n",
    "# get percent of total\n",
    "m_common_percent_of_total = m_common.quantity.sum()/code_totals.quantity.sum()\n",
    "\n",
    "# format values for table\n",
    "m_common[\"item\"] = m_common.index.map(lambda x: code_description_map.loc[x])\n",
    "m_common[\"% of total\"] = m_common[\"% of total\"].map(lambda x: F\"{x}%\")\n",
    "m_common[\"quantity\"] = m_common.quantity.map(lambda x: \"{:,}\".format(x))\n",
    "m_common[\"fail rate\"] = m_common[\"fail rate\"].map(lambda x: F\"{x}%\")\n",
    "m_common[unit_label] = m_common[unit_label].map(lambda x: F\"{np.ceil(x)}\")\n",
    "\n",
    "cols_to_use = {\"item\":\"Objekt\",\"quantity\":\"Gesamt\", \"% of total\":\"% Gesamt\", \"fail rate\":\"Ausfallsrate\", unit_label:unit_label}\n",
    "\n",
    "# final table data\n",
    "all_survey_areas = m_common[cols_to_use.keys()].values\n",
    "\n",
    "fig, axs = plt.subplots(figsize=(9,len(m_common)*.5))\n",
    "\n",
    "sut.hide_spines_ticks_grids(axs)\n",
    "\n",
    "table_four = sut.make_a_table(axs, all_survey_areas,  colLabels=list(cols_to_use.values()), colWidths=[.52, .12,.12,.12, .12],  bbox=[0,0,1,1], **{\"loc\":\"lower center\"})\n",
    "table_four.get_celld()[(0,0)].get_text().set_text(\" \")\n",
    "\n",
    "\n",
    "plt.tight_layout()\n",
    "glue(\"mcommoneos_de\", fig, display=False)\n",
    "# plt.show()"
   ]
  },
  {
   "cell_type": "markdown",
   "metadata": {},
   "source": [
    "```{glue:figure} mcommoneos_de\n",
    ":name: \"mcommon_eos_de\"\n",
    "\n",
    "` `\n",
    "\n",
    "```\n",
    "\n",
    "{numref}`Abbildung {number}: <mcommon_eos_de>` Die häufigsten Objekte für alle Erhebungsgebiete. Die Fail-Pass-Rate gibt an, wie oft ein Objekt in Bezug auf die Anzahl der Erhebungen identifiziert wurde. Zusammengenommen machen die häufigsten Objekte 68 % aller gefundenen Objekte aus.  "
   ]
  },
  {
   "cell_type": "markdown",
   "metadata": {
    "tags": [
     "remove-input",
     "remove-output"
    ]
   },
   "source": [
    "__Häufigste Objekte im Median p/100m nach Erhebungsgebiet__"
   ]
  },
  {
   "cell_type": "code",
   "execution_count": null,
   "metadata": {
    "jupyter": {
     "source_hidden": true
    },
    "tags": [
     "hide-input",
     "remove-output"
    ]
   },
   "outputs": [],
   "source": [
    "# aggregated survey totals for the most common codes for all the survey areas\n",
    "# aggregate the code totals by survey and then get the median value per survey\n",
    "m_common_st = fd[fd.code.isin(m_common.index)].groupby([this_level, \"loc_date\",\"code\"], as_index=False).agg(agg_pcs_quantity)\n",
    "m_common_ft = m_common_st.groupby([this_level, \"code\"], as_index=False)[unit_label].median()\n",
    "\n",
    "# proper name of water feature for display\n",
    "m_common_ft[\"f_name\"] = m_common_ft[this_level].map(lambda x: comp_labels[x])\n",
    "\n",
    "# map the desctiption to the code\n",
    "m_common_ft[\"item\"] = m_common_ft.code.map(lambda x: code_description_map.loc[x])\n",
    "\n",
    "# pivot that\n",
    "m_c_p = m_common_ft[[\"item\", unit_label, \"f_name\"]].pivot(columns=\"f_name\", index=\"item\")\n",
    "\n",
    "# quash the hierarchal column index\n",
    "m_c_p.columns = m_c_p.columns.get_level_values(1)\n",
    "\n",
    "# the aggregated totals of all the data\n",
    "a_s_a = fd[fd.code.isin(m_common.index)].groupby([\"water_name_slug\", \"loc_date\", \"code\"], as_index=False).agg(agg_pcs_quantity)\n",
    "a_s_a_cols = sut.aggregate_to_code(a_s_a, code_description_map,name=top_name[0])\n",
    "\n",
    "ad_t_ten = pd.concat([m_c_p, a_s_a_cols], axis=1).sort_values(by=top_name[0], ascending=False)\n",
    "\n",
    "# chart that\n",
    "fig, ax  = plt.subplots(figsize=(len(ad_t_ten.columns)*.9,len(ad_t_ten)*.9))\n",
    "axone = ax\n",
    "\n",
    "sns.heatmap(ad_t_ten, ax=axone, cmap=cmap2, annot=True, annot_kws={\"fontsize\":12}, fmt=\".1f\", square=True, cbar=False, linewidth=.1, linecolor=\"white\")\n",
    "\n",
    "axone.set_xlabel(\"\")\n",
    "axone.set_ylabel(\"\")\n",
    "axone.tick_params(labelsize=14, which=\"both\", axis=\"both\")\n",
    "\n",
    "plt.setp(axone.get_xticklabels(), rotation=90)\n",
    "\n",
    "glue(\"mcommonpcs_de\", fig, display=False)\n",
    "plt.close()"
   ]
  },
  {
   "cell_type": "markdown",
   "metadata": {},
   "source": [
    "```{glue:figure} mcommonpcs_de\n",
    ":name: \"mcommon_pcs_de\"\n",
    "\n",
    "` `\n",
    "\n",
    "```\n",
    "\n",
    "{numref}`Abbildung {number}: <mcommon_pcs_de>` Der Median p/100 m der häufigsten Objekte für alle Erhebungsgebiete. Die Raten, mit denen die häufigsten Objekte identifiziert werden, sind für jedes Erhebungsgebiet unterschiedlich.  "
   ]
  },
  {
   "cell_type": "markdown",
   "metadata": {},
   "source": [
    "__Häufigste Objekte im Monatsdurchschnitt__"
   ]
  },
  {
   "cell_type": "code",
   "execution_count": null,
   "metadata": {
    "tags": [
     "hide-input",
     "remove-output"
    ]
   },
   "outputs": [],
   "source": [
    "# collect the survey results of the most common objects\n",
    "m_common_m = fd[(fd.code.isin(m_common.index))].groupby([\"loc_date\",\"date\",\"code\", \"groupname\"], as_index=False).agg(agg_pcs_quantity)\n",
    "m_common_m[\"date\"] = pd.to_datetime(m_common_m[\"date\"], format=\"%Y-%m-%d\")\n",
    "m_common_m.set_index(\"date\", inplace=True)\n",
    "\n",
    "# set the order of the chart, group the codes by groupname columns\n",
    "an_order = m_common_m.groupby([\"code\",\"groupname\"], as_index=False).quantity.sum().sort_values(by=\"groupname\")[\"code\"].values\n",
    "\n",
    "# a manager dict for the monthly results of each code\n",
    "mgr = {}\n",
    "\n",
    "# get the monhtly results for each code:\n",
    "for a_group in an_order:\n",
    "    # resample by month\n",
    "    a_plot = m_common_m[(m_common_m.code==a_group)][unit_label].resample(\"M\").mean().fillna(0)\n",
    "    this_group = {a_group:a_plot}\n",
    "    mgr.update(this_group)\n",
    "\n",
    "months={\n",
    "    0:\"Jan\",\n",
    "    1:\"Feb\",\n",
    "    2:\"Mar\",\n",
    "    3:\"Apr\",\n",
    "    4:\"May\",\n",
    "    5:\"Jun\",\n",
    "    6:\"Jul\",\n",
    "    7:\"Aug\",\n",
    "    8:\"Sep\",\n",
    "    9:\"Oct\",\n",
    "    10:\"Nov\",\n",
    "    11:\"Dec\"\n",
    "}\n",
    "\n",
    "# convenience function to lable x axis\n",
    "def new_month(x):\n",
    "    if x <= 11:\n",
    "        this_month = x\n",
    "    else:\n",
    "        this_month=x-12    \n",
    "    return this_month\n",
    "\n",
    "fig, ax = plt.subplots(figsize=(9,7))\n",
    "\n",
    "# define a bottom\n",
    "bottom = [0]*len(mgr[\"G27\"])\n",
    "\n",
    "# the monhtly survey average for all objects and locations\n",
    "monthly_fd = dt_all.copy()\n",
    "monthly_fd.set_index(\"date\", inplace=True)\n",
    "m_fd = monthly_fd[unit_label].resample(\"M\").mean().fillna(0)\n",
    "\n",
    "# define the xaxis\n",
    "this_x = [i for i,x in  enumerate(m_fd.index)]\n",
    "\n",
    "# plot the monthly total survey average\n",
    "ax.bar(this_x, m_fd.to_numpy(), color=a_color, alpha=0.2, linewidth=1, edgecolor=\"teal\", width=1, label=\"Monthly survey average\") \n",
    "\n",
    "# plot the monthly survey average of the most common objects\n",
    "for i, a_group in enumerate(an_order): \n",
    "    \n",
    "    # define the axis\n",
    "    this_x = [i for i,x in  enumerate(mgr[a_group].index)]\n",
    "    \n",
    "    # collect the month\n",
    "    this_month = [x.month for i,x in enumerate(mgr[a_group].index)]\n",
    "    \n",
    "    # if i == 0 laydown the first bars\n",
    "    if i == 0:\n",
    "        ax.bar(this_x, mgr[a_group].to_numpy(), label=a_group, color=colors_palette[a_group], linewidth=1, alpha=0.6 ) \n",
    "    # else use the previous results to define the bottom\n",
    "    else:\n",
    "        bottom += mgr[an_order[i-1]].to_numpy()        \n",
    "        ax.bar(this_x, mgr[a_group].to_numpy(), bottom=bottom, label=a_group, color=colors_palette[a_group], linewidth=1, alpha=0.8)\n",
    "        \n",
    "# collect the handles and labels from the legend\n",
    "handles, labels = ax.get_legend_handles_labels()\n",
    "\n",
    "# set the location of the x ticks\n",
    "ax.xaxis.set_major_locator(ticker.FixedLocator([i for i in np.arange(len(this_x))]))\n",
    "ax.set_ylabel(unit_label, **ck.xlab_k14)\n",
    "\n",
    "# label the xticks by month\n",
    "axisticks = ax.get_xticks()\n",
    "labelsx = [months[new_month(x-1)] for x in  this_month]\n",
    "plt.xticks(ticks=axisticks, labels=labelsx)\n",
    "\n",
    "# make the legend\n",
    "# swap out codes for descriptions\n",
    "new_labels = [code_description_map.loc[x] for x in labels[1:]]\n",
    "new_labels = new_labels[::-1]\n",
    "\n",
    "# insert a label for the monthly average\n",
    "new_labels.insert(0,\"Monthly survey average\")\n",
    "handles = [handles[0], *handles[1:][::-1]]\n",
    "    \n",
    "plt.legend(handles=handles, labels=new_labels, bbox_to_anchor=(1, 1), loc=\"upper left\",  fontsize=14)\n",
    "glue(\"monthlyeos_de\", fig, display=False)\n",
    "plt.close()"
   ]
  },
  {
   "cell_type": "markdown",
   "metadata": {},
   "source": [
    "```{glue:figure} monthlyeos_de\n",
    ":name: \"monthly_eos_de\"\n",
    "\n",
    "\n",
    "` `\n",
    "\n",
    "```\n",
    "\n",
    "{numref}`Abbildung {number}: <monthly_eos_de>` Monatliches Durchschnittsergebnis der Erhebungen als p/100 m der häufigsten Objekte für alle Erhebungsgebiete. "
   ]
  },
  {
   "cell_type": "markdown",
   "metadata": {},
   "source": [
    "## Erhebungsergebnisse und Landnutzung \n",
    "\n",
    "Die Erhebungsergebnisse in Bezug auf die Landnutzung auf nationaler Ebene werden ausführlich in Das [ Landnutzungsprofil ](luseprofilede) and [Shared responsibility - english](transportde)."
   ]
  },
  {
   "cell_type": "markdown",
   "metadata": {},
   "source": [
    "## Nutzen der gefundenen Objekte \n",
    "\n",
    "Die Nutzungsart basiert auf der Verwendung des Objekts, bevor es weggeworfen wurde, oder auf der Artikelbeschreibung, wenn die ursprüngliche Verwendung unbestimmt ist. Identifizierte Objekte werden in eine der vordefinierten Kategorien eingeordnet. Die Kategorien werden je nach Verwendung oder Artikelbeschreibung gruppiert.\n",
    "\n",
    "*  **Abwasser:** Gegenstände, die aus Kläranlagen freigesetzt werden, einschließlich Gegenstände, die wahrscheinlich über die Toilette entsorgt werden   \n",
    "*  **Mikroplastik (< 5 mm):** zersplitterte Kunststoffe und Kunststoffharze aus der Vorproduktion\n",
    "*  **Infrastruktur:** Artikel im Zusammenhang mit dem Bau und der Instandhaltung von Gebäuden, Straßen und der Wasser-/Stromversorgung  \n",
    "*  **Essen und Trinken:** alle Materialien, die mit dem Konsum von Essen und Trinken in Zusammenhang stehen\n",
    "*  **Landwirtschaft:** vor allem Industriefolien, z. B. für Mulch und \n",
    "*  **Tabak:** hauptsächlich Zigarettenfilter, einschließlich aller mit dem Rauchen verbundenen Materialien \n",
    "*  **Freizeit und Erholung:** Objekte, die mit Sport und Freizeit zu tun haben, z. B. Angeln, Jagen, Wandern usw. \n",
    "*  **Verpackungen außer Lebensmittel und Getränke:** Verpackungsmaterial, das nicht als lebensmittel-, getränke- oder tabakbezogen gekennzeichnet ist\n",
    "*  **Plastikfragmente:** Plastikteile unbestimmter Herkunft oder Verwendung  \n",
    "*  **Persönliche Gegenstände:** Accessoires, Hygieneartikel und Kleidung \n",
    "\n",
    "Im Anhang finden Sie die vollständige Liste der identifizierten Objekte, einschließlich Beschreibungen und Gruppenklassifizierung. Der Abschnitt [Codegruppen](codegroupsde) beschreibt jede Codegruppe im Detail und bietet eine umfassende Liste aller Objekte in einer Gruppe. "
   ]
  },
  {
   "cell_type": "markdown",
   "metadata": {},
   "source": [
    "Der Nutzungszweck oder die Beschreibung der identifizierten Objekte in % der Gesamtfläche der Erhebung. "
   ]
  },
  {
   "cell_type": "code",
   "execution_count": null,
   "metadata": {
    "jupyter": {
     "source_hidden": true
    },
    "tags": [
     "hide-input",
     "remove-output"
    ]
   },
   "outputs": [],
   "source": [
    "# code groups aggregated by survey for each survey area\n",
    "groups = [\"loc_date\",\"groupname\"]\n",
    "cg_t = fd.groupby([this_level,\"loc_date\", \"groupname\"], as_index=False).agg(agg_pcs_quantity)\n",
    "\n",
    "# aggregate all that for each survey area\n",
    "cg_t = cg_t.groupby([this_level, \"groupname\"], as_index=False).agg({unit_label:\"median\", \"quantity\":\"sum\", \"loc_date\":\"nunique\"})\n",
    "\n",
    "# quantity per water survey area\n",
    "cg_tq = cg_t.groupby(this_level).quantity.sum()\n",
    "\n",
    "# assign survey area total to each record\n",
    "for a_feature in cg_tq.index:\n",
    "    cg_t.loc[cg_t[this_level] == a_feature, \"f_total\"] = cg_tq.loc[a_feature]\n",
    "\n",
    "# get the percent of total for each group for each survey area\n",
    "cg_t[\"pt\"] = (cg_t.quantity/cg_t.f_total).round(2)\n",
    "\n",
    "# pivot that\n",
    "data_table = cg_t.pivot(columns=this_level, index=\"groupname\", values=\"pt\")\n",
    "\n",
    "data_table[top_name[0]] = sut.aggregate_to_group_name(fd, unit_label=unit_label, column=\"groupname\", name=top_name[0], val=\"pt\")\n",
    "data_table.rename(columns={x:comp_labels[x] for x in data_table.columns[:-1]}, inplace=True)\n",
    "\n",
    "fig, ax = plt.subplots(figsize=(10,10))\n",
    "\n",
    "axone = ax\n",
    "sns.heatmap(data_table, ax=axone, cmap=cmap2, annot=True, annot_kws={\"fontsize\":12}, cbar=False, fmt=\".0%\", linewidth=.1, square=True, linecolor=\"white\")\n",
    "\n",
    "axone.set_xlabel(\"\")\n",
    "axone.set_ylabel(\"\")\n",
    "axone.tick_params(labelsize=14, which=\"both\", axis=\"both\", labeltop=False, labelbottom=True)\n",
    "\n",
    "plt.setp(axone.get_xticklabels(), rotation=90, fontsize=14)\n",
    "plt.setp(axone.get_yticklabels(), rotation=0, fontsize=14)\n",
    "glue(\"utility_de\", fig, display=False)\n",
    "\n",
    "plt.close()"
   ]
  },
  {
   "cell_type": "markdown",
   "metadata": {},
   "source": [
    "```{glue:figure} utility_de\n",
    ":name: \"utility_eos_de\"\n",
    "\n",
    "\n",
    "` `\n",
    "\n",
    "```\n",
    "\n",
    "{numref}`Abbildung {number}: <utility_eos_de>` Der Nutzungszweck der Objekte in % der Gesamtmenge für die Erhebungsgebiete."
   ]
  },
  {
   "cell_type": "code",
   "execution_count": null,
   "metadata": {
    "jupyter": {
     "source_hidden": true
    },
    "tags": [
     "hide-input",
     "remove-input",
     "remove-output"
    ]
   },
   "outputs": [],
   "source": [
    "cg_medpcm = F\"\"\"\n",
    "{top_name[0]} utility of objects found median {unit_label}. Fragmented objects with no clear identification remain classified by size:\n",
    "\"\"\"\n",
    "md(cg_medpcm)"
   ]
  },
  {
   "cell_type": "code",
   "execution_count": null,
   "metadata": {
    "jupyter": {
     "source_hidden": true
    },
    "tags": [
     "hide-input",
     "remove-output"
    ]
   },
   "outputs": [],
   "source": [
    "# median p/50m solve cg_t for unit_label\n",
    "data_table = cg_t.pivot(columns=this_level, index=\"groupname\", values=unit_label)\n",
    "\n",
    "# column for all the data\n",
    "a = fd.groupby([\"groupname\", \"loc_date\"], as_index=False)[unit_label].sum()\n",
    "a[top_name[0]] = a[unit_label]\n",
    "a = a.groupby(\"groupname\")[top_name[0]].median()\n",
    "\n",
    "# stick that together\n",
    "data = pd.concat([data_table, a], axis=1)\n",
    "\n",
    "# format for display\n",
    "data.rename(columns={x:comp_labels[x] for x in data.columns[:-1]}, inplace=True)\n",
    "\n",
    "fig, ax = plt.subplots(figsize=(10,10))\n",
    "\n",
    "axone = ax\n",
    "sns.heatmap(data , ax=axone, cmap=cmap2, annot=True, annot_kws={\"fontsize\":12}, fmt=\"g\", cbar=False, linewidth=.1, square=True, linecolor=\"white\")\n",
    "\n",
    "axone.set_xlabel(\"\")\n",
    "axone.set_ylabel(\"\")\n",
    "axone.tick_params(labelsize=14, which=\"both\", axis=\"both\", labeltop=False, labelbottom=True)\n",
    "\n",
    "plt.setp(axone.get_xticklabels(), rotation=90, fontsize=14)\n",
    "plt.setp(axone.get_yticklabels(), rotation=0, fontsize=14)\n",
    "\n",
    "glue(\"utility2_de\", fig, display=False)\n",
    "\n",
    "plt.close()"
   ]
  },
  {
   "cell_type": "markdown",
   "metadata": {},
   "source": [
    "```{glue:figure} utility2_de\n",
    ":name: \"utility2_eos_de\"\n",
    "\n",
    "\n",
    "` `\n",
    "\n",
    "```\n",
    "\n",
    "{numref}`Abbildung {number}: <utility2_eos_de>` Das Erhebungsgebiet Rhône weist die höchsten Medianwerte für die häufigsten Objekte auf. Allerdings ist der prozentuale Anteil von Objekten, die mit Tabak, Essen und Trinken zu tun haben, geringer als der von Objekten, die mit der Infrastruktur zu tun haben.  "
   ]
  },
  {
   "cell_type": "markdown",
   "metadata": {},
   "source": [
    "## Flüsse"
   ]
  },
  {
   "cell_type": "code",
   "execution_count": null,
   "metadata": {
    "jupyter": {
     "source_hidden": true
    },
    "tags": [
     "hide-input",
     "remove-output"
    ]
   },
   "outputs": [],
   "source": [
    "rivers = fd[fd.w_t == \"r\"].copy()\n",
    "r_smps = rivers.groupby([\"loc_date\", \"date\", \"location\", \"water_name_slug\"], as_index=False).agg(agg_pcs_quantity)\n",
    "l_smps = fd[fd.w_t == \"l\"].groupby([\"loc_date\",\"date\",\"location\", \"water_name_slug\"], as_index=False).agg(agg_pcs_quantity)\n",
    "\n",
    "cs = r_smps[unit_label].describe().round(2)\n",
    "\n",
    "# add project totals\n",
    "cs[\"total objects\"] = r_smps.quantity.sum()\n",
    "\n",
    "# change the names\n",
    "csx = sut.change_series_index_labels(cs, sut.create_summary_table_index(unit_label, lang=\"DE\"))\n",
    "\n",
    "combined_summary = sut.fmt_combined_summary(csx, nf=[])\n",
    "\n",
    "# make the charts\n",
    "fig = plt.figure(figsize=(11,6))\n",
    "\n",
    "aspec = fig.add_gridspec(ncols=11, nrows=3)\n",
    "\n",
    "ax = fig.add_subplot(aspec[:, :6])\n",
    "\n",
    "line_label = F\"{rate} median:{top_name[0]}\"\n",
    "\n",
    "sns.scatterplot(data=l_smps, x=\"date\", y=unit_label, color=\"black\", alpha=0.4, label=\"Seen\", ax=ax)\n",
    "sns.scatterplot(data=r_smps, x=\"date\", y=unit_label, color=\"red\", s=34, ec=\"white\",label=\"Flüsse\", ax=ax)\n",
    "\n",
    "ax.set_ylim(-10,y_limit)\n",
    "\n",
    "ax.set_xlabel(\"\")\n",
    "ax.set_ylabel(unit_label, **ck.xlab_k14)\n",
    "\n",
    "ax.xaxis.set_major_locator(months_loc)\n",
    "ax.xaxis.set_major_formatter(months_fmt)\n",
    "\n",
    "a_col = [top_name[0], \"total\"]\n",
    "\n",
    "axone = fig.add_subplot(aspec[:, 7:])\n",
    "sut.hide_spines_ticks_grids(axone)\n",
    "\n",
    "table_five = sut.make_a_table(axone, combined_summary,  colLabels=a_col, colWidths=[.5,.25,.25],  bbox=[0,0,1,1], **{\"loc\":\"lower center\"})\n",
    "table_five.get_celld()[(0,0)].get_text().set_text(\" \")\n",
    "\n",
    "glue(\"rivers_de\", fig, display=False)\n",
    "\n",
    "plt.close()"
   ]
  },
  {
   "cell_type": "markdown",
   "metadata": {},
   "source": [
    "```{glue:figure} rivers_de\n",
    ":name: \"riversx_de\"\n",
    "\n",
    "\n",
    "` `\n",
    "\n",
    "```\n",
    "\n",
    "{numref}`Abbildung {number}: <riversx_de>` *Links:* Gesamtergebnisse der Erhebungen an Flüssen für alle Erhebungsgebiete von 2020-03 bis 2021-05, n=55. Werte über 2324,3 p/100 m sind nicht dargestellt. *Rechts:* Zusammenfassende Daten zu Flüssen."
   ]
  },
  {
   "cell_type": "markdown",
   "metadata": {},
   "source": [
    "__Häufigste Objekte__"
   ]
  },
  {
   "cell_type": "code",
   "execution_count": null,
   "metadata": {
    "jupyter": {
     "source_hidden": true
    },
    "tags": [
     "hide-input",
     "remove-output"
    ]
   },
   "outputs": [],
   "source": [
    "# the most common items rivers\n",
    "r_codes = rivers.groupby(\"code\").agg({\"quantity\":\"sum\", \"fail\":\"sum\", unit_label:\"median\"})\n",
    "r_codes[\"fail rate\"] = (r_codes.fail/r_smps.loc_date.nunique()*100).round(2)\n",
    "\n",
    "# top ten\n",
    "r_byq = r_codes.sort_values(by=\"quantity\", ascending=False)[:10]\n",
    "\n",
    "# most common\n",
    "r_byfail = r_codes[r_codes[\"fail rate\"] >= a_fail_rate]\n",
    "r_common = list(set(r_byq) | set(r_byfail))\n",
    "\n",
    "r_mc = pd.concat([r_byfail, r_byq]).drop_duplicates()\n",
    "# format for display\n",
    "r_mc[\"item\"] = r_mc.index.map(lambda x: code_description_map.loc[x])\n",
    "r_mc.sort_values(by=\"quantity\", ascending=False, inplace=True)\n",
    "\n",
    "r_mc[\"% of total\"]=((r_mc.quantity/r_codes.quantity.sum())*100).round(2)\n",
    "r_mc[\"% of total\"] = r_mc[\"% of total\"].map(lambda x: F\"{x}%\")\n",
    "r_mc[\"quantity\"] = r_mc.quantity.map(lambda x: \"{:,}\".format(x))\n",
    "r_mc[\"fail rate\"] = r_mc[\"fail rate\"].map(lambda x: F\"{x}%\")\n",
    "r_mc[unit_label] = r_mc[unit_label].map(lambda x: F\"{np.ceil(x)}\")\n",
    "\n",
    "cols_to_use = {\"item\":\"Item\",\"quantity\":\"Quantity\"}\n",
    "r_mc.rename(columns=cols_to_use, inplace=True)\n",
    "\n",
    "data=r_mc[[\"Item\",\"Quantity\", \"% of total\", \"fail rate\", unit_label]]\n",
    "\n",
    "fig, axs = plt.subplots(figsize=(12.3,len(data)*.8))\n",
    "\n",
    "sut.hide_spines_ticks_grids(axs)\n",
    "\n",
    "table_six = sut.make_a_table(axs, data.values,  colLabels=data.columns, colWidths=[.52, .12,.12,.12, .12],  bbox=[0,0,1,1], **{\"loc\":\"lower center\"})\n",
    "table_six.get_celld()[(0,0)].get_text().set_text(\" \")\n",
    "\n",
    "plt.tight_layout()\n",
    "glue(\"rivers2_de\", fig, display=False)\n",
    "plt.close()"
   ]
  },
  {
   "cell_type": "markdown",
   "metadata": {},
   "source": [
    "```{glue:figure} rivers2_de\n",
    ":name: \"rivers_2_de\"\n",
    "\n",
    "\n",
    "` `\n",
    "\n",
    "```\n",
    "\n",
    "{numref}`Abbildung {number}: <rivers_2_de>` Die häufigsten Objekte aus Erhebungen an Flüssen. Windel – Tücher und Plastiktüten sind nicht unter den häufigsten Gegenständen, wenn Seen berücksichtigt werden."
   ]
  },
  {
   "cell_type": "markdown",
   "metadata": {},
   "source": [
    "## Annex\n",
    "\n",
    "### Schaumstoffe und Kunststoffe nach Größe \n",
    "\n",
    "Die folgende Tabelle enthält die Komponenten «Gfoam» und «Gfrags», die für die Analyse gruppiert wurden. Objekte, die als Schaumstoffe gekennzeichnet sind, werden als Gfoam gruppiert und umfassen alle geschäumten Polystyrol-Kunststoffe > 0,5 cm.  Kunststoffteile und Objekte aus kombinierten Kunststoff- und Schaumstoffmaterialien > 0,5 cm werden für die Analyse als Gfrags gruppiert. "
   ]
  },
  {
   "cell_type": "code",
   "execution_count": null,
   "metadata": {
    "tags": [
     "remove-input"
    ]
   },
   "outputs": [],
   "source": [
    "frag_foams = F\"\"\"\n",
    "*{top_name[0]}  fragmentierte Kunststoffe und geschäumte Kunststoffe nach Größe, Median p/100m, Anzahl der Stücke und Prozent der Gesamtmenge.* \n",
    "\"\"\"\n",
    "md(frag_foams)"
   ]
  },
  {
   "cell_type": "code",
   "execution_count": null,
   "metadata": {
    "tags": [
     "hide-input"
    ]
   },
   "outputs": [],
   "source": [
    "# collect the data before aggregating foams for all locations in the survye area\n",
    "# group by loc_date and code\n",
    "# Combine the different sizes of fragmented plastics and styrofoam\n",
    "# the codes for the foams\n",
    "some_foams = [\"G81\", \"G82\", \"G83\", \"G74\"]\n",
    "\n",
    "# the codes for the fragmented plastics\n",
    "some_frag_plas = list(before_agg[before_agg.groupname == \"plastic pieces\"].code.unique())\n",
    "\n",
    "fd_frags_foams = before_agg[(before_agg.code.isin([*some_frag_plas, *some_foams]))&(before_agg.location.isin(fd.location.unique()))].groupby([\"loc_date\",\"code\"], as_index=False).agg(agg_pcs_quantity)\n",
    "fd_frags_foams = fd_frags_foams.groupby(\"code\").agg({unit_label:\"median\", \"quantity\":\"sum\"})\n",
    "\n",
    "# add code description and format for printing\n",
    "fd_frags_foams[\"item\"] = fd_frags_foams.index.map(lambda x: code_description_map.loc[x])\n",
    "fd_frags_foams[\"% of total\"] = (fd_frags_foams.quantity/fd.quantity.sum()*100).round(2)\n",
    "fd_frags_foams[\"% of total\"] = fd_frags_foams[\"% of total\"].map(lambda x: F\"{x}%\")\n",
    "fd_frags_foams[\"quantity\"] = fd_frags_foams[\"quantity\"].map(lambda x: F\"{x:,}\")\n",
    "\n",
    "# table data\n",
    "data = fd_frags_foams[[\"item\",unit_label, \"quantity\", \"% of total\"]]\n",
    "\n",
    "fig, axs = plt.subplots(figsize=(len(data.columns)*1.9,len(data)*.5))\n",
    "sut.hide_spines_ticks_grids(axs)\n",
    "\n",
    "table_seven = sut.make_a_table(axs, data.values,  colLabels=data.columns, colWidths=[.6, .13, .13, .13],a_color=a_color)\n",
    "table_seven.get_celld()[(0,0)].get_text().set_text(\" \")\n",
    "\n",
    "plt.tight_layout()\n",
    "plt.show()"
   ]
  },
  {
   "cell_type": "markdown",
   "metadata": {},
   "source": [
    "### Organisationen:\n",
    "\n",
    "1. Precious Plastic Léman\n",
    "2. Association pour la Sauvegarde du Léman\n",
    "3. Geneva international School\n",
    "4. Solid waste engineering students: École polytechnique fédéral Lausanne\n",
    "5. Summit foundation\n",
    "6. University of Raperswill\n",
    "7. Hackuarium"
   ]
  },
  {
   "cell_type": "markdown",
   "metadata": {},
   "source": [
    "### Gemeinden, Seen und Flüsse mit Erhebungen"
   ]
  },
  {
   "cell_type": "code",
   "execution_count": null,
   "metadata": {
    "jupyter": {
     "source_hidden": true
    },
    "tags": [
     "hide-input"
    ]
   },
   "outputs": [],
   "source": [
    "lakes = dfBeaches.loc[(dfBeaches.index.isin(fd.location.unique()))&(dfBeaches.water == \"l\")][\"water_name\"].unique()\n",
    "rivers = dfBeaches.loc[(dfBeaches.index.isin(fd.location.unique()))&(dfBeaches.water == \"r\")][\"water_name\"].unique()\n",
    "\n",
    "\n",
    "# gather the municpalities and the population:\n",
    "fd_pop_map = dfBeaches.loc[fd.location.unique()][[\"city\",\"population\"]].copy()\n",
    "fd_pop_map.drop_duplicates(inplace=True)\n",
    "fd_pop_map.set_index(\"city\", drop=True, inplace=True)\n",
    "munis_joined = \", \".join(sorted(fd_pop_map.index))\n",
    "\n",
    "muni_string = F\"\"\"**Gemeinden:**\\n\\n >{munis_joined}\n",
    "\"\"\"\n",
    "md(muni_string)"
   ]
  },
  {
   "cell_type": "code",
   "execution_count": null,
   "metadata": {
    "jupyter": {
     "source_hidden": true
    },
    "tags": [
     "hide-input"
    ]
   },
   "outputs": [],
   "source": [
    "lakes_joined = \", \".join(sorted(lakes))\n",
    "\n",
    "lake_string = F\"\"\"**Seen:**\\n\\n >{lakes_joined}\n",
    "\"\"\"\n",
    "md(lake_string)"
   ]
  },
  {
   "cell_type": "code",
   "execution_count": null,
   "metadata": {
    "jupyter": {
     "source_hidden": true
    },
    "tags": [
     "remove-input"
    ]
   },
   "outputs": [],
   "source": [
    "rivers_joined = \", \".join(sorted(rivers))\n",
    "\n",
    "river_string = F\"\"\"**Flüsse:**\\n\\n >{rivers_joined}\n",
    "\"\"\"\n",
    "md(river_string)"
   ]
  },
  {
   "cell_type": "code",
   "execution_count": null,
   "metadata": {
    "jupyter": {
     "source_hidden": true
    },
    "tags": [
     "hide-input"
    ]
   },
   "outputs": [],
   "source": [
    "# summary statistics:\n",
    "# number of samples\n",
    "fd_n_samps = len(dt_all)\n",
    "# quantity\n",
    "fd_n_obj = fd.quantity.sum()\n",
    "# number of locations\n",
    "fd_n_locs = fd.location.nunique()\n",
    "# number of cities\n",
    "fd_n_munis = len(fd_pop_map.index)\n",
    "# populations\n",
    "fd_effected_population = fd_pop_map.sum()\n",
    "# list of locations\n",
    "fd_locs = fd.location.unique()\n",
    "# list of survey keys\n",
    "fd_samps = fd.loc_date.unique()\n",
    "\n",
    "\n",
    "obj_string = \"{:,}\".format(fd_n_obj)\n",
    "surv_string = \"{:,}\".format(fd_n_samps)\n",
    "pop_string = \"{:,}\".format(int(fd_effected_population[0]))\n",
    "\n",
    "date_quantity_context = F\"Für den Zeitraum zwischen {start_date[:-3]} und {end_date[:-3]}, wurden im Rahmen von {surv_string} Datenerhebungen insgesamt {obj_string } Objekte entfernt und identifiziert.\"\n",
    "geo_context = F\"Die Ergebnisse des Aare-Erhebungsgebiets umfassen {fd_n_locs} Orte,  {fd_n_munis } Gemeinden und eine Gesamtbevölkerung von etwa {pop_string} Einwohnern.\"\n",
    "\n",
    "# date_quantity_context = F\"For the period between {start_date[:-3]} and {end_date[:-3]}, {obj_string } objects were removed and identified in the course of {surv_string} surveys.\"\n",
    "# geo_context = F\"Those surveys were conducted at {fd_n_locs} different locations.\"\n",
    "# admin_context = F\"There are {fd_n_munis} different municipalities represented in these results with a combined population of approximately {pop_string}.\"\n",
    "md(F\"{date_quantity_context} {geo_context }\")"
   ]
  },
  {
   "cell_type": "code",
   "execution_count": null,
   "metadata": {
    "jupyter": {
     "source_hidden": true
    },
    "tags": [
     "hide-input"
    ]
   },
   "outputs": [],
   "source": [
    "# display the survey locations\n",
    "\n",
    "pd.set_option(\"display.max_rows\", None)\n",
    "disp_columns = [\"latitude\", \"longitude\", \"city\"]\n",
    "disp_beaches = dfBeaches.loc[fd_locs][disp_columns]\n",
    "new_names = {\"slug\":\"Standort\", \"city\":\"Stadt\"}\n",
    "disp_beaches.reset_index(inplace=True)\n",
    "disp_beaches.rename(columns=new_names, inplace=True)\n",
    "disp_beaches.set_index(\"Standort\", inplace=True, drop=True)\n",
    "\n",
    "disp_beaches"
   ]
  },
  {
   "cell_type": "code",
   "execution_count": null,
   "metadata": {
    "jupyter": {
     "source_hidden": true
    },
    "tags": [
     "hide-input"
    ]
   },
   "outputs": [],
   "source": [
    "\n",
    "complete_inventory = code_totals[code_totals.quantity>0][[\"item\", \"groupname\", \"quantity\", \"% of total\",\"fail rate\"]]\n",
    "\n",
    "new_names = {\"item\":\"Objekte\", \"groupname\":\"Gruppenname\", \"quantity\":\"Menge\", \"fail rate\":\"Fail-Pass\", \"% of total\":\"% Gesamt\", }\n",
    "\n",
    "complete_inventory.rename(columns=new_names, inplace=True)\n",
    "complete_inventory.sort_values(by=\"Menge\", ascending=False)"
   ]
  },
  {
   "cell_type": "code",
   "execution_count": null,
   "metadata": {
    "jupyter": {
     "source_hidden": true
    }
   },
   "outputs": [],
   "source": []
  },
  {
   "cell_type": "code",
   "execution_count": null,
   "metadata": {
    "jupyter": {
     "source_hidden": true
    }
   },
   "outputs": [],
   "source": []
  }
 ],
 "metadata": {
  "kernelspec": {
   "display_name": "Python 3 (ipykernel)",
   "language": "python",
   "name": "python3"
  },
  "language_info": {
   "codemirror_mode": {
    "name": "ipython",
    "version": 3
   },
   "file_extension": ".py",
   "mimetype": "text/x-python",
   "name": "python",
   "nbconvert_exporter": "python",
   "pygments_lexer": "ipython3",
   "version": "3.7.6"
  }
 },
 "nbformat": 4,
 "nbformat_minor": 4
}
