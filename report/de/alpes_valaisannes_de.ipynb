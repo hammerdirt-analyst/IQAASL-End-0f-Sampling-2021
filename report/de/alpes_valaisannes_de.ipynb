{
 "cells": [
  {
   "cell_type": "code",
   "execution_count": 1,
   "metadata": {
    "tags": [
     "hide-input"
    ]
   },
   "outputs": [
    {
     "ename": "ModuleNotFoundError",
     "evalue": "No module named 'resources'",
     "output_type": "error",
     "traceback": [
      "\u001b[0;31m---------------------------------------------------------------------------\u001b[0m",
      "\u001b[0;31mModuleNotFoundError\u001b[0m                       Traceback (most recent call last)",
      "Cell \u001b[0;32mIn [1], line 53\u001b[0m\n\u001b[1;32m     50\u001b[0m \u001b[38;5;28;01mimport\u001b[39;00m \u001b[38;5;21;01mseaborn\u001b[39;00m \u001b[38;5;28;01mas\u001b[39;00m \u001b[38;5;21;01msns\u001b[39;00m\n\u001b[1;32m     52\u001b[0m \u001b[38;5;66;03m# home brew utitilties\u001b[39;00m\n\u001b[0;32m---> 53\u001b[0m \u001b[38;5;28;01mimport\u001b[39;00m \u001b[38;5;21;01mresources\u001b[39;00m\u001b[38;5;21;01m.\u001b[39;00m\u001b[38;5;21;01mchart_kwargs\u001b[39;00m \u001b[38;5;28;01mas\u001b[39;00m \u001b[38;5;21;01mck\u001b[39;00m\n\u001b[1;32m     54\u001b[0m \u001b[38;5;28;01mimport\u001b[39;00m \u001b[38;5;21;01mresources\u001b[39;00m\u001b[38;5;21;01m.\u001b[39;00m\u001b[38;5;21;01msr_ut\u001b[39;00m \u001b[38;5;28;01mas\u001b[39;00m \u001b[38;5;21;01msut\u001b[39;00m\n\u001b[1;32m     56\u001b[0m \u001b[38;5;66;03m# images and display\u001b[39;00m\n",
      "\u001b[0;31mModuleNotFoundError\u001b[0m: No module named 'resources'"
     ]
    }
   ],
   "source": [
    "# -*- coding: utf8 -*-\n",
    "# This is a report using the data from IQAASL.\n",
    "# IQAASL was a project funded by the Swiss Confederation\n",
    "# It produces a summary of litter survey results for a defined region.\n",
    "# These charts serve as the models for the development of plagespropres.ch\n",
    "# The data is gathered by volunteers.\n",
    "# Please remember all copyrights apply, please give credit when applicable\n",
    "# The repo is maintained by the community effective January 01, 2022\n",
    "# There is ample opportunity to contribute, learn and teach\n",
    "# contact dev@hammerdirt.ch\n",
    "\n",
    "# Dies ist ein Bericht, der die Daten von IQAASL verwendet.\n",
    "# IQAASL war ein von der Schweizerischen Eidgenossenschaft finanziertes Projekt.\n",
    "# Es erstellt eine Zusammenfassung der Ergebnisse der Littering-Umfrage für eine bestimmte Region.\n",
    "# Diese Grafiken dienten als Vorlage für die Entwicklung von plagespropres.ch.\n",
    "# Die Daten werden von Freiwilligen gesammelt.\n",
    "# Bitte denken Sie daran, dass alle Copyrights gelten, bitte geben Sie den Namen an, wenn zutreffend.\n",
    "# Das Repo wird ab dem 01. Januar 2022 von der Community gepflegt.\n",
    "# Es gibt reichlich Gelegenheit, etwas beizutragen, zu lernen und zu lehren.\n",
    "# Kontakt dev@hammerdirt.ch\n",
    "\n",
    "# Il s'agit d'un rapport utilisant les données de IQAASL.\n",
    "# IQAASL était un projet financé par la Confédération suisse.\n",
    "# Il produit un résumé des résultats de l'enquête sur les déchets sauvages pour une région définie.\n",
    "# Ces tableaux ont servi de modèles pour le développement de plagespropres.ch\n",
    "# Les données sont recueillies par des bénévoles.\n",
    "# N'oubliez pas que tous les droits d'auteur s'appliquent, veuillez indiquer le crédit lorsque cela est possible.\n",
    "# Le dépôt est maintenu par la communauté à partir du 1er janvier 2022.\n",
    "# Il y a de nombreuses possibilités de contribuer, d'apprendre et d'enseigner.\n",
    "# contact dev@hammerdirt.ch\n",
    "\n",
    "# sys, file and nav packages:\n",
    "import datetime as dt\n",
    "from babel.dates import format_date, format_datetime, format_time, get_month_names\n",
    "import locale\n",
    "\n",
    "# math packages:\n",
    "import pandas as pd\n",
    "import numpy as np\n",
    "from scipy import stats\n",
    "from statsmodels.distributions.empirical_distribution import ECDF\n",
    "\n",
    "# charting:\n",
    "import matplotlib.pyplot as plt\n",
    "import matplotlib.dates as mdates\n",
    "from matplotlib import ticker\n",
    "from matplotlib import colors\n",
    "from matplotlib.colors import LinearSegmentedColormap\n",
    "from matplotlib.gridspec import GridSpec\n",
    "import seaborn as sns\n",
    "\n",
    "# home brew utitilties\n",
    "import resources.chart_kwargs as ck\n",
    "import resources.sr_ut as sut\n",
    "\n",
    "# images and display\n",
    "from PIL import Image as PILImage\n",
    "from IPython.display import Markdown as md\n",
    "from myst_nb import glue\n",
    "# from IPython.display import display\n",
    "\n",
    "\n",
    "\n",
    "# set the locale to the language desired\n",
    "# the locale is set back to to original at the the end of the script\n",
    "loc = locale.getlocale()\n",
    "lang =  \"de_CH.utf8\"\n",
    "locale.setlocale(locale.LC_ALL, lang)\n",
    "\n",
    "# the date is in iso standard:\n",
    "d = \"%Y-%m-%d\"\n",
    "\n",
    "# it gets changed to german format\n",
    "g = \"%d.%m.%Y\"\n",
    "\n",
    "\n",
    "# set some parameters:\n",
    "start_date = \"01.03.2020\"\n",
    "end_date =\"31.09.2021\"\n",
    "start_end = [start_date, end_date]\n",
    "a_fail_rate = 50\n",
    "reporting_unit = 100\n",
    "unit_label = \"p/100 m\"\n",
    "\n",
    "# colors for gradients, tables and charts\n",
    "cmap2 = ck.cmap2\n",
    "colors_palette = ck.colors_palette\n",
    "a_color = \"dodgerblue\"\n",
    "\n",
    "# the search term for the survey area\n",
    "bassin_name = \"les-alpes\"\n",
    "\n",
    "# the names for the survey area and the cumulative data\n",
    "level_names = [\"Die Alpen\", \"Alle Erhebungsgebiete\"]\n",
    "\n",
    "# common aggregations\n",
    "agg_pcs_quantity = {unit_label:\"sum\", \"quantity\":\"sum\"}\n",
    "agg_pcs_median = {unit_label:\"median\", \"quantity\":\"sum\"}\n",
    "\n",
    "# alpes data:\n",
    "aldata = pd.read_csv(\"resources/checked_alpes_survey_data.csv\")\n",
    "\n",
    "# survey data lakes and rives\n",
    "sdata = pd.read_csv(\"resources/checked_sdata_eos_2020_21.csv\")\n",
    "\n",
    "# location and object data\n",
    "dfBeaches = pd.read_csv(\"resources/beaches_with_land_use_rates.csv\")\n",
    "dfCodes = pd.read_csv(\"resources/codes_with_group_names_2015.csv\")\n",
    "\n",
    "# the dimensional data from each survey\n",
    "dfDims = pd.read_csv(\"resources/alpes_dims.csv\")\n",
    "\n",
    "# remove the prefix from the beach names\n",
    "alpb = dfBeaches[dfBeaches.river_bassin == \"les-alpes\"].copy()\n",
    "\n",
    "# removing the prefix from the location names in the location data\n",
    "alpb[\"slug\"] = alpb.slug.apply(lambda x: x.replace(\"clean-up-tour-\", \"\"))\n",
    "\n",
    "# put that back together\n",
    "dfBeaches = pd.concat([alpb, dfBeaches[dfBeaches.river_bassin != \"les-alpes\"]])\n",
    "\n",
    "dfBeaches.set_index(\"slug\", inplace=True)\n",
    "\n",
    "# index the code data\n",
    "dfCodes.set_index(\"code\", inplace=True)\n",
    "\n",
    "# language specific\n",
    "# importing german code descriptions\n",
    "de_codes = pd.read_csv(\"resources/codes_german_Version_1.csv\")\n",
    "de_codes.set_index(\"code\", inplace=True)\n",
    "\n",
    "# apply the new language to the codes and materials:\n",
    "for x in dfCodes.index:\n",
    "    dfCodes.loc[x, \"description\"] = de_codes.loc[x, \"german\"]\n",
    "\n",
    "# there are long code descriptions that may need to be shortened\n",
    "codes_to_change = [\n",
    "    [\"G704\", \"description\", \"Seilbahnbürste\"],\n",
    "    [\"Gfrags\", \"description\", \"Fragmentierte Kunststoffstücke\"],\n",
    "    [\"G30\", \"description\", \"Snack-Verpackungen\"],\n",
    "    [\"G124\", \"description\", \"Kunststoff-oder Schaumstoffprodukte\"],\n",
    "    [\"G87\", \"description\", \"Abdeckklebeband / Verpackungsklebeband\"],\n",
    "    [\"G3\",\"description\",\"Einkaufstaschen, Shoppingtaschen\"],\n",
    "    [\"G33\", \"description\", \"Einwegartikel; Tassen/Becher & Deckel\"],\n",
    "    [\"G31\", \"description\", \"Schleckstengel, Stengel von Lutscher\"],\n",
    "    [\"G211\", \"description\", \"Sonstiges medizinisches Material\"],\n",
    "    [\"G904\", \"description\", \"Feuerwerkskörper; Raketenkappen\"],\n",
    "    [\"G940\", \"description\", \"Schaumstoff EVA (flexibler Kunststoff)\"],\n",
    "    [\"G178\", \"description\", \"Kronkorken, Lasche von Dose/Ausfreisslachen\"],\n",
    "    [\"G74\", \"description\", \"Schaumstoffverpackungen/Isolierung\"],\n",
    "    [\"G941\", \"description\", \"Verpackungsfolien, nicht für Lebensmittel\"]\n",
    "]\n",
    "for x in codes_to_change:\n",
    "    dfCodes = sut.shorten_the_value(x, dfCodes)\n",
    "\n",
    "# the material was mislabled by the surveyor\n",
    "dfCodes.loc[\"G708\", \"material\"] = \"Metal\"\n",
    "\n",
    "dfCodes[\"material\"] = dfCodes.material.map(lambda x: sut.mat_ge[x]) \n",
    "\n",
    "# make a map to the code descriptions\n",
    "code_description_map = dfCodes.description\n",
    "\n",
    "# make a map to the code materials\n",
    "code_material_map = dfCodes.material"
   ]
  },
  {
   "cell_type": "markdown",
   "metadata": {
    "tags": []
   },
   "source": [
    "(lesalpesde)=\n",
    "\n",
    "# Die Alpen und der Jura\n",
    "\n",
    "<a href=\"alpes_valaisannes.html\" > English </a>\n",
    "\n",
    "Die Alpen und der Jura (les Alpes) sind Erhebungsgebiete, bei der die Verantwortung der Erhebungen bei der Summit Foundation liegt.  Die Summit Foundation führt seit vielen Jahren [clean up events](https://www.summit-foundation.org/en/) in den Schweizer Alpen durch. Zu den Veranstaltungen im Jahr 2021 gehörten auch eine Reihe von Datenerhebungen zu Abfallobjekten, die parallel zu den regelmässig stattfindenden Veranstaltungen durchgeführt wurden. Die Summit Foundation hatte zwei Fragen in Bezug auf IQAASL:  \n",
    "\n",
    "1. Wie kann die Datenerfassung in das aktuelle Geschäftsmodell integriert werden? \n",
    "2. Wie sind die Datenerhebungen auf den Bergpfaden im Vergleich zu denen am Wasser? \n",
    "\n",
    "Der Zweck von Aufräumaktionen ist es, so viel Abfallobjekte wie möglich aus einem bestimmten Gebiet zu entfernen. Wie viel entfernt werden kann, hängt von den zur Verfügung stehenden Ressourcen ab. Eine Datenerhebung über Abfallobjekte dient der Identifizierung und Zählung der Objekte in einem bestimmten Gebiet. In diesem Sinne ist eine Aufräumaktion eine Annäherung an das Abfallproblem aus der Perspektive der Abschwächung oder Milderung, und Datenerhebungen liefern die notwendigen Daten zur Verbesserung der Prävention.   \n",
    "\n",
    "## Methoden der Datenerhebungen\n",
    "\n",
    "Insgesamt wurden zwanzig Datenerhebungen zu Abfallobjekten von der Summit Foundation durchgeführt. Ursprünglich wurden zwei Methoden ausgewählt: \n",
    "\n",
    "1. Datenerhebungen für eine bestimmte Entfernung und Breite eines Streckenabschnitts \n",
    "2. Datenerhebungen der Anlagen bei der Ankunft/Abfahrt der Liftlinie \n",
    "\n",
    "Der Unterschied zwischen den beiden Methoden liegt in der Art und Weise, wie die Grenzen des Vermessungsgebiets festgelegt werden. Wenn ein Weg benutzt wird, werden die Grenzen des Vermessungsgebiets durch den Weg selbst festgelegt, nicht durch die Person, die die Datenerhebung ausführt. Im Sommer sind die Barrieren und Schilder, die die Bereiche für die Liftlinien markieren, alle entfernt worden, so dass es für die Person, die die Datenerhebung ausführt, schwierig ist, die korrekten Grenzen genau zu bestimmen.   \n",
    "\n",
    "## Kumulierte Gesamtzahlen für das Datenerhebungsgebiet\n",
    "\n",
    "*__Unten:__ Karte des Erhebungsgebiets Les Alpes, Clean up tour 2021*"
   ]
  },
  {
   "cell_type": "code",
   "execution_count": null,
   "metadata": {
    "tags": [
     "remove-input"
    ]
   },
   "outputs": [],
   "source": [
    "sut.display_image_ipython(\"resources/maps/survey_areas/alpesvalaisannes.jpeg\")"
   ]
  },
  {
   "cell_type": "code",
   "execution_count": null,
   "metadata": {
    "tags": [
     "hide-input"
    ]
   },
   "outputs": [],
   "source": [
    "# define the final survey data set here:\n",
    "# combined the alps and the lakes and rivers data\n",
    "predata = pd.concat([aldata, sdata])\n",
    "\n",
    "# remove the prefix from the location names\n",
    "predata[\"location\"] = predata[\"location\"].map(lambda x: sut.get_rid_of_ix(x, prefix=\"clean-up-tour-\"))\n",
    "\n",
    "# language specific\n",
    "predata.rename(columns=sut.luse_ge, inplace=True)\n",
    "predata[\"groupname\"] = predata.groupname.map(lambda x: sut.group_names_de[x])\n",
    "\n",
    "# assign loc_date and make date stamp\n",
    "predata[\"loc_date\"] = list(zip(predata.location, predata[\"date\"]))\n",
    "predata[\"date\"] = pd.to_datetime(predata[\"date\"])\n",
    "predata[\"date\"] = predata[\"date\"].dt.strftime(g)\n",
    "predata[\"date\"] = pd.to_datetime(predata[\"date\"], format=g)\n",
    "predata.rename(columns={\"p/100m\": unit_label}, inplace=True)\n",
    " \n",
    "# remove prefixes from the alps location names in the surveys\n",
    "fd = predata[predata.river_bassin == \"les-alpes\"].copy()\n",
    "sd = predata[predata.river_bassin != \"les-alpes\"]\n",
    "\n",
    "# merge it back in with the rest\n",
    "a_data = pd.concat([fd, sd])\n",
    "\n",
    "# scale the streets to kilometers\n",
    "a_data[\"streets\"] = a_data.streets.astype(\"int\")\n",
    "\n",
    "# the totals for each survey and the locations in the feature data\n",
    "fd_dt=fd.groupby([\"loc_date\", \"date\",\"month\", \"location\"], as_index=False).agg(agg_pcs_quantity)\n",
    "\n",
    "# survey totals\n",
    "dt_all = a_data.groupby([\"loc_date\",\"location\",\"river_bassin\", \"date\"], as_index=False).agg(agg_pcs_quantity)\n",
    "\n",
    "# the unique locations and samples\n",
    "t = {\"samples\":fd.loc_date.nunique(),\n",
    "     \"locations\":fd.location.unique(),\n",
    "     \"nlocations\":fd.location.nunique(),\n",
    "     \"fdtotalq\": fd.quantity.sum()\n",
    "    }\n",
    "\n",
    "# gather the municpalities and the population:\n",
    "fd_pop_map = dfBeaches.loc[fd.location.unique()][[\"city\",\"population\"]].copy()\n",
    "fd_pop_map.drop_duplicates(inplace=True)\n",
    "fd_pop_map.set_index(\"city\", drop=True, inplace=True)\n",
    "\n",
    "t.update({\"nmunis\":len(fd_pop_map.index)})\n",
    "\n",
    "obj_string = locale.format_string('%d', int(t[\"fdtotalq\"]), grouping=True)\n",
    "surv_string = locale.format_string('%d', int(t[\"samples\"]), grouping=True)\n",
    "pop_string = locale.format_string('%d', int(fd_pop_map.sum()[0]), grouping=True)\n",
    "\n",
    "date_quantity_context = f\"Zwischen {start_date[3:]} und {end_date[3:]}, wurden im Laufe von {surv_string} Datenerhebungen an {t['samples']} \"\n",
    "geo_context = f\"verschiedenen Orten in {t['nmunis']} Gemeinden und einer Gesamtbevölkerung von {pop_string}. Einwohnern insgesamt {locale.format_string('d',t['fdtotalq'])} Objekte entfernt und identifiziert.\"\n",
    "munis_joined = \", \".join(sorted(fd_pop_map.index))\n",
    "\n",
    "# put that all together:\n",
    "lake_string = F\"\"\"\n",
    "{date_quantity_context} {geo_context }\n",
    "\n",
    "\\n\\n >{munis_joined}\"\"\""
   ]
  },
  {
   "cell_type": "code",
   "execution_count": null,
   "metadata": {
    "tags": [
     "remove-input"
    ]
   },
   "outputs": [],
   "source": [
    "md(lake_string)"
   ]
  },
  {
   "cell_type": "markdown",
   "metadata": {},
   "source": [
    "### Gesamtzahlen der Datenerhebungen\n",
    "\n",
    "*__Unten:__ Die aggregierten Ergebnisse der Abfallerhebungen. Dies beinhaltet nicht die Gesamtzahlen der Erhebungen , siehe nächster Abschnitt.*"
   ]
  },
  {
   "cell_type": "code",
   "execution_count": null,
   "metadata": {
    "tags": [
     "hide-input"
    ]
   },
   "outputs": [],
   "source": [
    "# gather the dimensional data for the time frame from dfDims\n",
    "# match records to survey data\n",
    "# the dimensional data, remove prefix and reassemble\n",
    "fd_dims = dfDims[(dfDims.river_bassin == \"les-alpes\")&(dfDims.date >= start_date)&(dfDims.date <= end_date)].copy()\n",
    "fd_dims[\"location\"] = fd_dims.location.apply(lambda x: x.replace(\"clean-up-tour-\", \"\"))\n",
    "fd_dims[\"loc_date\"] = list(zip(fd_dims.location, fd_dims.date))\n",
    "\n",
    "# map the daily totals to the survey dimensions\n",
    "q_map = fd_dt[[\"loc_date\", \"quantity\"]].set_index(\"loc_date\").quantity\n",
    "fd_dims[\"quantity\"] = fd_dims.loc_date.map(lambda x: q_map.loc[[x]].values[0])\n",
    "\n",
    "# get the pieces per meter\n",
    "fd_dims[unit_label] = ((fd_dims.quantity/fd_dims[\"length\"])*reporting_unit).round(2)\n",
    "\n",
    "# make a loc_date column \n",
    "fd_dims[\"loc_date\"] = list(zip(fd_dims.location, fd_dims.date))\n",
    "\n",
    "# get the cumlaitve values for each location:\n",
    "agg_for_table = {\n",
    "    \"quantity\":\"sum\",\n",
    "    unit_label:\"mean\",\n",
    "    \"total_w\":\"sum\",\n",
    "    \"mac_plast_w\":\"sum\",\n",
    "    \"mic_plas_w\":\"sum\",\n",
    "    \"area\":\"sum\",\n",
    "    \"length\":\"sum\",\n",
    "    \"num_parts_other\":\"sum\",\n",
    "    \"num_parts_staff\":\"sum\",\n",
    "    \"time_minutes\":\"sum\"\n",
    "    \n",
    "}\n",
    "\n",
    "# the table of cumulative values\n",
    "dims_table = fd_dims.groupby([\"location\"]).agg(agg_for_table )\n",
    "\n",
    "# collect the number of samples from the survey total data:\n",
    "for name in dims_table.index:\n",
    "    dims_table.loc[name, \"samples\"] = fd_dt[fd_dt.location == name].loc_date.nunique()\n",
    "\n",
    "# get the sum of all the samples\n",
    "dims_table.loc[level_names[0]]= dims_table.sum(numeric_only=True, axis=0)\n",
    "\n",
    "# take the median pcs_m of all the samples\n",
    "dims_table.loc[level_names[0], unit_label] = fd_dt.groupby([\"location\"])[unit_label].sum().median()\n",
    "\n",
    "# for display\n",
    "dims_table.sort_values(by=[\"quantity\"], ascending=False, inplace=True)\n",
    "\n",
    "# german column names for the dimensional data table\n",
    "new_col_names={    \n",
    "    \"samples\":\"Erhebungen\",\n",
    "    \"quantity\":\"Objekte\",\n",
    "    \"total_w\":\"Gesamt-e kg\",\n",
    "    \"mac_plast_w\":\"kg Plastik\", \n",
    "    \"mic_plas_w\":\"Gesamt-s kg\",\n",
    "    \"area\": \"m²\",\n",
    "    \"length\":\"Länge\", \n",
    "    \"num_parts_other\": \"Teilnehmer\", \n",
    "    \"num_parts_staff\": \"Mitarbeiter\",\n",
    "    \"time_minutes\":\"Std\"\n",
    "}\n",
    "\n",
    "# order the columns\n",
    "dims_table.rename(columns=new_col_names, inplace=True)\n",
    "\n",
    "# kilos, these weights are recorded in grams\n",
    "kilos = [\"kg Plastik\", \"Gesamt-s kg\"]\n",
    "dims_table[kilos] = (dims_table[kilos]/1000).round(2)\n",
    "\n",
    "# numerical type and rounding\n",
    "tints = [\"Erhebungen\",\"Gesamt-e kg\", \"m²\", \"Länge\", \"Objekte\", \"Mitarbeiter\", \"Teilnehmer\"]\n",
    "twodec = [unit_label]\n",
    "\n",
    "# apply formatting\n",
    "dims_table[tints] = dims_table[tints].astype(\"int\")\n",
    "dims_table[twodec] = dims_table[twodec].round(2)\n",
    "dims_table[\"Std\"] = (dims_table[\"Std\"]/60).round(1)\n",
    "\n",
    "# apply string formatting\n",
    "dims_table.reset_index(inplace=True)\n",
    "table_one = dims_table[[\"location\",\"Erhebungen\", \"Objekte\", unit_label,\"kg Plastik\", \"Gesamt-s kg\", \"m²\", \"Länge\"]].copy()\n",
    "commas = [\"Erhebungen\", \"Objekte\",  \"m²\", \"Länge\", unit_label]\n",
    "table_one.loc[:,commas[:-1]] = table_one.loc[:,commas].applymap(lambda x: f\"{locale.format_string('%d', x, grouping=True)}\")\n",
    "\n",
    "# make table\n",
    "fig, ax = plt.subplots(figsize=(14, 13))\n",
    "sut.hide_spines_ticks_grids(ax)\n",
    "a_table = sut.make_a_table(ax,table_one.values , colLabels=table_one.columns, colWidths=[.23, *[.11]*7], bbox=[0, 0, 1, 1], bottom_row=True)\n",
    "a_table.get_celld()[(0,0)].get_text().set_text(\" \")\n",
    "a_table.set_fontsize(12)\n",
    "plt.show()"
   ]
  },
  {
   "cell_type": "markdown",
   "metadata": {},
   "source": [
    "### Gesamtzahlen der Veranstaltung\n",
    "\n",
    "*__Unten:__ Die Gesamtmenge des gesammelten Mülls in Kilogramm, die Anzahl der Teilnehmer und des Personals sowie die Zeit, die für die Durchführung der Erhebung  benötigt wurde.*"
   ]
  },
  {
   "cell_type": "code",
   "execution_count": null,
   "metadata": {
    "tags": [
     "hide-input"
    ]
   },
   "outputs": [],
   "source": [
    "# table two event totals\n",
    "table_two = dims_table[[\"location\",\"Gesamt-e kg\", \"Teilnehmer\", \"Mitarbeiter\",\"Std\"]].copy()\n",
    "table_two[\"Gesamt kg\"] = table_two[\"Gesamt-e kg\"].map(lambda x: f\"{locale.format_string('%d', x, grouping=True)}\")\n",
    "table_two = table_two[[\"location\", \"Gesamt kg\", \"Teilnehmer\", \"Mitarbeiter\", \"Std\"]]\n",
    "\n",
    "# make a table\n",
    "fig, axs = plt.subplots(figsize=(10,13))\n",
    "sut.hide_spines_ticks_grids(axs)\n",
    "\n",
    "a_table = sut.make_a_table(axs, table_two.values, colLabels=table_two.columns, colWidths=[.44, *[.14]*4])\n",
    "a_table.get_celld()[(0,0)].get_text().set_text(\" \")\n",
    "a_table.set_fontsize(12)\n",
    "\n",
    "plt.show()\n",
    "plt.tight_layout()\n",
    "plt.close()"
   ]
  },
  {
   "cell_type": "markdown",
   "metadata": {},
   "source": [
    "### Landnutzungsprofil der Erhebungsorte \n",
    "\n",
    "Die Landnutzung wird als Prozentsatz der Gesamtfläche angegeben, die jeder Landnutzungskategorie innerhalb eines Radius von 1500 m um den Erhebungsort zugeordnet wird.     \n",
    "\n",
    "* \\% auf Gebäude entfallen \n",
    "* \\% der landwirtschaftlich genutzten Fläche \n",
    "* \\% der Fläche, die der Forstwirtschaft zugeschrieben wird \n",
    "* \\% der Fläche, die der Erholung vorbehalten ist \n",
    "\n",
    "Strassen werden als Gesamtzahl der Strassenkilometer im Umkreis von 1500 m angegeben. Intersects ist ebenfalls eine ordinale Rangfolge der Anzahl der Flüsse/Kanäle, die einen See innerhalb von 1500 m um den Erhebungsort herum durchqueren. \n",
    "\n",
    "Das Verhältnis der Anzahl der Eherebungen bei unterschiedlichen Landnutzungsprofilen gibt einen Hinweis auf die ökologischen und wirtschaftlichen Bedingungen der Untersuchungsstandorte.\n",
    "\n",
    "Für weitere Informationen [_Landnutzungsprofil_](luseprofilede)."
   ]
  },
  {
   "cell_type": "code",
   "execution_count": null,
   "metadata": {
    "tags": [
     "hide-input"
    ]
   },
   "outputs": [],
   "source": [
    "# explanatory variables:\n",
    "luse_exp = list(sut.luse_ge.values())\n",
    "\n",
    "# columns needed\n",
    "use_these_cols = [\"loc_date\" ,*luse_exp,  \"groupname\",\"code\"]\n",
    "\n",
    "# the land use data from all other locations\n",
    "datax = sd.groupby(use_these_cols[:-2], as_index=False).agg(agg_pcs_quantity)\n",
    "\n",
    "# work off the copy\n",
    "data = fd.groupby(use_these_cols[:-2], as_index=False).agg(agg_pcs_quantity)\n",
    "\n",
    "sns.set_style(\"whitegrid\")\n",
    "\n",
    "fig, axs = plt.subplots(2, 3, figsize=(9,8), sharey=\"row\")\n",
    "\n",
    "for i, n in enumerate(luse_exp):\n",
    "    r = i%2\n",
    "    c = i%3\n",
    "    ax=axs[r,c]\n",
    "    # get the empirical distribution of the independent variable\n",
    "    all_surveys = ECDF(datax[n].values)\n",
    "    les_alpes = ECDF(data[n].values)\n",
    "        \n",
    "    # plot that\n",
    "    sns.lineplot(x=all_surveys.x, y=all_surveys.y, ax=ax, color=a_color, label=level_names[1])\n",
    "    # plot that\n",
    "    sns.lineplot(x=les_alpes.x, y=les_alpes.y, ax=ax, color=\"magenta\", label=level_names[0])\n",
    "    the_median = data[n].median()\n",
    "    \n",
    "    # get its position reference the surrounding survey area\n",
    "    a = (stats.percentileofscore(les_alpes.x, the_median))/100\n",
    "    \n",
    "    # plot the median and drop horzontal and vertical lines\n",
    "    ax.scatter([the_median], a, color=\"red\",s=50, linewidth=2, zorder=100, label=\"Alps Valaisannes\")\n",
    "    ax.vlines(x=the_median, ymin=0, ymax=a, color=\"red\", linewidth=2)\n",
    "    ax.hlines(xmax=the_median, xmin=0, y=a, color=\"red\", linewidth=2)\n",
    "    \n",
    "    # save the handels and labels but remove them from the ax    \n",
    "    handles, labels = ax.get_legend_handles_labels()\n",
    "    ax.get_legend().remove()\n",
    "    \n",
    "    # format the % of total on the xaxis:\n",
    "    if i <= 3:\n",
    "        if c == 0:            \n",
    "            ax.set_ylabel(\"Prozent der Standorte\", **ck.xlab_k)\n",
    "        ax.xaxis.set_major_formatter(ticker.PercentFormatter(1.0, 0, \"%\"))        \n",
    "    else:\n",
    "        pass\n",
    "    ax.set_xlabel(n, **ck.xlab_k)\n",
    "\n",
    "plt.tight_layout()\n",
    "plt.subplots_adjust(top=.9, hspace=.3)\n",
    "plt.suptitle(\"Landnutzung im Umkreis von 1500 m um den Erhebungsort\", ha=\"center\", y=1, fontsize=16)\n",
    "fig.legend(handles, labels, bbox_to_anchor=(.5,.94), loc=\"center\", ncol=3)        \n",
    "plt.show() "
   ]
  },
  {
   "cell_type": "markdown",
   "metadata": {},
   "source": [
    "*__Oben:__ Die Orte im Erhebungsgebiet der Alpen wiesen einen höheren Prozentsatz an Flächen auf, die der Forst- und Landwirtschaft zugeordnet wurden, und einen geringeren Prozentsatz, der Gebäuden und Freizeiteinrichtungen zugeordnet wurde, als die Orte im IQAASL.* "
   ]
  },
  {
   "cell_type": "markdown",
   "metadata": {},
   "source": [
    "Die aggregierten Ergebnisse zeigen den Unterschied zwischen den beiden Erhebungsmethoden. Die drei Standorte mit dem höchsten p/100 m haben auch die kürzeste Länge. Im Fall von Cabanes-des-Diablerets ist der Meter² gleich der Länge, was darauf hindeutet, dass ein kleiner Bereich um eine Struktur oder ein Gebäude herum vermessen wurde. Veysonnaz befindet sich am Ende einer Skiliftlinie. \n",
    "\n",
    "Der Unterschied in den Methoden führt zu deutlich unterschiedlichen Ergebnissen. Ausserdem wurden diese beiden Orte aufgrund der früheren Erfahrungen der Person, die die Datenerhebung ausführt, speziell für die Bestandsaufnahme ausgewählt. Aufgrund der unterschiedlichen Dimensionen und Methoden werden die Erhebungsergebnisse aus Veysonnaz, San-Beranardino und Cabanes-des-Diablerets in der weiteren Analyse nicht berücksichtigt. "
   ]
  },
  {
   "cell_type": "markdown",
   "metadata": {},
   "source": [
    "## Verteilung der Erhebungsergebnisse¶"
   ]
  },
  {
   "cell_type": "code",
   "execution_count": null,
   "metadata": {
    "tags": [
     "remove-input"
    ]
   },
   "outputs": [],
   "source": [
    "# figure caption\n",
    "chart_notes = F\"\"\"\n",
    "*__Links:__ Die Alpen und der Jura, {start_date[3:]} bis {end_date[3:]}, n={a_data.loc_date.nunique()}. __Rechts:__ Verteilung der Erhebungsergebnisse, Ausreisser entfernt.*  \n",
    "\"\"\"\n",
    "md(chart_notes )"
   ]
  },
  {
   "cell_type": "code",
   "execution_count": null,
   "metadata": {
    "tags": [
     "hide-input"
    ]
   },
   "outputs": [],
   "source": [
    "remove = [\"veysonnaz\", \"cabanes-des-diablerets\", \"san-bernardino\"]\n",
    "\n",
    "# the feature data without the three locations\n",
    "wt_data = fd[~fd.location.isin(remove)].copy()\n",
    "\n",
    "# all the data without the three locations\n",
    "a_data = a_data[~a_data.location.isin(remove)]\n",
    "\n",
    "wt_dt =fd_dt[~fd_dt.location.isin(remove)].copy()\n",
    "\n",
    "nvsn = wt_dt.location.unique()\n",
    "\n",
    "# make a df of survey totals with date as index\n",
    "# the daily survey totals of all the data for the survey period\n",
    "a_dt = a_data.groupby([\"loc_date\", \"date\",\"location\"], as_index=False).agg(agg_pcs_quantity)\n",
    "\n",
    "# only the surveys from all other survey areas\n",
    "dts_date = a_dt[(~a_dt.location.isin([*nvsn, *remove]))].copy()\n",
    "\n",
    "# months locator, can be confusing\n",
    "# https://matplotlib.org/stable/api/dates_api.html\n",
    "months_fmt = mdates.DateFormatter(\"%b\")\n",
    "\n",
    "fig, axs = plt.subplots(1,2, figsize=(10,5))\n",
    "\n",
    "ax = axs[0]\n",
    "\n",
    "# there is a big value in here, that should be seen.\n",
    "sns.scatterplot(data=dts_date, x=\"date\", y=unit_label, color=\"black\", alpha=0.4, label=level_names[1], ax=ax)\n",
    "sns.scatterplot(data=wt_dt, x=\"date\", y=unit_label, color=\"red\", s=34, ec=\"white\",label=level_names[0], ax=ax)\n",
    "\n",
    "ax.set_xlabel(\"\")\n",
    "ax.set_ylabel(unit_label, **ck.xlab_k14)\n",
    "\n",
    "# ax.tick_params(axis=\"x\", which=\"both\", bottom=False )\n",
    "ax.xaxis.set_major_formatter(months_fmt)\n",
    "\n",
    "axtwo = axs[1]\n",
    "\n",
    "box_props = {\n",
    "    \"boxprops\":{\"facecolor\":\"none\", \"edgecolor\":\"magenta\"},\n",
    "    \"medianprops\":{\"color\":\"magenta\"},\n",
    "    \"whiskerprops\":{\"color\":\"magenta\"},\n",
    "    \"capprops\":{\"color\":\"magenta\"}\n",
    "}\n",
    "sns.boxplot(data=dts_date, y=unit_label, color=\"black\",  ax=axtwo, showfliers=False, **box_props, zorder=1)\n",
    "sns.stripplot(data=dts_date[dts_date[unit_label] <= 1000], s=10, y=unit_label, color=\"black\", ax=axtwo, alpha=0.5, jitter=0.3, zorder=0)\n",
    "sns.stripplot(data=wt_dt, y=unit_label, color=\"red\", s=10, ec=\"white\",linewidth=1, ax=axtwo, jitter=0.3, zorder=2)\n",
    "\n",
    "axtwo.set_xlabel(\"\")\n",
    "axtwo.set_ylabel(unit_label, **ck.xlab_k14)\n",
    "\n",
    "axtwo.tick_params(which=\"both\", axis=\"x\", bottom=False)\n",
    "\n",
    "plt.tight_layout()\n",
    "plt.show()\n",
    "plt.close()"
   ]
  },
  {
   "cell_type": "markdown",
   "metadata": {},
   "source": [
    "### Zusammenfassende Daten und Materialtypen\n",
    "\n",
    "*__Links:__ Wanderwege Zusammenfassung der Datenerhebungen. __Rechts:__ Materialart der Wanderwege und Prozentsatz der Gesamtzahl.*"
   ]
  },
  {
   "cell_type": "code",
   "execution_count": null,
   "metadata": {
    "tags": [
     "hide-input"
    ]
   },
   "outputs": [],
   "source": [
    "# get the basic statistics from pd.describe\n",
    "cs = wt_dt[unit_label].describe().round(2)\n",
    "\n",
    "# add project totals\n",
    "cs[\"total objects\"] = fd[~fd.location.isin(remove)].quantity.sum()\n",
    "\n",
    "# change the names\n",
    "csx = sut.change_series_index_labels(cs, sut.create_summary_table_index(unit_label, lang=\"DE\"))\n",
    "\n",
    "# format the text\n",
    "combined_summary = sut.fmt_combined_summary(csx, nf=[])\n",
    "\n",
    "# the material totals\n",
    "code_totals = sut.the_aggregated_object_values(wt_data, agg=agg_pcs_median, description_map=code_description_map, material_map=code_material_map)    \n",
    "code_totals.sort_values(by=\"quantity\", ascending=False)\n",
    "\n",
    "fd_mat_totals = sut.the_ratio_object_to_total(code_totals)\n",
    "\n",
    "fd_mat_totals = sut.fmt_pct_of_total(fd_mat_totals)\n",
    "fd_mat_totals = sut.make_string_format(fd_mat_totals)\n",
    "\n",
    "# applly new column names for printing\n",
    "cols_to_use = {\"material\":\"Material\",\"quantity\":\"Quantity\", \"% of total\":\"% of total\"}\n",
    "fd_mat_t = fd_mat_totals[cols_to_use.keys()].values\n",
    "\n",
    "# make tables\n",
    "fig, axs = plt.subplots(1,2, figsize=(8,6))\n",
    "\n",
    "# summary table\n",
    "# names for the table columns\n",
    "a_col = [level_names[0], \"total\"]\n",
    "\n",
    "axone = axs[0]\n",
    "sut.hide_spines_ticks_grids(axone)\n",
    "\n",
    "table_two = sut.make_a_table(axone, combined_summary,  colLabels=a_col, colWidths=[.5,.25,.25],  bbox=[0,0,1,1], **{\"loc\":\"lower center\"})\n",
    "table_two.get_celld()[(0,0)].get_text().set_text(\" \")\n",
    "table_two.set_fontsize(12)\n",
    "\n",
    "# material table\n",
    "axtwo = axs[1]\n",
    "axtwo.set_xlabel(\" \")\n",
    "sut.hide_spines_ticks_grids(axtwo)\n",
    "\n",
    "# column names for display\n",
    "cols_to_use = {\"material\":\"Material\",\"quantity\":\"Gesamt\", \"% of total\":\"% Gesamt\"}\n",
    "\n",
    "table_three = sut.make_a_table(axtwo, fd_mat_t,  colLabels=list(cols_to_use.values()), colWidths=[.4, .3,.3],  bbox=[0,0,1,1], **{\"loc\":\"lower center\"})\n",
    "table_three.get_celld()[(0,0)].get_text().set_text(\" \")\n",
    "table_three.set_fontsize(12)\n",
    "\n",
    "plt.tight_layout()\n",
    "plt.subplots_adjust(wspace=0.2)\n",
    "plt.show()"
   ]
  },
  {
   "cell_type": "markdown",
   "metadata": {
    "tags": []
   },
   "source": [
    "## Die am häufigsten gefundenen Gegenstände\n",
    "\n",
    "Die am häufigsten gefundenen Gegenstände sind die zehn mengenmässig am meisten vorkommenden Objekte UND/ODER Objekte, die in mindestens 50% aller Datenerhebungen identifiziert wurden (fail-rate). "
   ]
  },
  {
   "cell_type": "code",
   "execution_count": null,
   "metadata": {
    "tags": [
     "hide-input"
    ]
   },
   "outputs": [],
   "source": [
    "# code totals for les Alps not including veysonnaz\n",
    "code_totals.rename(columns={\"groupname\":\"utility\"}, inplace=True)\n",
    "\n",
    "# objects with a fail rate of > 50% in the survey area\n",
    "most_common = code_totals[code_totals[\"fail rate\"] >= 50].sort_values(by=\"quantity\", ascending=False)\n",
    "\n",
    "# the top ten by quantity\n",
    "most_abundant = code_totals.sort_values(by=\"quantity\", ascending=False)[:10]\n",
    "\n",
    "# merge with most_common and drop duplicates\n",
    "m_common = pd.concat([most_abundant, most_common]).drop_duplicates()\n",
    "\n",
    "# get percent of total\n",
    "m_common_percent_of_total = m_common.quantity.sum()/code_totals.quantity.sum()\n",
    "\n",
    "# format values for table\n",
    "m_common[\"item\"] = m_common.index.map(lambda x: code_description_map.loc[x])\n",
    "m_common[\"% of total\"] = m_common[\"% of total\"].map(lambda x: F\"{x}%\")\n",
    "m_common[\"quantity\"] = m_common.quantity.map(lambda x: \"{:,}\".format(x))\n",
    "m_common[\"fail rate\"] = m_common[\"fail rate\"].map(lambda x: F\"{x}%\")\n",
    "m_common[unit_label] = m_common[unit_label].map(lambda x: F\"{np.ceil(x)}\")\n",
    "\n",
    "# final table wt_data\n",
    "cols_to_use = {\"item\":\"Objekt\",\"quantity\":\"Gesamt\", \"% of total\":\"% Gesamt\", \"fail rate\":\"Ausfallsrate\", unit_label:unit_label}\n",
    "walking_trails = m_common[cols_to_use.keys()].values\n",
    "\n",
    "# figure caption\n",
    "rb_string = F\"\"\"\n",
    "*__Unten:__ Häufigste Objekte auf Wanderwegen: Fail-Pass Rate >/= 50% und/oder Top Ten nach Anzahl. Zusammengenommen stellen die zehn häufigsten \n",
    "Objekte {int(m_common_percent_of_total*100)}% aller gefundenen Objekte der, {unit_label}: Medianwert der Erhebung.*\n",
    "\"\"\"\n",
    "md(rb_string)"
   ]
  },
  {
   "cell_type": "code",
   "execution_count": null,
   "metadata": {
    "tags": [
     "hide-input"
    ]
   },
   "outputs": [],
   "source": [
    "fig, axs = plt.subplots(figsize=(12,len(m_common)*.7))\n",
    "\n",
    "sut.hide_spines_ticks_grids(axs)\n",
    "\n",
    "table_three = sut.make_a_table(axs, walking_trails,  colLabels=list(cols_to_use.values()), colWidths=[.48, .13,.13,.13, .13],  bbox=[0,0,1,1], **{\"loc\":\"lower center\"})\n",
    "table_three.get_celld()[(0,0)].get_text().set_text(\" \")\n",
    "table_three.set_fontsize(12)\n",
    "\n",
    "plt.show()\n",
    "plt.tight_layout()\n",
    "plt.close()"
   ]
  },
  {
   "cell_type": "markdown",
   "metadata": {
    "tags": []
   },
   "source": [
    "### Die am häufigsten gefundenen Gegenstände nach Erhebungsort   "
   ]
  },
  {
   "cell_type": "markdown",
   "metadata": {
    "tags": [
     "remove-input"
    ]
   },
   "source": [
    "*__Unten:__ Wanderwege häufigste Objekte: Median p/100 m.*"
   ]
  },
  {
   "cell_type": "code",
   "execution_count": null,
   "metadata": {
    "tags": [
     "hide-input"
    ]
   },
   "outputs": [],
   "source": [
    "# aggregated survey totals for the most common codes for all the water features \n",
    "m_common_st = wt_data[wt_data.code.isin(m_common.index)].groupby([\"location\", \"loc_date\",\"code\"], as_index=False).agg(agg_pcs_quantity)\n",
    "m_common_ft = m_common_st.groupby([\"location\", \"code\"], as_index=False)[unit_label].median()\n",
    "\n",
    "# map the desctiption to the code\n",
    "m_common_ft[\"item\"] = m_common_ft.code.map(lambda x: code_description_map.loc[x])\n",
    "\n",
    "# pivot that\n",
    "m_c_p = m_common_ft[[\"item\", unit_label, \"location\"]].pivot(columns=\"location\", index=\"item\")\n",
    "\n",
    "# quash the hierarchal column index\n",
    "m_c_p.columns = m_c_p.columns.get_level_values(1)\n",
    "\n",
    "# the aggregated totals for the locations\n",
    "m_c_p[level_names[0]]= sut.aggregate_to_code(wt_data[wt_data.code.isin(m_common.index)], code_description_map,name=level_names[0], unit_label=unit_label)\n",
    "\n",
    "m_c_p[level_names[1]] = sut.aggregate_to_code(a_data[a_data.code.isin(m_common.index)], code_description_map,name=level_names[1], unit_label=unit_label)\n",
    "\n",
    "# chart that\n",
    "fig, ax  = plt.subplots(figsize=(len(m_c_p.columns)*.8,len(m_c_p)*.9))\n",
    "\n",
    "axone = ax\n",
    "sns.heatmap(m_c_p, ax=axone,  annot=True,vmax=300, annot_kws={\"fontsize\":12}, cmap=cmap2, fmt=\".1f\", square=True, cbar=False, linewidth=.1, linecolor=\"white\")\n",
    "\n",
    "axone.set_xlabel(\"\")\n",
    "axone.set_ylabel(\"\")\n",
    "\n",
    "axone.tick_params(labelsize=12, which=\"both\", axis=\"both\", labeltop=True, labelbottom=False)\n",
    "plt.setp(axone.get_xticklabels(), rotation=90)\n",
    "\n",
    "plt.tight_layout()\n",
    "plt.show()\n",
    "plt.close()"
   ]
  },
  {
   "cell_type": "markdown",
   "metadata": {},
   "source": [
    "*__Unten:__ Seilbahnbürsten, die verwendet werden, um Eis und Schnee von Skiliften zu entfernen, können sich von der Anlage lösen und Tausende von schweren Kunststofffäden erzeugen.*"
   ]
  },
  {
   "cell_type": "code",
   "execution_count": null,
   "metadata": {
    "tags": [
     "remove-input"
    ]
   },
   "outputs": [],
   "source": [
    "teamv = PILImage.open(\"resources/images/alpes_valaisanne/veysonnaz_brosse.jpg\")\n",
    "\n",
    "# display images\n",
    "fig, ax = plt.subplots(figsize=(8,4.5))\n",
    "\n",
    "axone=ax\n",
    "sut.hide_spines_ticks_grids(axone)\n",
    "axone.imshow(teamv);\n",
    "axone.set_title(\"Seilbahnbürsten\", **ck.title_k14)\n",
    "\n",
    "plt.tight_layout()\n",
    "plt.show()"
   ]
  },
  {
   "cell_type": "markdown",
   "metadata": {},
   "source": [
    "## Verwendungszweck der gefundenen Objekte \n",
    "\n",
    "Die Nutzungsart basiert auf der Verwendung des Objekts, bevor es weggeworfen wurde, oder auf der Artikelbeschreibung, wenn die ursprüngliche Verwendung unbestimmt ist. Identifizierte Objekte werden einer der 260 vordefinierten Kategorien zugeordnet. Die Kategorien werden je nach Verwendung oder Artikelbeschreibung gruppiert. \n",
    "\n",
    "*  **Abwasser:** Gegenstände, die aus Kläranlagen freigesetzt werden, einschliesslich Gegenstände, die wahrscheinlich über die Toilette entsorgt werden   \n",
    "*  **Mikroplastik (< 5 mm):** fragmentierte Kunststoffe und Kunststoffharze aus der Vorproduktion\n",
    "*  **Infrastruktur:** Artikel im Zusammenhang mit dem Bau und der Instandhaltung von Gebäuden, Strassen und der Wasser-/Stromversorgung  \n",
    "*  **Essen und Trinken:** alle Materialien, die mit dem Konsum von Essen und Trinken in Zusammenhang stehen\n",
    "*  **Landwirtschaft:**     z. B. für Mulch und Reihenabdeckungen, Gewächshäuser, Bodenbegasung, Ballenverpackungen. Einschliesslich Hartkunststoffe für landwirtschaftliche Zäune, Blumentöpfe usw. \n",
    "*  **Tabakwaren:** hauptsächlich Zigarettenfilter, einschliesslich aller mit dem Rauchen verbundenen Materialien \n",
    "*  **Freizeit und Erholung:** Objekte, die mit Sport und Freizeit zu tun haben, z. B. Angeln, Jagen, Wandern usw. \n",
    "*  **Verpackungen ausser Lebensmittel und Getränke:**     Verpackungsmaterial, das nicht lebensmittel-, getränke- oder tabakbezogen ist\n",
    "*  **Plastikfragmente:** Plastikteile unbestimmter Herkunft oder Verwendung  \n",
    "*  **Persönliche Gegenstände:** Accessoires, Hygieneartikel und Kleidung \n",
    "\n",
    "Im Anhang finden Sie die vollständige Liste der identifizierten Objekte, einschliesslich Beschreibungen und Gruppenklassifizierung. Der Abschnitt [Codegruppen](codegroupsde) beschreibt jede Codegruppe im Detail und bietet eine umfassende Liste aller Objekte in einer Gruppe. "
   ]
  },
  {
   "cell_type": "markdown",
   "metadata": {
    "tags": [
     "remove-input"
    ]
   },
   "source": [
    "*__Unten:__ Wanderwege Nutzen der gefundenen Objekte: % der Gesamtzahl nach Wassermerkmal. Fragmentierte Objekte, die nicht eindeutig identifiziert werden können, bleiben nach Grösse klassifiziert.*  "
   ]
  },
  {
   "cell_type": "code",
   "execution_count": null,
   "metadata": {
    "tags": [
     "hide-input"
    ]
   },
   "outputs": [],
   "source": [
    "# the median survey total and % of total for codegroups\n",
    "cg_t = wt_data.groupby([\"loc_date\", \"location\",\"groupname\"], as_index=False).agg(agg_pcs_quantity)\n",
    "\n",
    "# aggregate all that for each water feature\n",
    "cg_t = cg_t.groupby([\"location\", \"groupname\"], as_index=False).agg({unit_label:\"median\", \"quantity\":\"sum\"})\n",
    "\n",
    "# quantity per water feature\n",
    "cg_tq = cg_t.groupby(\"location\").quantity.sum()\n",
    "\n",
    "# assign the water feature total to each record\n",
    "for a_feature in cg_tq.index:\n",
    "    cg_t.loc[cg_t.location == a_feature, \"f_total\"] = cg_tq.loc[a_feature]\n",
    "\n",
    "# get the percent of total for each group for each water feature\n",
    "cg_t[\"pt\"] = (cg_t.quantity/cg_t.f_total).round(2)\n",
    "\n",
    "# pivot that\n",
    "data_table = cg_t.pivot(columns=\"location\", index=\"groupname\", values=\"pt\")\n",
    "\n",
    "# make a column for the survey area and all data\n",
    "data_table[level_names[0]]= sut.aggregate_to_group_name(wt_data,name=level_names[0])\n",
    "data_table[level_names[1]]= sut.aggregate_to_group_name(sd, name=level_names[1])\n",
    "\n",
    "# chart that\n",
    "fig, ax = plt.subplots(figsize=(len(data_table.columns)*.8,len(data_table)*.9))\n",
    "\n",
    "axone = ax\n",
    "sns.heatmap(data_table , ax=axone, cmap=cmap2, annot=True, annot_kws={\"fontsize\":12}, cbar=False, fmt=\".0%\", linewidth=.1, square=True, linecolor=\"white\")\n",
    "\n",
    "axone.set_ylabel(\"\")\n",
    "axone.tick_params(labelsize=14, which=\"both\", axis=\"both\", labeltop=True, labelbottom=False)\n",
    "axone.set_xlabel(\"\")\n",
    "plt.setp(axone.get_xticklabels(), rotation=90, fontsize=14)\n",
    "plt.setp(axone.get_yticklabels(), rotation=0, fontsize=14)\n",
    "\n",
    "plt.tight_layout()\n",
    "plt.show()"
   ]
  },
  {
   "cell_type": "code",
   "execution_count": null,
   "metadata": {
    "tags": [
     "hide-input"
    ]
   },
   "outputs": [],
   "source": [
    "# median p/50m solve cg_t for unit_label\n",
    "data_table = cg_t.pivot(columns=\"location\", index=\"groupname\", values=unit_label)\n",
    "\n",
    "# survey area median\n",
    "data_table[level_names[0]] = sut.aggregate_to_group_name(fd, name=level_names[0], val=\"med\", unit_label=unit_label)\n",
    "\n",
    "# all survey area median\n",
    "data_table[level_names[1]] = sut.aggregate_to_group_name(sd, unit_label=unit_label, name=level_names[1], val=\"med\" )"
   ]
  },
  {
   "cell_type": "markdown",
   "metadata": {},
   "source": [
    "*__Unten:__ Wanderwege Nutzen der gefundenen Objekte: Median p/100 m.*"
   ]
  },
  {
   "cell_type": "code",
   "execution_count": null,
   "metadata": {
    "tags": [
     "remove-input"
    ]
   },
   "outputs": [],
   "source": [
    "fig, ax = plt.subplots(figsize=(len(data_table.columns)*.8,len(data_table)*.9))\n",
    "\n",
    "axone = ax\n",
    "sns.heatmap(data_table , ax=axone, cmap=cmap2, vmax=300, annot=True, annot_kws={\"fontsize\":12}, fmt=\"g\", cbar=False, linewidth=.1, square=True, linecolor=\"white\")\n",
    "\n",
    "axone.set_ylabel(\"\")\n",
    "axone.tick_params(labelsize=14, which=\"both\", axis=\"both\", labeltop=True, labelbottom=False)\n",
    "\n",
    "axone.set_xlabel(\"\")\n",
    "plt.setp(axone.get_xticklabels(), rotation=90, fontsize=14)\n",
    "plt.setp(axone.get_yticklabels(), rotation=0, fontsize=14)\n",
    "\n",
    "plt.show()"
   ]
  },
  {
   "cell_type": "markdown",
   "metadata": {},
   "source": [
    "### Perzentil-Rangfolge der Erhebungsergebnisse in Bezug auf die Flächennutzung"
   ]
  },
  {
   "cell_type": "code",
   "execution_count": null,
   "metadata": {
    "tags": [
     "hide-input"
    ]
   },
   "outputs": [],
   "source": [
    "# get the percentile ranking under each condition:\n",
    "# define land use ranges based on the sample data\n",
    "l_f = [\"% zu LWS\", \"% zu Wald\", \"population\"]\n",
    "\n",
    "this_range = (fd[l_f[0]].min(), fd[l_f[0]].max())\n",
    "this_range_w = (fd[l_f[1]].min(), fd[l_f[1]].max())\n",
    "this_range_p = (fd[l_f[2]].min(), fd[l_f[2]].max())\n",
    "\n",
    "# apply them to all the data\n",
    "# one test for agg -- a dominant land use feature of the sample data\n",
    "some_data = a_data[(a_data[l_f[0]] >= this_range[0])&(a_data[l_f[0]] <= this_range[1])].copy()\n",
    "\n",
    "# one test for woods -- the dominant land use feature of the sample data\n",
    "some_data_w = a_data[(a_data[l_f[1]] >= this_range_w[0])&(a_data[l_f[1]] <= this_range_w[1])].copy()\n",
    "\n",
    "# one test for population -- \n",
    "some_data_p = a_data[(a_data[l_f[2]] >= this_range_p[0])&(a_data[l_f[2]] <= this_range_p[1])].copy()\n",
    "\n",
    "# remove Alps valaisannes\n",
    "some_data = some_data[~some_data.location.isin(fd.location.unique())].copy()\n",
    "some_data_w = some_data_w[~some_data_w.location.isin(fd.location.unique())].copy()\n",
    "some_data_p = some_data_p[~some_data_p.location.isin(fd.location.unique())].copy()\n",
    "\n",
    "# the number of samples and locations that have similar land use profiles as AV:\n",
    "# agg to loc_date for each criteria\n",
    "# data for charting and comparing\n",
    "data=some_data.groupby([\"loc_date\",\"location\",l_f[0]], as_index=False)[unit_label].sum()\n",
    "data_w =some_data_w.groupby([\"loc_date\",\"location\",l_f[1]], as_index=False)[unit_label].sum()\n",
    "data_p = some_data_p.groupby([\"loc_date\",\"location\",*l_f[1:]], as_index=False)[unit_label].sum()\n",
    "\n",
    "# get the percentile ranking for each location under each condtion:\n",
    "table_data = {}\n",
    "for i,x in enumerate(nvsn):\n",
    "    this_num = wt_dt.loc[wt_dt.location == x, unit_label].values[0]\n",
    "    a = (stats.percentileofscore(data[unit_label].to_numpy(), this_num))\n",
    "    b = (stats.percentileofscore(data_p[unit_label].to_numpy(), this_num))\n",
    "    c = (stats.percentileofscore(data_w[unit_label].to_numpy(), this_num))\n",
    "    table_data.update({x:{\"Landwirtschaftlich\":a, \"Wald\":b, \"population\":c}})\n",
    "\n",
    "# make df and format\n",
    "t_data = pd.DataFrame(table_data)\n",
    "t_data = t_data.astype(\"int\")\n",
    "t_data.reset_index(inplace=True)\n",
    "t_data.rename(columns={\"index\":\"variable\"}, inplace=True)\n",
    "t_data.set_index(\"variable\", inplace=True, drop=True)\n",
    "\n",
    "fig, ax = plt.subplots(figsize=(len(nvsn)*.8,5))\n",
    "\n",
    "axone = ax\n",
    "sns.heatmap(t_data , ax=axone, cmap=cmap2, vmax=300, annot=True, annot_kws={\"fontsize\":12}, fmt=\"g\", cbar=False, linewidth=.1, square=True, linecolor=\"white\")\n",
    "\n",
    "axone.set_ylabel(\"\")\n",
    "axone.tick_params(labelsize=14, which=\"both\", axis=\"both\", labeltop=True, labelbottom=False)\n",
    "\n",
    "plt.setp(axone.get_xticklabels(), rotation=90, fontsize=14)\n",
    "plt.setp(axone.get_yticklabels(), rotation=0, fontsize=14)\n",
    "\n",
    "plt.show()"
   ]
  },
  {
   "cell_type": "markdown",
   "metadata": {},
   "source": [
    "*__Oben:__ Die Rangfolge der untersuchten Alpen-Standorte in Bezug auf die Landnutzung. Die Erhebungsergebnisse in Airolo waren zum Beispiel höher als 83 % aller Erhebungen (Seen, Flüsse und Alpen). In Andermatt liegen die Erhebungsergebnisse unter 95 % aller Erhebungen mit einem vergleichbaren Landnutzungsprofil.*"
   ]
  },
  {
   "cell_type": "markdown",
   "metadata": {},
   "source": [
    "## Diskussion\n",
    "\n",
    "### Ergebnisse der Alpenerhebung im Vergleich zu Erhebungen an der Ufer\n",
    "\n",
    "Der Medianwert beträgt 110 p/100 m für die 17 Standorte, die die Kriterien für Länge und Breite im Erhebungsgebiet Alpen erfüllen, und liegt damit unter dem Medianwert aller anderen Erhebungsgebiete (189 p/100 m). Objekte, die mit dem Konsum von Nahrungsmitteln, Getränken und Tabakwaren in Verbindung stehen, machten einen geringeren Prozentsatz der Gesamtzahl aus und wiesen eine niedrigere p/100 m-Rate auf als Standorte entlang von Wassersystemen. Dieser Unterschied könnte zum Teil auf die geringe Verstädterung zurückzuführen sein, die das Erhebungsgebiet Alpen im Vergleich zu allen anderen Erhebungsgebieten kennzeichnet. \n",
    "\n",
    "Der Anteil von Objekten, die mit der Infrastruktur zusammenhängen, ist mit 36 % doppelt so hoch wie in allen Untersuchungsgebieten zusammen. Dies ist grösstenteils auf die Fäden von Seilbahnbürsten zurückzuführen, die in Les-Crosets in grossen Mengen gefunden wurden. Seilbahnbürsten werden verwendet, um den Schnee von der Oberseite der abgedeckten Seilbahnkabinen zu entfernen, wenn diese sich dem Einstiegsort nähern. Ähnlich wie Industriepellets oder Schaumstoffkügelchen in der aquatischen Umwelt werden Teile von Seilbahnbürsten wahrscheinlich immer wieder in gelegentlich grossen Mengen an ganz bestimmten Orten gefunden. \n",
    "\n",
    "Das Verhältnis von Infrastrukturobjekten zu Lebensmitteln und Tabakwaren ist fast 1. Solche Ergebnisse sind typisch für Umgebungen mit einer besser entwickelten Infrastruktur, siehe [Gemeinsame Verantwortung] (Verkehr). Fragmentierte Kunststoffe werden in ähnlichem Umfang wie in den anderen Untersuchungsgebieten gefunden. Neu auf der Liste der häufigsten Gegenstände sind Kabelbinder und Abdeckband. Beide Gegenstände werden am Ufer gefunden, allerdings mit einer Häufigkeit von unter 50 %. \n",
    "\n",
    "Es sei daran erinnert, dass diese Erhebungen  entlang der Skiliftlinie oder eines Wanderweges in einem Skigebiet durchgeführt wurden. Auch wenn die Nutzung im Winter erhöht sein mag, sind viele Gebiete auch im Sommer hervorragende Wandergebiete, so dass eine ganzjährige Nutzung dieser Regionen möglich ist. \n",
    "\n",
    "#### Die am häufigsten gefundenen Gegenstände\n",
    "\n",
    "Die am häufigsten vorkommenden Gegenstände machen 74% der insgesamt gefundenen aus. Die Zigarettenstummel lagen im Erhebungsgebiet Alpes nicht über dem nationalen Median, allerdings wurden in Verbier, Grindelwald und Airolo signifikante Werte festgestellt. Spezifische Gegenstände aus der Gruppe der Infrastruktur sind vertreten, wie z.B.:   \n",
    "\n",
    "1. Schrauben und Bolzen \n",
    "2. Kabelbinder\n",
    "3. Abdeckband\n",
    "4. Seilbahnbürste \n",
    "\n",
    "Das Fehlen von expandiertem oder extrudiertem Polystyrol in der Liste der am häufigsten vorkommenden Produkte in den Erhebungsgebieten der Alpen steht jedoch in scharfem Kontrast zu allen anderen Erhebungsgebieten, in denen dieses Produkt allein etwa 13% der Gesamtmenge ausmacht, siehe [_Seen und Flüsse_](allsurveysde).\n",
    "\n",
    "### Implementierung von Datenerhebungen über Abfallobjekte in das bestehende Geschäftsmodell \n",
    "\n",
    "m Vergleich zu einer Strandabfall-Erhebung deckt eine Aufräumaktion ein relativ grosses geographisches Gebiet ab. Freiwillige, die an diesen Veranstaltungen teilnehmen, werden von der Möglichkeit angezogen, sich um die Umwelt zu kümmern UND sich in der Gesellschaft anderer (in den Bergen) zu bewegen. Datenerhebungen zu Strand-Abfallobjekten bieten nicht dasselbe Aktivitätsniveau und sind möglicherweise nicht für alle Freiwilligen von Interesse. \n",
    "\n",
    "Die Durchführung von Strand-Abfallobjekten bedeutet, dass Sie Freiwilligen die Möglichkeit geben, vor Ort Erfahrungen zu sammeln, aber auch intern die Ressourcen bereitstellen, um sicherzustellen, dass die Untersuchung gemäss dem Protokoll durchgeführt wird. Dazu gehört das Identifizieren, Zählen und Eingeben von Daten. Die Summit Foundation war in der Lage, dies zu tun, indem sie dafür sorgte, dass bei jeder Veranstaltung eine Person anwesend war, die die Umfrage durchführen konnte. \n",
    "\n",
    "Die Personen, die die Datenerhebung ausführten, zogen es vor, die Proben entlang der Liftlinien zu nehmen und bei der Ankunft und Abfahrt der Skilifte zu beginnen. Die auf diese Weise entnommenen Proben folgen dem Verlauf der Veranstaltung: bergab und in den Bereichen mit hohem Verkehrsaufkommen. \n",
    "\n",
    "Proben, die in der Nähe von Gebäuden oder anderen Einrichtungen genommen wurden, ergaben höhere Erhebungsergebnisse. Damit bestätigte sich, was die Mitglieder der Summit Foundation in den vergangenen Jahren festgestellt hatten. Aus diesen Erfahrungen erklärte der Projektleiter, Téo Gürsoy:   \n",
    "\n",
    "> Die Personen, die die Datenerhebung ausführt, konzentrieren sich nämlich hauptsächlich auf die Abschnitte unter den Sesselliften, Gondeln oder bei der Abfahrt und Ankunft dieser Anlagen, die stark frequentierte Orte sind.\n",
    "\n",
    "In einigen Fällen ist die Dichte der Objekte so gross, dass sich die Person, welche die Datenerhebung ausführt, gezwungen sah, sich auf einen Bereich zu konzentrieren, indem sie die Breite des Erfassungsbereichs vergrösserte. M. Gursoy beschrieb, was passierte, als eine Person, welche die Datenerhebung ausführt, auf einen Ort stiess, der grosse Mengen von Skiliftbürsten enthielt:  \n",
    "\n",
    "> Die Person, welche die Datenerhebung ausführt, begann den Streckenabschnitt jedoch an der Ankunftsstation der Gondel. Die Skiliftbürsten erregten schnell die Aufmerksamkeit der Person, die beschloss, sich nur auf diesen Bereich zu konzentrieren, um herauszufinden, wie viele von ihnen in dieser Art von Gebiet zu finden waren… \n",
    "\n",
    "Die Erhebungsergebnisse rund um Infrastruktur oder Gebäude sind kein Indikator für den Zustand der Umwelt im gesamten Gebiet. Datenerhebungen in der Umgebung dieser Strukturen weisen tendenziell höhere Werte auf, machen aber nur einen kleinen Teil der gesamten Landnutzung aus.  \n",
    "\n",
    "Es mussten Anpassungen an der Software und dem Berichtsschema vorgenommen werden, um die verschiedenen Arten von Daten zu verarbeiten, die bei Aufräumarbeiten anfallen. Dazu gehörte auch die Schaffung neuer Identifikationscodes für bestimmte Objekte, die im Untersuchungsgebiet der Alpen gefunden werden. Ausserdem stellte die Summit Foundation die Ressourcen zur Verfügung, damit ein Mitarbeiter der Stiftung in der Anwendung des Projektprotokolls und der Software geschult werden konnte.  \n",
    "\n",
    "#### Schlussfolgerungen\n",
    "\n",
    "Die Datenerhebungen, die entlang der Wege und Liftlinien im Untersuchungsgebiet der Alpen durchgeführt wurden, ergaben Daten, die den Daten der Erhebungen entlang der Ufer (an der Küste) sehr ähnlich waren. Wenn sich die Personen, die die Datenerhebungen durchgeführt haben, jedoch auf bestimmte Infrastruktureinrichtungen konzentrierten, wurden extreme Werte ermittelt. Die Datenerhebungen an der Ufer würden zu den gleichen Ergebnissen führen, wenn die Erhebungen nur an Orten durchgeführt würden, an denen hohe Abfallobjekte wahrscheinlicher sind.   \n",
    "\n",
    "Objekte aus dem Bereich Essen und Trinken machen nur 11% der insgesamt gefundenen Objekte aus, verglichen mit 36% in den anderen Untersuchungsgebieten. Der Anteil an Infrastrukturobjekten beträgt in den Alpen jedoch 75% gegenüber 18% in allen anderen Untersuchungsgebieten. Dies ist zum Teil auf den Unterschied in der menschlichen Präsenz im Vergleich zu Orten in niedrigeren Höhenlagen zurückzuführen, wo die menschliche Präsenz das ganze Jahr über konstant ist, so dass der Druck durch Nahrungs- und Genussmittel im Gegensatz zur Infrastruktur grösser ist.  \n",
    "\n",
    "Dieses erste Projekt hat auch gezeigt, dass es möglich ist, die Überwachung mit beliebten Veranstaltungen zu kombinieren. In Vorbereitung auf die Überwachung tauschten die Mitglieder beider Teams Ideen aus und sortierten gemeinsam Proben. Dies ermöglichte es beiden Organisationen, sich gegenseitig besser zu verstehen und Basisleistungen zu bestimmen, die bei der Datenerfassung für einen nationalen Bericht erbracht werden konnten:  \n",
    "\n",
    "1. Helfen Sie bei der Erfassung und Identifizierung\n",
    "2. Assistieren Sie bei der Dateneingabe \n",
    "3. Stellen Sie Diagramme, Grafiken und Daten zur Verfügung, die von den teilnehmenden Organisationen verwendet werden können. \n",
    "\n",
    "Eine Strand-Abfallaufkommen Untersuchung dauert 2-4 Stunden, je nachdem wie viele verschiedene Objekte es gibt. Diese Ressourcen waren im Betriebsbudget der beiden Organisationen nicht vorgesehen. Daher stellte die Summit Foundation die Koordination und Infrastruktur zur Verfügung und Hammerdirt stellte eine zusätzliche Person, die die Datenerhebung ausführt, sowie IT-Unterstützung.  \n",
    "\n",
    "Die zur Verfügung gestellten Daten ermöglichen direkte Vergleiche zwischen den Orten, vorausgesetzt, es wird die gleiche Erhebungsmethode verwendet. Die Häufigkeit von Infrastrukturartikeln im Verhältnis zu Lebensmitteln und Tabakwaren ist ein Hinweis auf Datenerhebungen in ländlichen Gebieten. Wie gut diese Daten mit Datenerhebungen an der Ufer vergleichbar sind, muss noch weiter untersucht werden. Zigarettenstummel, Glasscherben, Plastiksplitter und Snackverpackungen gehören jedoch zu den häufigsten Gegenständen, die an der Ufer gefunden werden.  \n",
    "\n",
    "Wir danken allen Mitgliedern der Summit Foundation für ihre Hilfe, insbesondere Olivier Kressmann und Téo Gürsoy.  "
   ]
  },
  {
   "cell_type": "markdown",
   "metadata": {
    "tags": []
   },
   "source": [
    "## Anhang\n",
    "\n",
    "### Schaumstoffe und Kunststoffe nach Grösse\n",
    "\n",
    "Die folgende Tabelle enthält die Komponenten “Gfoam” und “Gfrags”, die für die Analyse gruppiert wurden. Objekte, die als Schaumstoffe gekennzeichnet sind, werden als Gfoam gruppiert und umfassen alle geschäumten Polystyrol-Kunststoffe > 0,5 cm. Kunststoffteile und Objekte aus kombinierten Kunststoff- und Schaumstoffmaterialien > 0,5 cm werden für die Analyse als Gfrags gruppiert. "
   ]
  },
  {
   "cell_type": "markdown",
   "metadata": {
    "tags": [
     "hide-input",
     "remove-input"
    ]
   },
   "source": [
    "*__Unten:__ fragmentierte Schaumstoffe und Kunststoffe nach Grössengruppen. Median p/100 m, Anzahl der Stücke, Prozent der Gesamtmenge.*"
   ]
  },
  {
   "cell_type": "code",
   "execution_count": null,
   "metadata": {
    "tags": [
     "hide-input"
    ]
   },
   "outputs": [],
   "source": [
    "# collect the data before aggregating foams for all locations in the survye area\n",
    "h=pd.read_csv(\"resources/checked_alpes_survey_data_be.csv\")\n",
    "\n",
    "# remove prefix\n",
    "h[\"location\"] = h[\"location\"].map(lambda x: sut.get_rid_of_ix(x, prefix=\"clean-up-tour-\"))\n",
    "\n",
    "# remove prefixes from survey data\n",
    "lAlps = h[h.river_bassin == bassin_name][[\"loc_date\",\"code\",\"location\",\"river_bassin\",\"groupname\", \"quantity\", \"pcs_m\"]].copy()\n",
    "\n",
    "# convert to reporting unit\n",
    "lAlps[unit_label]= (lAlps.pcs_m*100).round(2)\n",
    "\n",
    "# the fragmented plastics and foams\n",
    "some_foams = [\"G81\", \"G82\", \"G83\", \"G74\"]\n",
    "some_frag_plas = list(lAlps[lAlps.groupname == \"plastic pieces\"].code.unique())\n",
    "\n",
    "# get just the foams and plastics and aggregate to code\n",
    "conditions = ((lAlps.code.isin([*some_frag_plas, *some_foams]))&(~lAlps.location.isin(remove)))\n",
    "fd_frags_foams = lAlps[conditions].groupby([\"loc_date\",\"code\"], as_index=False).agg(agg_pcs_quantity)\n",
    "fd_frags_foams = fd_frags_foams.groupby(\"code\", as_index=False).agg(agg_pcs_median)\n",
    "\n",
    "# add code description and format for printing\n",
    "fd_frags_foams[\"item\"] = fd_frags_foams.code.map(lambda x: code_description_map.loc[x])\n",
    "fd_frags_foams[\"% of total\"] = (fd_frags_foams.quantity/fd.quantity.sum()*100).round(2)\n",
    "fd_frags_foams[\"% of total\"] = fd_frags_foams[\"% of total\"].map(lambda x: F\"{x}%\")\n",
    "fd_frags_foams[\"quantity\"] = fd_frags_foams[\"quantity\"].map(lambda x: F\"{x:,}\")\n",
    "\n",
    "# table data\n",
    "data = fd_frags_foams[[\"item\",unit_label, \"quantity\", \"% of total\"]].copy()\n",
    "data.rename(columns={\"quantity\":\"Gesamt\", \"% of total\":\"% Gesamt\"}, inplace=True)\n",
    "\n",
    "fig, axs = plt.subplots(figsize=(12,len(data)*.8))\n",
    "sut.hide_spines_ticks_grids(axs)\n",
    "\n",
    "this_table = sut.make_a_table(axs, data.values,  colLabels=data.columns, colWidths=[.6, .13, .13, .13], bbox=[0, 0, 1, 1])\n",
    "this_table.get_celld()[(0,0)].get_text().set_text(\" \")\n",
    "this_table.set_fontsize(12)\n",
    "\n",
    "plt.show()\n",
    "plt.tight_layout()\n",
    "plt.close()"
   ]
  },
  {
   "cell_type": "markdown",
   "metadata": {},
   "source": [
    "### Landnutzungsprofil der Erhebungsorte"
   ]
  },
  {
   "cell_type": "code",
   "execution_count": null,
   "metadata": {
    "tags": [
     "hide-input"
    ]
   },
   "outputs": [],
   "source": [
    "# get the land use profile of AV\n",
    "lu_prof = fd[[\"location\",\"% zu Gebäuden\", \"% zu Erholung\", \"% zu Wald\", \"% zu LWS\", \"population\"]].drop_duplicates()\n",
    "\n",
    "# format for printing\n",
    "lu_prof.loc[:,lu_prof.columns[1:-1]] = lu_prof.loc[:,lu_prof.columns[1:-1]].applymap(lambda x: F\"{int((x*100))}%\")\n",
    "lu_prof.loc[:, lu_prof.columns[5:]] = lu_prof.loc[:, lu_prof.columns[5:]].applymap(lambda x: F\"{int(x):,}\")\n",
    "\n",
    "# put that to a table\n",
    "data=lu_prof.copy()\n",
    "\n",
    "fig, axs = plt.subplots(figsize=(13,len(table_one)*.6))\n",
    "sut.hide_spines_ticks_grids(axs)\n",
    "\n",
    "this_table = sut.make_a_table(axs, data.values,  colLabels=data.columns, colWidths=[.22, *[.13]*6], bbox=[0, 0, 1, 1])\n",
    "this_table.get_celld()[(0,0)].get_text().set_text(\" \")\n",
    "this_table.set_fontsize(12)\n",
    "\n",
    "plt.tight_layout()\n",
    "plt.show()"
   ]
  },
  {
   "cell_type": "markdown",
   "metadata": {},
   "source": [
    "### Les Alps in Bezug auf die Landnutzung\n",
    "\n",
    "Die Ergebnisse aus den Alpen werden mit den anderen Erhebungsergebnissen verglichen, die entweder % bis Wald oder % bis agg innerhalb der gleichen Spanne wie AV liegen. Die Bereiche für AV sind:\n",
    "\n",
    "* \\% zu ag: 0 to 66\\%\n",
    "* \\% zu Wald: 0 to 83\\%\n",
    "* population: 199 to 10,668"
   ]
  },
  {
   "cell_type": "code",
   "execution_count": null,
   "metadata": {
    "tags": [
     "hide-input"
    ]
   },
   "outputs": [],
   "source": [
    "# define land use ranges based on the sample data\n",
    "this_range = (fd[l_f[0]].min(), fd[l_f[0]].max())\n",
    "this_range_w = (fd[l_f[1]].min(), fd[l_f[1]].max())\n",
    "this_range_p = (fd[l_f[2]].min(), fd[l_f[2]].max())\n",
    "\n",
    "# apply them to all the data\n",
    "# one test for agg -- a dominant land use feature of the sample data\n",
    "some_data = a_data[(a_data[l_f[0]] >= this_range[0])&(a_data[l_f[0]] <= this_range[1])].copy()\n",
    "\n",
    "# one test for woods -- the dominant land use feature of the sample data\n",
    "some_data_w = a_data[(a_data[l_f[1]] >= this_range_w[0])&(a_data[l_f[1]] <= this_range_w[1])].copy()\n",
    "\n",
    "# one test for population -- \n",
    "some_data_p = a_data[(a_data[l_f[2]] >= this_range_p[0])&(a_data[l_f[2]] <= this_range_p[1])].copy()\n",
    "\n",
    "# remove Alps valaisannes\n",
    "some_data = some_data[~some_data.location.isin(fd.location.unique())].copy()\n",
    "some_data_w = some_data_w[~some_data_w.location.isin(fd.location.unique())].copy()\n",
    "some_data_p = some_data_p[~some_data_p.location.isin(fd.location.unique())].copy()\n",
    "\n",
    "# the number of samples and locations that have similar land use profiles as AV:\n",
    "# agg to loc_date for each criteria\n",
    "# data for charting and comparing\n",
    "data=some_data.groupby([\"loc_date\",\"location\",l_f[0]], as_index=False)[unit_label].sum()\n",
    "data_w =some_data_w.groupby([\"loc_date\",\"location\", l_f[1]], as_index=False)[unit_label].sum()\n",
    "data_p = some_data_p.groupby([\"loc_date\",\"location\",l_f[1], \"population\"], as_index=False)[unit_label].sum()\n",
    "regional = fd.groupby([\"loc_date\",\"location\", *l_f], as_index=False)[unit_label].sum()\n",
    "\n",
    "# locations that share the characteristics\n",
    "commonsamps = set(data.loc_date.unique()) & set(data_w.loc_date.unique())& set(data_p.loc_date.unique())\n",
    "commonlocs = set(data.location.unique()) & set(data_w.location.unique())&set(data_p.location.unique())\n",
    "\n",
    "# print these out to get the comparison\n",
    "\n",
    "# print(\"agg\")\n",
    "# print(this_range)\n",
    "# print(len(data.location.unique()))\n",
    "# print(data.loc_date.nunique())\n",
    "# print(\"woods\")\n",
    "# print(this_range_w)\n",
    "# print(len(data_w.location.unique()))\n",
    "# print(data_w.loc_date.nunique())\n",
    "# print(\"p\")\n",
    "# print(this_range_p)\n",
    "# print(len(data_p.location.unique()))\n",
    "# print(data_p.loc_date.nunique())\n",
    "# print(len(commonsamps))\n",
    "# print(commonlocs)\n",
    "\n",
    "# make a categorical df for mapping\n",
    "mat_agg = dfBeaches.loc[data.location.unique()]\n",
    "mat_agg[\"match\"] = \"agg\"\n",
    "mat_w = dfBeaches.loc[data_w.location.unique()]\n",
    "mat_w[\"match\"] = \"woods\"\n",
    "mat_p = dfBeaches.loc[data_p.location.unique()]\n",
    "mat_p[\"match\"]=\"pop\"\n",
    "\n",
    "# merge all that and export to .csv\n",
    "landusemap = pd.concat([mat_agg, mat_w, mat_p], axis=0)\n",
    "# landusemap.to_csv(\"output/Alps-valaisannes/lu_comparison.csv\", index=False)"
   ]
  },
  {
   "cell_type": "markdown",
   "metadata": {
    "tags": [
     "remove-input"
    ]
   },
   "source": [
    "*__Oben links:__ Gesamtsumme der Erhebung in Bezug auf den %-Anteil an Agg, Bereich=(0%, 66%). __Oben rechts:__ Gesamtzahl der Erhebungen in Bezug auf den Waldanteil, Bereich=(0%, 65%). __Unten links:__ Gesamtzahl der Erhebungen in Bezug auf die Bevölkerung, Bereich=(199, 10.668)*"
   ]
  },
  {
   "cell_type": "code",
   "execution_count": null,
   "metadata": {
    "tags": [
     "hide-input"
    ]
   },
   "outputs": [],
   "source": [
    "fig, axs = plt.subplots(2,2, figsize=(10,8), sharey=True)\n",
    "\n",
    "axone=axs[0,0]\n",
    "axtwo=axs[0,1]\n",
    "axthree=axs[1,0]\n",
    "axfour=axs[1,1]\n",
    "\n",
    "# plot the samples from all the data that meet the x criteria\n",
    "sns.scatterplot(data=data, x=l_f[0], y=unit_label, color=\"black\", alpha=1, linewidth=1, label=\"All surveys\", ax=axone, zorder=1)\n",
    "\n",
    "# point estimates of the percentile ranking based off the edcf of all surveys\n",
    "# place to store the rankings\n",
    "rankings = {}\n",
    "\n",
    "# plot the values for AV\n",
    "for x in regional.location.unique():\n",
    "    this_y = regional[regional.location == x][unit_label]\n",
    "    this_x = regional[regional.location == x][l_f[0]]\n",
    "    axone.scatter(this_x, this_y, color=\"red\", s=60, zorder=2)\n",
    "\n",
    "# handle extreme values\n",
    "axone.set_ylim(0, max(data[unit_label].to_numpy()))\n",
    "\n",
    "# set labels\n",
    "axone.set_ylabel(unit_label, **ck.xlab_k14)\n",
    "axone.set_xlabel(l_f[0], **ck.xlab_k14)\n",
    "\n",
    "# gather up legend handles\n",
    "axone.get_legend().remove()\n",
    "\n",
    "# start axtwo\n",
    "# plot the samples from all the data that meet the x criteria\n",
    "sns.scatterplot(data=data_w, x=l_f[1], y=unit_label, color=\"black\", alpha=1, linewidth=1, label=\"All surveys\", ax=axtwo, zorder=1)\n",
    "\n",
    "# plot the values from AV\n",
    "for x in regional.location.unique():\n",
    "    this_y = regional[regional.location == x][unit_label]\n",
    "    this_x = regional[regional.location == x][l_f[1]]\n",
    "    rankings.update({x:(this_x, this_y)})\n",
    "    axtwo.scatter(this_x, this_y, color=\"red\", s=60, zorder=2)\n",
    "\n",
    "# handle extreme values\n",
    "axtwo.set_ylim(0, max(data[unit_label].to_numpy()))\n",
    "\n",
    "# set labels\n",
    "axtwo.set_ylabel(unit_label, **ck.xlab_k14)\n",
    "axtwo.set_xlabel(l_f[1], **ck.xlab_k14)\n",
    "axtwo.get_legend().remove()\n",
    "\n",
    "# start axthree\n",
    "# plot the samples from all the data that meet the x criteria\n",
    "sns.scatterplot(data=data_p, x=l_f[2], y=unit_label, color=\"black\", alpha=1, linewidth=1, label=level_names[1], ax=axthree, zorder=1)\n",
    "\n",
    "# plot the values from AV\n",
    "for x in regional.location.unique():\n",
    "    this_y = regional[regional.location == x][unit_label]\n",
    "    this_x = regional[regional.location == x][l_f[2]]\n",
    "    rankings.update({x:(this_x, this_y)})\n",
    "    axthree.scatter(this_x, this_y, color=\"red\", s=60, label=level_names[0], zorder=2)\n",
    "\n",
    "# handle extreme values\n",
    "axthree.set_ylim(-100, max(data[unit_label].to_numpy()))\n",
    "\n",
    "# start axfour,# clear axfour\n",
    "sut.hide_spines_ticks_grids(axfour)\n",
    "\n",
    "# set labels\n",
    "axthree.set_ylabel(unit_label, **ck.xlab_k14)\n",
    "axthree.set_xlabel(l_f[2], **ck.xlab_k14)\n",
    "handles, labels = axthree.get_legend_handles_labels()\n",
    "axthree.get_legend().remove()\n",
    "\n",
    "fig.legend(handles[:2], labels[:2], bbox_to_anchor=(.75,.25), loc=\"lower center\",  fontsize=12)\n",
    "plt.tight_layout()\n",
    "plt.show()"
   ]
  },
  {
   "cell_type": "markdown",
   "metadata": {},
   "source": [
    "### Organisation und Durchführung\n",
    "\n",
    "Summit foundation: Téo Gürsoy\n",
    "\n",
    "Hammerdirt: Bettina Siegenthaler"
   ]
  },
  {
   "cell_type": "markdown",
   "metadata": {},
   "source": [
    "__Die Erhebungsorte__"
   ]
  },
  {
   "cell_type": "code",
   "execution_count": null,
   "metadata": {
    "tags": [
     "hide-input"
    ]
   },
   "outputs": [],
   "source": [
    "# display the survey locations\n",
    "pd.set_option(\"display.max_rows\", None)\n",
    "\n",
    "disp_columns = [\"latitude\", \"longitude\", \"city\"]\n",
    "disp_beaches = dfBeaches.loc[t[\"locations\"]][disp_columns]\n",
    "new_names = {\"slug\":\"Standort\", \"city\":\"Stadt\"}\n",
    "disp_beaches.reset_index(inplace=True)\n",
    "disp_beaches.rename(columns=new_names, inplace=True)\n",
    "disp_beaches.set_index(\"Standort\", inplace=True, drop=True)\n",
    "\n",
    "disp_beaches"
   ]
  },
  {
   "cell_type": "markdown",
   "metadata": {},
   "source": [
    "### Inventar der Objekte"
   ]
  },
  {
   "cell_type": "code",
   "execution_count": null,
   "metadata": {
    "tags": [
     "hide-input"
    ]
   },
   "outputs": [],
   "source": [
    "pd.set_option(\"display.max_rows\", None)\n",
    "complete_inventory = code_totals[code_totals.quantity>0][[\"item\", \"utility\", \"quantity\", \"% of total\",\"fail rate\"]]\n",
    "\n",
    "new_names = {\"item\":\"Objekte\", \"groupname\":\"Gruppenname\", \"quantity\":\"Menge\", \"fail rate\":\"Fail-Pass\", \"% of total\":\"% Gesamt\", }\n",
    "\n",
    "complete_inventory.rename(columns=new_names, inplace=True)\n",
    "complete_inventory.sort_values(by=\"Menge\", ascending=False)"
   ]
  },
  {
   "cell_type": "code",
   "execution_count": null,
   "metadata": {
    "tags": []
   },
   "outputs": [],
   "source": []
  },
  {
   "cell_type": "code",
   "execution_count": null,
   "metadata": {
    "tags": []
   },
   "outputs": [],
   "source": []
  }
 ],
 "metadata": {
  "kernelspec": {
   "display_name": "Python 3 (ipykernel)",
   "language": "python",
   "name": "python3"
  },
  "language_info": {
   "codemirror_mode": {
    "name": "ipython",
    "version": 3
   },
   "file_extension": ".py",
   "mimetype": "text/x-python",
   "name": "python",
   "nbconvert_exporter": "python",
   "pygments_lexer": "ipython3",
   "version": "3.10.0"
  },
  "toc-autonumbering": true,
  "toc-showcode": true,
  "toc-showmarkdowntxt": false,
  "toc-showtags": true
 },
 "nbformat": 4,
 "nbformat_minor": 4
}
