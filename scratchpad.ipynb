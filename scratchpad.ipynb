{
 "cells": [
  {
   "cell_type": "code",
   "execution_count": 1,
   "metadata": {
    "tags": [
     "hide-input"
    ]
   },
   "outputs": [],
   "source": [
    "# sys, file and nav packages:\n",
    "import datetime as dt\n",
    "\n",
    "# math packages:\n",
    "import pandas as pd\n",
    "import numpy as np\n",
    "from scipy import stats\n",
    "from statsmodels.distributions.empirical_distribution import ECDF\n",
    "\n",
    "# charting:\n",
    "import matplotlib as mpl\n",
    "import matplotlib.pyplot as plt\n",
    "import matplotlib.dates as mdates\n",
    "from matplotlib import ticker\n",
    "from matplotlib import colors\n",
    "from matplotlib.colors import LinearSegmentedColormap\n",
    "from matplotlib.gridspec import GridSpec\n",
    "import seaborn as sns\n",
    "\n",
    "# home brew utitilties\n",
    "import resources.sr_ut as sut\n",
    "import resources.utility_functions as ut\n",
    "import resources.chart_kwargs as ck\n",
    "\n",
    "# images and display\n",
    "import base64, io, IPython\n",
    "from PIL import Image as PILImage\n",
    "from IPython.display import Markdown as md\n",
    "from IPython.display import display\n",
    "\n",
    "# set some parameters:\n",
    "today = dt.datetime.now().date().strftime(\"%Y-%m-%d\")\n",
    "start_date = '2020-03-01'\n",
    "end_date ='2021-05-31'\n",
    "\n",
    "a_fail_rate = 50\n",
    "\n",
    "unit_label = 'p/100m'\n",
    "reporting_unit = 100\n",
    "\n",
    "# name of the output folder:\n",
    "name_of_project = 'bassin_report_all'\n",
    "\n",
    "a_color = 'dodgerblue'\n",
    "\n",
    "# colors for gradients\n",
    "colors = ['beige', 'navajowhite', 'sandybrown', 'salmon', 'sienna']\n",
    "nodes = [0.0, 0.2, 0.6, 0.8, 1.0]\n",
    "cmap2 = LinearSegmentedColormap.from_list(\"mycmap\", list(zip(nodes, colors)))\n",
    "\n",
    "# set the maps\n",
    "bassin_map = PILImage.open(\"resources/maps/intro_mapo.jpeg\")\n",
    "bassin_pallette = {'rhone':'dimgray', 'aare':'salmon', 'linth':'tan', 'ticino':'steelblue', 'reuss':'purple'}\n",
    "\n",
    "# define the feature level and components\n",
    "this_level = 'river_bassin'\n",
    "comps = ['linth', 'rhone', 'aare', 'ticino']\n",
    "comp_labels = {\"linth\":\"Linth/Limmat\", \"rhone\":\"Rhône\", 'aare':\"Aare\", \"ticino\":\"Ticino/Cerisio\", \"reuss\":\"Reuss\"}\n",
    "comp_palette = {\"Linth/Limmat\":\"dimgray\", \"Rhône\":\"tan\", \"Aare\":\"salmon\", \"Ticino/Cerisio\":\"steelblue\", \"Reuss\":\"purple\"}\n",
    "\n",
    "# explanatory variables:\n",
    "luse_exp = ['% to buildings', '% to recreation', '% to agg', '% to woods', 'streets km', 'intersects']\n",
    "\n",
    "# columns needed\n",
    "use_these_cols = ['loc_date' ,\n",
    "                  '% to buildings',\n",
    "                  '% to trans', \n",
    "                  '% to recreation',\n",
    "                  '% to agg',\n",
    "                  '% to woods',\n",
    "                  'population',\n",
    "                  this_level,\n",
    "                  'water_name_slug',\n",
    "                  'streets km',\n",
    "                  'intersects',\n",
    "                  'length',\n",
    "                  'groupname',\n",
    "                  'code'\n",
    "                 ]\n",
    "\n",
    "# the default column name for all aggregated data\n",
    "top_name = [\"All survey areas\"]\n",
    "\n",
    "# add the folder to the directory tree:\n",
    "project_directory = ut.make_project_folder('output', name_of_project)\n",
    "\n",
    "# get your data:\n",
    "river_bassins = ut.json_file_get(\"resources/river_basins.json\")\n",
    "dfBeaches = pd.read_csv(\"resources/beaches_with_land_use_rates.csv\")\n",
    "dfCodes = pd.read_csv(\"resources/codes_with_group_names_2015.csv\")\n",
    "dfDims = pd.read_csv(\"resources/corrected_dims.csv\")\n",
    "\n",
    "# set the index of the beach data to location slug\n",
    "dfBeaches.set_index('slug', inplace=True)\n",
    "\n",
    "# map location slug to the proper city name\n",
    "city_map = dfBeaches['city']\n",
    "\n",
    "# map locations to feature names\n",
    "location_wname_key = dfBeaches.water_name_slug\n",
    "\n",
    "# map water_name_slug to water_name\n",
    "wname_wname = dfBeaches[['water_name_slug','water_name']].reset_index(drop=True).drop_duplicates()\n",
    "wname_wname.set_index('water_name_slug', inplace=True)\n",
    "\n",
    "# a convenenience function to test Spearmans Rho on subssets of the data\n",
    "def make_plot_with_spearmans(data, ax, n):\n",
    "    \"\"\"Gets Spearmans ranked correlation and make A/B scatter plot. Must proived a\n",
    "    matplotlib axis object.\n",
    "    \"\"\"    \n",
    "    sns.scatterplot(data=data, x=n, y=unit_label, ax=ax, color='black', s=30, edgecolor='white', alpha=0.6)\n",
    "    corr, a_p = stats.spearmanr(data[n], data[unit_label])\n",
    "    \n",
    "    return ax, corr, a_p\n",
    "\n",
    "# make any adjustments to code definitions here:\n",
    "dfCodes.set_index(\"code\", inplace=True)\n",
    "\n",
    "# these descriptions need to be shortened for display\n",
    "dfCodes = sut.shorten_the_value([\"G74\", \"description\", \"Insulation: includes spray foams\"], dfCodes)\n",
    "dfCodes = sut.shorten_the_value([\"G940\", \"description\", \"Foamed EVA for crafts and sports\"], dfCodes)\n",
    "dfCodes = sut.shorten_the_value([\"G96\", \"description\", \"Sanitary-pads/tampons, applicators\"], dfCodes)\n",
    "dfCodes = sut.shorten_the_value([\"G178\", \"description\", \"Metal bottle caps and lids\"], dfCodes)\n",
    "dfCodes = sut.shorten_the_value([\"G82\", \"description\", \"Expanded foams 2.5cm - 50cm\"], dfCodes)\n",
    "dfCodes = sut.shorten_the_value([\"G81\", \"description\", \"Expanded foams .5cm - 2.5cm\"], dfCodes)\n",
    "dfCodes = sut.shorten_the_value([\"G117\", \"description\", \"Expanded foams < 5mm\"], dfCodes)\n",
    "dfCodes = sut.shorten_the_value([\"G75\", \"description\", \"Plastic/foamed polystyrene 0 - 2.5cm\"], dfCodes)\n",
    "dfCodes = sut.shorten_the_value([\"G76\", \"description\", \"Plastic/foamed polystyrene 2.5cm - 50cm\"], dfCodes)\n",
    "dfCodes = sut.shorten_the_value([\"G24\", \"description\", \"Plastic lid rings\"], dfCodes)\n",
    "dfCodes = sut.shorten_the_value([\"G33\", \"description\", \"Lids for togo drinks plastic\"], dfCodes)\n",
    "dfCodes = sut.shorten_the_value([\"G3\", \"description\", \"Plastic bags, carier bags\"], dfCodes)\n",
    "dfCodes = sut.shorten_the_value([\"G204\", \"description\", \"Bricks, pipes not plastic\"], dfCodes)\n",
    "\n",
    "# make a map to the code descriptions\n",
    "code_description_map = dfCodes.description\n",
    "\n",
    "# make a map to the code materials\n",
    "code_material_map = dfCodes.material"
   ]
  },
  {
   "cell_type": "code",
   "execution_count": 2,
   "metadata": {
    "jupyter": {
     "source_hidden": true
    },
    "tags": [
     "hide-input"
    ]
   },
   "outputs": [],
   "source": [
    "# this is the data before the expanded fragmented plastics and foams are aggregated to Gfrags and Gfoams\n",
    "before_agg = pd.read_csv(\"resources/checked_before_agg_sdata_eos_2020_21.csv\")\n",
    "\n",
    "# this is the aggregated survey data that is being used\n",
    "fd = pd.read_csv(F\"resources/checked_sdata_eos_2020_21.csv\")\n",
    "\n",
    "# make a unique identifier for each location and date combination\n",
    "fd['loc_dates'] = list(zip(fd.location.values, fd.date.values))\n",
    "\n",
    "# make the date time stamp\n",
    "fd['date'] = pd.to_datetime(fd.date)\n",
    "\n",
    "# get the code totals\n",
    "code_totals = fd.groupby(['code', 'groupname'], as_index=False).agg({unit_label:'median', 'quantity':'sum'})\n",
    "\n",
    "# cumulative statistics for each code\n",
    "code_totals[\"% of total\"] = ((code_totals.quantity/code_totals.quantity.sum())*100).round(2)\n",
    "code_totals[\"fail\"] = code_totals.code.map(lambda x: fd[(fd.code == x) & (fd.quantity > 0)].loc_date.nunique())\n",
    "code_totals[\"fail rate\"] = ((code_totals.fail/fd.loc_date.nunique())*100).astype('int')\n",
    "code_totals.set_index('code', inplace=True)\n",
    "code_totals['material'] = code_totals.index.map(lambda x: code_material_map[x])\n",
    "code_totals['item'] = code_totals.index.map(lambda x: code_description_map[x])\n",
    "\n",
    "# daily survey totals by loc_date\n",
    "dt_all = fd.groupby(['loc_date','location',this_level, 'water_name_slug','city','date'], as_index=False).agg({unit_label:'sum', 'quantity':'sum'})\n",
    "\n",
    "# gather the municpalities and the population:\n",
    "fd_pop_map = dfBeaches.loc[fd.location.unique()][['city','population']].copy()\n",
    "fd_pop_map.drop_duplicates(inplace=True)\n",
    "fd_pop_map.set_index('city', drop=True, inplace=True)\n",
    "\n",
    "# material totals\n",
    "fd_mat_t = code_totals[['material', 'quantity']].groupby('material', as_index=False).quantity.sum()\n",
    "fd_mat_t[\"% of total\"] = fd_mat_t.quantity/fd_mat_t.quantity.sum()\n",
    "\n",
    "# material table for display\n",
    "fd_mat_totals = fd_mat_t.sort_values(by='quantity', ascending=False)\n",
    "cols_to_use = {'material':'Material','quantity':'Quantity', '% of total':'% of total'}\n",
    "\n",
    "# format columns for material table\n",
    "fd_mat_totals['% of total'] =(fd_mat_totals['% of total']*100).round(1)\n",
    "fd_mat_totals['quantity']=fd_mat_totals.quantity.map(lambda x: '{:,}'.format(x))\n",
    "fd_mat_totals['% of total']=fd_mat_totals['% of total'].map(lambda x:F\"{x}%\")\n",
    "fd_mat_t = fd_mat_totals[cols_to_use.keys()].values\n",
    "\n",
    "# summary statistics:\n",
    "# number of samples\n",
    "fd_n_samps = len(dt_all)\n",
    "# quantity\n",
    "fd_n_obj = fd.quantity.sum()\n",
    "# number of locations\n",
    "fd_n_locs = fd.location.nunique()\n",
    "# number of cities\n",
    "fd_n_munis = len(fd_pop_map.index)\n",
    "# population\n",
    "fd_effected_population = fd_pop_map.sum()\n",
    "# list of locations\n",
    "fd_locs = fd.location.unique()\n",
    "# list of survey keys\n",
    "fd_samps = fd.loc_date.unique()\n",
    "\n",
    "# gather the dimensional data for the time frame from dfDims\n",
    "fd_dims= dfDims[(dfDims.location.isin(fd_locs))&(dfDims.date >= start_date)&(dfDims.date <= end_date)].copy()\n",
    "fd_dims['loc_dates'] = list(zip(fd_dims.location.values, fd_dims.date.values))\n",
    "\n",
    "# map the survey area name to the dims data record\n",
    "m_ap_to_survey_area = fd[['location', this_level]].drop_duplicates().to_dict(orient='records')\n",
    "a_new_map = {x['location']:x[this_level] for x in m_ap_to_survey_area}\n",
    "fd_dims['survey area'] = fd_dims.location.map(lambda x: ut.use_this_key(x, a_new_map))"
   ]
  },
  {
   "cell_type": "markdown",
   "metadata": {},
   "source": [
    "*Distribution of land use characteristics*"
   ]
  },
  {
   "cell_type": "code",
   "execution_count": 3,
   "metadata": {
    "jupyter": {
     "source_hidden": true
    },
    "tags": [
     "hide-input"
    ]
   },
   "outputs": [
    {
     "data": {
      "image/png": "[encoded data removed]",
      "text/plain": [
       "<Figure size 1224x288 with 6 Axes>"
      ]
     },
     "metadata": {},
     "output_type": "display_data"
    }
   ],
   "source": [
    "# the ratio of samples with respect to the different land use characteristics for each survey area\n",
    "# the data to use\n",
    "dt_nw = fd.groupby(use_these_cols[:-2], as_index=False).agg({unit_label:'sum'})\n",
    "\n",
    "sns.set_style('whitegrid')\n",
    "\n",
    "fig, axs = plt.subplots(1,len(luse_exp), figsize=(17,4), sharey=True)\n",
    "\n",
    "for i, n in enumerate(luse_exp):\n",
    "    # get the dist for each survey area here\n",
    "    for element in comps:\n",
    "        ax=axs[i]\n",
    "        the_data = ECDF(dt_nw[dt_nw[this_level] == element][n].values)\n",
    "        sns.lineplot(x=the_data.x, y=the_data.y, ax=ax, label=comp_labels[element], color=comp_palette[comp_labels[element]])\n",
    "    \n",
    "    # get the dist for all here\n",
    "    a_all_surveys =  ECDF(dt_nw[n].values)\n",
    "    sns.lineplot(x=a_all_surveys.x, y=a_all_surveys.y, ax=ax, label=\"All surveys\", color=\"magenta\", linewidth=2.5)\n",
    "    \n",
    "    # the 50th percentile\n",
    "    ax.axhline(y=.5, linestyle=\"-.\", color=\"red\", label=\"50% of samples\")\n",
    "    \n",
    "    # format the % of total on the xaxis:\n",
    "    if i <= 3:\n",
    "        if i == 0:            \n",
    "            ax.set_ylabel(\"Ratio of samples\", **ck.xlab_k)\n",
    "        ax.xaxis.set_major_formatter(ticker.PercentFormatter(1.0, 0, '%'))        \n",
    "    else:\n",
    "        pass\n",
    "    \n",
    "    ax.set_xlabel(n, **ck.xlab_k)\n",
    "    handles, labels = ax.get_legend_handles_labels()\n",
    "    ax.get_legend().remove()\n",
    "\n",
    "plt.legend(handles, labels)       \n",
    "plt.tight_layout()\n",
    "plt.show()  "
   ]
  },
  {
   "cell_type": "markdown",
   "metadata": {
    "tags": []
   },
   "source": [
    "The survey locations in the Rhône survey area (RSA) and Linth/Limmat survey area (LSA) had the greatest median amount of land attributed to buildings, 47% and 40% respectively and the least amount attributed to woods, 5% and 8%. \n",
    "\n",
    "The Aare survey area (ASA) had the lowest median amount of land attributed to buildings, 16% and the greatest amount of land attributed to aggriculture, 30%. The amount of land attributed to recreation represents sports fields, public beaches and other public gathering places."
   ]
  },
  {
   "cell_type": "markdown",
   "metadata": {},
   "source": [
    "### Cumulative totals by survey area"
   ]
  },
  {
   "cell_type": "code",
   "execution_count": 4,
   "metadata": {
    "jupyter": {
     "source_hidden": true
    },
    "tags": [
     "hide-input"
    ]
   },
   "outputs": [
    {
     "data": {
      "text/markdown": [
       "\n",
       "*All survey areas: table of results. The cumulative weights and measures for each survey area.*\n"
      ],
      "text/plain": [
       "<IPython.core.display.Markdown object>"
      ]
     },
     "execution_count": 4,
     "metadata": {},
     "output_type": "execute_result"
    }
   ],
   "source": [
    "# map the qauntity to the dimensional data\n",
    "q_map = dt_all[['loc_date','quantity']].set_index('loc_date')\n",
    "fd_dims['quantity'] = fd_dims.loc_date.map(lambda x: q_map.loc[[x], 'quantity'][0])\n",
    "\n",
    "# drop the dims that did not match\n",
    "som_dims = fd_dims[fd_dims.quantity != 'bad key'].copy()\n",
    "\n",
    "# aggregate the dimensional data \n",
    "dims_table = som_dims.groupby(['survey area']).agg({'quantity':'sum','total_w':'sum', 'mac_plast_w':'sum', 'area':'sum', 'length':'sum'})\n",
    "\n",
    "# collect the number of samples from the survey total data:\n",
    "for name in dims_table.index:\n",
    "    dims_table.loc[name, 'samples'] = fd[fd[this_level] == name].loc_date.nunique()\n",
    "\n",
    "# add proper names for display\n",
    "dims_table['water_feature'] = dims_table.index.map(lambda x: comp_labels[x])\n",
    "dims_table.set_index('water_feature', inplace=True)\n",
    "   \n",
    "# get the sum of all survey areas\n",
    "dims_table.loc['All survey areas']= dims_table.sum(numeric_only=True, axis=0)\n",
    "\n",
    "# for display\n",
    "dims_table.sort_values(by=[\"quantity\"], ascending=False, inplace=True)\n",
    "dims_table.rename(columns={'samples':'samples','quantity':'items', 'total_w':'total kg', 'mac_plast_w':'plastic kg', 'area':'m²', 'length':'meters'}, inplace=True)\n",
    "\n",
    "# order the columns\n",
    "dims_table = dims_table[['samples', *dims_table.columns[:-1]]]\n",
    "\n",
    "# format kilos\n",
    "dims_table['plastic kg'] = dims_table['plastic kg']/1000\n",
    "\n",
    "# figure caption\n",
    "agg_caption = F\"\"\"\n",
    "*{top_name[0]}: table of results. The cumulative weights and measures for each survey area.*\n",
    "\"\"\"\n",
    "md(agg_caption)"
   ]
  },
  {
   "cell_type": "code",
   "execution_count": 5,
   "metadata": {
    "jupyter": {
     "source_hidden": true
    },
    "tags": [
     "hide-input"
    ]
   },
   "outputs": [
    {
     "data": {
      "image/png": "[encoded data removed]",
      "text/plain": [
       "<Figure size 756x288 with 1 Axes>"
      ]
     },
     "metadata": {},
     "output_type": "display_data"
    }
   ],
   "source": [
    "# row shading for chart\n",
    "a_color='dodgerblue'\n",
    "\n",
    "# format the aggregated dimensional data for printing\n",
    "dims_table[[x for x in dims_table.columns if x not in ['plastic kg', 'total kg']]] = dims_table[[x for x in dims_table.columns if x not in ['plastic kg', 'total kg']]].applymap(lambda x: '{:,}'.format(int(x)))\n",
    "dims_table[['plastic kg', 'total kg']] = dims_table[['plastic kg', 'total kg']].applymap(lambda x: '{:.2f}'.format(x))\n",
    "\n",
    "# make table\n",
    "data = dims_table.reset_index()\n",
    "\n",
    "fig, axs = plt.subplots(figsize=(len(data.columns)*1.5,len(data)*.8))\n",
    "ut.hide_spines_ticks_grids(axs)\n",
    "\n",
    "the_first_table_data = axs.table(data.values,  colLabels=data.columns, colWidths=[.22, *[.13]*6], bbox=[0, 0, 1, 1])\n",
    "\n",
    "a_summary_table_one = sut.make_a_summary_table(the_first_table_data,data.values,data.columns, a_color, s_et_bottom_row=True)\n",
    "\n",
    "a_summary_table_one.get_celld()[(0,0)].get_text().set_text(\" \")\n",
    "\n",
    "plt.show()\n",
    "plt.tight_layout()\n",
    "plt.close()"
   ]
  },
  {
   "cell_type": "markdown",
   "metadata": {},
   "source": [
    "## Survey results all objects\n",
    "\n",
    "Survey totals by date, the monthly median values and the empirical cumulative distribution of all the survey results results for each survey area."
   ]
  },
  {
   "cell_type": "code",
   "execution_count": 6,
   "metadata": {
    "jupyter": {
     "source_hidden": true
    },
    "tags": [
     "hide-input"
    ]
   },
   "outputs": [
    {
     "data": {
      "text/markdown": [
       "\n",
       "*__Left:__ All survey areas, 2020-03 through 2021-05, n=386. Values greater than 2324.3p/100m 98% not shown.*\n"
      ],
      "text/plain": [
       "<IPython.core.display.Markdown object>"
      ]
     },
     "execution_count": 6,
     "metadata": {},
     "output_type": "execute_result"
    }
   ],
   "source": [
    "# the surveys to chart\n",
    "fd_dindex = dt_all.set_index('date')\n",
    "\n",
    "# monthly median survey total\n",
    "monthly_plot = fd_dindex[unit_label].resample('M').median()\n",
    "\n",
    "# scale the chart as needed to accomodate for extreme values\n",
    "scale_back = 98\n",
    "\n",
    "# the results gets applied to the y_limit function in the chart\n",
    "the_90th = np.percentile(dt_all[unit_label], scale_back)\n",
    "not_included = F\"Values greater than {round(the_90th, 1)}{unit_label} {scale_back}% not shown.\"\n",
    "\n",
    "# figure caption\n",
    "chart_notes = F\"\"\"\n",
    "*__Left:__ {top_name[0]}, {start_date[:7]} through {end_date[:7]}, n={fd_n_samps}. {not_included}*\n",
    "\"\"\"\n",
    "md(chart_notes )"
   ]
  },
  {
   "cell_type": "code",
   "execution_count": 7,
   "metadata": {
    "jupyter": {
     "source_hidden": true
    },
    "tags": [
     "hide-input"
    ]
   },
   "outputs": [
    {
     "data": {
      "image/png": "[encoded data removed]",
      "text/plain": [
       "<Figure size 720x360 with 2 Axes>"
      ]
     },
     "metadata": {},
     "output_type": "display_data"
    }
   ],
   "source": [
    "# months locator, can be confusing\n",
    "# https://matplotlib.org/stable/api/dates_api.html\n",
    "months = mdates.MonthLocator(interval=1)\n",
    "months_fmt = mdates.DateFormatter('%b')\n",
    "days = mdates.DayLocator(interval=7)\n",
    "fig, axs = plt.subplots(1,2, figsize=(10,5))\n",
    "\n",
    "rate = \"Monthly\"\n",
    "\n",
    "line_label = \"monthly median\"\n",
    "\n",
    "ax = axs[0]\n",
    "sns.scatterplot(data=fd_dindex, x='date', y=unit_label, hue=this_level, palette=bassin_pallette, alpha=0.8, ax=ax)\n",
    "\n",
    "sns.lineplot(data=monthly_plot, x=monthly_plot.index, y=monthly_plot, color='magenta', label=line_label, ax=ax)\n",
    "\n",
    "ax.set_ylim(0,the_90th )\n",
    "\n",
    "ax.set_xlabel(\"\")\n",
    "ax.set_ylabel(unit_label, **ck.xlab_k14)\n",
    "\n",
    "ax.xaxis.set_minor_locator(days)\n",
    "ax.xaxis.set_major_formatter(months_fmt)\n",
    "\n",
    "axtwo = axs[1]\n",
    "lake_dts = fd.groupby([this_level, 'loc_date'], as_index=False)[unit_label].sum()\n",
    "\n",
    "for i, a_name in enumerate(fd[this_level].unique()):\n",
    "    label=comp_labels[a_name]\n",
    "    \n",
    "    a_ecdf = ECDF(lake_dts[lake_dts[this_level] == a_name][unit_label].values)\n",
    "    \n",
    "    sns.lineplot(x=a_ecdf.x, y=a_ecdf.y, color=bassin_pallette[a_name], ax=axtwo, label=label)\n",
    "\n",
    "r_bassin = ECDF(dt_all[unit_label].values)\n",
    "sns.lineplot(x=r_bassin.x, y=r_bassin.y, color='magenta', label=top_name[0], linewidth=2, ax=axtwo)\n",
    "axtwo.set_xlabel(unit_label, **ck.xlab_k14)\n",
    "axtwo.set_ylabel(\"Ratio of samples\", **ck.xlab_k14)\n",
    "\n",
    "plt.tight_layout()\n",
    "plt.show()\n",
    "plt.close()"
   ]
  },
  {
   "cell_type": "code",
   "execution_count": 8,
   "metadata": {
    "jupyter": {
     "source_hidden": true
    },
    "tags": [
     "remove-input"
    ]
   },
   "outputs": [
    {
     "data": {
      "text/markdown": [
       "\n",
       "*__Right:__ All survey areas empirical cumulative distribution of survey results.*\n"
      ],
      "text/plain": [
       "<IPython.core.display.Markdown object>"
      ]
     },
     "execution_count": 8,
     "metadata": {},
     "output_type": "execute_result"
    }
   ],
   "source": [
    "# figure caption\n",
    "lakes_ecdf = F\"\"\"\n",
    "*__Right:__ {top_name[0]} empirical cumulative distribution of survey results.*\n",
    "\"\"\"\n",
    "md(lakes_ecdf)"
   ]
  },
  {
   "cell_type": "markdown",
   "metadata": {},
   "source": [
    "### Summary data and material types"
   ]
  },
  {
   "cell_type": "code",
   "execution_count": 9,
   "metadata": {
    "jupyter": {
     "source_hidden": true
    },
    "tags": [
     "remove-input"
    ]
   },
   "outputs": [
    {
     "data": {
      "text/markdown": [
       "\n",
       "*__Left:__ All survey areas summary of survey totals*\n"
      ],
      "text/plain": [
       "<IPython.core.display.Markdown object>"
      ]
     },
     "execution_count": 9,
     "metadata": {},
     "output_type": "execute_result"
    }
   ],
   "source": [
    "# figure caption\n",
    "summary_of_survey_totals = F\"\"\"\n",
    "*__Left:__ {top_name[0]} summary of survey totals*\n",
    "\"\"\"\n",
    "md(summary_of_survey_totals)"
   ]
  },
  {
   "cell_type": "code",
   "execution_count": 10,
   "metadata": {
    "jupyter": {
     "source_hidden": true
    },
    "tags": [
     "hide-input"
    ]
   },
   "outputs": [
    {
     "data": {
      "image/png": "[encoded data removed]",
      "text/plain": [
       "<Figure size 576x432 with 2 Axes>"
      ]
     },
     "metadata": {},
     "output_type": "display_data"
    }
   ],
   "source": [
    "# the labels for the summary table:\n",
    "change_names = {'count':'# samples', \n",
    "                'mean':F\"average {unit_label}\",\n",
    "                'std':'standard deviation', \n",
    "                'min p/50m':'min', '25%':'25%',\n",
    "                '50%':'50%', '75%':'75%',\n",
    "                'max':F\"max {unit_label}\", 'min':F\"min {unit_label}\",\n",
    "                'total objects':'total objects',\n",
    "                '# locations':'# locations',\n",
    "                'survey year':'survey year'\n",
    "               }\n",
    "\n",
    "# convenience function to change the index names in a series\n",
    "def anew_dict(x):\n",
    "    new_dict = {}\n",
    "    for param in x.index:\n",
    "        new_dict.update({change_names[param]:x[param]})\n",
    "    return new_dict  \n",
    "\n",
    "# select data\n",
    "data = dt_all\n",
    "\n",
    "# get the basic statistics from pd.describe\n",
    "desc_2020 = data[unit_label].describe().round(2)\n",
    "\n",
    "# add project totals\n",
    "desc_2020['total objects'] = data.quantity.sum()\n",
    "desc_2020['# locations'] = fd.location.nunique()\n",
    "\n",
    "# change the names\n",
    "combined_summary = pd.Series(anew_dict(desc_2020))\n",
    "\n",
    "# format the output for printing:\n",
    "not_formatted = combined_summary[-1]\n",
    "combined_summary = [(x, \"{:,}\".format(int(combined_summary[x]))) for x in combined_summary.index[:-1]]\n",
    "combined_summary.append((desc_2020.index[-1], int(not_formatted)))\n",
    "\n",
    "# make tables\n",
    "fig, axs = plt.subplots(1,2, figsize=(8,6))\n",
    "\n",
    "# summary table\n",
    "# names for the table columns\n",
    "a_col = [top_name[0], 'total']\n",
    "\n",
    "axone = axs[0]\n",
    "ut.hide_spines_ticks_grids(axone)\n",
    "\n",
    "a_table = axone.table(cellText=combined_summary[:-1],  colLabels=a_col, colWidths=[.5,.25,.25], loc='lower center', bbox=[0,0,1,1])\n",
    "the_material_table_data = sut.make_a_summary_table(a_table,combined_summary[:-1],a_col, s_et_bottom_row=True)\n",
    "\n",
    "# material table\n",
    "axtwo = axs[1]\n",
    "axtwo.set_xlabel(\" \")\n",
    "ut.hide_spines_ticks_grids(axtwo)\n",
    "\n",
    "# data to use\n",
    "data = fd_mat_t.copy()\n",
    "\n",
    "# column names for display\n",
    "these_cols = ['Material', 'Quantity', '% of total']\n",
    "\n",
    "a_table = axtwo.table(cellText=data,  colLabels=these_cols, colWidths=[.4, .3,.3], loc='lower center', bbox=[0,0,1,1])\n",
    "the_material_table_data = sut.make_a_summary_table(a_table,data,these_cols, s_et_bottom_row=True)\n",
    "\n",
    "plt.tight_layout()\n",
    "plt.subplots_adjust(wspace=0.2)\n",
    "plt.show()"
   ]
  },
  {
   "cell_type": "code",
   "execution_count": 13,
   "metadata": {
    "jupyter": {
     "source_hidden": true
    }
   },
   "outputs": [
    {
     "data": {
      "text/plain": [
       "Index(['date', 'code', 'pcs_m', 'quantity', 'location', 'loc_date',\n",
       "       'water_name_slug', 'river_bassin', 'groupname', 'city', 'population',\n",
       "       'intersects', 'fail', '% to buildings', '% to trans', '% to recreation',\n",
       "       '% to agg', '% to woods', '% to water', '% to unproductive', 'streets',\n",
       "       'length', 'month', 'eom', 'material', 'w_t', 'streets km', 'p/100m',\n",
       "       'area', 'loc_dates'],\n",
       "      dtype='object')"
      ]
     },
     "execution_count": 13,
     "metadata": {},
     "output_type": "execute_result"
    }
   ],
   "source": [
    "fd.columns"
   ]
  },
  {
   "cell_type": "code",
   "execution_count": 15,
   "metadata": {
    "jupyter": {
     "source_hidden": true
    }
   },
   "outputs": [
    {
     "data": {
      "text/plain": [
       "array(['cassarate', 'ticino', 'aarenidau-buren-kanal', 'limmat', 'emme',\n",
       "       'aare', 'sihl', 'rhone', 'schuss', 'jona', 'reuss', 'linthkanal',\n",
       "       'maggia', 'la-thiele', 'dorfbach', 'escherkanal', 'seez'],\n",
       "      dtype=object)"
      ]
     },
     "execution_count": 15,
     "metadata": {},
     "output_type": "execute_result"
    }
   ],
   "source": [
    "fd[fd.w_t==\"r\"].water_name_slug.unique()"
   ]
  },
  {
   "cell_type": "code",
   "execution_count": 17,
   "metadata": {
    "jupyter": {
     "source_hidden": true
    }
   },
   "outputs": [
    {
     "data": {
      "text/plain": [
       "array(['La Tour-de-Peilz', 'Préverenges', 'Lugano', 'Bellinzona',\n",
       "       'Brissago', 'Gambarogno', 'Minusio', 'Port', 'Dietikon',\n",
       "       'Burgdorf', 'Zug', 'Yverdon-les-Bains', 'Lausanne', 'Genève',\n",
       "       'Saint-Gingolph', 'Unterseen', 'Neuchâtel', 'Rubigen', 'Weggis',\n",
       "       'Biel/Bienne', 'Unterengstringen', 'Zürich', 'Vevey', 'Vinelz',\n",
       "       'Erlach', 'Weesen', 'Rapperswil-Jona', 'Richterswil', 'Ascona',\n",
       "       'Kallnach', 'Lavey-Morcles', 'Walenstadt', 'Freienbach',\n",
       "       'Küsnacht (ZH)', 'Cheyres-Châbles', 'Leuk', 'Thun', 'Brienz (BE)',\n",
       "       'Spiez', 'Bourg-en-Lavaux', 'Allaman', 'Quarten', 'Luterbach',\n",
       "       'Lüscherz', 'Hünenberg', 'Merenschwand', 'Stäfa', 'Boudry',\n",
       "       'Riddes', 'Nidau', 'Saint-Sulpice (VD)', 'Glarus Nord',\n",
       "       'Le Landeron', 'Montreux', 'Grandson', 'Walperswil', 'Aarau',\n",
       "       'Salgesch', 'Beatenberg', 'Köniz', 'Bern', 'Tolochenaz', 'Gland',\n",
       "       'Locarno', 'Schmerikon', 'Estavayer', 'Sion', 'Versoix', 'Brügg',\n",
       "       'Ligerz', 'Bönigen', 'Solothurn', 'Gals', 'Hauterive (NE)',\n",
       "       'Gebenstorf', 'Brugg', 'Cudrefin'], dtype=object)"
      ]
     },
     "execution_count": 17,
     "metadata": {},
     "output_type": "execute_result"
    }
   ],
   "source": [
    "fd.city.unique()"
   ]
  },
  {
   "cell_type": "code",
   "execution_count": 18,
   "metadata": {
    "jupyter": {
     "source_hidden": true
    }
   },
   "outputs": [
    {
     "data": {
      "text/plain": [
       "77"
      ]
     },
     "execution_count": 18,
     "metadata": {},
     "output_type": "execute_result"
    }
   ],
   "source": [
    "fd.city.nunique(\n",
    ")"
   ]
  },
  {
   "cell_type": "code",
   "execution_count": 20,
   "metadata": {
    "jupyter": {
     "source_hidden": true
    }
   },
   "outputs": [
    {
     "data": {
      "text/plain": [
       "array(['La Tour-de-Peilz', 'Préverenges', 'Lugano', 'Brissago',\n",
       "       'Gambarogno', 'Minusio', 'Zug', 'Yverdon-les-Bains', 'Lausanne',\n",
       "       'Genève', 'Saint-Gingolph', 'Unterseen', 'Neuchâtel', 'Weggis',\n",
       "       'Biel/Bienne', 'Vevey', 'Vinelz', 'Erlach', 'Weesen',\n",
       "       'Rapperswil-Jona', 'Richterswil', 'Ascona', 'Walenstadt',\n",
       "       'Freienbach', 'Küsnacht (ZH)', 'Cheyres-Châbles', 'Thun', 'Zürich',\n",
       "       'Brienz (BE)', 'Spiez', 'Bourg-en-Lavaux', 'Allaman', 'Quarten',\n",
       "       'Lüscherz', 'Stäfa', 'Boudry', 'Nidau', 'Saint-Sulpice (VD)',\n",
       "       'Glarus Nord', 'Le Landeron', 'Montreux', 'Grandson', 'Beatenberg',\n",
       "       'Tolochenaz', 'Gland', 'Schmerikon', 'Estavayer', 'Versoix',\n",
       "       'Ligerz', 'Bönigen', 'Gals', 'Hauterive (NE)', 'Cudrefin'],\n",
       "      dtype=object)"
      ]
     },
     "execution_count": 20,
     "metadata": {},
     "output_type": "execute_result"
    }
   ],
   "source": [
    "fd[fd.w_t==\"l\"].city.unique()"
   ]
  },
  {
   "cell_type": "code",
   "execution_count": 23,
   "metadata": {
    "jupyter": {
     "source_hidden": true
    }
   },
   "outputs": [
    {
     "data": {
      "text/plain": [
       "2"
      ]
     },
     "execution_count": 23,
     "metadata": {},
     "output_type": "execute_result"
    }
   ],
   "source": [
    "fd.w_t.nunique()"
   ]
  },
  {
   "cell_type": "code",
   "execution_count": 11,
   "metadata": {
    "jupyter": {
     "source_hidden": true
    }
   },
   "outputs": [
    {
     "ename": "SyntaxError",
     "evalue": "'break' outside loop (<ipython-input-11-6aaf1f276005>, line 1)",
     "output_type": "error",
     "traceback": [
      "\u001b[1;36m  File \u001b[1;32m\"<ipython-input-11-6aaf1f276005>\"\u001b[1;36m, line \u001b[1;32m1\u001b[0m\n\u001b[1;33m    break\u001b[0m\n\u001b[1;37m    ^\u001b[0m\n\u001b[1;31mSyntaxError\u001b[0m\u001b[1;31m:\u001b[0m 'break' outside loop\n"
     ]
    }
   ],
   "source": [
    "break"
   ]
  },
  {
   "cell_type": "code",
   "execution_count": null,
   "metadata": {
    "jupyter": {
     "source_hidden": true
    }
   },
   "outputs": [],
   "source": []
  },
  {
   "cell_type": "code",
   "execution_count": null,
   "metadata": {
    "jupyter": {
     "source_hidden": true
    },
    "tags": [
     "remove-input"
    ]
   },
   "outputs": [],
   "source": [
    "# figure caption\n",
    "material_type = F\"\"\"\n",
    "*__Right:__ {top_name[0]} material type and percent of total*\n",
    "\"\"\"\n",
    "md(material_type)"
   ]
  },
  {
   "cell_type": "markdown",
   "metadata": {},
   "source": [
    "## The most common objects\n",
    "\n",
    "The most common objects are **the ten most abundant objects by quantity found** AND/OR **any object that was indentified in at least 50% of all the surveys**. "
   ]
  },
  {
   "cell_type": "code",
   "execution_count": null,
   "metadata": {
    "jupyter": {
     "source_hidden": true
    },
    "tags": [
     "hide-input"
    ]
   },
   "outputs": [],
   "source": [
    "# the top ten by quantity\n",
    "most_abundant = code_totals.sort_values(by='quantity', ascending=False)[:10]\n",
    "\n",
    "# the most common\n",
    "most_common = code_totals[code_totals[\"fail rate\"] > 49.999].sort_values(by='quantity', ascending=False)\n",
    "\n",
    "# merge with most_common and drop duplicates\n",
    "m_common = pd.concat([most_abundant, most_common]).drop_duplicates()\n",
    "\n",
    "# get percent of total\n",
    "m_common_percent_of_total = m_common.quantity.sum()/code_totals.quantity.sum()\n",
    "\n",
    "# figure caption\n",
    "rb_string = F\"\"\"\n",
    "{top_name[0]} most common objects: fail rate >/= {a_fail_rate}%  and/or top ten by quantity.\n",
    "\n",
    "*Combined, the most abundant objects represent {int(m_common_percent_of_total*100)}% of all objects found.*\n",
    "\n",
    "Note : {unit_label} = median survey value.\n",
    "\"\"\"\n",
    "md(rb_string)"
   ]
  },
  {
   "cell_type": "code",
   "execution_count": null,
   "metadata": {
    "jupyter": {
     "source_hidden": true
    },
    "tags": [
     "hide-input"
    ]
   },
   "outputs": [],
   "source": [
    "# format values for table\n",
    "m_common['item'] = m_common.index.map(lambda x: code_description_map.loc[x])\n",
    "m_common['% of total'] = m_common[\"% of total\"].map(lambda x: F\"{x}%\")\n",
    "m_common['quantity'] = m_common.quantity.map(lambda x: '{:,}'.format(x))\n",
    "m_common['fail rate'] = m_common['fail rate'].map(lambda x: F\"{x}%\")\n",
    "m_common[unit_label] = m_common[unit_label].map(lambda x: F\"{np.ceil(x)}\")\n",
    "\n",
    "# final table data\n",
    "cols_to_use = {'item':'Item','quantity':'Quantity', '% of total':'% of total', 'fail rate':'fail rate', unit_label:unit_label}\n",
    "all_survey_areas = m_common[cols_to_use.keys()].values\n",
    "\n",
    "fig, axs = plt.subplots(figsize=(9,len(m_common)*.8))\n",
    "\n",
    "ut.hide_spines_ticks_grids(axs)\n",
    "\n",
    "the_first_table_data = axs.table(all_survey_areas,  colLabels=list(cols_to_use.values()), colWidths=[.48, .13,.13,.13, .13], bbox=[0, 0, 1, 1])\n",
    "\n",
    "a_summary_table_one = sut.make_a_summary_table(the_first_table_data,m_common,list(cols_to_use.values()), a_color)\n",
    "\n",
    "plt.show()\n",
    "plt.tight_layout()\n",
    "plt.close()"
   ]
  },
  {
   "cell_type": "markdown",
   "metadata": {},
   "source": [
    "### Most common objects results by survey area"
   ]
  },
  {
   "cell_type": "code",
   "execution_count": null,
   "metadata": {
    "jupyter": {
     "source_hidden": true
    },
    "tags": [
     "remove-input"
    ]
   },
   "outputs": [],
   "source": [
    "rb_string = F\"\"\"\n",
    "*{top_name[0]} most common objects: median {unit_label}*\n",
    "\"\"\"\n",
    "md(rb_string)"
   ]
  },
  {
   "cell_type": "code",
   "execution_count": null,
   "metadata": {
    "jupyter": {
     "source_hidden": true
    },
    "tags": [
     "hide-input"
    ]
   },
   "outputs": [],
   "source": [
    "# aggregated survey totals for the most common codes for all the water features\n",
    "# a common aggregation\n",
    "agg_pcs_quantity = {unit_label:'sum', 'quantity':'sum'}\n",
    "\n",
    "# aggregate the code totals by survey and then get the median value per survey\n",
    "m_common_st = fd[fd.code.isin(m_common.index)].groupby([this_level, 'loc_date','code'], as_index=False).agg(agg_pcs_quantity)\n",
    "m_common_ft = m_common_st.groupby([this_level, 'code'], as_index=False)[unit_label].median()\n",
    "\n",
    "# proper name of water feature for display\n",
    "m_common_ft['f_name'] = m_common_ft[this_level].map(lambda x: comp_labels[x])\n",
    "\n",
    "# map the desctiption to the code\n",
    "m_common_ft['item'] = m_common_ft.code.map(lambda x: code_description_map.loc[x])\n",
    "\n",
    "# pivot that\n",
    "m_c_p = m_common_ft[['item', unit_label, 'f_name']].pivot(columns='f_name', index='item')\n",
    "\n",
    "# quash the hierarchal column index\n",
    "m_c_p.columns = m_c_p.columns.get_level_values(1)\n",
    "\n",
    "# the aggregated totals all the data\n",
    "fd_mc = fd[fd.code.isin(m_common.index)].groupby(['loc_date','code'], as_index=False).agg(agg_pcs_quantity)\n",
    "fd_mc = fd_mc.groupby('code', as_index=False)[unit_label].median()\n",
    "\n",
    "# set the item, index and column name for the aggregated survey area results\n",
    "fd_mc['item'] = fd_mc.code.map(lambda x: code_description_map.loc[x])\n",
    "fd_mc.set_index('item', inplace=True)\n",
    "\n",
    "# the column of values for the survye area\n",
    "fd_mc[top_name[0]] = fd_mc[unit_label]\n",
    "ad_t_ten = pd.concat([m_c_p, fd_mc[top_name[0]]], axis=1).sort_values(by=top_name[0], ascending=False)\n",
    "\n",
    "# chart that\n",
    "fig, ax  = plt.subplots(figsize=(len(ad_t_ten.columns)*.9,len(ad_t_ten)*.9))\n",
    "axone = ax\n",
    "\n",
    "sns.heatmap(ad_t_ten, ax=axone, cmap=cmap2, annot=True, annot_kws={\"fontsize\":12}, fmt=\".1f\", square=True, cbar=False, linewidth=.1, linecolor='white')\n",
    "\n",
    "axone.set_ylabel(\"\")\n",
    "axone.tick_params(labelsize=14, which='both', axis='both')\n",
    "\n",
    "plt.setp(axone.get_xticklabels(), rotation=90)\n",
    "\n",
    "plt.show()\n",
    "plt.close()"
   ]
  },
  {
   "cell_type": "markdown",
   "metadata": {},
   "source": [
    "### Most common objects monthly average"
   ]
  },
  {
   "cell_type": "code",
   "execution_count": null,
   "metadata": {
    "jupyter": {
     "source_hidden": true
    },
    "tags": [
     "hide-input"
    ]
   },
   "outputs": [],
   "source": [
    "# collect the survey results of the most common objects\n",
    "m_common_m = fd[(fd.code.isin(m_common.index))].groupby(['loc_date','date','code', 'groupname'], as_index=False).agg(agg_pcs_quantity)\n",
    "m_common_m.set_index('date', inplace=True)\n",
    "\n",
    "# set the order of the chart, group the codes by groupname columns\n",
    "an_order = m_common_m.groupby(['code','groupname'], as_index=False).quantity.sum().sort_values(by='groupname')['code'].values\n",
    "\n",
    "# a manager dict for the monthly results of each code\n",
    "mgr = {}\n",
    "\n",
    "# get the monhtly results for each code:\n",
    "for a_group in an_order:\n",
    "    # resample by month\n",
    "    a_plot = m_common_m[(m_common_m.code==a_group)][unit_label].resample('M').mean().fillna(0)\n",
    "    this_group = {a_group:a_plot}\n",
    "    mgr.update(this_group)\n",
    "\n",
    "monthly_mc = F\"\"\"\n",
    "*{top_name[0]}, monthly average survey result {unit_label}*\n",
    "\n",
    "*Detail of the most common objects*\n",
    "\"\"\"\n",
    "md(monthly_mc)"
   ]
  },
  {
   "cell_type": "code",
   "execution_count": null,
   "metadata": {
    "jupyter": {
     "source_hidden": true
    },
    "tags": [
     "hide-input"
    ]
   },
   "outputs": [],
   "source": [
    "# color palette for the most common objects\n",
    "colors_palette = {\n",
    "    'G156':'dimgray', 'G178': 'teal',\n",
    "    'G177': 'darkslategray',\n",
    "    'G200': 'lightseagreen',\n",
    "    'G27':'darkorange',\n",
    "    'G30':'darkkhaki',\n",
    "    'G67':'rosybrown',\n",
    "    'G89': 'salmon',\n",
    "    'G95':'magenta',\n",
    "    'G82': 'maroon',\n",
    "    'G79':'brown',\n",
    "    'G208': 'turquoise',\n",
    "    'G124':'indigo',\n",
    "    'G25': 'chocolate',\n",
    "    'G31': 'goldenrod',\n",
    "    'G21':'tan',\n",
    "    'Gfrags':'brown',\n",
    "    'Gfoam':'maroon',\n",
    "    'G117':'cornsilk',\n",
    "    'G941':'plum',\n",
    "    'G74':'coral',\n",
    "    'G112': 'yellow',\n",
    "    'G24':'navajowhite',\n",
    "    'G23':'peru',\n",
    "    'G100':'pink',\n",
    "    'G32':'khaki',\n",
    "    'G33':'lemonchiffon',\n",
    "    'G35':'blue'\n",
    "    \n",
    "}\n",
    "months={\n",
    "    0:'Jan',\n",
    "    1:'Feb',\n",
    "    2:'Mar',\n",
    "    3:'Apr',\n",
    "    4:'May',\n",
    "    5:'Jun',\n",
    "    6:'Jul',\n",
    "    7:'Aug',\n",
    "    8:'Sep',\n",
    "    9:'Oct',\n",
    "    10:'Nov',\n",
    "    11:'Dec'\n",
    "}\n",
    "\n",
    "# convenience function to lable x axis\n",
    "def new_month(x):\n",
    "    if x <= 11:\n",
    "        this_month = x\n",
    "    else:\n",
    "        this_month=x-12    \n",
    "    return this_month\n",
    "\n",
    "fig, ax = plt.subplots(figsize=(9,7))\n",
    "\n",
    "# define a bottom\n",
    "bottom = [0]*len(mgr['G27'])\n",
    "\n",
    "# the monhtly survey average for all objects and locations\n",
    "monthly_fd = fd.groupby(['loc_date', 'date'], as_index=False).agg(agg_pcs_quantity)\n",
    "monthly_fd.set_index('date', inplace=True)\n",
    "m_fd = monthly_fd[unit_label].resample('M').mean().fillna(0)\n",
    "\n",
    "# define the xaxis\n",
    "this_x = [i for i,x in  enumerate(m_fd.index)]\n",
    "\n",
    "# plot the monthly total survey average\n",
    "ax.bar(this_x, m_fd.to_numpy(), color='dodgerblue', alpha=0.1, linewidth=1, edgecolor='teal', width=1, label=\"Monthly survey average\") \n",
    "\n",
    "# plot the monthly survey average of the most common objects\n",
    "for i, a_group in enumerate(an_order): \n",
    "    \n",
    "    # define the axis\n",
    "    this_x = [i for i,x in  enumerate(mgr[a_group].index)]\n",
    "    \n",
    "    # collect the month\n",
    "    this_month = [x.month for i,x in enumerate(mgr[a_group].index)]\n",
    "    \n",
    "    # if i == 0 laydown the first bars\n",
    "    if i == 0:\n",
    "        ax.bar(this_x, mgr[a_group].to_numpy(), label=a_group, color=colors_palette[a_group], linewidth=1, alpha=0.6 ) \n",
    "    # else use the previous results to define the bottom\n",
    "    else:\n",
    "        bottom += mgr[an_order[i-1]].to_numpy()        \n",
    "        ax.bar(this_x, mgr[a_group].to_numpy(), bottom=bottom, label=a_group, color=colors_palette[a_group], linewidth=1, alpha=0.8)\n",
    "        \n",
    "# collect the handles and labels from the legend\n",
    "handles, labels = ax.get_legend_handles_labels()\n",
    "\n",
    "# set the location of the x ticks\n",
    "ax.xaxis.set_major_locator(ticker.FixedLocator([i for i in np.arange(len(this_x))]))\n",
    "ax.set_ylabel(unit_label, **ck.xlab_k14)\n",
    "\n",
    "# label the xticks by month\n",
    "axisticks = ax.get_xticks()\n",
    "labelsx = [months[new_month(x-1)] for x in  this_month]\n",
    "plt.xticks(ticks=axisticks, labels=labelsx)\n",
    "\n",
    "# make the legend\n",
    "# swap out codes for descriptions\n",
    "new_labels = [code_description_map.loc[x] for x in labels[1:]]\n",
    "new_labels = new_labels[::-1]\n",
    "\n",
    "# insert a label for the monthly average\n",
    "new_labels.insert(0,\"Monthly survey average\")\n",
    "handles = [handles[0], *handles[1:][::-1]]\n",
    "    \n",
    "plt.legend(handles=handles, labels=new_labels, bbox_to_anchor=(1, 1), loc=\"upper left\",  fontsize=14)    \n",
    "plt.show()"
   ]
  },
  {
   "cell_type": "markdown",
   "metadata": {},
   "source": [
    "## Survey results and land use\n",
    "\n",
    "The survey results with respect to land use are covered in detail in [The land use profile](luseprofile) and [Shared responsibility](transport)."
   ]
  },
  {
   "cell_type": "markdown",
   "metadata": {},
   "source": [
    "## Utility of the objects found\n",
    "\n",
    "The utility type is based on the utilisation of the object prior to it being discarded. Objects that are found are placed into to one of the 260 categories. Those categories are grouped according to utilisation.\n",
    "\n",
    "*  **wastewater**: items released from water treatment plants includes items likely toilet flushed   \n",
    "*  **micro plastics (< 5mm)**: fragmented plastic items and pre-production plastic resins\n",
    "*  **infrastructure**: items related to construction and maintenance of all infratructure items \n",
    "*  **food and drink**: primarily single use plastic items related to consuming food and drinks outdoors  \n",
    "*  **agriculture**: primarily industrial sheeting includes mulch films\n",
    "*  **tobacco**: primarily cigarette ends includes all smoking related material \n",
    "*  **recreation**: includes fishing, hunting, boating and beach related objects, excludes food, drink and tobacco items   \n",
    "*  **packaging non food and drink**: packaging or wrapping material not identified as food, drink nor tobacco related  \n",
    "*  **plastic fragments**: foam and plastic fragments of indeterminate origin and use \n",
    "*  **personal items**: accessories, hygiene and clothing related \n",
    "\n",
    "See the annex for the complete list of objects identified, includes description and group classification. The section [Code groups](codegroups) describes each code group in detail and provides a comprehensive list of all objects in a group."
   ]
  },
  {
   "cell_type": "code",
   "execution_count": null,
   "metadata": {
    "jupyter": {
     "source_hidden": true
    },
    "tags": [
     "remove-input"
    ]
   },
   "outputs": [],
   "source": [
    "cg_poft = F\"\"\"\n",
    "{top_name[0]} utility of objects found % of total by water feature. Fragmented objects with no clear identification remain classified by size:\n",
    "\"\"\"\n",
    "md(cg_poft)"
   ]
  },
  {
   "cell_type": "code",
   "execution_count": null,
   "metadata": {
    "jupyter": {
     "source_hidden": true
    },
    "tags": [
     "hide-input"
    ]
   },
   "outputs": [],
   "source": [
    "# code groups aggregated by survey for each survey area\n",
    "cg_t = fd.groupby([this_level,'loc_date', 'groupname'], as_index=False).agg(agg_pcs_quantity)\n",
    "\n",
    "# get the fail rates for each group per survey\n",
    "cg_t['fail']=False\n",
    "cg_t['fail'] = cg_t.quantity.where(lambda x: x == 0, True)\n",
    "\n",
    "# aggregate all that for each survey area\n",
    "cg_t = cg_t.groupby([this_level, 'groupname'], as_index=False).agg({unit_label:'median', 'quantity':'sum', 'fail':'sum', 'loc_date':'nunique'})\n",
    "\n",
    "# quantity per water survey area\n",
    "cg_tq = cg_t.groupby(this_level).quantity.sum()\n",
    "\n",
    "# assign survey area total to each record\n",
    "for a_feature in cg_tq.index:\n",
    "    cg_t.loc[cg_t[this_level] == a_feature, 'f_total'] = cg_tq.loc[a_feature]\n",
    "\n",
    "# get the percent of total for each group for each survey area\n",
    "cg_t['pt'] = (cg_t.quantity/cg_t.f_total).round(2)\n",
    "\n",
    "# pivot that\n",
    "data_table = cg_t.pivot(columns=this_level, index='groupname', values='pt')\n",
    "\n",
    "# add a column for the survey area totals and the national totals:\n",
    "# the median value is always calculated from the survey result:\n",
    "sa_cg = fd.groupby([this_level, 'loc_date','groupname'], as_index=False).agg(agg_pcs_quantity)\n",
    "\n",
    "# the median value is always calculated from the survey result:\n",
    "sa_cg = fd.groupby([this_level, 'groupname'], as_index=False).agg(agg_pcs_quantity)\n",
    "\n",
    "# aggregate all data\n",
    "fd_cg = sa_cg.groupby('groupname', as_index=False).agg(agg_pcs_quantity)\n",
    "\n",
    "# add percent of total column\n",
    "fd_cg['pt'] = (fd_cg.quantity/fd_cg.quantity.sum()).round(2)\n",
    "\n",
    "# set the index\n",
    "fd_cg.set_index('groupname', inplace=True)\n",
    "\n",
    "# name survey area column\n",
    "fd_cg[top_name[0]] = fd_cg['pt']\n",
    "\n",
    "data = pd.concat([data_table, fd_cg[top_name[0]]], axis=1)\n",
    "data.rename(columns={x:comp_labels[x] for x in data.columns[:-1]}, inplace=True)\n",
    "\n",
    "fig, ax = plt.subplots(figsize=(10,10))\n",
    "\n",
    "axone = ax\n",
    "sns.heatmap(data , ax=axone, cmap=cmap2, annot=True, annot_kws={\"fontsize\":12}, cbar=False, fmt='.0%', linewidth=.1, square=True, linecolor='white')\n",
    "\n",
    "axone.set_ylabel(\"\")\n",
    "axone.tick_params(labelsize=14, which='both', axis='both', labeltop=False, labelbottom=True)\n",
    "\n",
    "plt.setp(axone.get_xticklabels(), rotation=90, fontsize=14)\n",
    "plt.setp(axone.get_yticklabels(), rotation=0, fontsize=14)\n",
    "\n",
    "plt.show()"
   ]
  },
  {
   "cell_type": "code",
   "execution_count": null,
   "metadata": {
    "jupyter": {
     "source_hidden": true
    },
    "tags": [
     "hide-input"
    ]
   },
   "outputs": [],
   "source": [
    "cg_medpcm = F\"\"\"\n",
    "{top_name[0]} utility of objects found median {unit_label}. Fragmented objects with no clear identification remain classified by size:\n",
    "\"\"\"\n",
    "md(cg_medpcm)"
   ]
  },
  {
   "cell_type": "code",
   "execution_count": null,
   "metadata": {
    "jupyter": {
     "source_hidden": true
    },
    "tags": [
     "hide-input"
    ]
   },
   "outputs": [],
   "source": [
    "# median p/50m solve cg_t for unit_label\n",
    "data_table = cg_t.pivot(columns=this_level, index='groupname', values=unit_label)\n",
    "\n",
    "# column for all the data\n",
    "a = fd.groupby(['groupname', 'loc_date'], as_index=False)[unit_label].sum()\n",
    "a[top_name[0]] = a[unit_label]\n",
    "a = a.groupby('groupname')[top_name[0]].median()\n",
    "\n",
    "# stick that together\n",
    "data = pd.concat([data_table, a], axis=1)\n",
    "\n",
    "# format for display\n",
    "data.rename(columns={x:comp_labels[x] for x in data.columns[:-1]}, inplace=True)\n",
    "\n",
    "fig, ax = plt.subplots(figsize=(10,10))\n",
    "\n",
    "axone = ax\n",
    "sns.heatmap(data , ax=axone, cmap=cmap2, annot=True, annot_kws={\"fontsize\":12}, fmt='g', cbar=False, linewidth=.1, square=True, linecolor='white')\n",
    "\n",
    "axone.set_ylabel(\"\")\n",
    "axone.tick_params(labelsize=14, which='both', axis='both', labeltop=False, labelbottom=True)\n",
    "\n",
    "plt.setp(axone.get_xticklabels(), rotation=90, fontsize=14)\n",
    "plt.setp(axone.get_yticklabels(), rotation=0, fontsize=14)\n",
    "\n",
    "plt.show()"
   ]
  },
  {
   "cell_type": "markdown",
   "metadata": {},
   "source": [
    "## Rivers "
   ]
  },
  {
   "cell_type": "code",
   "execution_count": null,
   "metadata": {
    "jupyter": {
     "source_hidden": true
    },
    "tags": [
     "hide-input"
    ]
   },
   "outputs": [],
   "source": [
    "rivers = fd[fd.w_t == 'r'].copy()\n",
    "r_smps = rivers.groupby(['loc_date', 'date', 'location', 'water_name_slug'], as_index=False).agg(agg_pcs_quantity)\n",
    "l_smps = fd[fd.w_t == 'l'].groupby(['loc_date','date','location', 'water_name_slug'], as_index=False).agg(agg_pcs_quantity)\n",
    "\n",
    "chart_notes = F\"\"\"\n",
    "*__Left:__ {top_name[0]} rivers, {start_date[:7]} through {end_date[:7]}, n={len(r_smps.loc_date.unique())}. {not_included}*\n",
    "\n",
    "*__Right:__ Summary data.*\n",
    "\"\"\"\n",
    "md(chart_notes )"
   ]
  },
  {
   "cell_type": "code",
   "execution_count": null,
   "metadata": {
    "jupyter": {
     "source_hidden": true
    },
    "tags": [
     "hide-input"
    ]
   },
   "outputs": [],
   "source": [
    "# select data\n",
    "data = r_smps\n",
    "\n",
    "# get the basic statistics from pd.describe\n",
    "desc_2020 = data[unit_label].describe().round(2)\n",
    "\n",
    "# add project totals\n",
    "desc_2020['total objects'] = data.quantity.sum()\n",
    "desc_2020['# locations'] = fd.location.nunique()\n",
    "\n",
    "# change the names\n",
    "combined_summary = pd.Series(anew_dict(desc_2020))\n",
    "\n",
    "# format the output for printing:\n",
    "not_formatted = combined_summary[-1]\n",
    "combined_summary = [(x, \"{:,}\".format(int(combined_summary[x]))) for x in combined_summary.index[:-1]]\n",
    "combined_summary.append((desc_2020.index[-1], int(not_formatted) ))\n",
    "\n",
    "# months locator, can be confusing\n",
    "# https://matplotlib.org/stable/api/dates_api.html\n",
    "months = mdates.MonthLocator(interval=1)\n",
    "months_fmt = mdates.DateFormatter('%b')\n",
    "days = mdates.DayLocator(interval=7)\n",
    "\n",
    "# make the charts\n",
    "fig = plt.figure(figsize=(11,6))\n",
    "\n",
    "aspec = fig.add_gridspec(ncols=11, nrows=3)\n",
    "\n",
    "ax = fig.add_subplot(aspec[:, :6])\n",
    "\n",
    "line_label = F\"{rate} median:{top_name[0]}\"\n",
    "\n",
    "sns.scatterplot(data=l_smps, x='date', y=unit_label, color='black', alpha=0.4, label=\"Lake surveys\", ax=ax)\n",
    "sns.scatterplot(data=r_smps, x='date', y=unit_label, color='red', s=34, ec='white',label=\"River surveys\", ax=ax)\n",
    "\n",
    "ax.set_ylim(-10,the_90th )\n",
    "\n",
    "ax.set_xlabel(\"\")\n",
    "ax.set_ylabel(unit_label, **ck.xlab_k14)\n",
    "\n",
    "ax.xaxis.set_minor_locator(days)\n",
    "ax.xaxis.set_major_formatter(months_fmt)\n",
    "\n",
    "a_col = [top_name[0], 'total']\n",
    "\n",
    "axone = fig.add_subplot(aspec[:, 7:])\n",
    "ut.hide_spines_ticks_grids(axone)\n",
    "\n",
    "a_table = axone.table(cellText=combined_summary[:-1],  colLabels=a_col, colWidths=[.5,.25,.25], loc='lower center', bbox=[0,0,1,1])\n",
    "the_material_table_data = sut.make_a_summary_table(a_table,combined_summary[:-1],a_col, s_et_bottom_row=False)\n",
    "\n",
    "plt.show()"
   ]
  },
  {
   "cell_type": "code",
   "execution_count": null,
   "metadata": {
    "jupyter": {
     "source_hidden": true
    },
    "tags": [
     "hide-input"
    ]
   },
   "outputs": [],
   "source": [
    "# the most common items rivers\n",
    "r_codes = rivers.groupby('code').agg({'quantity':'sum', 'fail':'sum', unit_label:'median'})\n",
    "r_codes['fail rate'] = (r_codes.fail/r_smps.loc_date.nunique()*100).round(2)\n",
    "\n",
    "# top ten\n",
    "r_byq = r_codes.sort_values(by='quantity', ascending=False)[:10].index\n",
    "\n",
    "# most common\n",
    "r_byfail = r_codes[r_codes['fail rate'] > 49.99].index\n",
    "r_most_common = list(set(r_byq) | set(r_byfail))\n",
    "\n",
    "# format for display\n",
    "r_mc= r_codes.loc[r_most_common].copy()\n",
    "r_mc['item'] = r_mc.index.map(lambda x: code_description_map.loc[x])\n",
    "r_mc.sort_values(by='quantity', ascending=False, inplace=True)\n",
    "\n",
    "r_mc['% of total']=((r_mc.quantity/r_codes.quantity.sum())*100).round(2)\n",
    "r_mc['% of total'] = r_mc[\"% of total\"].map(lambda x: F\"{x}%\")\n",
    "r_mc['quantity'] = r_mc.quantity.map(lambda x: '{:,}'.format(x))\n",
    "r_mc['fail rate'] = r_mc['fail rate'].map(lambda x: F\"{x}%\")\n",
    "r_mc['p/50m'] = r_mc[unit_label].map(lambda x: F\"{np.ceil(x)}\")\n",
    "r_mc.rename(columns=cols_to_use, inplace=True)\n",
    "\n",
    "data=r_mc[[\"Item\",\"Quantity\", \"% of total\", \"fail rate\", unit_label]]\n",
    "\n",
    "fig, axs = plt.subplots(figsize=(9,len(data)*.8))\n",
    "\n",
    "ut.hide_spines_ticks_grids(axs)\n",
    "\n",
    "the_first_table_data = axs.table(data.values,  colLabels=list(data.columns), colWidths=[.48, .13,.13,.13, .13], bbox=[0, 0, 1, 1])\n",
    "\n",
    "a_summary_table_one = sut.make_a_summary_table(the_first_table_data,data,data.columns, a_color)\n",
    "\n",
    "plt.show()\n",
    "plt.tight_layout()\n",
    "plt.close()"
   ]
  },
  {
   "cell_type": "code",
   "execution_count": null,
   "metadata": {
    "jupyter": {
     "source_hidden": true
    },
    "tags": [
     "remove-input"
    ]
   },
   "outputs": [],
   "source": [
    "author = \"roger@hammerdirt.ch\"\n",
    "my_message = \"Love what you do. \\u2764\\ufe0f\"\n",
    "md(F\"\"\"\n",
    "<br></br>\n",
    "**This project was made possible by the Swiss federal office for the environment.**<br>\n",
    "\n",
    ">{my_message}<br>\n",
    "\n",
    "*{author}* pushed the run button on {today}.<br>\n",
    "This document originates from https://github.com/hammerdirt-analyst/IQAASL-End-0f-Sampling-2021 all copyrights apply.<br>\n",
    "\"\"\")"
   ]
  },
  {
   "cell_type": "markdown",
   "metadata": {},
   "source": [
    "## Annex\n",
    "\n",
    "1. fragmented foams and plastics\n",
    "2. [surveyors](#us)\n",
    "3. [municipalities, lakes, rivers](#munislakes)\n",
    "\n",
    "### Fragmented foams and plastics by size group\n",
    "\n",
    "These are the components of Gfoam and Gfrags, objects labled \"Expanded foams\" are grouped with Gfoam the rest are grouped under Gfrags."
   ]
  },
  {
   "cell_type": "code",
   "execution_count": null,
   "metadata": {
    "jupyter": {
     "source_hidden": true
    },
    "tags": [
     "remove-input"
    ]
   },
   "outputs": [],
   "source": [
    "frag_foams = F\"\"\"\n",
    "*{top_name[0]} fragmented foams and plastics by size group. \n",
    "\n",
    "*median {unit_label}, number of pieces, percent of total*\n",
    "\"\"\"\n",
    "md(frag_foams)"
   ]
  },
  {
   "cell_type": "code",
   "execution_count": null,
   "metadata": {
    "jupyter": {
     "source_hidden": true
    },
    "tags": [
     "hide-input"
    ]
   },
   "outputs": [],
   "source": [
    "# collect the data before aggregating foams for all locations in the survye area\n",
    "# group by loc_date and code\n",
    "# Combine the different sizes of fragmented plastics and styrofoam\n",
    "# the codes for the foams\n",
    "some_foams = ['G81', 'G82', 'G83', 'G74']\n",
    "\n",
    "# the codes for the fragmented plastics\n",
    "some_frag_plas = list(before_agg[before_agg.groupname == 'plastic pieces'].code.unique())\n",
    "\n",
    "fd_frags_foams = before_agg[(before_agg.code.isin([*some_frag_plas, *some_foams]))&(before_agg.location.isin(fd_locs))].groupby(['loc_date','code'], as_index=False).agg(agg_pcs_quantity)\n",
    "fd_frags_foams = fd_frags_foams.groupby('code').agg({unit_label:'median', 'quantity':'sum'})\n",
    "\n",
    "# add code description and format for printing\n",
    "fd_frags_foams['item'] = fd_frags_foams.index.map(lambda x: code_description_map.loc[x])\n",
    "fd_frags_foams['% of total'] = (fd_frags_foams.quantity/fd.quantity.sum()*100).round(2)\n",
    "fd_frags_foams['% of total'] = fd_frags_foams['% of total'].map(lambda x: F\"{x}%\")\n",
    "fd_frags_foams['quantity'] = fd_frags_foams['quantity'].map(lambda x: F\"{x:,}\")\n",
    "\n",
    "# table data\n",
    "data = fd_frags_foams[['item',unit_label, 'quantity', '% of total']]\n",
    "\n",
    "fig, axs = plt.subplots(figsize=(len(data.columns)*2.1,len(data)*.8))\n",
    "ut.hide_spines_ticks_grids(axs)\n",
    "\n",
    "the_first_table_data = axs.table(data.values,  colLabels=data.columns, colWidths=[.6, .13, .13, .13], bbox=[0, 0, 1, 1])\n",
    "\n",
    "a_summary_table_one = sut.make_a_summary_table(the_first_table_data,data.values,data.columns, a_color, s_et_bottom_row=True)\n",
    "\n",
    "a_summary_table_one.get_celld()[(0,0)].get_text().set_text(\" \")\n",
    "\n",
    "plt.show()\n",
    "plt.tight_layout()\n",
    "plt.close()"
   ]
  },
  {
   "cell_type": "markdown",
   "metadata": {},
   "source": [
    "### IQAASL surveyors\n",
    "\n",
    "Hammerdirt staff:\n",
    "\n",
    "1. Shannon Erismann, field operations manager\n",
    "2. Helen Kurukulasuriya, surveyor\n",
    "3. Débora Carmo, surveyor\n",
    "4. Bettina Siegenthaler, surveyor\n",
    "5. Roger Erismann, surveyor\n",
    "\n",
    "Participating organizations:\n",
    "\n",
    "1. Precious plastic leman\n",
    "2. Association pour la sauvetage du Léman\n",
    "3. Geneva international School\n",
    "4. Solid waste management: École polytechnique fédéral Lausanne\n",
    "5. Summit foundation\n",
    "6. University of Raperswill\n",
    "7. Hackuarium"
   ]
  },
  {
   "cell_type": "markdown",
   "metadata": {},
   "source": [
    "### Municipalities, lakes and rivers with surveys"
   ]
  },
  {
   "cell_type": "code",
   "execution_count": null,
   "metadata": {
    "jupyter": {
     "source_hidden": true
    },
    "tags": [
     "hide-input"
    ]
   },
   "outputs": [],
   "source": [
    "lakes = dfBeaches.loc[(dfBeaches.index.isin(fd_locs))&(dfBeaches.water == 'l')]['water_name'].unique()\n",
    "rivers = dfBeaches.loc[(dfBeaches.index.isin(fd_locs))&(dfBeaches.water == 'r')]['water_name'].unique()\n",
    "munis_joined = ', '.join(sorted(fd_pop_map.index))\n",
    "\n",
    "muni_string = F\"\"\"**The municipalities in this report:**\\n\\n{munis_joined}\n",
    "\"\"\"\n",
    "md(muni_string)"
   ]
  },
  {
   "cell_type": "code",
   "execution_count": null,
   "metadata": {
    "jupyter": {
     "source_hidden": true
    },
    "tags": [
     "hide-input"
    ]
   },
   "outputs": [],
   "source": [
    "lakes_joined = ', '.join(sorted(lakes))\n",
    "\n",
    "lake_string = F\"\"\"**The lakes in this report:**\\n\\n{lakes_joined}\n",
    "\"\"\"\n",
    "md(lake_string)"
   ]
  },
  {
   "cell_type": "code",
   "execution_count": null,
   "metadata": {
    "jupyter": {
     "source_hidden": true
    },
    "tags": [
     "remove-input"
    ]
   },
   "outputs": [],
   "source": [
    "rivers_joined = ', '.join(sorted(rivers))\n",
    "\n",
    "river_string = F\"\"\"**The rivers in this report:**\\n\\n{rivers_joined}\n",
    "\"\"\"\n",
    "md(river_string)"
   ]
  },
  {
   "cell_type": "code",
   "execution_count": null,
   "metadata": {
    "jupyter": {
     "source_hidden": true
    },
    "tags": [
     "hide-input"
    ]
   },
   "outputs": [],
   "source": [
    "obj_string = '{:,}'.format(fd_n_obj)\n",
    "surv_string = '{:,}'.format(fd_n_samps)\n",
    "pop_string = '{:,}'.format(int(fd_effected_population[0]))\n",
    "\n",
    "date_quantity_context = F\"For the period between {start_date[:-3]} and {end_date[:-3]}, {obj_string } objects were removed and identified in the course of {surv_string} surveys.\"\n",
    "geo_context = F\"Those surveys were conducted at {fd_n_locs} different locations.\"\n",
    "admin_context = F\"There are {fd_n_munis} different municipalities represented in these results with a combined population of approximately {pop_string}.\"\n",
    "md(F\"{date_quantity_context} {geo_context } {admin_context}\")"
   ]
  },
  {
   "cell_type": "code",
   "execution_count": null,
   "metadata": {
    "jupyter": {
     "source_hidden": true
    },
    "tags": [
     "hide-input"
    ]
   },
   "outputs": [],
   "source": [
    "pd.set_option('display.max_rows', None)\n",
    "complete_inventory = code_totals[code_totals.quantity>0][['item', 'groupname', 'quantity', '% of total','fail rate']]\n",
    "complete_inventory.sort_values(by='quantity', ascending=False)"
   ]
  },
  {
   "cell_type": "code",
   "execution_count": null,
   "metadata": {
    "jupyter": {
     "source_hidden": true
    }
   },
   "outputs": [],
   "source": []
  }
 ],
 "metadata": {
  "kernelspec": {
   "display_name": "Python 3 (ipykernel)",
   "language": "python",
   "name": "python3"
  },
  "language_info": {
   "codemirror_mode": {
    "name": "ipython",
    "version": 3
   },
   "file_extension": ".py",
   "mimetype": "text/x-python",
   "name": "python",
   "nbconvert_exporter": "python",
   "pygments_lexer": "ipython3",
   "version": "3.8.1"
  }
 },
 "nbformat": 4,
 "nbformat_minor": 4
}
