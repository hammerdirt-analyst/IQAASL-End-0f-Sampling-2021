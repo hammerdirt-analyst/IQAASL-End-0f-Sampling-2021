{
 "cells": [
  {
   "cell_type": "code",
   "execution_count": 1,
   "metadata": {
    "jupyter": {
     "source_hidden": true
    },
    "tags": [
     "hide-input"
    ]
   },
   "outputs": [],
   "source": [
    "# sys, file and nav packages:\n",
    "import datetime as dt\n",
    "\n",
    "# math packages:\n",
    "import pandas as pd\n",
    "import numpy as np\n",
    "from scipy import stats\n",
    "import statsmodels.api as sm\n",
    "from statsmodels.distributions.empirical_distribution import ECDF\n",
    "from statsmodels.stats.stattools import medcouple\n",
    "import math\n",
    "\n",
    "# charting:\n",
    "import matplotlib as mpl\n",
    "import matplotlib.pyplot as plt\n",
    "import matplotlib.dates as mdates\n",
    "from matplotlib import ticker\n",
    "from matplotlib import colors\n",
    "from matplotlib.colors import LinearSegmentedColormap\n",
    "from matplotlib.gridspec import GridSpec\n",
    "import seaborn as sns\n",
    "\n",
    "# home brew utitilties\n",
    "import resources.utility_functions as ut\n",
    "import resources.chart_kwargs as ck\n",
    "import resources.sr_ut as sut\n",
    "\n",
    "# images and display\n",
    "import base64, io, IPython\n",
    "from PIL import Image as PILImage\n",
    "from IPython.display import Markdown as md\n",
    "from IPython.display import display, Math, Latex\n",
    "\n",
    "\n",
    "# set some parameters:\n",
    "today = dt.datetime.now().date().strftime(\"%Y-%m-%d\")\n",
    "start_date = '2020-03-01'\n",
    "end_date ='2021-05-31'\n",
    "\n",
    "# name of the output folder:\n",
    "name_of_project = 'threshold_values'\n",
    "\n",
    "# the scale for pieces per meter and the column and chart label for the units\n",
    "reporting_unit = 100\n",
    "unit_label = 'p/100m'\n",
    "\n",
    "# add the folder to the directory tree:\n",
    "project_directory = ut.make_project_folder('output', name_of_project)\n",
    "\n",
    "# get your data:\n",
    "survey_data = pd.read_csv('resources/results_with_land_use_2015.csv')\n",
    "river_bassins = ut.json_file_get(\"resources/river_basins.json\")\n",
    "dfBeaches = pd.read_csv(\"resources/beaches_with_land_use_rates.csv\")\n",
    "dfCodes = pd.read_csv(\"resources/codes_with_group_names_2015.csv\")\n",
    "dfDims = pd.read_csv(\"resources/dims_data.csv\")\n",
    "\n",
    "# set the index of the beach data to location slug\n",
    "dfBeaches.set_index('slug', inplace=True)\n",
    "\n",
    "# map locations to feature names\n",
    "location_wname_key = dfBeaches.water_name_slug\n",
    "\n",
    "# map water_name_slug to water_name\n",
    "wname_wname = dfBeaches[['water_name_slug','water_name']].reset_index(drop=True).drop_duplicates()\n",
    "wname_wname.set_index('water_name_slug', inplace=True)\n",
    "\n",
    "# convenience function for doing land use correlations\n",
    "def make_plot_with_spearmans(data, ax, n):\n",
    "    sns.scatterplot(data=data, x=n, y=unit_label, ax=ax, color='black', s=30, edgecolor='white', alpha=0.6)\n",
    "    corr, a_p = stats.spearmanr(data[n], data[unit_label])\n",
    "    return ax, corr, a_p\n",
    "\n",
    "# index the code data\n",
    "dfCodes.set_index(\"code\", inplace=True)\n",
    "\n",
    "# these descriptions need to be shortened for display\n",
    "dfCodes = sut.shorten_the_value([\"G74\", \"description\", \"Insulation: includes spray foams\"], dfCodes)\n",
    "dfCodes = sut.shorten_the_value([\"G940\", \"description\", \"Foamed EVA for crafts and sports\"], dfCodes)\n",
    "dfCodes = sut.shorten_the_value([\"G96\", \"description\", \"Sanitary-pads/tampons, applicators\"], dfCodes)\n",
    "dfCodes = sut.shorten_the_value([\"G178\", \"description\", \"Metal bottle caps and lids\"], dfCodes)\n",
    "dfCodes = sut.shorten_the_value([\"G82\", \"description\", \"Expanded foams 2.5cm - 50cm\"], dfCodes)\n",
    "dfCodes = sut.shorten_the_value([\"G81\", \"description\", \"Expanded foams .5cm - 2.5cm\"], dfCodes)\n",
    "dfCodes = sut.shorten_the_value([\"G117\", \"description\", \"Expanded foams < 5mm\"], dfCodes)\n",
    "dfCodes = sut.shorten_the_value([\"G75\", \"description\", \"Plastic/foamed polystyrene 0 - 2.5cm\"], dfCodes)\n",
    "dfCodes = sut.shorten_the_value([\"G76\", \"description\", \"Plastic/foamed polystyrene 2.5cm - 50cm\"], dfCodes)\n",
    "dfCodes = sut.shorten_the_value([\"G24\", \"description\", \"Plastic lid rings\"], dfCodes)\n",
    "dfCodes = sut.shorten_the_value([\"G33\", \"description\", \"Lids for togo drinks plastic\"], dfCodes)\n",
    "dfCodes = sut.shorten_the_value([\"G3\", \"description\", \"Plastic bags, carier bags\"], dfCodes)\n",
    "dfCodes = sut.shorten_the_value([\"G204\", \"description\", \"Bricks, pipes not plastic\"], dfCodes)\n",
    "\n",
    "# make a map to the code descriptions\n",
    "code_description_map = dfCodes.description\n",
    "\n",
    "# make a map to the code descriptions\n",
    "code_material_map = dfCodes.material"
   ]
  },
  {
   "cell_type": "markdown",
   "metadata": {
    "tags": []
   },
   "source": [
    "(threshhold)=\n",
    "# Calculating beach litter baseline values\n",
    "\n",
    "Baseline values (BVs), sometimes refered to as _benchmarks_, are the quantities or values that are used to define a situation statistically. The BVs refer to a set of data that has both temporal and geographical limits, some times refered to as a _reference point_ or _base line period_, BVs are the quantities against which progress is measured. In this regard, BVs are intimately linked to the data and the methods used to collect the data.\n",
    "\n",
    "## Counting beach litter: an overview\n",
    "\n",
    "The first international guide to collecting beach-litter data was published in 2008 by the United Nations Environment Programme (UNEP) and Intergovernmental Oceanographic Commission (IOC) {cite}`unepseas`. Based on the accumulated work of many scientists, this method was reproduced by the OSPAR Commission in 2010 {cite}`ospard10`, and in 2013 the EU released _Guidance on Monitoring of Marine Litter in European Seas_ (_the guide_) {cite}`mlwguidance`. Switzerland is a member of OSPAR and has over 1,500 samples using the methods described in _the guide_.\n",
    "\n",
    "_The guide_ was followed by _Riverine Litter Monitoring - Options and Recommendations_ in 2016 {cite}`riverinemonitor`, reflecting the mounting evidence that rivers are important sources of household waste in coastal regions. By that time the initial beach litter surveillance project on Lac Léman had run its course and preparations were on the way for a year long national project in Switzerland initiated by STOPPP and supported by WWF volunteers, see [_More and less trash since 2017_](slr-iqaasl).\n",
    "\n",
    "In 2019 the Joint Research Centre (JRC) released an _Analysis of a pan-European 2012-2016 beach litter dataset_ , a technical document that detailed the methods and different scenarios for calculating baseline values from beach litter data. Of particular interest to the JRC was the robustness of methods to extreme values and transparency of the calculation method. {cite}`eubaselines`\n",
    "\n",
    "Finally, in September 2020 the EU established baseline and target values based on the data collected from 2015-2016. The target values relate to the Good Environmental Status of marine waters described by the Marine Strategy Framework Direvtive (MSFD) and the baselines were calculated using the methods described in the 2019 publication. {cite}`threshholdeu`\n",
    "\n",
    "### Switzerland 2020\n",
    "\n",
    "The IQAASL project started in April 2020, recycling many of the locations sampled in 2017 and establishing new locations through out the defined survey areas. Similar to survey results in the marine environment beach-litter-data in Switzerland is highly variable. With values ranging from zero to thousands of objects and fragments within 100m of river or lake shoreline.\n",
    "\n",
    "## Calculating baselines\n",
    "\n",
    "The methods described in sections 3 and 4 of _A European Threshold Value and Assessment Method for Macro Litter on Coastlines_ and {cite}`threshholdeu` are applied to the beach litter survey results from April 2020 to May 2021 collected durring IQAASL. The results are used to suggest improvements for the next sampling period and define baseline and extreme values for 2020 - 2021.\n",
    "\n",
    "__Assumptions:__\n",
    "\n",
    "*  The more trash there is on the ground the more a person is likely to find\n",
    "*  **The survey results represent the minimum amount of trash at that site**\n",
    "*  For each survey: finding one item does not effect the chance of finding another"
   ]
  },
  {
   "cell_type": "markdown",
   "metadata": {},
   "source": [
    "### The data\n",
    "\n",
    "Only surveys with a length greater than ten meters and less than 100 meters are included in the baseline calculation. The following objects were excluded:\n",
    "\n",
    "1. Objects less than 2.5cm\n",
    "2. Paraffin, wax, oil and other pollutants\n",
    "\n"
   ]
  },
  {
   "cell_type": "code",
   "execution_count": 2,
   "metadata": {
    "tags": [
     "hide-input"
    ]
   },
   "outputs": [],
   "source": [
    "# define the final survey data set here:\n",
    "a_data = survey_data.copy()\n",
    "\n",
    "# make a loc_date column from the survey data\n",
    "# before converting to timestamp\n",
    "a_data['loc_date']=tuple(zip(a_data.location, a_data.date))\n",
    "\n",
    "# convert string dates from .csv to timestamp\n",
    "a_data['date']=pd.to_datetime(a_data['date'], format='%Y-%m-%d')\n",
    "\n",
    "# slice by start - end date\n",
    "a_data = a_data[(a_data.date >= start_date)&(a_data.date <= end_date)]\n",
    "\n",
    "# combine lugano and maggiore\n",
    "# if the river bassin name does not equal tresa leave it, else change it to ticino\n",
    "a_data['river_bassin'] = a_data.river_bassin.where(a_data.river_bassin != 'tresa', 'ticino' )\n",
    "\n",
    "# assign the reporting value\n",
    "a_data[unit_label] = (a_data.pcs_m * reporting_unit).round(2)\n",
    "\n",
    "# scale the streets to kilometers\n",
    "a_data['streets'] = a_data.streets.astype('int')\n",
    "a_data['streets km'] = a_data.streets/1000\n",
    "\n",
    "# save the data before aggregating to test\n",
    "before_agg = a_data.copy()\n",
    "\n",
    "# !! Remove the objects less than 2.5cm and chemicals !!\n",
    "codes_todrop = ['G81', 'G78', 'G212', 'G213', 'G214']\n",
    "a_data = a_data[~a_data.code.isin(codes_todrop)]\n",
    "\n",
    "# use the code groups to get rid of all objects less than 5mm\n",
    "a_data = a_data[a_data.groupname !=  'micro plastics (< 5mm)']\n",
    "# !! \n",
    "\n",
    "# match records to survey data\n",
    "fd_dims= dfDims[(dfDims.location.isin(a_data.location.unique()))&(dfDims.date >= start_date)&(dfDims.date <= end_date)].copy()\n",
    "\n",
    "# make a loc_date column and get the unique values\n",
    "fd_dims['loc_date'] = list(zip(fd_dims.location, fd_dims.date))\n",
    "\n",
    "# map the survey area name to the dims data record\n",
    "a_map = fd_dims[['loc_date', 'area']].set_index('loc_date')\n",
    "l_map = fd_dims[['loc_date', 'length']].set_index('loc_date')\n",
    "\n",
    "# map length and area from dims to survey data\n",
    "for a_survey in fd_dims.loc_date.unique():\n",
    "    a_data.loc[a_data.loc_date == a_survey, 'length'] = l_map.loc[[a_survey], 'length'][0]\n",
    "    a_data.loc[a_data.loc_date == a_survey, 'area'] = a_map.loc[[a_survey], 'area'][0]\n",
    "\n",
    "# exclude surveys less 10 meters or less\n",
    "gten_lhun = a_data.loc[(a_data.length > 10)].copy()\n",
    "\n",
    "# this is a common aggregation\n",
    "agg_pcs_quantity = {unit_label:'sum', 'quantity':'sum'}\n",
    "\n",
    "# survey totals by location\n",
    "dt_all = gten_lhun.groupby(['loc_date','location','river_bassin', 'water_name_slug','date'], as_index=False).agg(agg_pcs_quantity)"
   ]
  },
  {
   "cell_type": "markdown",
   "metadata": {},
   "source": [
    "*Survey results and summary statistics: samples greater than 10m and excluding objects less than 2.5cm and chemicals, n=371*"
   ]
  },
  {
   "cell_type": "code",
   "execution_count": 3,
   "metadata": {
    "tags": [
     "hide-input"
    ]
   },
   "outputs": [],
   "source": [
    "# bassin_map = PILImage.open(\"resources/maps/survey_locations_all.jpeg\")"
   ]
  },
  {
   "cell_type": "code",
   "execution_count": 4,
   "metadata": {
    "jupyter": {
     "source_hidden": true
    },
    "tags": [
     "hide-input"
    ]
   },
   "outputs": [
    {
     "data": {
      "image/png": "[encoded data removed]",
      "text/plain": [
       "<Figure size 576x360 with 2 Axes>"
      ]
     },
     "metadata": {
      "needs_background": "light"
     },
     "output_type": "display_data"
    }
   ],
   "source": [
    "# palettes and labels\n",
    "bassin_pallette = {'rhone':'dimgray', 'aare':'salmon', 'linth':'tan', 'ticino':'steelblue', 'reuss':'purple'}\n",
    "comp_labels = {\"linth\":\"Linth/Limmat\", \"rhone\":\"Rhône\", 'aare':\"Aare\", \"ticino\":\"Ticino/Cerisio\", \"reuss\":\"Reuss\"}\n",
    "comp_palette = {\"Linth/Limmat\":\"dimgray\", \"Rhône\":\"tan\", \"Aare\":\"salmon\", \"Ticino/Cerisio\":\"steelblue\", \"Reuss\":\"purple\"}\n",
    "\n",
    "# months locator, can be confusing\n",
    "# https://matplotlib.org/stable/api/dates_api.html\n",
    "months = mdates.MonthLocator(interval=1)\n",
    "months_fmt = mdates.DateFormatter('%b')\n",
    "days = mdates.DayLocator(interval=7)\n",
    "\n",
    "fig = plt.figure(figsize=(8,5))\n",
    "\n",
    "gs = GridSpec(1,5)\n",
    "\n",
    "ax = fig.add_subplot(gs[:,0:3])\n",
    "axtwo = fig.add_subplot(gs[:, 3:])\n",
    "\n",
    "# scale the chart as needed to accomodate for extreme values\n",
    "scale_back = 98\n",
    "\n",
    "# the results gets applied to the y_limit function in the chart\n",
    "the_90th = np.percentile(dt_all[unit_label], scale_back)\n",
    "\n",
    "# the survey totals\n",
    "sns.scatterplot(data=dt_all, x='date', y=unit_label, hue='river_bassin', palette=bassin_pallette, alpha=1, ax=ax)\n",
    "\n",
    "# set params on ax:\n",
    "ax.set_ylim(0,the_90th )\n",
    "ax.set_ylabel(unit_label, **ck.xlab_k14)\n",
    "\n",
    "ax.set_xlabel(\"\")\n",
    "ax.xaxis.set_minor_locator(days)\n",
    "ax.xaxis.set_major_formatter(months_fmt)\n",
    "\n",
    "# axtwo\n",
    "a_color = \"dodgerblue\"\n",
    "\n",
    "# summarize the survey totals and format for printing\n",
    "table_data = dt_all[unit_label].describe()\n",
    "table_data.drop('count', inplace=True)\n",
    "table_data = table_data.astype('int')\n",
    "table_data = table_data.map(lambda x: \"{:,}\".format(x))\n",
    "\n",
    "# make a 2d array\n",
    "t_data = list(zip(table_data.index, table_data.values))\n",
    "\n",
    "data = t_data\n",
    "\n",
    "ut.hide_spines_ticks_grids(axtwo)\n",
    "\n",
    "the_first_table_data = axtwo.table(data,  colLabels=[\"Stat\", unit_label], colWidths=[.5,.5], bbox=[0, 0, 1, 1])\n",
    "\n",
    "a_summary_table_one = sut.make_a_summary_table(the_first_table_data,data,[\"Stat\", unit_label], a_color, s_et_bottom_row=True)\n",
    "\n",
    "a_summary_table_one.get_celld()[(0,0)].get_text().set_text(\" \")\n",
    "\n",
    "plt.tight_layout()\n",
    "plt.show()\n",
    "plt.close()"
   ]
  },
  {
   "cell_type": "markdown",
   "metadata": {},
   "source": [
    "*Distribution of surveys and percentile ranking values: all surveys. Note the mean (290p/100m) is greater than the median (149p/100m)*"
   ]
  },
  {
   "cell_type": "code",
   "execution_count": 5,
   "metadata": {
    "jupyter": {
     "source_hidden": true
    },
    "tags": [
     "hide-input"
    ]
   },
   "outputs": [
    {
     "data": {
      "image/png": "[encoded data removed]",
      "text/plain": [
       "<Figure size 720x360 with 2 Axes>"
      ]
     },
     "metadata": {
      "needs_background": "light"
     },
     "output_type": "display_data"
    }
   ],
   "source": [
    "# percentile rankings  1, 5, 10, 15, 20\n",
    "these_vals = []\n",
    "for element in [.01,.05,.10,.15,.20, .5, .9 ]:\n",
    "    a_val = np.quantile(dt_all[unit_label].to_numpy(), element)\n",
    "    these_vals.append((F\"{int(element*100)}%\",a_val))\n",
    "\n",
    "these_vals\n",
    "\n",
    "fig = plt.figure(figsize=(10,5))\n",
    "\n",
    "gs = GridSpec(1,5)\n",
    "\n",
    "ax = fig.add_subplot(gs[:,0:3])\n",
    "axtwo = fig.add_subplot(gs[:, 3:])\n",
    "\n",
    "sns.histplot(data=dt_all, x=unit_label, stat='count', ax=ax, alpha=0.6)\n",
    "ax.axvline(x=dt_all[unit_label].median(), c='magenta', label='median')\n",
    "ax.axvline(x=dt_all[unit_label].mean(), c='red', label='mean')\n",
    "ax.legend()\n",
    "\n",
    "\n",
    "data = these_vals\n",
    "\n",
    "ut.hide_spines_ticks_grids(axtwo)\n",
    "\n",
    "the_first_table_data = axtwo.table(data,  colLabels=('ranking', unit_label), colWidths=[.5,.5], bbox=[0, 0, 1, 1])\n",
    "\n",
    "a_summary_table_one = sut.make_a_summary_table(the_first_table_data,data,('ranking', unit_label), a_color, s_et_bottom_row=True)\n",
    "\n",
    "a_summary_table_one.get_celld()[(0,0)].get_text().set_text(\"ranking\")\n",
    "plt.show()"
   ]
  },
  {
   "cell_type": "markdown",
   "metadata": {},
   "source": [
    "### The assessment metric\n",
    "\n",
    "Calculating baseline values requires the aggregatation of survey results at different temporal and geographic scales. The best method is the method that:\n",
    "\n",
    "1. Is robust with respect to outliers\n",
    "2. Simple to calculate\n",
    "3. Widely understood\n",
    "\n",
    "The two most common test statisics used to compare data is the mean and the median. The mean is the best predictor of central tendency if the data are $\\approx$ normaly distributed. However that is not the case with beach litter survey results, generally skewed right with a long tail, beach litter suveys results have a high variance relative to the mean. There are methods that can be applied to the data to reduce the effects of outliers when calculating the mean:\n",
    "\n",
    "1. _trimmed mean_: removes a small designated percentage of the largest and smallest values before calculating the mean\n",
    "2. _tri mean_: the weighted average of the median and upper and lower quartiles, $(Q1 + 2Q2 + Q3)/4$.\n",
    "3. _mid hinge: $(Q1 + Q3)/2$.\n",
    "\n",
    "While effective at reducing the effects of the outliers, the previous methods are not as simple to calculate as the mean or the median and therfore the signficance of the results may not be well understood.\n",
    "\n",
    "The median (50th percentile) is an equally good predictor of the central tendency but is much less effected by extreme values compared to the mean. The more a set of data approaches a normal distribution the more closely the median and mean approach. The _median_ and the accompanying  _percentile_ functions are available on most spreadsheet applications.\n",
    "\n",
    "For the reasons cited previously, the median value of a minimum number of samples collected from a defined geographic area durring one sampling period is considered statistically and logistically suitable for beach litter assessments. For the marine environment the minumum number of samples is 40 per subregion and the sampling period is 6 years. {cite}`eubaselines` "
   ]
  },
  {
   "cell_type": "markdown",
   "metadata": {},
   "source": [
    "### Confidence intervals (CIs)\n",
    "\n",
    "Confidence intervals (CIs) help communicate the uncertainty of beach-litter survey results with regards to any general conclusions that may be drawn about the abundance of beach litter within a region. The CI gives the lower and higher range of the estimate of the test statistic given the sample data. \n",
    "\n",
    "The best way to mitigate uncertainty is to have the appropriate number of samples for the region or area of interest. However beach litter surveys have a high variance and any estimate of an aggregate value should reflect that variance or uncertainty. CIs provide a probable range of values given the uncertainty/variance of the data.{cite}`eubaselines`\n",
    "\n",
    "In this method data is NOT excluded from the baseline calculations and confidence intervals:\n",
    "\n",
    "> It was agreed to leave the extreme data in the dataset, while highlighting the need to check to verify extreme data case by case and to apply the median for calculating of averages. This allows the use of all data while not skewing results through single extraordinary high litter count surveys. {cite}`threshholdeu`\n",
    "\n",
    "\n",
    "#### Bootstrap methods:\n",
    "\n",
    "Bootstrapping is a resampling method that uses random sampling with replacement to repeat or simulate the sampling process. Bootstrapping permits the estimation of the sampling distribution of sample statistics using random sampling methods. {cite}`bootstrapdef` {cite}`bsci` {cite}`usingbootstrap`\n",
    "\n",
    "Bootstrap methods are used to calculate the CIs of the test statistics, by repeating the sampling process and evaluating the median at each repetition. The range of values described by the middle 95% of the bootstrap results is the CI for the observed test statisitic.\n",
    "\n",
    "There are several computational methods to choose from such as percentile, BCa, and Student's t to name a few. For this example two methods were tested:\n",
    "\n",
    "1. Percentile bootstrap\n",
    "2. bias-corrected accelerated bootstrap confidence interval (BCa)\n",
    "\n",
    "The _percentile method_ does not account for the _shape_ of the underlying distribution and this can lead to confidence intervals that do not match the data. The BCa corrects that. The implementation of these methods is straight forward using the previously cited packages. {cite}`bcatheory` {cite}`bcaimpdrysdale` {cite}`bcaconfidence`\n",
    "\n",
    "### Comparing bootstrap CIs"
   ]
  },
  {
   "cell_type": "markdown",
   "metadata": {},
   "source": [
    "*Confidence intervals calculated using the Percentile bootstrap method*"
   ]
  },
  {
   "cell_type": "code",
   "execution_count": 6,
   "metadata": {
    "jupyter": {
     "source_hidden": true
    },
    "tags": [
     "hide-input"
    ]
   },
   "outputs": [
    {
     "data": {
      "image/png": "[encoded data removed]",
      "text/plain": [
       "<Figure size 432x288 with 1 Axes>"
      ]
     },
     "metadata": {},
     "output_type": "display_data"
    }
   ],
   "source": [
    "# bootstrap percentile confidence intervals\n",
    "# the number of reps\n",
    "n=5000\n",
    "\n",
    "# keep the observed values\n",
    "observed_median = dt_all[unit_label].median()\n",
    "observed_tenth = dt_all[unit_label].quantile(.15)\n",
    "\n",
    "quantiles = [.1, .2, .5, .9]\n",
    "q_vals = {x:dt_all[unit_label].quantile(x) for x in quantiles}\n",
    "\n",
    "the_cis = {}\n",
    "\n",
    "for a_rank in quantiles:\n",
    "    # place to keep the results from each resample\n",
    "\n",
    "    # for the median\n",
    "    sim_medians = []\n",
    "\n",
    "    # for the tenth percentile\n",
    "    sim_ten = []\n",
    "    for element in np.arange(n):\n",
    "        less = dt_all[unit_label].sample(n=len(dt_all), replace=True)    \n",
    "        the_10th = less.quantile(a_rank)\n",
    "        sim_ten.append(the_10th)\n",
    "    # get the upper and lower range of the test statistic disrtribution:\n",
    "    a_min = np.percentile(sim_ten, 2.5)\n",
    "    a_max = np.percentile(sim_ten, 97.5)\n",
    "    \n",
    "    # add the observed value and update the dict\n",
    "    the_cis.update({F\"{int(a_rank*100)}\":{'2.5% ci':a_min, 'observed': q_vals[a_rank], '97.5% ci': a_max}})\n",
    "\n",
    "# make df\n",
    "p_cis = pd.DataFrame(the_cis)\n",
    "p_cis = p_cis.round(2)\n",
    "p_cis['b-method'] = '%'\n",
    "p_cis.reset_index(inplace=True)\n",
    "\n",
    "fig, axs = plt.subplots()\n",
    "\n",
    "data = p_cis.values\n",
    "ut.hide_spines_ticks_grids(axs)\n",
    "\n",
    "collabels = [\"$\" + F\"{x}\" +\"^{th}$\" for x in p_cis.columns[:-1]]\n",
    "collabels.append('method')\n",
    "\n",
    "the_first_table_data = axs.table(data, colLabels=collabels, colWidths=[.25,*[.15]*5], bbox=[0, 0, 1, 1])\n",
    "\n",
    "a_summary_table_one = sut.make_a_summary_table(the_first_table_data,data,collabels, a_color, s_et_bottom_row=True)\n",
    "\n",
    "a_summary_table_one.get_celld()[(0,0)].get_text().set_text(\" \")\n",
    "\n",
    "plt.show()\n",
    "plt.close()"
   ]
  },
  {
   "cell_type": "markdown",
   "metadata": {},
   "source": [
    "*Confidence intervals calculated using the BCa bootstrap method*"
   ]
  },
  {
   "cell_type": "code",
   "execution_count": 7,
   "metadata": {
    "jupyter": {
     "source_hidden": true
    },
    "tags": [
     "hide-input"
    ]
   },
   "outputs": [
    {
     "data": {
      "image/png": "[encoded data removed]",
      "text/plain": [
       "<Figure size 432x288 with 1 Axes>"
      ]
     },
     "metadata": {},
     "output_type": "display_data"
    }
   ],
   "source": [
    "# this code was modified from this source:\n",
    "# http://bebi103.caltech.edu.s3-website-us-east-1.amazonaws.com/2019a/content/recitations/bootstrapping.html\n",
    "# if you want to get the confidence interval around another point estimate use np.percentile\n",
    "# and add the percentile value as a parameter\n",
    "\n",
    "def draw_bs_sample(data):\n",
    "    \"\"\"Draw a bootstrap sample from a 1D data set.\"\"\"\n",
    "    return np.random.choice(data, size=len(data))\n",
    "\n",
    "def compute_jackknife_reps(data, statfunction=None, stat_param=False):\n",
    "    '''Returns jackknife resampled replicates for the given data and statistical function'''\n",
    "    # Set up empty array to store jackknife replicates\n",
    "    jack_reps = np.empty(len(data))\n",
    "\n",
    "    # For each observation in the dataset, compute the statistical function on the sample\n",
    "    # with that observation removed\n",
    "    for i in range(len(data)):\n",
    "        jack_sample = np.delete(data, i)\n",
    "        if not stat_param:\n",
    "            jack_reps[i] = statfunction(jack_sample)\n",
    "        else:\n",
    "            jack_reps[i] = statfunction(jack_sample, stat_param)          \n",
    "        \n",
    "    return jack_reps\n",
    "\n",
    "\n",
    "def compute_a(jack_reps):\n",
    "    '''Returns the acceleration constant a'''\n",
    "\n",
    "    mean = np.mean(jack_reps)\n",
    "    try:\n",
    "        a = sum([(x**-(i+1)- (mean**-(i+1)))**3 for i,x in enumerate(jack_reps)])\n",
    "        b = sum([(x**-(i+1)-mean-(i+1))**2 for i,x in enumerate(jack_reps)])\n",
    "        c = 6*(b**(3/2))\n",
    "        data = a/c\n",
    "    except:\n",
    "        print(mean)\n",
    "    return data\n",
    "\n",
    "\n",
    "def bootstrap_replicates(data, n_reps=1000, statfunction=None, stat_param=False):\n",
    "    '''Computes n_reps number of bootstrap replicates for given data and statistical function'''\n",
    "    boot_reps = np.empty(n_reps)\n",
    "    for i in range(n_reps):\n",
    "        if not stat_param:\n",
    "            boot_reps[i] = statfunction(draw_bs_sample(data))\n",
    "        else:\n",
    "            boot_reps[i] = statfunction(draw_bs_sample(data), stat_param)     \n",
    "        \n",
    "    return boot_reps\n",
    "\n",
    "\n",
    "def compute_z0(data, boot_reps, statfunction=None, stat_param=False):\n",
    "    '''Computes z0 for given data and statistical function'''\n",
    "    if not stat_param:\n",
    "        s = statfunction(data)\n",
    "    else:\n",
    "        s = statfunction(data, stat_param)\n",
    "    return stats.norm.ppf(np.sum(boot_reps < s) / len(boot_reps))\n",
    "\n",
    "\n",
    "def compute_bca_ci(data, alpha_level, n_reps=1000, statfunction=None, stat_param=False):\n",
    "    '''Returns BCa confidence interval for given data at given alpha level'''\n",
    "    # Compute bootstrap and jackknife replicates\n",
    "    boot_reps = bootstrap_replicates(data, n_reps, statfunction=statfunction, stat_param=stat_param)\n",
    "    jack_reps = compute_jackknife_reps(data, statfunction=statfunction, stat_param=stat_param)\n",
    "\n",
    "    # Compute a and z0\n",
    "    a = compute_a(jack_reps)\n",
    "    z0 = compute_z0(data, boot_reps, statfunction=statfunction, stat_param=stat_param)\n",
    "\n",
    "    # Compute confidence interval indices\n",
    "    alphas = np.array([alpha_level/2., 1-alpha_level/2.])\n",
    "    zs = z0 + stats.norm.ppf(alphas).reshape(alphas.shape+(1,)*z0.ndim)\n",
    "    avals = stats.norm.cdf(z0 + zs/(1-a*zs))\n",
    "    ints = np.round((len(boot_reps)-1)*avals)\n",
    "    ints = np.nan_to_num(ints).astype('int')\n",
    "\n",
    "    # Compute confidence interval\n",
    "    boot_reps = np.sort(boot_reps)\n",
    "    ci_low = boot_reps[ints[0]]\n",
    "    ci_high = boot_reps[ints[1]]\n",
    "    return (ci_low, ci_high)\n",
    "\n",
    "the_bcas = {}\n",
    "for a_rank in quantiles:\n",
    "    an_int = int(a_rank*100)\n",
    "    a_result = compute_bca_ci(dt_all[unit_label].to_numpy(), .05, n_reps=5000, statfunction=np.percentile, stat_param=an_int)\n",
    "    observed = np.percentile(dt_all[unit_label].to_numpy(), an_int)\n",
    "    the_bcas.update({F\"{int(a_rank*100)}\":{'2.5% ci':a_result[0], 'observed': observed, '97.5% ci': a_result[1]}})\n",
    "\n",
    "bca_cis = pd.DataFrame(the_bcas)\n",
    "bca_cis['b-method'] = 'bca'\n",
    "bcas = bca_cis.reset_index()\n",
    "\n",
    "fig, axs = plt.subplots()\n",
    "\n",
    "data = bcas.values\n",
    "ut.hide_spines_ticks_grids(axs)\n",
    "\n",
    "the_first_table_data = axs.table(data, colLabels=collabels, colWidths=[.25,*[.15]*5], bbox=[0, 0, 1, 1])\n",
    "\n",
    "a_summary_table_one = sut.make_a_summary_table(the_first_table_data,data,collabels, a_color, s_et_bottom_row=True)\n",
    "\n",
    "a_summary_table_one.get_celld()[(0,0)].get_text().set_text(\" \")\n",
    "\n",
    "plt.show()\n",
    "plt.close()"
   ]
  },
  {
   "cell_type": "markdown",
   "metadata": {},
   "source": [
    "### Base line values\n",
    "\n",
    "For this set of data the differences between the CIs calculated the BCa method or the percentile method is minimum. The BCa method will be used to report the baseline values and CIs.\n",
    "\n",
    "#### Baseline median value of all survey results\n",
    "\n",
    "Considering only surveys with a length greater than 10 meters and excluding objects less than 2.5cm, the median survey result of all data was 149p/100m with a CI of 130p/100m - 179p/100m. The range of CI of the IQAASL survey results includes the estimated median value of the combined European dataset used to test these methods (149p/100m). While the median value may be greater in Switzerland the mean value from the EU study is 504p/100m versus 290p/100m in Switzerland.{cite}`eubaselines`\n",
    "\n",
    "Suggesting that the EU data set has the higher extreme values but the expected median value from both data sets is similar.\n",
    "\n",
    "#### Baseline median and CI per survey area\n",
    "\n",
    "There were four survey areas in the IQAASL, 3 of which had more than 40 samples durring the SP. "
   ]
  },
  {
   "cell_type": "markdown",
   "metadata": {},
   "source": [
    "*The median and the 95% confidence interval of the Linth, Aare and Rhône survey areas. The Ticino survey area is not included for lack of a sufficient quantity of surveys.*"
   ]
  },
  {
   "cell_type": "code",
   "execution_count": 8,
   "metadata": {
    "jupyter": {
     "source_hidden": true
    },
    "tags": [
     "hide-input"
    ]
   },
   "outputs": [
    {
     "data": {
      "image/png": "[encoded data removed]",
      "text/plain": [
       "<Figure size 432x288 with 1 Axes>"
      ]
     },
     "metadata": {},
     "output_type": "display_data"
    }
   ],
   "source": [
    "bassins = [\"linth\", \"aare\", \"rhone\"]\n",
    "the_sas = {}\n",
    "for a_bassin in bassins:\n",
    "    an_int = int(a_rank*100)\n",
    "    a_result = compute_bca_ci(dt_all[dt_all.river_bassin == a_bassin][unit_label].to_numpy(), .05, n_reps=5000, statfunction=np.percentile, stat_param=50)\n",
    "    observed = np.percentile(dt_all[dt_all.river_bassin == a_bassin][unit_label].to_numpy(), 50)\n",
    "    the_sas.update({a_bassin:{'2.5% ci':a_result[0], 'observed': observed, '97.5% ci': a_result[1]}})\n",
    "\n",
    "sas = pd.DataFrame(the_sas)\n",
    "sas['b-method'] = 'bca'\n",
    "sas = sas.reset_index()\n",
    "\n",
    "fig, axs = plt.subplots()\n",
    "\n",
    "data = sas.values\n",
    "ut.hide_spines_ticks_grids(axs)\n",
    "\n",
    "the_first_table_data = axs.table(data, colLabels=sas.columns, colWidths=[.25,*[.15]*5], bbox=[0, 0, 1, 1])\n",
    "\n",
    "a_summary_table_one = sut.make_a_summary_table(the_first_table_data,data,sas.columns, a_color, s_et_bottom_row=True)\n",
    "\n",
    "a_summary_table_one.get_celld()[(0,0)].get_text().set_text(\" \")\n",
    "\n",
    "plt.show()\n",
    "plt.close()"
   ]
  },
  {
   "cell_type": "markdown",
   "metadata": {},
   "source": [
    "## Extreme values\n",
    "\n",
    "As was noted earlier, extreme values or outliers are not excluded from the data when calculating baselines or CIs. However, identifying extreme values and where and when they occur is an essential part of the monitoring process.\n",
    "\n",
    "The occurrence of extreme values can influence the average of the data and the interpretation of survey results. According to the JRC report:\n",
    "\n",
    ">  The methodology for the identification of extreme values can be either expert judgement, or be based on statistical and modelling approaches, such as the application of Tukey’s box plots to detect potential outliers. For skewed distributions, the adjusted box plot is more appropriate. {cite}`eubaselines`\n",
    "\n",
    "Boxplots are a method to locate extreme values based on the percentile ranking of the surveys. This method is compatible with the assessment metric and boxplots are fairly easy to resolve visually."
   ]
  },
  {
   "cell_type": "markdown",
   "metadata": {},
   "source": [
    "### Adjusted boxplots\n",
    "\n",
    "Tukey’s boxplot is used to visualize the distribution of a univariate data set. The samples that fall within the first quartile ($Q_1$) and the third quartile ($Q_3$) are considered to be within the innerquartial range (IQR) = $Q_3 - Q_1$. Points out side of the inner quartile range are considered outliers if their value is greater or less than one of two limits:\n",
    "\n",
    "* lower limit = $Q_1 - (1.5*IQR)$\n",
    "\n",
    "* upper limit = $Q_3 + (1.5*IQR)$\n",
    "\n",
    "Adusting the boxplot involves replacing the constant 1.5 with another parameter. This parameter is calculated using a method called the _medcouple_ (MC) and applying the result of that method to the constant 1.5. {cite}`adjbox` {cite}`medcouple` The new calculation looks like this:\n",
    "\n",
    "* lower limit = $Q_1 - (1.5e^{-4MC}*IQR)$\n",
    "\n",
    "* upper limit = $Q_3 + (1.5e^{3MC}*IQR)$\n",
    "\n",
    "*The limit at which a survey is conisdered _extreme_ extends to the 98th percentile when the boxplots are adjusted as opposed to the 90th percentile if the constant is left at 1.5.*"
   ]
  },
  {
   "cell_type": "code",
   "execution_count": 9,
   "metadata": {
    "jupyter": {
     "source_hidden": true
    },
    "tags": [
     "hide-input"
    ]
   },
   "outputs": [
    {
     "data": {
      "image/png": "[encoded data removed]",
      "text/plain": [
       "<Figure size 576x576 with 2 Axes>"
      ]
     },
     "metadata": {
      "needs_background": "light"
     },
     "output_type": "display_data"
    }
   ],
   "source": [
    "# implementation of medcouple\n",
    "a_whis = medcouple(dt_all[unit_label].to_numpy())\n",
    "\n",
    "# get the ecdf \n",
    "ecdf = ECDF(dt_all[unit_label].to_numpy())\n",
    "\n",
    "# quantiles and IQR of the data\n",
    "q1 = dt_all[unit_label].quantile(0.25)\n",
    "q3 =dt_all[unit_label].quantile(0.75)\n",
    "iqr = q3 - q1\n",
    "\n",
    "# the upper and lower limit of extreme values unadjusted:\n",
    "limit_lower = q1 - 1.5*iqr\n",
    "limit_upper = q3 + 1.5*iqr\n",
    "\n",
    "# the upper and lower limit of extreme values adjusted:\n",
    "a_fence = q1 - (1.5*(math.exp((-4*a_whis))))*iqr\n",
    "a_2fence = q3 + (1.5*(math.exp((3*a_whis))))*iqr\n",
    "\n",
    "# source = https://stackoverflow.com/questions/12127635/matplotlib-can-we-draw-a-histogram-and-a-box-plot-on-a-same-chart\n",
    "fig, (ax_box, ax_hist) = plt.subplots(2, sharex=True, gridspec_kw={\"height_ratios\": (.15, .85)}, figsize=(8,8))\n",
    "\n",
    "# Add a graph in each part\n",
    "sns.boxplot(x=dt_all[unit_label], ax=ax_box)\n",
    "sns.histplot(x=dt_all[unit_label], ax=ax_hist)\n",
    "\n",
    "# get the limits of the x and y axix\n",
    "xamax = ax_hist.get_xlim()\n",
    "y_max= ax_hist.get_ylim()\n",
    "\n",
    "# no xlabel on the top axis\n",
    "ax_box.set_xlabel(\" \")\n",
    "\n",
    "# fill the areas concerened by each limt\n",
    "ax_hist.fill_between(x=[limit_upper,xamax[1]], y1=y_max[1], label='upper limit boxplot', alpha=0.1, color=\"dodgerblue\", linewidth=0.1)\n",
    "ax_hist.fill_between(x=[a_2fence,xamax[1]], y1=y_max[1],label='upper limit adjusted', hatch='x', edgecolor='magenta', facecolor='none',alpha=0.2)\n",
    "\n",
    "ax_box.fill_between(x=[limit_upper,xamax[1]], y1=ax_box.get_ylim()[1], y2=ax_box.get_ylim()[0],  label='upper limit boxplot', alpha=0.1, color=\"dodgerblue\", linewidth=0.1)\n",
    "ax_box.fill_between(x=[a_2fence,xamax[1]], y1=ax_box.get_ylim()[1], y2=ax_box.get_ylim()[0], label='upper limit adjusted', hatch='x', edgecolor='magenta', facecolor='none',alpha=0.2)\n",
    "\n",
    "# get legend\n",
    "handles, labels = ax_box.get_legend_handles_labels()\n",
    "plt.legend(handles, labels, fontsize=14)\n",
    "\n",
    "plt.show()"
   ]
  },
  {
   "cell_type": "code",
   "execution_count": 10,
   "metadata": {
    "jupyter": {
     "source_hidden": true
    },
    "tags": [
     "remove-input"
    ]
   },
   "outputs": [
    {
     "data": {
      "text/markdown": [
       "\n",
       "*The difference between adjusted and normal boxplots. Adjusted = 1784 p/100m,  unadjusted = 687 p/100m.*\n"
      ],
      "text/plain": [
       "<IPython.core.display.Markdown object>"
      ]
     },
     "execution_count": 10,
     "metadata": {},
     "output_type": "execute_result"
    }
   ],
   "source": [
    "caption = F\"\"\"\n",
    "*The difference between adjusted and normal boxplots. Adjusted = {int(a_2fence)} {unit_label},  unadjusted = {int(limit_upper)} {unit_label}.*\n",
    "\"\"\"\n",
    "md(caption)"
   ]
  },
  {
   "cell_type": "markdown",
   "metadata": {},
   "source": [
    "Using the adjusted boxplots pushes the extreme value threshold (EVT) to over 1600p/100m. However the unadjusted boxplots are very close to the expected $90{th}$ percentile of the survey data."
   ]
  },
  {
   "cell_type": "markdown",
   "metadata": {},
   "source": [
    "### Modeling\n",
    "\n",
    "Extreme values can be identified by assuming the data belong to some underlying known statistical distribution. In general count data are assumed to be Poisson distributed with mean = varaince. The data from IQAASL and beach-litter data in general do not meet this criteria, the variance is usually greater than the mean. The negative binomial (NB2) distribution allows for this. {cite}`cameron` {cite}`wolfram`\n",
    "\n",
    "> The modelling approach for the identification of extreme values is then performed by fitting the NB-distribution to the data by means of maximum likelihood and tagging all values in the right tail as potentially extreme values if the probability that they belong to the fitted NB-distribution is less than, e.g. 0.001. {cite}`threshholdeu`\n",
    "\n",
    "#### NB method of moments\n",
    "\n",
    "Modeling data is a vast domain and many fields and industries have developed specific algorythms using parameters from known relationships. The techniques from the MSFD are for greater temporal and spatial ranges than those defined by the IQAASL. The purpose of modeling for this example is to simply identify probable extreme values of aggregated data, a generalist approach by definition.\n",
    "\n",
    "Fitting the NB distribution has all to do with estimating parameters, _maximum likelihood estimation_ can be an involved process. The method of moments produces comparable results and the parameters can be taken from the data {cite}`mlenb` {cite}`nbinom` {cite}`examplemmoments`.  \n",
    "\n",
    "The ratio of distributed objects to contributed objects is used to parametrize the distribution, see ([_Asessing transport_](transport) for details. There are several basic statistical packages that cover this use, the examples here and elsewhere in this publication come from SciPy and statsmodels. {cite}`2020SciPy` {cite}`medcouple` "
   ]
  },
  {
   "cell_type": "markdown",
   "metadata": {},
   "source": [
    "*Estimating the parameters of the underlying NB distribution using the mean and the variance from the observed values* \n",
    "\n",
    "*implementation: https://docs.scipy.org/doc/scipy/reference/generated/scipy.stats.nbinom.html*"
   ]
  },
  {
   "cell_type": "code",
   "execution_count": 11,
   "metadata": {
    "tags": [
     "hide-input"
    ]
   },
   "outputs": [
    {
     "name": "stdout",
     "output_type": "stream",
     "text": [
      "2070.0 3199.984156517351\n"
     ]
    },
    {
     "data": {
      "image/png": "[encoded data removed]",
      "text/plain": [
       "<Figure size 576x576 with 2 Axes>"
      ]
     },
     "metadata": {
      "needs_background": "light"
     },
     "output_type": "display_data"
    }
   ],
   "source": [
    "# the data to model\n",
    "vals = dt_all[unit_label].to_numpy()\n",
    "\n",
    "# whiskers for the boxplots\n",
    "a_whis = medcouple(vals)\n",
    "\n",
    "# the ratio of distributed items to contributed items in rural locations:\n",
    "# see the assessing transport notebook for a complete epxlanation\n",
    "dispersion_param = 1.7*.8\n",
    "\n",
    "# the variance\n",
    "var = np.var(vals)\n",
    "\n",
    "# the average\n",
    "mean = np.mean(vals)\n",
    "\n",
    "# dispersion\n",
    "p = (mean/var)\n",
    "n = (mean**2/(var-mean))*dispersion_param\n",
    "\n",
    "# point estimates from for the 98 and 90 %ile\n",
    "rv = stats.nbinom(n, p)\n",
    "sim_98 = rv.ppf(.98)\n",
    "obs_98 = np.quantile(vals, .98)\n",
    "\n",
    "sim_90 = rv.ppf(.9)\n",
    "obs_90 = np.quantile(vals, .9)\n",
    "\n",
    "# simulated data\n",
    "r = stats.nbinom.rvs(n,p, size=len(vals))\n",
    "a_whis = medcouple(r)\n",
    "\n",
    "# quantiles and IQR of the data\n",
    "q1 = np.percentile(r, 25)\n",
    "q3 =np.percentile(r,75)\n",
    "iqr = q3 - q1\n",
    "\n",
    "# the upper and lower limit of extreme values unadjusted:\n",
    "limit_lower = q1 - 1.5*iqr\n",
    "limit_upper = q3 + 1.5*iqr\n",
    "\n",
    "# the upper and lower limit of extreme values adjusted:\n",
    "a_fence = q1 - (1.5*(math.exp((-4*a_whis))))*iqr\n",
    "a_2fence = q3 + (1.5*(math.exp((3*a_whis))))*iqr\n",
    "\n",
    "print(sim_98, a_2fence)\n",
    "\n",
    "# format data for charting\n",
    "df = pd.DataFrame({unit_label:vals, 'group':'observed'})\n",
    "df = df.append(pd.DataFrame({unit_label:r, 'group':'simulated'}))\n",
    "\n",
    "fig, (axone, axtwo) = plt.subplots(2, sharex=True, gridspec_kw={\"height_ratios\": (.15, .85)}, figsize=(8,8))\n",
    "\n",
    "# Add a graph in each part\n",
    "sns.boxplot(data=df[df.group == 'simulated'][unit_label], orient='h',ax=axone)\n",
    "sns.histplot(data=df, x=unit_label, hue='group', stat='count', multiple=\"layer\", legend=True, ax=axtwo)\n",
    "\n",
    "# get the limits of the x and y axis\n",
    "xamax = axtwo.get_xlim()\n",
    "y_max= axtwo.get_ylim()\n",
    "\n",
    "# no xlabel on the top axis\n",
    "axone.set_xlabel(\" \")\n",
    "\n",
    "# fill the areas concerened by each limit\n",
    "axtwo.fill_between(x=[sim_90,xamax[1]], y1=y_max[1], label='lower limit simulated', alpha=0.1, color=\"dodgerblue\", linewidth=0.1)\n",
    "axtwo.fill_between(x=[sim_98,xamax[1]], y1=y_max[1],label='upper limit simulated', hatch='x', edgecolor='magenta', facecolor='none',alpha=0.2)\n",
    "\n",
    "axone.fill_between(x=[sim_90,xamax[1]], y1=axone.get_ylim()[1], y2=axone.get_ylim()[0],  label='upper limit boxplot', alpha=0.1, color=\"dodgerblue\", linewidth=0.1)\n",
    "axone.fill_between(x=[sim_98,xamax[1]], y1=axone.get_ylim()[1], y2=axone.get_ylim()[0], label='upper limit adjusted', hatch='x', edgecolor='magenta', facecolor='none',alpha=0.2)\n",
    "\n",
    "plt.show()"
   ]
  },
  {
   "cell_type": "code",
   "execution_count": 12,
   "metadata": {
    "tags": [
     "remove-input"
    ]
   },
   "outputs": [
    {
     "data": {
      "text/markdown": [
       "\n",
       "*Point estimate of the 98th percentile from simulated data = 2070 p/100m, estimate of the 90th percentile = 1053 p/100m*\n"
      ],
      "text/plain": [
       "<IPython.core.display.Markdown object>"
      ]
     },
     "execution_count": 12,
     "metadata": {},
     "output_type": "execute_result"
    }
   ],
   "source": [
    "caption = F\"\"\"\n",
    "*Point estimate of the 98th percentile from simulated data = {int(sim_98)} {unit_label}, estimate of the 90th percentile = {int(sim_90)} {unit_label}*\n",
    "\"\"\"\n",
    "md(caption)"
   ]
  },
  {
   "cell_type": "code",
   "execution_count": 23,
   "metadata": {},
   "outputs": [],
   "source": [
    "import statsmodels.distributions.discrete as distr\n",
    "from statsmodels.discrete.discrete_model import NegativeBinomialP, Poisson, GeneralizedPoisson\n",
    "from statsmodels.discrete.count_model import (ZeroInflatedNegativeBinomialP, ZeroInflatedPoisson,\n",
    "                                              ZeroInflatedGeneralizedPoisson)\n",
    "import statsmodels.discrete._diagnostics_count as dia"
   ]
  },
  {
   "cell_type": "code",
   "execution_count": 41,
   "metadata": {},
   "outputs": [],
   "source": [
    "# expected_params = [1, 1, 0.5]\n",
    "# np.random.seed(987123)\n",
    "# nobs = 500\n",
    "# exog = np.ones((nobs, 2))\n",
    "# exog[:nobs//2, 1] = 0\n",
    "# # offset is used to create misspecification of the model\n",
    "# # for predicted probabilities conditional moment test\n",
    "# #offset = 0.5 * np.random.randn(nobs)\n",
    "# range_mix = 0.5\n",
    "# offset = -range_mix / 2 + range_mix * np.random.rand(nobs)\n",
    "# offset = 0\n",
    "# mu_true = np.exp(exog.dot(expected_params[:-1]) + offset)\n",
    "# prob_infl = 0.15\n",
    "# # endog = distr.zinegbin.rvs(mu_true, expected_params[-1],\n",
    "# #                            2, prob_infl, size=mu_true.shape)\n",
    "\n"
   ]
  },
  {
   "cell_type": "code",
   "execution_count": 67,
   "metadata": {},
   "outputs": [],
   "source": [
    "endog = dt_all[unit_label].to_numpy()\n",
    "exog = [1]*len(endog)\n"
   ]
  },
  {
   "cell_type": "code",
   "execution_count": 68,
   "metadata": {},
   "outputs": [
    {
     "name": "stdout",
     "output_type": "stream",
     "text": [
      "Optimization terminated successfully.\n",
      "         Current function value: 6.665874\n",
      "         Iterations: 5\n",
      "         Function evaluations: 9\n",
      "         Gradient evaluations: 9\n"
     ]
    }
   ],
   "source": [
    "model_nb = NegativeBinomialP(endog, exog, p=2)\n",
    "res_nb = model_nb.fit( maxiter=5000, maxfun=5000)"
   ]
  },
  {
   "cell_type": "code",
   "execution_count": null,
   "metadata": {},
   "outputs": [],
   "source": [
    "\n"
   ]
  },
  {
   "cell_type": "code",
   "execution_count": 57,
   "metadata": {},
   "outputs": [
    {
     "data": {
      "text/html": [
       "<table class=\"simpletable\">\n",
       "<caption>NegativeBinomialP Regression Results</caption>\n",
       "<tr>\n",
       "  <th>Dep. Variable:</th>           <td>y</td>         <th>  No. Observations:  </th>  <td>   371</td>  \n",
       "</tr>\n",
       "<tr>\n",
       "  <th>Model:</th>           <td>NegativeBinomialP</td> <th>  Df Residuals:      </th>  <td>   370</td>  \n",
       "</tr>\n",
       "<tr>\n",
       "  <th>Method:</th>                 <td>MLE</td>        <th>  Df Model:          </th>  <td>     0</td>  \n",
       "</tr>\n",
       "<tr>\n",
       "  <th>Date:</th>            <td>Mon, 23 Aug 2021</td>  <th>  Pseudo R-squ.:     </th> <td>4.516e-13</td>\n",
       "</tr>\n",
       "<tr>\n",
       "  <th>Time:</th>                <td>13:20:21</td>      <th>  Log-Likelihood:    </th> <td> -2473.0</td> \n",
       "</tr>\n",
       "<tr>\n",
       "  <th>converged:</th>             <td>True</td>        <th>  LL-Null:           </th> <td> -2473.0</td> \n",
       "</tr>\n",
       "<tr>\n",
       "  <th>Covariance Type:</th>     <td>nonrobust</td>     <th>  LLR p-value:       </th>  <td>   nan</td>  \n",
       "</tr>\n",
       "</table>\n",
       "<table class=\"simpletable\">\n",
       "<tr>\n",
       "    <td></td>       <th>coef</th>     <th>std err</th>      <th>z</th>      <th>P>|z|</th>  <th>[0.025</th>    <th>0.975]</th>  \n",
       "</tr>\n",
       "<tr>\n",
       "  <th>const</th> <td>    5.6703</td> <td>    0.056</td> <td>  101.961</td> <td> 0.000</td> <td>    5.561</td> <td>    5.779</td>\n",
       "</tr>\n",
       "<tr>\n",
       "  <th>alpha</th> <td>    1.1439</td> <td>    0.074</td> <td>   15.561</td> <td> 0.000</td> <td>    1.000</td> <td>    1.288</td>\n",
       "</tr>\n",
       "</table>"
      ],
      "text/plain": [
       "<class 'statsmodels.iolib.summary.Summary'>\n",
       "\"\"\"\n",
       "                     NegativeBinomialP Regression Results                     \n",
       "==============================================================================\n",
       "Dep. Variable:                      y   No. Observations:                  371\n",
       "Model:              NegativeBinomialP   Df Residuals:                      370\n",
       "Method:                           MLE   Df Model:                            0\n",
       "Date:                Mon, 23 Aug 2021   Pseudo R-squ.:               4.516e-13\n",
       "Time:                        13:20:21   Log-Likelihood:                -2473.0\n",
       "converged:                       True   LL-Null:                       -2473.0\n",
       "Covariance Type:            nonrobust   LLR p-value:                       nan\n",
       "==============================================================================\n",
       "                 coef    std err          z      P>|z|      [0.025      0.975]\n",
       "------------------------------------------------------------------------------\n",
       "const          5.6703      0.056    101.961      0.000       5.561       5.779\n",
       "alpha          1.1439      0.074     15.561      0.000       1.000       1.288\n",
       "==============================================================================\n",
       "\"\"\""
      ]
     },
     "execution_count": 57,
     "metadata": {},
     "output_type": "execute_result"
    }
   ],
   "source": [
    "res_nb.summary()"
   ]
  },
  {
   "cell_type": "code",
   "execution_count": 59,
   "metadata": {},
   "outputs": [
    {
     "data": {
      "text/plain": [
       "{'optimizer': 'bfgs',\n",
       " 'start_params': array([5.67027122, 2.55271018]),\n",
       " 'maxiter': 5000,\n",
       " 'full_output': 1,\n",
       " 'disp': 1,\n",
       " 'fargs': (),\n",
       " 'callback': <function statsmodels.discrete.discrete_model.NegativeBinomialP.fit.<locals>.<lambda>(*x)>,\n",
       " 'retall': False,\n",
       " 'maxfun': 5000,\n",
       " 'extra_fit_funcs': {},\n",
       " 'gtol': 1e-05,\n",
       " 'norm': inf,\n",
       " 'epsilon': 1.4901161193847656e-08}"
      ]
     },
     "execution_count": 59,
     "metadata": {},
     "output_type": "execute_result"
    }
   ],
   "source": [
    "res_nb.mle_settings"
   ]
  },
  {
   "cell_type": "code",
   "execution_count": 65,
   "metadata": {},
   "outputs": [
    {
     "data": {
      "text/plain": [
       "4957.911199807004"
      ]
     },
     "execution_count": 65,
     "metadata": {},
     "output_type": "execute_result"
    }
   ],
   "source": [
    "res_nb.bic"
   ]
  },
  {
   "cell_type": "code",
   "execution_count": 74,
   "metadata": {},
   "outputs": [
    {
     "data": {
      "text/plain": [
       "0.001352121000613608"
      ]
     },
     "execution_count": 74,
     "metadata": {},
     "output_type": "execute_result"
    }
   ],
   "source": [
    "p"
   ]
  },
  {
   "cell_type": "code",
   "execution_count": 79,
   "metadata": {},
   "outputs": [
    {
     "data": {
      "text/plain": [
       "<AxesSubplot:ylabel='Count'>"
      ]
     },
     "execution_count": 79,
     "metadata": {},
     "output_type": "execute_result"
    },
    {
     "data": {
      "image/png": "[encoded data removed]",
      "text/plain": [
       "<Figure size 432x288 with 1 Axes>"
      ]
     },
     "metadata": {
      "needs_background": "light"
     },
     "output_type": "display_data"
    }
   ],
   "source": [
    "from scipy.stats import gamma\n",
    "# r = gamma.rvs(1.1438, size=385)\n",
    "r = stats.nbinom.rvs(1,p, size=len(vals))\n",
    "sns.histplot(r)\n",
    "sns.histplot(vals)"
   ]
  },
  {
   "cell_type": "code",
   "execution_count": 66,
   "metadata": {},
   "outputs": [
    {
     "ename": "ModuleNotFoundError",
     "evalue": "No module named 'statsmodels.discrete.discrete_model.NegativeBinomial'; 'statsmodels.discrete.discrete_model' is not a package",
     "output_type": "error",
     "traceback": [
      "\u001b[0;31m---------------------------------------------------------------------------\u001b[0m",
      "\u001b[0;31mModuleNotFoundError\u001b[0m                       Traceback (most recent call last)",
      "\u001b[0;32m/tmp/ipykernel_21446/2873744557.py\u001b[0m in \u001b[0;36m<module>\u001b[0;34m\u001b[0m\n\u001b[0;32m----> 1\u001b[0;31m \u001b[0;32mimport\u001b[0m \u001b[0mstatsmodels\u001b[0m\u001b[0;34m.\u001b[0m\u001b[0mdiscrete\u001b[0m\u001b[0;34m.\u001b[0m\u001b[0mdiscrete_model\u001b[0m\u001b[0;34m.\u001b[0m\u001b[0mNegativeBinomial\u001b[0m \u001b[0;32mas\u001b[0m \u001b[0mnbl\u001b[0m\u001b[0;34m\u001b[0m\u001b[0;34m\u001b[0m\u001b[0m\n\u001b[0m",
      "\u001b[0;31mModuleNotFoundError\u001b[0m: No module named 'statsmodels.discrete.discrete_model.NegativeBinomial'; 'statsmodels.discrete.discrete_model' is not a package"
     ]
    }
   ],
   "source": [
    "import statsmodels.discrete.discrete_model.NegativeBinomial as nbl"
   ]
  },
  {
   "cell_type": "code",
   "execution_count": 60,
   "metadata": {},
   "outputs": [
    {
     "data": {
      "text/plain": [
       "['__class__',\n",
       " '__delattr__',\n",
       " '__dict__',\n",
       " '__dir__',\n",
       " '__doc__',\n",
       " '__eq__',\n",
       " '__format__',\n",
       " '__ge__',\n",
       " '__getattribute__',\n",
       " '__getstate__',\n",
       " '__gt__',\n",
       " '__hash__',\n",
       " '__init__',\n",
       " '__init_subclass__',\n",
       " '__le__',\n",
       " '__lt__',\n",
       " '__module__',\n",
       " '__ne__',\n",
       " '__new__',\n",
       " '__reduce__',\n",
       " '__reduce_ex__',\n",
       " '__repr__',\n",
       " '__setattr__',\n",
       " '__sizeof__',\n",
       " '__str__',\n",
       " '__subclasshook__',\n",
       " '__weakref__',\n",
       " '_cache',\n",
       " '_data_attr',\n",
       " '_data_in_cache',\n",
       " '_get_endog_name',\n",
       " '_get_robustcov_results',\n",
       " '_use_t',\n",
       " 'aic',\n",
       " 'bic',\n",
       " 'bse',\n",
       " 'conf_int',\n",
       " 'cov_kwds',\n",
       " 'cov_params',\n",
       " 'cov_type',\n",
       " 'df_model',\n",
       " 'df_resid',\n",
       " 'f_test',\n",
       " 'fittedvalues',\n",
       " 'get_margeff',\n",
       " 'initialize',\n",
       " 'k_constant',\n",
       " 'llf',\n",
       " 'llnull',\n",
       " 'llr',\n",
       " 'llr_pvalue',\n",
       " 'lnalpha',\n",
       " 'lnalpha_std_err',\n",
       " 'load',\n",
       " 'mle_retvals',\n",
       " 'mle_settings',\n",
       " 'model',\n",
       " 'nobs',\n",
       " 'normalized_cov_params',\n",
       " 'params',\n",
       " 'predict',\n",
       " 'prsquared',\n",
       " 'pvalues',\n",
       " 'remove_data',\n",
       " 'resid',\n",
       " 'resid_response',\n",
       " 'save',\n",
       " 'scale',\n",
       " 'set_null_options',\n",
       " 'summary',\n",
       " 'summary2',\n",
       " 't_test',\n",
       " 't_test_pairwise',\n",
       " 'tvalues',\n",
       " 'use_t',\n",
       " 'wald_test',\n",
       " 'wald_test_terms']"
      ]
     },
     "execution_count": 60,
     "metadata": {},
     "output_type": "execute_result"
    }
   ],
   "source": [
    "dir(res_nb)"
   ]
  },
  {
   "cell_type": "code",
   "execution_count": 54,
   "metadata": {},
   "outputs": [
    {
     "ename": "AttributeError",
     "evalue": "'NegativeBinomialResults' object has no attribute 'pdf'",
     "output_type": "error",
     "traceback": [
      "\u001b[0;31m---------------------------------------------------------------------------\u001b[0m",
      "\u001b[0;31mAttributeError\u001b[0m                            Traceback (most recent call last)",
      "\u001b[0;32m/tmp/ipykernel_21446/2453155105.py\u001b[0m in \u001b[0;36m<module>\u001b[0;34m\u001b[0m\n\u001b[1;32m      3\u001b[0m \u001b[0;34m\u001b[0m\u001b[0m\n\u001b[1;32m      4\u001b[0m \u001b[0;34m\u001b[0m\u001b[0m\n\u001b[0;32m----> 5\u001b[0;31m \u001b[0mres_nb\u001b[0m\u001b[0;34m.\u001b[0m\u001b[0mpdf\u001b[0m\u001b[0;34m(\u001b[0m\u001b[0;34m)\u001b[0m\u001b[0;34m\u001b[0m\u001b[0;34m\u001b[0m\u001b[0m\n\u001b[0m",
      "\u001b[0;32m~/anaconda3/envs/iqaasl/lib/python3.8/site-packages/statsmodels/base/wrapper.py\u001b[0m in \u001b[0;36m__getattribute__\u001b[0;34m(self, attr)\u001b[0m\n\u001b[1;32m     32\u001b[0m             \u001b[0;32mpass\u001b[0m\u001b[0;34m\u001b[0m\u001b[0;34m\u001b[0m\u001b[0m\n\u001b[1;32m     33\u001b[0m \u001b[0;34m\u001b[0m\u001b[0m\n\u001b[0;32m---> 34\u001b[0;31m         \u001b[0mobj\u001b[0m \u001b[0;34m=\u001b[0m \u001b[0mgetattr\u001b[0m\u001b[0;34m(\u001b[0m\u001b[0mresults\u001b[0m\u001b[0;34m,\u001b[0m \u001b[0mattr\u001b[0m\u001b[0;34m)\u001b[0m\u001b[0;34m\u001b[0m\u001b[0;34m\u001b[0m\u001b[0m\n\u001b[0m\u001b[1;32m     35\u001b[0m         \u001b[0mdata\u001b[0m \u001b[0;34m=\u001b[0m \u001b[0mresults\u001b[0m\u001b[0;34m.\u001b[0m\u001b[0mmodel\u001b[0m\u001b[0;34m.\u001b[0m\u001b[0mdata\u001b[0m\u001b[0;34m\u001b[0m\u001b[0;34m\u001b[0m\u001b[0m\n\u001b[1;32m     36\u001b[0m         \u001b[0mhow\u001b[0m \u001b[0;34m=\u001b[0m \u001b[0mself\u001b[0m\u001b[0;34m.\u001b[0m\u001b[0m_wrap_attrs\u001b[0m\u001b[0;34m.\u001b[0m\u001b[0mget\u001b[0m\u001b[0;34m(\u001b[0m\u001b[0mattr\u001b[0m\u001b[0;34m)\u001b[0m\u001b[0;34m\u001b[0m\u001b[0;34m\u001b[0m\u001b[0m\n",
      "\u001b[0;31mAttributeError\u001b[0m: 'NegativeBinomialResults' object has no attribute 'pdf'"
     ]
    }
   ],
   "source": [
    "\n",
    "probs_nb = res_nb.predict(which='prob')\n",
    "probsm_nb = probs_nb.mean(0)\n",
    "\n",
    "\n"
   ]
  },
  {
   "cell_type": "code",
   "execution_count": 50,
   "metadata": {},
   "outputs": [
    {
     "data": {
      "text/plain": [
       "4485"
      ]
     },
     "execution_count": 50,
     "metadata": {},
     "output_type": "execute_result"
    }
   ],
   "source": [
    "len(probsm_nb)"
   ]
  },
  {
   "cell_type": "code",
   "execution_count": 52,
   "metadata": {},
   "outputs": [
    {
     "data": {
      "text/plain": [
       "array([0.0062388 , 0.00543739, 0.00507998, 0.00485229, 0.00468553,\n",
       "       0.00455389, 0.004445  , 0.00435198, 0.00427066, 0.0041983 ])"
      ]
     },
     "execution_count": 52,
     "metadata": {},
     "output_type": "execute_result"
    }
   ],
   "source": [
    "probs_nb[0][:10]"
   ]
  },
  {
   "cell_type": "markdown",
   "metadata": {},
   "source": []
  },
  {
   "cell_type": "markdown",
   "metadata": {},
   "source": [
    "## Discussion\n",
    "\n",
    "The adoption of a standard measuring system and evaluation method is an important development. This allows for standardized analysis accross geographical regions and aggregation levels. Stakeholders now have an objective measurement and a method to measure.\n",
    "\n",
    "* aggregate groups can ba analysed across regions\n",
    "\n",
    "* one time events can be compared to regional baselines\n",
    "\n",
    "This allows policy makers to measure the effects of current and past mitigation strategies. This report and the manner in which it was produced is one benefit of standardization.\n",
    "\n",
    "### Thresholds\n",
    "\n",
    "The European Union has set a european wide threshold value of $\\approx$ 20p/100m based on data collected in 2015-2016. This value is based on the $15^{th}$ percentile of the 2015-2016 results. In Switzerland the $15^{th}$ percentile is between 39 and 53 p/100m for 2020-2021.\n",
    "\n",
    "### Number of samples\n",
    "\n",
    "The recomended number of samples is by area of analysis. For an adequate analysis of a single body of water then the number of samples should be comensurate with the size and samples should be taken throughout the sampling period. However, individual results can be compared directly to baseline values for the region of interest. That is a direct benefit of using the median survey result.\n",
    "\n",
    "### Extreme values\n",
    "\n",
    "The exact method to define an extreme value should be evaluated. In this article we used the EU methods because they are applicable for a larger geographic scale. Regional and municipal stakeholders most likely have specific knowledge that can explain extreme results much more efficiently than a model.\n",
    "\n",
    "While modeling of the data and expected results is an interesting and challenging field it is NOT a prerequisite for defining extreme values. If there are enough samples then the extreme value can be set off the percentile rank of the current data set for the region of interest. Practically speaking this means that there should be enough samples and those samples need to be distributed geographically within a survey area such that individual surveys can be compared directly to the regional results.\n",
    "\n",
    "This simplifies the assessment of individual surveys by local leaders. Thus empowering them to address the chalenges directly and in coordination with other stakeholders in the region.\n",
    "\n",
    "### Quality people = quality data\n",
    "\n",
    "The quality of the data is directly related to the training and support of the surveyors. The identification process is long at first and many objects that are encountered are not part of an _average persons_ day. Encouraging meetings between surveyors and having a core team to assisst in the development and training ensures that the surveys are conducted consistently over time.\n",
    "\n",
    "The surveyors are also responsible for data integrity and analysis of a survey area or multiple survey areas. This implies that the surveyors need to have or need to develop the skills required to gather, analyze and present the data using the standardized methods.\n",
    "\n",
    "### Objective criteria , analysis and communication\n",
    "\n",
    "The data gathered during IQASL, SLR and the EU data from 2015-2016 are all compatible. This is because they were all based on the same protocol and that protocol **was designed to gather data as accurately as possible given limited resources and a large geographic area**. The same reasoning should apply to the analysis and communication of results, cost effective and broad based. A consistent and objective analysis is the best communication tool and should be addresed to municipal leaders, cantonal authorities and NGOS in the field.\n",
    "\n",
    "Municipalities and regional NGOS usually have well developed communication methods. These results allow leaders to put the global problem in a local context with results from locations that the population is familiar with, that are in some instances just down the street.\n",
    "\n",
    "> There is a difference in urgency of action if you tell someone that a building 50km away is burining or the neighbors house is burning.\n",
    "\n",
    "The importance of this is often overlooked and has repercussions with respect to ressource allocation and prioritization of mitigation and attenuation strategies."
   ]
  },
  {
   "cell_type": "code",
   "execution_count": 13,
   "metadata": {
    "jupyter": {
     "source_hidden": true
    },
    "tags": [
     "remove-input"
    ]
   },
   "outputs": [
    {
     "data": {
      "text/markdown": [
       "\n",
       "<br></br>\n",
       "**This project was made possible by the Swiss federal office for the environment.**<br>\n",
       "\n",
       ">Love what you do. ❤️<br>\n",
       "\n",
       "*roger@hammerdirt.ch* pushed the run button on 2021-08-23.<br>\n",
       "This document originates from https://github.com/hammerdirt-analyst/IQAASL-End-0f-Sampling-2021 all copyrights apply.<br>\n"
      ],
      "text/plain": [
       "<IPython.core.display.Markdown object>"
      ]
     },
     "execution_count": 13,
     "metadata": {},
     "output_type": "execute_result"
    }
   ],
   "source": [
    "author = \"roger@hammerdirt.ch\"\n",
    "my_message = \"Love what you do. \\u2764\\ufe0f\"\n",
    "md(F\"\"\"\n",
    "<br></br>\n",
    "**This project was made possible by the Swiss federal office for the environment.**<br>\n",
    "\n",
    ">{my_message}<br>\n",
    "\n",
    "*{author}* pushed the run button on {today}.<br>\n",
    "This document originates from https://github.com/hammerdirt-analyst/IQAASL-End-0f-Sampling-2021 all copyrights apply.<br>\n",
    "\"\"\")"
   ]
  },
  {
   "cell_type": "code",
   "execution_count": null,
   "metadata": {
    "jupyter": {
     "source_hidden": true
    },
    "tags": []
   },
   "outputs": [],
   "source": []
  }
 ],
 "metadata": {
  "kernelspec": {
   "display_name": "Python 3 (ipykernel)",
   "language": "python",
   "name": "python3"
  },
  "language_info": {
   "codemirror_mode": {
    "name": "ipython",
    "version": 3
   },
   "file_extension": ".py",
   "mimetype": "text/x-python",
   "name": "python",
   "nbconvert_exporter": "python",
   "pygments_lexer": "ipython3",
   "version": "3.8.10"
  }
 },
 "nbformat": 4,
 "nbformat_minor": 4
}
