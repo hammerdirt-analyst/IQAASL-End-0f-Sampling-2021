{
 "cells": [
  {
   "cell_type": "code",
   "execution_count": 1,
   "metadata": {
    "jupyter": {
     "source_hidden": true
    },
    "tags": [
     "remove-input"
    ]
   },
   "outputs": [],
   "source": [
    "# sys, file and nav packages:\n",
    "import datetime as dt\n",
    "\n",
    "# math packages:\n",
    "import pandas as pd\n",
    "import numpy as np\n",
    "from scipy import stats\n",
    "import statsmodels.api as sm\n",
    "from statsmodels.distributions.empirical_distribution import ECDF\n",
    "from statsmodels.stats.stattools import medcouple\n",
    "import math\n",
    "\n",
    "# charting:\n",
    "import matplotlib as mpl\n",
    "import matplotlib.pyplot as plt\n",
    "import matplotlib.dates as mdates\n",
    "from matplotlib import ticker\n",
    "from matplotlib import colors\n",
    "from matplotlib.colors import LinearSegmentedColormap\n",
    "import seaborn as sns\n",
    "\n",
    "# home brew utitilties\n",
    "import resources.utility_functions as ut\n",
    "import resources.chart_kwargs as ck\n",
    "import resources.sr_ut as sut\n",
    "\n",
    "# images and display\n",
    "import base64, io, IPython\n",
    "from PIL import Image as PILImage\n",
    "from IPython.display import Markdown as md\n",
    "from IPython.display import display, Math, Latex\n",
    "\n",
    "# set some parameters:\n",
    "today = dt.datetime.now().date().strftime(\"%Y-%m-%d\")\n",
    "start_date = '2020-03-01'\n",
    "end_date ='2021-05-31'\n",
    "\n",
    "# set the fail rate to test\n",
    "a_fail_rate = 50\n",
    "\n",
    "# name of the output folder:\n",
    "name_of_project = 'bassin_report_aare'\n",
    "\n",
    "# set the maps\n",
    "bassin_map = PILImage.open(\"resources/maps/aare_scaled.jpeg\")\n",
    "land_use_map = PILImage.open(\"resources/maps/land_use_aare.jpeg\")\n",
    "\n",
    "# the search term for the river bassin\n",
    "bassin_name = 'aare'\n",
    "\n",
    "lakes_of_interest = ['thunersee', 'bielersee', 'neuenburgersee']\n",
    "lake_colors=[\"darkblue\", \"royalblue\", \"cadetblue\"]\n",
    "\n",
    "# the names for the survey area and the cumulative data\n",
    "level_names = [\"Aare survey area\",\"All survey areas\"]\n",
    "\n",
    "# the scale for pieces per meter and the column and chart label for the units\n",
    "reporting_unit = 50\n",
    "unit_label = 'p/50m'\n",
    "\n",
    "# add the folder to the directory tree:\n",
    "project_directory = ut.make_project_folder('output', name_of_project)\n",
    "\n",
    "# colors for gradients\n",
    "colors = ['beige', 'navajowhite', 'sandybrown', 'salmon', 'sienna']\n",
    "nodes = [0.0, 0.2, 0.6, 0.8, 1.0]\n",
    "cmap2 = LinearSegmentedColormap.from_list(\"mycmap\", list(zip(nodes, colors)))\n",
    "\n",
    "# get your data:\n",
    "survey_data = pd.read_csv('resources/results_with_land_use_2015.csv')\n",
    "river_bassins = ut.json_file_get(\"resources/river_basins.json\")\n",
    "dfBeaches = pd.read_csv(\"resources/beaches_with_land_use_rates.csv\")\n",
    "dfCodes = pd.read_csv(\"resources/codes_with_group_names_2015.csv\")\n",
    "dfDims = pd.read_csv(\"resources/dims_data.csv\")\n",
    "\n",
    "# set the index of the beach data to location slug\n",
    "dfBeaches.set_index('slug', inplace=True)\n",
    "\n",
    "# map locations to feature names\n",
    "location_wname_key = dfBeaches.water_name_slug\n",
    "\n",
    "# map water_name_slug to water_name\n",
    "wname_wname = dfBeaches[['water_name_slug','water_name']].reset_index(drop=True).drop_duplicates()\n",
    "wname_wname.set_index('water_name_slug', inplace=True)\n",
    "\n",
    "# convenience function for doing land use correlations\n",
    "def make_plot_with_spearmans(data, ax, n):\n",
    "    sns.scatterplot(data=data, x=n, y=unit_label, ax=ax, color='black', s=30, edgecolor='white', alpha=0.6)\n",
    "    corr, a_p = stats.spearmanr(data[n], data[unit_label])\n",
    "    return ax, corr, a_p\n",
    "\n",
    "# index the code data\n",
    "dfCodes.set_index(\"code\", inplace=True)\n",
    "\n",
    "# these descriptions need to be shortened for display\n",
    "dfCodes = sut.shorten_the_value([\"G74\", \"description\", \"Insulation: includes spray foams\"], dfCodes)\n",
    "dfCodes = sut.shorten_the_value([\"G940\", \"description\", \"Foamed EVA for crafts and sports\"], dfCodes)\n",
    "dfCodes = sut.shorten_the_value([\"G96\", \"description\", \"Sanitary-pads/tampons, applicators\"], dfCodes)\n",
    "dfCodes = sut.shorten_the_value([\"G178\", \"description\", \"Metal bottle caps and lids\"], dfCodes)\n",
    "dfCodes = sut.shorten_the_value([\"G82\", \"description\", \"Expanded foams 2.5cm - 50cm\"], dfCodes)\n",
    "dfCodes = sut.shorten_the_value([\"G81\", \"description\", \"Expanded foams .5cm - 2.5cm\"], dfCodes)\n",
    "dfCodes = sut.shorten_the_value([\"G117\", \"description\", \"Expanded foams < 5mm\"], dfCodes)\n",
    "dfCodes = sut.shorten_the_value([\"G75\", \"description\", \"Plastic/foamed polystyrene 0 - 2.5cm\"], dfCodes)\n",
    "dfCodes = sut.shorten_the_value([\"G76\", \"description\", \"Plastic/foamed polystyrene 2.5cm - 50cm\"], dfCodes)\n",
    "dfCodes = sut.shorten_the_value([\"G24\", \"description\", \"Plastic lid rings\"], dfCodes)\n",
    "dfCodes = sut.shorten_the_value([\"G33\", \"description\", \"Lids for togo drinks plastic\"], dfCodes)\n",
    "dfCodes = sut.shorten_the_value([\"G3\", \"description\", \"Plastic bags, carier bags\"], dfCodes)\n",
    "dfCodes = sut.shorten_the_value([\"G204\", \"description\", \"Bricks, pipes not plastic\"], dfCodes)\n",
    "\n",
    "# make a map to the code descriptions\n",
    "code_description_map = dfCodes.description\n",
    "\n",
    "# make a map to the code descriptions\n",
    "code_material_map = dfCodes.material"
   ]
  },
  {
   "cell_type": "markdown",
   "metadata": {
    "tags": []
   },
   "source": [
    "## Baseline values\n",
    "\n",
    "Similar to survey results in the marine environment beach-litter-data in Switzerland is highly variable. With values ranging from zero (two surveys in 2020 had a quantity of zero), to thousands of objects and fragments within 100m coastline.\n",
    "\n",
    "The _JRC Technical Report: A European threshold value_ {cite}`threshholdeu` suggests several methods for calculating threshold values, confidence intervals and extreme values. These values are calculated here for the survey totals and the most comon objects identified in section 2.2.4.\n",
    "\n",
    "\n",
    "__Assumptions:__\n",
    "\n",
    "*  The more trash there is on the ground the more a person is likely to find\n",
    "*  **The survey results represent the minimum amount of trash at that site**\n",
    "*  For each survey: finding one item does not effect the chance of finding another"
   ]
  },
  {
   "cell_type": "code",
   "execution_count": 2,
   "metadata": {
    "jupyter": {
     "source_hidden": true
    },
    "tags": [
     "hide-input"
    ]
   },
   "outputs": [],
   "source": [
    "# define the final survey data set here:\n",
    "a_data = survey_data.copy()\n",
    "\n",
    "# make a loc_date column from the survey data\n",
    "# before converting to timestamp\n",
    "a_data['loc_date']=tuple(zip(a_data.location, a_data.date))\n",
    "\n",
    "# convert string dates from .csv to timestamp\n",
    "a_data['date']=pd.to_datetime(a_data['date'], format='%Y-%m-%d')\n",
    "\n",
    "# slice by start- end date\n",
    "a_data = a_data[(a_data.date >= start_date)&(a_data.date <= end_date)]\n",
    "\n",
    "\n",
    "\n",
    "# combine lugano and maggiore\n",
    "# if the river bassin name does not equal tresa leave it, else change it to ticino\n",
    "a_data['river_bassin'] = a_data.river_bassin.where(a_data.river_bassin != 'tresa', 'ticino' )\n",
    "\n",
    "# assign the reporting value\n",
    "a_data[unit_label] = (a_data.pcs_m * reporting_unit).round(2)\n",
    "\n",
    "# scale the streets to kilometers\n",
    "a_data['streets'] = a_data.streets.astype('int')\n",
    "a_data['streets km'] = a_data.streets/1000\n",
    "\n",
    "# save the data before aggregating to test\n",
    "before_agg = a_data.copy()\n",
    "\n",
    "# Combine the different sizes of fragmented plastics and styrofoam\n",
    "# the codes for the foams\n",
    "some_foams = ['G81', 'G82', 'G83']\n",
    "\n",
    "# the codes for the fragmented plastics\n",
    "some_frag_plas = list(a_data[a_data.groupname == 'plastic pieces'].code.unique())\n",
    "\n",
    "# this extracts and aggregates the members of the two code groups, returns a dataframe\n",
    "the_plast_rows = sut.create_aggregate_groups(a_data, codes_to_agg=some_frag_plas,a_model_code=\"G79\", a_new_code=\"Gfrags\")\n",
    "the_foam_rows = sut.create_aggregate_groups(a_data, codes_to_agg=some_foams, a_model_code=\"G82\", a_new_code=\"Gfoam\")\n",
    "\n",
    "# the foam codes and fragmented plastic codes have been aggregated in to Gfrags and Gfoam\n",
    "a_data = sut.replace_a_group_of_codes_with_one(a_data, new_code_values=[the_plast_rows, the_foam_rows], codes_to_replace=[*some_frag_plas, *some_foams])\n"
   ]
  },
  {
   "cell_type": "markdown",
   "metadata": {},
   "source": [
    "### The data\n",
    "\n",
    "Only surveys with a length greater than ten meters are included in the baseline calculation. The available space to survey in urban or suburban environments is limited, changes in the lake level and wave action can have significant effects on the available space to survey, including reducing the length of available shoreline. In IQAASL the policy was to avoid doing surveys less than ten meters. Note that this does not exclude all surveys from a location, only those that were less than ten meters.\n",
    "\n",
    "#### Most common objects\n",
    "\n",
    "The most common objects were identifed in section 2.2  and the properties of these objects were assessed with respect to transport and deposition in section 5. The same objects and groups are used here in the assessment of base line values."
   ]
  },
  {
   "cell_type": "code",
   "execution_count": 3,
   "metadata": {
    "jupyter": {
     "source_hidden": true
    },
    "tags": [
     "hide-input"
    ]
   },
   "outputs": [],
   "source": [
    "# gather the dimensional data for the time frame from dfDims\n",
    "# match records to survey data\n",
    "fd_dims= dfDims[(dfDims.location.isin(a_data.location.unique()))&(dfDims.date >= start_date)&(dfDims.date <= end_date)].copy()\n",
    "\n",
    "# make a loc_date column and get the unique values\n",
    "fd_dims['loc_date'] = list(zip(fd_dims.location, fd_dims.date))\n",
    "\n",
    "# map the survey area name to the dims data record\n",
    "a_map = fd_dims[['loc_date', 'area']].set_index('loc_date')\n",
    "l_map = fd_dims[['loc_date', 'length']].set_index('loc_date')\n",
    "\n",
    "# map length and area from dims to survey data\n",
    "for a_survey in fd_dims.loc_date.unique():\n",
    "    a_data.loc[a_data.loc_date == a_survey, 'length'] = l_map.loc[[a_survey], 'length'][0]\n",
    "    a_data.loc[a_data.loc_date == a_survey, 'area'] = a_map.loc[[a_survey], 'area'][0]\n",
    "\n",
    "# exclude surveys less than 10 meters\n",
    "gten_lhun = a_data.loc[(a_data.length > 10)].copy()\n",
    "\n",
    "# this is a common aggregation\n",
    "agg_pcs_quantity = {unit_label:'sum', 'quantity':'sum'}\n",
    "\n",
    "# the daily survey totals of all the data for the survey period\n",
    "# a_dt = gten_lhun.groupby(['loc_date', 'date','water_name_slug'], as_index=False).agg(agg_pcs_quantity)\n",
    "\n",
    "# survey totals by location\n",
    "dt_all = gten_lhun.groupby(['loc_date','location','river_bassin', 'water_name_slug','date'], as_index=False).agg(agg_pcs_quantity)"
   ]
  },
  {
   "cell_type": "markdown",
   "metadata": {},
   "source": [
    "### Identifying extreme values\n",
    "\n",
    "The parallel use of three calculation methods, mean, median and trimean, on selected examples enabled a comparative analysis and an informed choice of a final agreed methodology among the experts in the TG ML. It was agreed to leave the extreme data in the dataset, while highlighting the need to check to verify extreme data case by case and to apply the median for calculating of averages. This allows the use of all data while not skewing results through singleextraordinary high litter count surveys.\n",
    "\n",
    "The occurrence of extreme values can influence the average of the data and the interpretation of survey results. According the to the JRC report:\n",
    "\n",
    ">  The methodology for the identification of extreme values can be either expert judgement, or be based on statistical and modelling approaches, such as the application of Tukey’s box plots to detect potential outliers. For skewed distributions, the adjusted box plot is more appropriate."
   ]
  },
  {
   "cell_type": "markdown",
   "metadata": {},
   "source": [
    "#### Adjusted boxplots\n",
    "\n",
    "Tukey’s boxplot is used to visualize the distribution of a univariate data set. The samples that fall within the first quartile ($Q_1$) and the third quartile ($Q_3$) are considered to be within the innerquartial range (IQR) = $Q_3 - Q_1$. Points out side of the inner quartile range are considered outliers if their value is greater or less than one of two limits:\n",
    "\n",
    "* lower limit = $Q_1 - (1.5*IQR)$\n",
    "\n",
    "* upper limit = $Q_3 + (1.5*IQR)$\n",
    "\n",
    "Adusting the boxplot involves replacing the constant 1.5 with another parameter. This parameter is calculated using a method called the _medcouple_ (MC) and applying the result of that method to the constant 1.5. {cite}`adjbox` {cite}`medcouple` The new calculation looks like this:\n",
    "\n",
    "* lower limit = $Q_1 - (1.5e^{-4MC}*IQR)$\n",
    "\n",
    "* upper limit = $Q_3 + (1.5e^{3MC}*IQR)$\n",
    "\n",
    "The limit at which a survey is conisdered _extreme_ extends to the 98th percentile when the boxplots are adjusted as opposed to the 90th percentile if the constant is left at 1.5."
   ]
  },
  {
   "cell_type": "code",
   "execution_count": 4,
   "metadata": {
    "jupyter": {
     "source_hidden": true
    },
    "tags": [
     "hide-input"
    ]
   },
   "outputs": [
    {
     "data": {
      "image/png": "[encoded data removed]",
      "text/plain": [
       "<Figure size 576x576 with 2 Axes>"
      ]
     },
     "metadata": {
      "needs_background": "light"
     },
     "output_type": "display_data"
    }
   ],
   "source": [
    "# implementation of medcouple\n",
    "a_whis = medcouple(dt_all[unit_label].to_numpy())\n",
    "\n",
    "# get the ecdf \n",
    "ecdf = ECDF(dt_all[unit_label].to_numpy())\n",
    "\n",
    "# quantiles and IQR of the data\n",
    "q1 = dt_all[unit_label].quantile(0.25)\n",
    "q3 =dt_all[unit_label].quantile(0.75)\n",
    "iqr = q3 - q1\n",
    "\n",
    "# the upper and lower limit of extreme values unadjusted:\n",
    "limit_lower = q1 - 1.5*iqr\n",
    "limit_upper = q3 + 1.5*iqr\n",
    "\n",
    "# the upper and lower limit of extreme values adjusted:\n",
    "a_fence = q1 - (1.5*(math.exp((-4*a_whis))))*iqr\n",
    "a_2fence = q3 + (1.5*(math.exp((3*a_whis))))*iqr\n",
    "\n",
    "# source = https://stackoverflow.com/questions/12127635/matplotlib-can-we-draw-a-histogram-and-a-box-plot-on-a-same-chart\n",
    "fig, (ax_box, ax_hist) = plt.subplots(2, sharex=True, gridspec_kw={\"height_ratios\": (.15, .85)}, figsize=(8,8))\n",
    "\n",
    "# Add a graph in each part\n",
    "sns.boxplot(x=dt_all[unit_label], ax=ax_box)\n",
    "sns.histplot(x=dt_all[unit_label], ax=ax_hist)\n",
    "\n",
    "# get the limits of the x and y axix\n",
    "xamax = ax_hist.get_xlim()\n",
    "y_max= ax_hist.get_ylim()\n",
    "\n",
    "# no xlabel on the top axis\n",
    "ax_box.set_xlabel(\" \")\n",
    "\n",
    "# fill the areas concerened by each limt\n",
    "ax_hist.fill_between(x=[limit_upper,xamax[1]], y1=y_max[1], label='upper limit boxplot', alpha=0.1, color=\"dodgerblue\", linewidth=0.1)\n",
    "ax_hist.fill_between(x=[a_2fence,xamax[1]], y1=y_max[1],label='upper limit adjusted', hatch='x', edgecolor='magenta', facecolor='none',alpha=0.2)\n",
    "\n",
    "ax_box.fill_between(x=[limit_upper,xamax[1]], y1=ax_box.get_ylim()[1], y2=ax_box.get_ylim()[0],  label='upper limit boxplot', alpha=0.1, color=\"dodgerblue\", linewidth=0.1)\n",
    "ax_box.fill_between(x=[a_2fence,xamax[1]], y1=ax_box.get_ylim()[1], y2=ax_box.get_ylim()[0], label='upper limit adjusted', hatch='x', edgecolor='magenta', facecolor='none',alpha=0.2)\n",
    "\n",
    "# get legend\n",
    "handles, labels = ax_box.get_legend_handles_labels()\n",
    "plt.legend(handles, labels, fontsize=14)\n",
    "\n",
    "plt.show()"
   ]
  },
  {
   "cell_type": "code",
   "execution_count": 5,
   "metadata": {
    "jupyter": {
     "source_hidden": true
    },
    "tags": [
     "remove-input"
    ]
   },
   "outputs": [
    {
     "data": {
      "text/markdown": [
       "\n",
       "*The diffrence between adjusted and normal boxplots. Adjusted = 896,  unadjusted = 354.*\n"
      ],
      "text/plain": [
       "<IPython.core.display.Markdown object>"
      ]
     },
     "execution_count": 5,
     "metadata": {},
     "output_type": "execute_result"
    }
   ],
   "source": [
    "caption = F\"\"\"\n",
    "*The diffrence between adjusted and normal boxplots. Adjusted = {int(a_2fence)},  unadjusted = {int(limit_upper)}.*\n",
    "\"\"\"\n",
    "md(caption)"
   ]
  },
  {
   "cell_type": "markdown",
   "metadata": {},
   "source": [
    "#### Modeling\n",
    "\n",
    "Extreme values can be indentified by assuming the data belong to some underlying known statistical distribution. Count data is often modeled using a poisson distribution, however this is only valid where variance is equal to the mean. The data from IQAASL and beach-litter data in general do not meet this criteria, the negative binomial (NB) distribution allows for the variance to be quadratic in the mean. {cite}`cameron` {cite}`wolfram`\n",
    "\n",
    "> The modelling approach for the identification of extreme values is then performed by fitting the NB-distribution to the data by means of maximum likelihood and tagging all values in the right tail as potentially extreme values if the probability that they belong to the fitted NB-distribution is less than, e.g. 0.001. {cite}`threshholdeu`\n",
    "\n",
    "\n",
    "##### NB method of moments\n",
    "\n",
    "Fitting the NB distribution has all to do with estimating parameters. Alot of research has gone into estimating the dispersion parameter k of the NB distribution {cite}`mlenb`. One way to estimate the shape of the underlying distribution or dispersion, is to relate the mean to the variance. {cite}`nbinom`"
   ]
  },
  {
   "cell_type": "markdown",
   "metadata": {},
   "source": [
    "*Estimating the parameters of the underlying NB distribution using the mean and the variance from the observed values*\n",
    "\n",
    "*implementation: https://docs.scipy.org/doc/scipy/reference/generated/scipy.stats.nbinom.html*"
   ]
  },
  {
   "cell_type": "code",
   "execution_count": 6,
   "metadata": {
    "jupyter": {
     "source_hidden": true
    },
    "tags": [
     "hide-input"
    ]
   },
   "outputs": [
    {
     "data": {
      "image/png": "[encoded data removed]",
      "text/plain": [
       "<Figure size 576x432 with 1 Axes>"
      ]
     },
     "metadata": {
      "needs_background": "light"
     },
     "output_type": "display_data"
    }
   ],
   "source": [
    "# the data to model\n",
    "vals = dt_all[unit_label].to_numpy()\n",
    "\n",
    "# the variance\n",
    "var = np.var(vals)\n",
    "\n",
    "# the average\n",
    "mean = np.mean(vals)\n",
    "\n",
    "# dispersion\n",
    "p = mean/var\n",
    "n = mean**2/(var-mean)\n",
    "\n",
    "# point estimates from for the 98 and 90 %ile\n",
    "rv = stats.nbinom(n, p)\n",
    "sim_98 = rv.ppf(.98)\n",
    "obs_98 = np.quantile(vals, .98)\n",
    "\n",
    "sim_90 = rv.ppf(.9)\n",
    "obs_90 = np.quantile(vals, .9)\n",
    "\n",
    "# simulated data\n",
    "r = stats.nbinom.rvs(n,p, size=len(vals))\n",
    "\n",
    "fig, ax = plt.subplots(figsize=(8,6))\n",
    "\n",
    "df = pd.DataFrame({unit_label:vals, 'group':'observed'})\n",
    "df = df.append(pd.DataFrame({unit_label:r, 'group':'simulated'}))\n",
    "\n",
    "sns.histplot(data=df, x=unit_label, hue='group', ax=ax, stat='count')\n",
    "\n",
    "ax.set_xlabel(unit_label, **ck.xlab_k14)\n",
    "ax.set_ylabel('number of samples', **ck.xlab_k14)\n",
    "\n",
    "legend = ax.get_legend()\n",
    "handles = legend.legendHandles\n",
    "labels = [legend.texts[i].get_text() for i in [0,1]]\n",
    "\n",
    "plt.legend(handles, labels, fontsize=14)\n",
    "\n",
    "plt.show()"
   ]
  },
  {
   "cell_type": "code",
   "execution_count": 7,
   "metadata": {
    "tags": [
     "remove-input"
    ]
   },
   "outputs": [
    {
     "data": {
      "text/markdown": [
       "\n",
       "*Point estimate of the 98th percentile from simulated data = 967, estimate of the 90th percentile = 448*\n"
      ],
      "text/plain": [
       "<IPython.core.display.Markdown object>"
      ]
     },
     "execution_count": 7,
     "metadata": {},
     "output_type": "execute_result"
    }
   ],
   "source": [
    "caption = F\"\"\"\n",
    "*Point estimate of the 98th percentile from simulated data = {int(sim_98)}, estimate of the 90th percentile = {int(sim_90)}*\n",
    "\"\"\"\n",
    "md(caption)"
   ]
  },
  {
   "cell_type": "code",
   "execution_count": null,
   "metadata": {
    "tags": [
     "remove-input"
    ]
   },
   "outputs": [],
   "source": []
  },
  {
   "cell_type": "markdown",
   "metadata": {},
   "source": [
    "##### NB parameter modeling"
   ]
  },
  {
   "cell_type": "code",
   "execution_count": 8,
   "metadata": {
    "tags": [
     "remove-input"
    ]
   },
   "outputs": [],
   "source": [
    "\n",
    "import numpy as np\n",
    "from scipy.special import gammaln\n",
    "from scipy.special import psi\n",
    "from scipy.special import factorial\n",
    "from scipy.optimize import fmin_l_bfgs_b as optim\n",
    "\n",
    "import sys\n",
    "\n",
    "\n",
    "# X is a numpy array representing the data\n",
    "# initial params is a numpy array representing the initial values of\n",
    "# size and prob parameters\n",
    "def fit_nbinom(X, initial_params=None):\n",
    "    infinitesimal = np.finfo(np.float).eps\n",
    "\n",
    "    def log_likelihood(params, *args):\n",
    "        r, p = params\n",
    "        X = args[0]\n",
    "        N = X.size\n",
    "\n",
    "        #MLE estimate based on the formula on Wikipedia:\n",
    "        # http://en.wikipedia.org/wiki/Negative_binomial_distribution#Maximum_likelihood_estimation\n",
    "        result = np.sum(gammaln(X + r)) \\\n",
    "            - np.sum(np.log(factorial(X))) \\\n",
    "            - N*(gammaln(r)) \\\n",
    "            + N*r*np.log(p) \\\n",
    "            + np.sum(X*np.log(1-(p if p < 1 else 1-infinitesimal)))\n",
    "\n",
    "        return -result\n",
    "\n",
    "    def log_likelihood_deriv(params, *args):\n",
    "        r, p = params\n",
    "        X = args[0]\n",
    "        N = X.size\n",
    "\n",
    "        pderiv = (N*r)/p - np.sum(X)/(1-(p if p < 1 else 1-infinitesimal))\n",
    "        rderiv = np.sum(psi(X + r)) \\\n",
    "            - N*psi(r) \\\n",
    "            + N*np.log(p)\n",
    "\n",
    "        return np.array([-rderiv, -pderiv])\n",
    "\n",
    "    if initial_params is None:\n",
    "        #reasonable initial values (from fitdistr function in R)\n",
    "        m = np.mean(X)\n",
    "        v = np.var(X)\n",
    "        size = (m**2)/(v-m) if v > m else 10\n",
    "\n",
    "        #convert mu/size parameterization to prob/size\n",
    "        p0 = size / ((size+m) if size+m != 0 else 1)\n",
    "        r0 = size\n",
    "        initial_params = np.array([r0, p0])\n",
    "\n",
    "    bounds = [(infinitesimal, None), (infinitesimal, 1)]\n",
    "    optimres = optim(log_likelihood,\n",
    "                     x0=initial_params,\n",
    "                     #fprime=log_likelihood_deriv,\n",
    "                     args=(X,),\n",
    "                     approx_grad=1,\n",
    "                     bounds=bounds)\n",
    "\n",
    "    params = optimres[0]\n",
    "    return {'size': params[0], 'prob': params[1]}"
   ]
  },
  {
   "cell_type": "code",
   "execution_count": 9,
   "metadata": {
    "tags": [
     "remove-input"
    ]
   },
   "outputs": [
    {
     "name": "stderr",
     "output_type": "stream",
     "text": [
      "/tmp/ipykernel_30622/3282365157.py:14: DeprecationWarning: `np.float` is a deprecated alias for the builtin `float`. To silence this warning, use `float` by itself. Doing this will not modify any behavior and is safe. If you specifically wanted the numpy scalar type, use `np.float64` here.\n",
      "Deprecated in NumPy 1.20; for more details and guidance: https://numpy.org/devdocs/release/1.20.0-notes.html#deprecations\n",
      "  infinitesimal = np.finfo(np.float).eps\n",
      "/home/mwshovel/anaconda3/envs/iqaasl/lib/python3.8/site-packages/scipy/optimize/_numdiff.py:557: RuntimeWarning: invalid value encountered in subtract\n",
      "  df = fun(x) - f0\n"
     ]
    },
    {
     "data": {
      "text/plain": [
       "{'size': 0.3862005078668744, 'prob': 0.0024450669860689046}"
      ]
     },
     "execution_count": 9,
     "metadata": {},
     "output_type": "execute_result"
    }
   ],
   "source": [
    "fit_nbinom(vals)"
   ]
  },
  {
   "cell_type": "code",
   "execution_count": 10,
   "metadata": {
    "tags": [
     "remove-input"
    ]
   },
   "outputs": [],
   "source": [
    "from statsmodels.base.model import GenericLikelihoodModel\n",
    "from scipy.optimize import minimize\n",
    "\n",
    "def log_likelihood(params, *args):\n",
    "        r, p = params\n",
    "        X = args[0]\n",
    "        N = X.size\n",
    "\n",
    "        #MLE estimate based on the formula on Wikipedia:\n",
    "        # http://en.wikipedia.org/wiki/Negative_binomial_distribution#Maximum_likelihood_estimation\n",
    "        result = np.sum(gammaln(X + r)) \\\n",
    "            - np.sum(np.log(factorial(X))) \\\n",
    "            - N*(gammaln(r)) \\\n",
    "            + N*r*np.log(p) \\\n",
    "            + np.sum(X*np.log(1-(p if p < 1 else 1-infinitesimal)))\n",
    "\n",
    "        return -result\n"
   ]
  },
  {
   "cell_type": "code",
   "execution_count": 11,
   "metadata": {},
   "outputs": [
    {
     "ename": "NameError",
     "evalue": "name 'res' is not defined",
     "output_type": "error",
     "traceback": [
      "\u001b[0;31m---------------------------------------------------------------------------\u001b[0m",
      "\u001b[0;31mNameError\u001b[0m                                 Traceback (most recent call last)",
      "\u001b[0;32m/tmp/ipykernel_30622/1158820258.py\u001b[0m in \u001b[0;36m<module>\u001b[0;34m\u001b[0m\n\u001b[0;32m----> 1\u001b[0;31m \u001b[0mres\u001b[0m\u001b[0;34m\u001b[0m\u001b[0;34m\u001b[0m\u001b[0m\n\u001b[0m",
      "\u001b[0;31mNameError\u001b[0m: name 'res' is not defined"
     ]
    }
   ],
   "source": [
    "res"
   ]
  },
  {
   "cell_type": "markdown",
   "metadata": {},
   "source": [
    "### Confidence intervals"
   ]
  },
  {
   "cell_type": "markdown",
   "metadata": {},
   "source": [
    "The uncertainty of litter monitoring data used for deriving the percentile value of beach litter abundances is approximated through  the  calculation  of  confidence intervals. A minimum number of 40 surveys for a beach litter TV assessment is  recommended, because the addition of more surveys beyond this number provides only a limited gain in the improvement of the confidence interval.\n",
    "\n",
    "#### Bootstrap methods:\n",
    "\n",
    "There are several computational methods to choose from. percentile, BCa, and Student's t to name a few. For this project the most important aspects are computational efficiency and the correct coverage of the confidence interval. {cite}`bsci` "
   ]
  },
  {
   "cell_type": "markdown",
   "metadata": {},
   "source": [
    "#### Thresholds\n",
    "\n",
    "Considering uncertainties of data and the resulting confidence intervals, the resulting threshold value can be considered as reached statistically, __if the lower 95% confidence limit of the aggregated monitoring values touches the upper 95% confidence limit of the 10th percentile__ of the baseline data. At this point, the assessment value and threshold value are not significantly differentany more(Cummings et al., 2006)."
   ]
  },
  {
   "cell_type": "markdown",
   "metadata": {},
   "source": [
    "### Discussion\n",
    "\n",
    "This first-timeanalysis of a harmonised EU beach litter dataset allows numerous conclusions. These apply to the process and methodology for monitoring and baseline setting, the outcome from the scenario analysis based on the selection of parameters, i.e. the agreed baseline and the policy implications of the baselines.\n",
    "\n",
    "These implications include the selection and prioritisation of measures, the setting of thresholds and the evaluation of the success of implemented measures.\n",
    "\n",
    "* Data availability 2012-2016 allows the consideration of all EU regions, though with different coverage. All subregions, except for the Eastern Mediterranean Sea,can be evaluated.\n",
    "\n",
    "* Litter aggregate groups can be analysed across Europe.\n",
    "\n",
    "* Litter  category  analyses  are  possible  from  single  beaches at different  data  aggregation  levels (depending on the comparability of litter categories between surveys)\n",
    "\n",
    "#### Weighting data\n",
    "\n",
    "Following discussion during the TG ML annual meeting 2019 and a consultation with TGML experts, it was concluded not to apply weighting to the beach litter survey results when aggregating them. While spatial weighting might be used for other purposes, it would not provide a benefit for assessing the environmental status on the beaches.\n",
    "\n",
    "#### Number of samples\n",
    "\n",
    "This corresponds to a median assessment value of approxmately  20,  for  a  range  of 40  to 100  assessment surveys. A similar statistical method is used in  the TV proposalfor plastics in fulmar stomachs (Van Franeker et al., 2019). See Annex 3 for more detailson the calculation of the confidence intervals.\n",
    "\n",
    "#### Quality people = quality data\n",
    "\n",
    "\n",
    "\n",
    "#### Objective criteria, protocols and analysis\n",
    "\n"
   ]
  },
  {
   "cell_type": "code",
   "execution_count": null,
   "metadata": {
    "jupyter": {
     "source_hidden": true
    },
    "tags": [
     "remove-input"
    ]
   },
   "outputs": [],
   "source": [
    "# source :http://www.jtrive.com/the-empirical-bootstrap-for-confidence-intervals-in-python.html\n",
    "\n",
    "def bootstrap(data, n=1000, func=np.mean):\n",
    "    \"\"\"\n",
    "    Generate `n` bootstrap samples, evaluating `func`\n",
    "    at each resampling. `bootstrap` returns a function,\n",
    "    which can be called to obtain confidence intervals\n",
    "    of interest.\n",
    "    \"\"\"\n",
    "    simulations = list()\n",
    "    sample_size = len(data)\n",
    "    xbar_init = np.mean(data)\n",
    "    for c in range(n):\n",
    "        itersample = np.random.choice(data, size=sample_size, replace=True)\n",
    "        simulations.append(func(itersample))\n",
    "    simulations.sort()\n",
    "    def ci(p):\n",
    "        \"\"\"\n",
    "        Return 2-sided symmetric confidence interval specified\n",
    "        by p.\n",
    "        \"\"\"\n",
    "        u_pval = (1+p)/2.\n",
    "        l_pval = (1-u_pval)\n",
    "        l_indx = int(np.floor(n*l_pval))\n",
    "        u_indx = int(np.floor(n*u_pval))\n",
    "        return(simulations[l_indx],simulations[u_indx])\n",
    "    return(ci)\n",
    "\n",
    "ci = bootstrap(dt_all['p/50m'].to_numpy(), 100)\n",
    "\n",
    "# print(dt_all['p/50m'].median())\n",
    "\n",
    "# for i in [.15,.25, .5, .95]:\n",
    "#     print(ci(i))"
   ]
  },
  {
   "cell_type": "code",
   "execution_count": null,
   "metadata": {
    "jupyter": {
     "source_hidden": true
    },
    "tags": [
     "remove-input"
    ]
   },
   "outputs": [],
   "source": [
    "# source: http://bebi103.caltech.edu.s3-website-us-east-1.amazonaws.com/2019a/content/recitations/bootstrapping.html\n",
    "\n",
    "def draw_bs_sample(data):\n",
    "    \"\"\"Draw a bootstrap sample from a 1D data set.\"\"\"\n",
    "    return np.random.choice(data, size=len(data))\n",
    "\n",
    "def compute_jackknife_reps(data, statfunction=np.mean):\n",
    "    '''Returns jackknife resampled replicates for the given data and statistical function'''\n",
    "    # Set up empty array to store jackknife replicates\n",
    "    jack_reps = np.empty(len(data))\n",
    "\n",
    "    # For each observation in the dataset, compute the statistical function on the sample\n",
    "    # with that observation removed\n",
    "    for i in range(len(data)):\n",
    "        jack_sample = np.delete(data, i)\n",
    "        jack_reps[i] = statfunction(jack_sample)\n",
    "    return jack_reps\n",
    "\n",
    "\n",
    "def compute_a(jack_reps):\n",
    "    '''Returns the acceleration constant a'''\n",
    "    mean = np.mean(jack_reps)\n",
    "    return (1/6) * np.divide(np.sum(mean - jack_reps)**3, (np.sum(mean - jack_reps)**2)**(3/2))\n",
    "\n",
    "\n",
    "def bootstrap_replicates(data, n_reps=1000, statfunction=np.mean):\n",
    "    '''Computes n_reps number of bootstrap replicates for given data and statistical function'''\n",
    "    boot_reps = np.empty(n_reps)\n",
    "    for i in range(n_reps):\n",
    "        boot_reps[i] = statfunction(draw_bs_sample(data))\n",
    "    return boot_reps\n",
    "\n",
    "\n",
    "def compute_z0(data, boot_reps, statfunction=np.mean):\n",
    "    '''Computes z0 for given data and statistical function'''\n",
    "    s = statfunction(data)\n",
    "    return stats.norm.ppf(np.sum(boot_reps < s) / len(boot_reps))\n",
    "\n",
    "\n",
    "def compute_bca_ci(data, alpha_level, n_reps=1000, statfunction=np.mean):\n",
    "    '''Returns BCa confidence interval for given data at given alpha level'''\n",
    "    # Compute bootstrap and jackknife replicates\n",
    "    boot_reps = bootstrap_replicates(data, n_reps, statfunction)\n",
    "    jack_reps = compute_jackknife_reps(data, statfunction)\n",
    "\n",
    "    # Compute a and z0\n",
    "    a = compute_a(jack_reps)\n",
    "    z0 = compute_z0(data, boot_reps, statfunction)\n",
    "\n",
    "    # Compute confidence interval indices\n",
    "    alphas = np.array([alpha_level/2., 1-alpha_level/2.])\n",
    "    zs = z0 + stats.norm.ppf(alphas).reshape(alphas.shape+(1,)*z0.ndim)\n",
    "    avals = stats.norm.cdf(z0 + zs/(1-a*zs))\n",
    "    ints = np.round((len(boot_reps)-1)*avals)\n",
    "    ints = np.nan_to_num(ints).astype('int')\n",
    "\n",
    "    # Compute confidence interval\n",
    "    boot_reps = np.sort(boot_reps)\n",
    "    ci_low = boot_reps[ints[0]]\n",
    "    ci_high = boot_reps[ints[1]]\n",
    "    return (ci_low, ci_high)\n",
    "\n"
   ]
  },
  {
   "cell_type": "code",
   "execution_count": null,
   "metadata": {
    "jupyter": {
     "source_hidden": true
    },
    "tags": [
     "remove-input"
    ]
   },
   "outputs": [],
   "source": [
    "author = \"roger@hammerdirt.ch\"\n",
    "my_message = \"Love what you do. \\u2764\\ufe0f\"\n",
    "md(F\"\"\"\n",
    "**This project was made possible by the Swiss federal office for the environment.**<br>\n",
    "\n",
    ">{my_message}<br>\n",
    "\n",
    "*{author}* pushed the run button on {today}.<br>\n",
    "This document originates from https://github.com/hammerdirt-analyst/IQAASL-End-0f-Sampling-2021 all copyrights apply.<br>\n",
    "\"\"\")"
   ]
  },
  {
   "cell_type": "code",
   "execution_count": null,
   "metadata": {
    "jupyter": {
     "source_hidden": true
    },
    "tags": []
   },
   "outputs": [],
   "source": []
  }
 ],
 "metadata": {
  "kernelspec": {
   "display_name": "Python 3 (ipykernel)",
   "language": "python",
   "name": "python3"
  },
  "language_info": {
   "codemirror_mode": {
    "name": "ipython",
    "version": 3
   },
   "file_extension": ".py",
   "mimetype": "text/x-python",
   "name": "python",
   "nbconvert_exporter": "python",
   "pygments_lexer": "ipython3",
   "version": "3.8.10"
  }
 },
 "nbformat": 4,
 "nbformat_minor": 4
}
