{
 "cells": [
  {
   "cell_type": "code",
   "execution_count": 1,
   "metadata": {
    "jupyter": {
     "source_hidden": true
    },
    "tags": []
   },
   "outputs": [],
   "source": [
    "# sys, file and nav packages:\n",
    "import datetime as dt\n",
    "\n",
    "# math packages:\n",
    "import pandas as pd\n",
    "import numpy as np\n",
    "from scipy import stats\n",
    "from statsmodels.distributions.empirical_distribution import ECDF\n",
    "\n",
    "# charting:\n",
    "import matplotlib as mpl\n",
    "import matplotlib.pyplot as plt\n",
    "import matplotlib.dates as mdates\n",
    "from matplotlib import ticker\n",
    "from matplotlib import colors\n",
    "from matplotlib.colors import LinearSegmentedColormap\n",
    "import seaborn as sns\n",
    "\n",
    "# home brew utitilties\n",
    "import resources.utility_functions as ut\n",
    "import resources.chart_kwargs as ck\n",
    "import resources.sr_ut as sut\n",
    "\n",
    "# images and display\n",
    "import base64, io, IPython\n",
    "from PIL import Image as PILImage\n",
    "from IPython.display import Markdown as md\n",
    "from IPython.display import display, Math, Latex\n",
    "\n",
    "# set some parameters:\n",
    "today = dt.datetime.now().date().strftime(\"%Y-%m-%d\")\n",
    "start_date = '2020-03-01'\n",
    "end_date ='2021-05-31'\n",
    "\n",
    "# set the fail rate to test\n",
    "a_fail_rate = 50\n",
    "\n",
    "# name of the output folder:\n",
    "name_of_project = 'bassin_report_aare'\n",
    "\n",
    "# set the maps\n",
    "bassin_map = PILImage.open(\"resources/maps/aare_scaled.jpeg\")\n",
    "land_use_map = PILImage.open(\"resources/maps/land_use_aare.jpeg\")\n",
    "\n",
    "# the search term for the river bassin\n",
    "bassin_name = 'aare'\n",
    "\n",
    "lakes_of_interest = ['thunersee', 'bielersee', 'neuenburgersee']\n",
    "lake_colors=[\"darkblue\", \"royalblue\", \"cadetblue\"]\n",
    "\n",
    "\n",
    "# the names for the survey area and the cumulative data\n",
    "level_names = [\"Aare survey area\",\"All survey areas\"]\n",
    "\n",
    "# the scale for pieces per meter and the column and chart label for the units\n",
    "reporting_unit = 50\n",
    "unit_label = 'p/50m'\n",
    "\n",
    "# add the folder to the directory tree:\n",
    "project_directory = ut.make_project_folder('output', name_of_project)\n",
    "\n",
    "# colors for gradients\n",
    "colors = ['beige', 'navajowhite', 'sandybrown', 'salmon', 'sienna']\n",
    "nodes = [0.0, 0.2, 0.6, 0.8, 1.0]\n",
    "cmap2 = LinearSegmentedColormap.from_list(\"mycmap\", list(zip(nodes, colors)))\n",
    "\n",
    "# get your data:\n",
    "survey_data = pd.read_csv('resources/results_with_land_use_2015.csv')\n",
    "river_bassins = ut.json_file_get(\"resources/river_basins.json\")\n",
    "dfBeaches = pd.read_csv(\"resources/beaches_with_land_use_rates.csv\")\n",
    "dfCodes = pd.read_csv(\"resources/codes_with_group_names_2015.csv\")\n",
    "dfDims = pd.read_csv(\"resources/dims_data.csv\")\n",
    "\n",
    "# set the index of the beach data to location slug\n",
    "dfBeaches.set_index('slug', inplace=True)\n",
    "\n",
    "# map locations to feature names\n",
    "location_wname_key = dfBeaches.water_name_slug\n",
    "\n",
    "# map water_name_slug to water_name\n",
    "wname_wname = dfBeaches[['water_name_slug','water_name']].reset_index(drop=True).drop_duplicates()\n",
    "wname_wname.set_index('water_name_slug', inplace=True)\n",
    "\n",
    "# convenience function for doing land use correlations\n",
    "def make_plot_with_spearmans(data, ax, n):\n",
    "    sns.scatterplot(data=data, x=n, y=unit_label, ax=ax, color='black', s=30, edgecolor='white', alpha=0.6)\n",
    "    corr, a_p = stats.spearmanr(data[n], data[unit_label])\n",
    "    return ax, corr, a_p\n",
    "\n",
    "# index the code data\n",
    "dfCodes.set_index(\"code\", inplace=True)\n",
    "\n",
    "# these descriptions need to be shortened for display\n",
    "dfCodes = sut.shorten_the_value([\"G74\", \"description\", \"Insulation: includes spray foams\"], dfCodes)\n",
    "dfCodes = sut.shorten_the_value([\"G940\", \"description\", \"Foamed EVA for crafts and sports\"], dfCodes)\n",
    "dfCodes = sut.shorten_the_value([\"G96\", \"description\", \"Sanitary-pads/tampons, applicators\"], dfCodes)\n",
    "dfCodes = sut.shorten_the_value([\"G178\", \"description\", \"Metal bottle caps and lids\"], dfCodes)\n",
    "dfCodes = sut.shorten_the_value([\"G82\", \"description\", \"Expanded foams 2.5cm - 50cm\"], dfCodes)\n",
    "dfCodes = sut.shorten_the_value([\"G81\", \"description\", \"Expanded foams .5cm - 2.5cm\"], dfCodes)\n",
    "dfCodes = sut.shorten_the_value([\"G117\", \"description\", \"Expanded foams < 5mm\"], dfCodes)\n",
    "dfCodes = sut.shorten_the_value([\"G75\", \"description\", \"Plastic/foamed polystyrene 0 - 2.5cm\"], dfCodes)\n",
    "dfCodes = sut.shorten_the_value([\"G76\", \"description\", \"Plastic/foamed polystyrene 2.5cm - 50cm\"], dfCodes)\n",
    "dfCodes = sut.shorten_the_value([\"G24\", \"description\", \"Plastic lid rings\"], dfCodes)\n",
    "dfCodes = sut.shorten_the_value([\"G33\", \"description\", \"Lids for togo drinks plastic\"], dfCodes)\n",
    "dfCodes = sut.shorten_the_value([\"G3\", \"description\", \"Plastic bags, carier bags\"], dfCodes)\n",
    "dfCodes = sut.shorten_the_value([\"G204\", \"description\", \"Bricks, pipes not plastic\"], dfCodes)\n",
    "\n",
    "# make a map to the code descriptions\n",
    "code_description_map = dfCodes.description\n",
    "\n",
    "# make a map to the code descriptions\n",
    "code_material_map = dfCodes.material"
   ]
  },
  {
   "cell_type": "markdown",
   "metadata": {},
   "source": [
    "# Identification, quantification and analysis of observable anthropogenic debris along swiss river and lakes (IQAASL)"
   ]
  },
  {
   "cell_type": "markdown",
   "metadata": {
    "tags": []
   },
   "source": []
  },
  {
   "cell_type": "markdown",
   "metadata": {
    "tags": []
   },
   "source": [
    "## Scope\n",
    "<!-- \n",
    "The Aare source is the Aare Glaciers in the Bernese Alps of south-central Switzerland. The Aare is the longest river entirely within Switzerland with a length of 295 km and drainage area of 17,779 km2. Following the Aare Gorge, the river expands into the glacial Lake Brienz. The Aare is canalized at Interlaken before entering Lake Thun and exiting through the city of Thun. The river then flows northwest surrounding the old city center of Bern on three sides. Continuing west to Lake Wohlen Reservoir it turns north to Aarberg and is diverted west into Lake Biel by the Hagneck Canal, one of a series of major water corrections made in the 19th and 20th centuries connecting Neuchatel, Biel and Morat lakes through canalization. From the upper end of Lake Biel, at Nidau, the river exits through the Nidau-Büren Canal/Aare Canal.\n",
    "\n",
    "### assdf\n",
    "\n",
    "\n",
    "\n",
    "The Limmat and Reuss rivers, two major tributaries converge into the Aare at the Limmatspitz between the cities of Brugg and Untersiggenthal in Canton Aargau. The Aare river ends in the north-western region of Koblenz, Switzerland where it joins the Rhine river which eventually terminates in the North Sea. -->\n",
    "\n",
    "\n",
    "##"
   ]
  },
  {
   "cell_type": "code",
   "execution_count": null,
   "metadata": {
    "jupyter": {
     "source_hidden": true
    }
   },
   "outputs": [],
   "source": []
  },
  {
   "cell_type": "markdown",
   "metadata": {},
   "source": []
  },
  {
   "cell_type": "code",
   "execution_count": 2,
   "metadata": {
    "jupyter": {
     "source_hidden": true
    },
    "tags": []
   },
   "outputs": [],
   "source": [
    "# define the final survey data set here:\n",
    "a_data = survey_data.copy()\n",
    "\n",
    "# convert string dates from .csv to timestamp\n",
    "a_data['date']=pd.to_datetime(a_data['date'], format='%Y-%m-%d')\n",
    "\n",
    "# slice by start- end date\n",
    "a_data = a_data[(a_data.date >= start_date)&(a_data.date <= end_date)]\n",
    "\n",
    "# make a loc_date column from the survey data\n",
    "a_data['loc_date']=tuple(zip(a_data.location, a_data.date))\n",
    "\n",
    "# combine lugano and maggiore\n",
    "# if the river bassin name does not equal tresa leave it, else change it to ticino\n",
    "a_data['river_bassin'] = a_data.river_bassin.where(a_data.river_bassin != 'tresa', 'ticino' )\n",
    "\n",
    "# assign the reporting value\n",
    "a_data[unit_label] = (a_data.pcs_m * reporting_unit).round(2)\n",
    "\n",
    "# scale the streets to kilometers\n",
    "a_data['streets'] = a_data.streets.astype('int')\n",
    "a_data['streets km'] = a_data.streets/1000\n",
    "\n",
    "# save the data before aggregating to test\n",
    "before_agg = a_data.copy()\n",
    "\n",
    "# Combine the different sizes of fragmented plastics and styrofoam\n",
    "# the codes for the foams\n",
    "some_foams = ['G81', 'G82', 'G83']\n",
    "\n",
    "# the codes for the fragmented plastics\n",
    "some_frag_plas = list(a_data[a_data.groupname == 'plastic pieces'].code.unique())\n",
    "\n",
    "# this extracts and aggregates the members of the two code groups, returns a dataframe\n",
    "the_plast_rows = sut.create_aggregate_groups(a_data, codes_to_agg=some_frag_plas,a_model_code=\"G79\", a_new_code=\"Gfrags\")\n",
    "the_foam_rows = sut.create_aggregate_groups(a_data, codes_to_agg=some_foams, a_model_code=\"G82\", a_new_code=\"Gfoam\")\n",
    "\n",
    "# the foam codes and fragmented plastic codes have been aggregated in to Gfrags and Gfoam\n",
    "a_data = sut.replace_a_group_of_codes_with_one(a_data, new_code_values=[the_plast_rows, the_foam_rows], codes_to_replace=[*some_frag_plas, *some_foams])\n",
    "\n",
    "# a common aggregation\n",
    "agg_pcs_quantity = {unit_label:'sum', 'quantity':'sum'}\n",
    "\n",
    "# the daily survey totals of all the data for the survey period\n",
    "a_dt = a_data.groupby(['loc_date', 'date','water_name_slug'], as_index=False).agg(agg_pcs_quantity)\n",
    "\n",
    "# define the feature data\n",
    "fd = a_data.loc[a_data.river_bassin == bassin_name].copy()\n",
    "\n",
    "# the totals for each survey and the locations in the feature data\n",
    "fd_dt=fd.groupby(['loc_date', 'date','water_name_slug'], as_index=False).agg(agg_pcs_quantity)\n",
    "\n",
    "# the unique locations and samples\n",
    "fd_locs = fd.location.unique()\n",
    "fd_samps = fd.loc_date.unique()"
   ]
  },
  {
   "cell_type": "code",
   "execution_count": 3,
   "metadata": {
    "jupyter": {
     "source_hidden": true
    },
    "tags": []
   },
   "outputs": [],
   "source": [
    "# gather the dimensional data for the time frame from dfDims\n",
    "# match records to survey data\n",
    "fd_dims= dfDims[(dfDims.location.isin(fd_locs))&(dfDims.date >= start_date)&(dfDims.date <= end_date)].copy()\n",
    "\n",
    "# make a loc_date column and get the unique values\n",
    "fd_dims['loc_date'] = list(zip(fd_dims.location, fd_dims.date))\n",
    "\n",
    "# key the quantity from the survey totals to the dimensional data\n",
    "try_this = {(x[0],dt.datetime.strftime(x[1].to_pydatetime(), \"%Y-%m-%d\")):fd_dt[fd_dt.loc_date == x]['quantity'].to_numpy()[0] for x in fd_dt.loc_date.unique()}\n",
    "\n",
    "# map quantity per survey to the dims data\n",
    "fd_dims['quantity'] = fd_dims.loc_date.map(lambda x: ut.use_this_key(x, try_this))\n",
    "\n",
    "# map the survey area name to the dims data record\n",
    "m_ap_to_survey_area = fd[['location', 'river_bassin']].drop_duplicates().to_dict(orient='records')\n",
    "a_new_map = {x['location']:x['river_bassin'] for x in m_ap_to_survey_area}\n",
    "\n",
    "# make a survey area column in the dims data\n",
    "fd_dims['survey area'] = fd_dims.location.map(lambda x: ut.use_this_key(x, a_new_map))\n",
    "\n",
    "# keep the dims that did not get tagged with a qty\n",
    "no_qty = fd_dims[fd_dims.quantity == 'bad key']\n",
    "\n",
    "# drop the dims that did not match\n",
    "som_dims = fd_dims[fd_dims.quantity != 'bad key'].copy()\n",
    "som_dims['water_name_slug'] = som_dims.location.map(lambda x: location_wname_key.loc[x])\n",
    "\n",
    "# identify the surveys with no matching dimensional data\n",
    "no_matching_dim_records = [x for x in list(fd_samps) if x not in list(fd_dims.loc_date.unique())]\n",
    "\n",
    "# survey totals\n",
    "dt_all = a_data.groupby(['loc_date','location','river_bassin', 'water_name_slug','date'], as_index=False).agg(agg_pcs_quantity)\n",
    "\n",
    "# if needed make a map of the medain survey result for each location\n",
    "lat_lon_map = dfBeaches[['latitude', 'longitude']]\n",
    "\n",
    "# this will produce a points layer on QGIS with the median units and the total quantity:\n",
    "median_survey_result_all_locations = dt_all.groupby(['location', 'river_bassin','water_name_slug'], as_index=False).agg({unit_label:\"median\", \"loc_date\":\"nunique\"})\n",
    "median_survey_result_all_locations['latitude'] = median_survey_result_all_locations.location.map(lambda x: lat_lon_map.loc[x].latitude)\n",
    "median_survey_result_all_locations['longitude'] = median_survey_result_all_locations.location.map(lambda x: lat_lon_map.loc[x].longitude)\n",
    "\n",
    "median_survey_result_all_locations.to_csv(F\"{project_directory}/eosp_2021.csv\", index=False)\n"
   ]
  },
  {
   "cell_type": "code",
   "execution_count": 4,
   "metadata": {
    "jupyter": {
     "source_hidden": true
    },
    "tags": []
   },
   "outputs": [],
   "source": [
    "# gather the municpalities and the population:\n",
    "fd_pop_map = dfBeaches.loc[fd.location.unique()][['city','population']].copy()\n",
    "fd_pop_map.drop_duplicates(inplace=True)\n",
    "fd_pop_map.set_index('city', drop=True, inplace=True)\n",
    "\n",
    "# code totals for the river bassin\n",
    "fd_code_t= fd.groupby(['code', 'groupname'], as_index=False).agg({'quantity':'sum', 'fail':'sum', 'p/50m':'median'})\n",
    "fd_code_t.rename(columns={\"groupname\":'utility'}, inplace=True)\n",
    "fd_code_t[\"% of total\"] = fd_code_t.quantity/fd_code_t.quantity.sum()\n",
    "fd_code_t.set_index('code', inplace=True)\n",
    "fd_code_t.sort_values(by='quantity', ascending=False, inplace=True)\n",
    "fd_code_t['material'] = fd_code_t.index.map(lambda x: code_material_map[x])\n",
    "fd_code_t['item'] = fd_code_t.index.map(lambda x: code_description_map.loc[x])\n",
    "fd_code_t[\"% of total\"] = (fd_code_t[\"% of total\"]*100).round(1)\n",
    "fd_code_t[\"fail rate\"] = ((fd_code_t[\"fail\"]/len(fd.loc_date.unique()))*100).round(1)\n",
    "\n",
    "# objects with a fail rate of > 50% in the survey area\n",
    "most_common = fd_code_t[fd_code_t[\"fail rate\"] > 50].sort_values(by='quantity', ascending=False)\n",
    "\n",
    "# material totals:\n",
    "fd_mat_t = fd_code_t[['material', 'quantity']].groupby('material', as_index=False).quantity.sum()\n",
    "fd_mat_t[\"% of total\"] = fd_mat_t.quantity/fd_mat_t.quantity.sum()\n",
    "\n",
    "# map total quantity per feature:\n",
    "qty_all_features = fd.groupby('water_name_slug').quantity.sum()\n",
    "qty_feature = {wname_wname.loc[x][0]:qty_all_features[x] for x in qty_all_features.index}\n",
    "\n",
    "# summary statistics:\n",
    "fd_n_samps = len(fd_samps)\n",
    "fd_n_obj = fd.quantity.sum()\n",
    "fd_n_locs = len(fd_locs)\n",
    "fd_n_munis = len(fd_pop_map.index)\n",
    "fd_effected_population = fd_pop_map.sum()"
   ]
  },
  {
   "cell_type": "code",
   "execution_count": 15,
   "metadata": {
    "jupyter": {
     "source_hidden": true
    },
    "tags": []
   },
   "outputs": [],
   "source": [
    "# summary report for screen printing\n",
    "fd_samps = list(fd.loc_date.unique())\n",
    "\n",
    "lakes = dfBeaches.loc[(dfBeaches.index.isin(fd_locs))&(dfBeaches.water == 'l')]['water_name'].unique()\n",
    "rivers = dfBeaches.loc[(dfBeaches.index.isin(fd_locs))&(dfBeaches.water == 'r')]['water_name'].unique()\n",
    "\n",
    "obj_string = '{:,}'.format(fd_n_obj)\n",
    "surv_string = '{:,}'.format(fd_n_samps)\n",
    "pop_string = '{:,}'.format(int(fd_effected_population[0]))\n",
    "\n",
    "date_quantity_context = F\"For the period between {start_date[:-3]} and {end_date[:-3]}, {obj_string } objects were removed and identified in the course of {surv_string} surveys.\"\n",
    "geo_context = F\"Those surveys were conducted at {fd_n_locs} different locations.\"\n",
    "admin_context = F\"There are {fd_n_munis} different municipalities represented in these results.\"\n",
    "munis_joined = ', '.join(sorted(fd_pop_map.index))\n",
    "lakes_joined = ', '.join(sorted(lakes))\n",
    "rivers_joined = ', '.join(sorted(rivers))\n",
    "\n",
    "# put that all together:\n"
   ]
  },
  {
   "cell_type": "markdown",
   "metadata": {},
   "source": [
    "### The characteristics of the survey locations\n",
    "\n",
    "The Office fédéral de la statistique provides the 'Statistique de superficie', a grid of points 100m x 100m that covers Switzerland. Each point is assigned one of 27 different land use categories. This grid, as well as the relevant map layers from swissTLMRegio are the basis of determining these values. River discharge points and the length of streets is extracted from the relevant map layer from swissTLMRegio using QGIS.\n",
    "\n",
    "The land use mix within 1500 meters around each survey location was evaluated for the following criteria:\n",
    "\n",
    "1. % of surface area attributed to buildings\n",
    "2. % of surface area left to woods\n",
    "3. % of surface area attributed to outdoor activities\n",
    "4. % of surface area attributed to aggriculture\n",
    "5. length in meters of all roadways \n",
    "6. number of river discharge intersections\n",
    "\n",
    "The data for the first four attributes was taken from the Statistique suisse de superficie using the data for the survey 2013/18 (AS1827). The points representing the different land use attributes were added together and divided by the total number of points within the 1500m buffer **not attributed to a water feature**. The street length was calculated using the streets layer from swissTLMRegio.\n",
    "\n",
    "The number of river discharge intersections is the number of streams/rivers/canals that empty into the lake of interest within 1500m of the survey location. This information is obtained by intersecting the streams layer with the lakes layer from swissTLMRegio. \n",
    "\n",
    "See the section on calculating land use for more details.\n",
    "\n",
    "### Land use profile of the survey locations\n",
    "\n",
    "The distribution of the number of surveys completed at the different land use rates. The land use is reported as the percent of total area attributed to each land use category within a 1500m  radius of the survey location. Streets are reported as the total number of kilometers of streets within the 1500m radius. Intersects is also an ordinal ranking of the number of rivers/canals that intersect a lake within 1500m of the survey location."
   ]
  },
  {
   "cell_type": "code",
   "execution_count": 16,
   "metadata": {
    "jupyter": {
     "source_hidden": true
    },
    "tags": []
   },
   "outputs": [],
   "source": [
    "# a map that has the locations\n",
    "# []\n",
    "\n",
    "#  a chart that compares resut"
   ]
  },
  {
   "cell_type": "code",
   "execution_count": null,
   "metadata": {
    "jupyter": {
     "source_hidden": true
    }
   },
   "outputs": [],
   "source": [
    "# resources/images/slr_iqaasl_res.png put image\n",
    "# caption "
   ]
  },
  {
   "cell_type": "code",
   "execution_count": 7,
   "metadata": {
    "jupyter": {
     "source_hidden": true
    },
    "tags": []
   },
   "outputs": [],
   "source": [
    "# explanatory variables:\n",
    "luse_exp = ['% to buildings', '% to recreation', '% to agg', '% to woods', 'streets km', 'intersects']\n",
    "\n",
    "# columns needed\n",
    "use_these_cols = ['loc_date' ,'% to buildings', '% to trans', '% to recreation', '% to agg', '% to woods','population','water_name_slug','streets km', 'intersects', 'groupname','code']\n",
    "lakes_s = dfBeaches.loc[(dfBeaches.index.isin(fd_locs))&(dfBeaches.water == 'l')&(dfBeaches.water_name_slug != 'walensee')]['water_name_slug'].unique()\n",
    "\n",
    "\n",
    "dfdt = fd.groupby(use_these_cols[:-2], as_index=False).agg(agg_pcs_quantity)"
   ]
  },
  {
   "cell_type": "code",
   "execution_count": 8,
   "metadata": {
    "jupyter": {
     "source_hidden": true
    },
    "tags": []
   },
   "outputs": [
    {
     "data": {
      "image/png": "[encoded data removed]",
      "text/plain": [
       "<Figure size 1008x216 with 6 Axes>"
      ]
     },
     "metadata": {},
     "output_type": "display_data"
    }
   ],
   "source": [
    "sns.set_style(\"whitegrid\")\n",
    "fig, axs = plt.subplots(1,len(luse_exp), figsize=(14,3), sharey=True)\n",
    "\n",
    "data = dfdt.copy()\n",
    "\n",
    "for i, n in enumerate(luse_exp):\n",
    "    ax=axs[i]\n",
    "    # get the empirical distribution of the independent variable\n",
    "    the_data = ECDF(data[n].values)\n",
    "    x, y = the_data.x, the_data.y   \n",
    "    \n",
    "    # plot that\n",
    "    sns.lineplot(x=x, y=y, ax=ax, color='dodgerblue', label=\"% of surface area\")\n",
    "    \n",
    "    # get the median from the data\n",
    "    the_median = data[n].median()\n",
    "    \n",
    "    # plot the median and drop horzontal and vertical lines\n",
    "    ax.scatter([the_median], 0.5, color='red',s=50, linewidth=2, zorder=100, label=\"the median\")\n",
    "    ax.vlines(x=the_median, ymin=0, ymax=0.5, color='red', linewidth=2)\n",
    "    ax.hlines(xmax=the_median, xmin=0, y=0.5, color='red', linewidth=2)\n",
    "    \n",
    "    # save the handels and labels but remove them from the ax    \n",
    "    handles, labels = ax.get_legend_handles_labels()\n",
    "    ax.get_legend().remove()\n",
    "    \n",
    "    # format the % of total on the xaxis:\n",
    "    if i <= 3:\n",
    "        if i == 0:            \n",
    "            ax.set_ylabel(\"Percent of samples\", **ck.xlab_k)\n",
    "        ax.xaxis.set_major_formatter(ticker.PercentFormatter(1.0, 0, '%'))        \n",
    "    else:\n",
    "        pass\n",
    "    ax.set_xlabel(n, **ck.xlab_k)\n",
    "\n",
    "plt.tight_layout()\n",
    "fig.legend(handles, labels, bbox_to_anchor=(1,1.1), loc='upper right', ncol=2)\n",
    "plt.show()"
   ]
  },
  {
   "cell_type": "markdown",
   "metadata": {},
   "source": [
    "#### Choosing survey sites\n",
    "\n",
    "The survey locations were chosen based on the following criteria:\n",
    "\n",
    "1. Data from previous surveys (SLR, MCBP)\n",
    "2. Year round safe access\n",
    "3. Within 30 minutes walking distance from nearest public transport"
   ]
  },
  {
   "cell_type": "code",
   "execution_count": 9,
   "metadata": {
    "jupyter": {
     "source_hidden": true
    },
    "tags": []
   },
   "outputs": [
    {
     "data": {
      "text/markdown": [
       "The survey locations represent the land use conditions accesible to approximateley 493,799 people and a\n",
       "variety of land use conditions within the survey area. For more information see the document *Survey site selection and criteria*.\n"
      ],
      "text/plain": [
       "<IPython.core.display.Markdown object>"
      ]
     },
     "execution_count": 9,
     "metadata": {},
     "output_type": "execute_result"
    }
   ],
   "source": [
    "site_string = F\"\"\"The survey locations represent the land use conditions accesible to approximateley {pop_string} people and a\n",
    "variety of land use conditions within the survey area. For more information see the document *Survey site selection and criteria*.\n",
    "\"\"\"\n",
    "md(site_string)"
   ]
  },
  {
   "cell_type": "markdown",
   "metadata": {},
   "source": [
    "[Menu](#toc)<a id=\"aggregatedtotals\"></a>\n",
    "### Cumulative totals by water feature"
   ]
  },
  {
   "cell_type": "code",
   "execution_count": 10,
   "metadata": {
    "jupyter": {
     "source_hidden": true
    },
    "tags": []
   },
   "outputs": [],
   "source": [
    "# aggregate the dimensional data down to the lake or river\n",
    "dims_table = som_dims.groupby(['water_name_slug']).agg({'quantity':'sum','total_w':'sum', 'mac_plast_w':'sum', 'area':'sum', 'length':'sum'})\n",
    "\n",
    "# collect the number of samples from the survey total data:\n",
    "for name in dims_table.index:\n",
    "    dims_table.loc[name, 'samples'] = fd_dt[fd_dt.water_name_slug == name].loc_date.nunique()\n",
    "\n",
    "# add proper names for display\n",
    "dims_table['water_feature'] = dims_table.index.map(lambda x: wname_wname.loc[x][0])\n",
    "dims_table.set_index('water_feature', inplace=True)\n",
    "   \n",
    "# get the sum of all survey areas\n",
    "dims_table.loc['Aare survey area']= dims_table.sum(numeric_only=True, axis=0)\n",
    "\n",
    "# for display\n",
    "dims_table.sort_values(by=[\"quantity\"], ascending=False, inplace=True)\n",
    "dims_table.rename(columns={'samples':'samples','quantity':'items', 'total_w':'total kg', 'mac_plast_w':'plastic kg', 'area':'m²', 'length':'meters'}, inplace=True)\n",
    "\n",
    "# order the columns\n",
    "dims_table = dims_table[['samples', *dims_table.columns[:-1]]]\n",
    "\n",
    "# format kilos\n",
    "dims_table['plastic kg'] = dims_table['plastic kg']/1000"
   ]
  },
  {
   "cell_type": "code",
   "execution_count": 11,
   "metadata": {
    "jupyter": {
     "source_hidden": true
    },
    "tags": []
   },
   "outputs": [
    {
     "data": {
      "text/markdown": [
       "\n",
       "*Aare survey area table of results: water features*\n",
       "\n",
       "*m² and meters is the cumulative sum of all the surveys in the survey area or water feature*\n"
      ],
      "text/plain": [
       "<IPython.core.display.Markdown object>"
      ]
     },
     "execution_count": 11,
     "metadata": {},
     "output_type": "execute_result"
    }
   ],
   "source": [
    "# figure caption\n",
    "agg_caption = F\"\"\"\n",
    "*{level_names[0]} table of results: water features*\n",
    "\n",
    "*m² and meters is the cumulative sum of all the surveys in the survey area or water feature*\n",
    "\"\"\"\n",
    "md(agg_caption)"
   ]
  },
  {
   "cell_type": "code",
   "execution_count": 12,
   "metadata": {
    "jupyter": {
     "source_hidden": true
    },
    "tags": []
   },
   "outputs": [
    {
     "data": {
      "image/png": "[encoded data removed]",
      "text/plain": [
       "<Figure size 756x576 with 1 Axes>"
      ]
     },
     "metadata": {},
     "output_type": "display_data"
    }
   ],
   "source": [
    "a_color='dodgerblue'\n",
    "\n",
    "dims_table[[x for x in dims_table.columns if x not in ['plastic kg', 'total kg']]] = dims_table[[x for x in dims_table.columns if x not in ['plastic kg', 'total kg']]].applymap(lambda x: '{:,}'.format(int(x)))\n",
    "dims_table[['plastic kg', 'total kg']] = dims_table[['plastic kg', 'total kg']].applymap(lambda x: '{:.2f}'.format(x))\n",
    "\n",
    "\n",
    "data = dims_table.reset_index()\n",
    "\n",
    "fig, axs = plt.subplots(figsize=(len(data.columns)*1.5,len(data)*.8))\n",
    "ut.hide_spines_ticks_grids(axs)\n",
    "\n",
    "the_first_table_data = axs.table(data.values,  colLabels=data.columns, colWidths=[.28, *[.12]*6], bbox=[0, 0, 1, 1])\n",
    "\n",
    "a_summary_table_one = sut.make_a_summary_table(the_first_table_data,data.values,data.columns, a_color, s_et_bottom_row=False)\n",
    "\n",
    "a_summary_table_one.get_celld()[(0,0)].get_text().set_text(\" \")\n",
    "\n",
    "plt.show()\n",
    "plt.tight_layout()\n",
    "plt.close()"
   ]
  },
  {
   "cell_type": "markdown",
   "metadata": {},
   "source": [
    "### Survey totals pieces per meter"
   ]
  },
  {
   "cell_type": "code",
   "execution_count": 13,
   "metadata": {
    "jupyter": {
     "source_hidden": true
    },
    "tags": []
   },
   "outputs": [],
   "source": [
    "# assign a month column to the survey totals\n",
    "fd_dt['month'] = fd_dt.date.dt.month\n",
    "\n",
    "# make a df of survey totals with date as index\n",
    "# only the surveys from all other survey areas\n",
    "dts_date = a_dt[~a_dt.water_name_slug.isin(fd.water_name_slug.unique())].set_index('date')\n",
    "\n",
    "# the surveys from the river bassin\n",
    "fd_dindex = fd_dt.set_index('date')\n",
    "\n",
    "# samples were taken quarterly in ticino\n",
    "if bassin_name == 'ticino':\n",
    "    monthly_plot = fd_dindex[unit_label].resample('Q').median()\n",
    "else:\n",
    "    monthly_plot = fd_dindex[unit_label].resample('M').median()"
   ]
  },
  {
   "cell_type": "markdown",
   "metadata": {},
   "source": [
    "[Annex](#annex)<a id=\"inventory\" ></a>\n",
    "#### Inventory of all items"
   ]
  },
  {
   "cell_type": "code",
   "execution_count": null,
   "metadata": {
    "jupyter": {
     "source_hidden": true
    }
   },
   "outputs": [],
   "source": []
  }
 ],
 "metadata": {
  "kernelspec": {
   "display_name": "Python 3",
   "language": "python",
   "name": "python3"
  },
  "language_info": {
   "codemirror_mode": {
    "name": "ipython",
    "version": 3
   },
   "file_extension": ".py",
   "mimetype": "text/x-python",
   "name": "python",
   "nbconvert_exporter": "python",
   "pygments_lexer": "ipython3",
   "version": "3.8.5"
  }
 },
 "nbformat": 4,
 "nbformat_minor": 4
}
